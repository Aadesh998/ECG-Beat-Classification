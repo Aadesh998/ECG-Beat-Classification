{
 "cells": [
  {
   "cell_type": "markdown",
   "id": "828b49f1",
   "metadata": {
    "papermill": {
     "duration": 0.005557,
     "end_time": "2025-02-26T07:34:57.207200",
     "exception": false,
     "start_time": "2025-02-26T07:34:57.201643",
     "status": "completed"
    },
    "tags": []
   },
   "source": [
    "### Install `wfdb` Library\n",
    "\n",
    "This code installs the `wfdb` Python library, which is used for reading, writing, and processing physiological signal data (such as ECG or other bio-signals). \n",
    "\n",
    "- The `!pip install -q wfdb` command is used to install the `wfdb` library via pip in a Jupyter notebook or similar environment.\n",
    "- The `-q` flag stands for \"quiet\" mode, which suppresses most of the installation output for a cleaner experience.\n",
    "  \n",
    "By running this cell, the `wfdb` library will be available for use in subsequent code cells.\n"
   ]
  },
  {
   "cell_type": "code",
   "execution_count": 1,
   "id": "4b960606",
   "metadata": {
    "_cell_guid": "b1076dfc-b9ad-4769-8c92-a6c4dae69d19",
    "_uuid": "8f2839f25d086af736a60e9eeb907d3b93b6e0e5",
    "execution": {
     "iopub.execute_input": "2025-02-26T07:34:57.218237Z",
     "iopub.status.busy": "2025-02-26T07:34:57.217933Z",
     "iopub.status.idle": "2025-02-26T07:35:01.997226Z",
     "shell.execute_reply": "2025-02-26T07:35:01.996351Z"
    },
    "papermill": {
     "duration": 4.786541,
     "end_time": "2025-02-26T07:35:01.998913",
     "exception": false,
     "start_time": "2025-02-26T07:34:57.212372",
     "status": "completed"
    },
    "tags": []
   },
   "outputs": [
    {
     "name": "stdout",
     "output_type": "stream",
     "text": [
      "\u001b[2K   \u001b[90m━━━━━━━━━━━━━━━━━━━━━━━━━━━━━━━━━━━━━━━━\u001b[0m \u001b[32m162.3/162.3 kB\u001b[0m \u001b[31m3.8 MB/s\u001b[0m eta \u001b[36m0:00:00\u001b[0m\r\n",
      "\u001b[?25h"
     ]
    }
   ],
   "source": [
    "!pip install -q wfdb"
   ]
  },
  {
   "cell_type": "code",
   "execution_count": 2,
   "id": "48c6ce11",
   "metadata": {
    "execution": {
     "iopub.execute_input": "2025-02-26T07:35:02.010757Z",
     "iopub.status.busy": "2025-02-26T07:35:02.010484Z",
     "iopub.status.idle": "2025-02-26T07:35:03.801697Z",
     "shell.execute_reply": "2025-02-26T07:35:03.800987Z"
    },
    "papermill": {
     "duration": 1.798567,
     "end_time": "2025-02-26T07:35:03.803243",
     "exception": false,
     "start_time": "2025-02-26T07:35:02.004676",
     "status": "completed"
    },
    "tags": []
   },
   "outputs": [],
   "source": [
    "import wfdb\n",
    "import numpy as np\n",
    "import pandas as pd\n",
    "from scipy.signal import resample\n",
    "import matplotlib.pyplot as plt\n",
    "from scipy.interpolate import interp1d"
   ]
  },
  {
   "cell_type": "code",
   "execution_count": 3,
   "id": "e8d1f66b",
   "metadata": {
    "execution": {
     "iopub.execute_input": "2025-02-26T07:35:03.814582Z",
     "iopub.status.busy": "2025-02-26T07:35:03.814229Z",
     "iopub.status.idle": "2025-02-26T07:35:03.817325Z",
     "shell.execute_reply": "2025-02-26T07:35:03.816678Z"
    },
    "papermill": {
     "duration": 0.010012,
     "end_time": "2025-02-26T07:35:03.818554",
     "exception": false,
     "start_time": "2025-02-26T07:35:03.808542",
     "status": "completed"
    },
    "tags": []
   },
   "outputs": [],
   "source": [
    "# /kaggle/input/mit-ar/mit-bih-arrhythmia-database-1.0.0/RECORDS -> Record path"
   ]
  },
  {
   "cell_type": "markdown",
   "id": "2d8339e8",
   "metadata": {
    "papermill": {
     "duration": 0.004827,
     "end_time": "2025-02-26T07:35:03.828517",
     "exception": false,
     "start_time": "2025-02-26T07:35:03.823690",
     "status": "completed"
    },
    "tags": []
   },
   "source": [
    "### Import Libraries and Load ECG Data\n",
    "\n",
    "This code imports several libraries and loads an ECG record from the MIT-BIH Arrhythmia Database:\n",
    "\n",
    "1. **Load ECG Record**:\n",
    "   - `record_name`: Specifies the path to the ECG record. In this case, it's set to the 101st record from the MIT-BIH Arrhythmia Database. \n",
    "   - `wfdb.rdrecord(record_name, channels=[0])`: Reads the ECG data from the specified record and loads only the first lead (`channels=[0]`).\n",
    "   \n",
    "2. **Load Annotations**:\n",
    "   - `wfdb.rdann(record_name, 'atr')`: Loads the annotation file for the given record. The `'atr'` annotation file contains beat labels (e.g., normal beats, PVCs) for arrhythmia detection.\n",
    "\n",
    "This setup prepares the data for further processing, such as signal analysis or visualization.\n"
   ]
  },
  {
   "cell_type": "code",
   "execution_count": 4,
   "id": "ea6722fd",
   "metadata": {
    "execution": {
     "iopub.execute_input": "2025-02-26T07:35:03.839048Z",
     "iopub.status.busy": "2025-02-26T07:35:03.838816Z",
     "iopub.status.idle": "2025-02-26T07:35:03.952258Z",
     "shell.execute_reply": "2025-02-26T07:35:03.951576Z"
    },
    "papermill": {
     "duration": 0.120339,
     "end_time": "2025-02-26T07:35:03.953831",
     "exception": false,
     "start_time": "2025-02-26T07:35:03.833492",
     "status": "completed"
    },
    "tags": []
   },
   "outputs": [],
   "source": [
    "# Load the ECG record and annotation\n",
    "record_name = \"/kaggle/input/mit-ar/mit-bih-arrhythmia-database-1.0.0/101\"  # Change this based on your dataset\n",
    "record = wfdb.rdrecord(record_name, channels=[0])  # Load lead 0\n",
    "annotation = wfdb.rdann(record_name, 'atr')\n"
   ]
  },
  {
   "cell_type": "markdown",
   "id": "28b71854",
   "metadata": {
    "papermill": {
     "duration": 0.004797,
     "end_time": "2025-02-26T07:35:03.964077",
     "exception": false,
     "start_time": "2025-02-26T07:35:03.959280",
     "status": "completed"
    },
    "tags": []
   },
   "source": [
    "### Extract Signal and Sampling Frequency\n",
    "\n",
    "In this code, the ECG signal and related information are extracted and prepared for further processing:\n",
    "\n",
    "1. **Extract Signal and Sampling Frequency**:\n",
    "   - `signal = record.p_signal.flatten()`: Extracts the ECG signal from the `record` object and flattens it from a 2D array to a 1D array for easier manipulation.\n",
    "   - `fs = record.fs`: Retrieves the original sampling frequency (usually 360 Hz) from the record. This indicates how many samples are recorded per second.\n",
    "   - `target_fs = 125`: Defines the target sampling frequency to which the signal might be resampled later. This value could be used to downsample the signal to 125 Hz.\n",
    "\n",
    "2. **Get R-Peak Locations and Annotations**:\n",
    "   - `r_peaks = annotation.sample`: Extracts the index positions of the R-peaks in the ECG signal, which are critical for detecting heartbeats and other arrhythmias.\n",
    "   - `labels = annotation.symbol`: Retrieves the corresponding beat labels (e.g., normal beats, PVCs) for each R-peak. These annotations are important for classifying different types of heartbeats.\n",
    "\n",
    "With these extracted components, the signal is now ready for analysis, and the annotations can be used for heart rhythm classification or further processing.\n"
   ]
  },
  {
   "cell_type": "code",
   "execution_count": 5,
   "id": "96f72666",
   "metadata": {
    "execution": {
     "iopub.execute_input": "2025-02-26T07:35:03.974970Z",
     "iopub.status.busy": "2025-02-26T07:35:03.974701Z",
     "iopub.status.idle": "2025-02-26T07:35:03.981349Z",
     "shell.execute_reply": "2025-02-26T07:35:03.980530Z"
    },
    "papermill": {
     "duration": 0.013585,
     "end_time": "2025-02-26T07:35:03.982629",
     "exception": false,
     "start_time": "2025-02-26T07:35:03.969044",
     "status": "completed"
    },
    "tags": []
   },
   "outputs": [],
   "source": [
    "# Extract signal and sampling frequency\n",
    "signal = record.p_signal.flatten()  # Convert 2D signal to 1D\n",
    "fs = record.fs  # Original sampling rate (usually 360 Hz)\n",
    "target_fs = 125  # Target sampling rate\n",
    "\n",
    "# Get R-peak locations and annotations\n",
    "r_peaks = annotation.sample  # Index positions of detected R-peaks\n",
    "labels = annotation.symbol   # Corresponding beat labels"
   ]
  },
  {
   "cell_type": "code",
   "execution_count": 6,
   "id": "83300d5b",
   "metadata": {
    "execution": {
     "iopub.execute_input": "2025-02-26T07:35:03.993257Z",
     "iopub.status.busy": "2025-02-26T07:35:03.992999Z",
     "iopub.status.idle": "2025-02-26T07:35:03.997497Z",
     "shell.execute_reply": "2025-02-26T07:35:03.996727Z"
    },
    "papermill": {
     "duration": 0.011219,
     "end_time": "2025-02-26T07:35:03.998779",
     "exception": false,
     "start_time": "2025-02-26T07:35:03.987560",
     "status": "completed"
    },
    "tags": []
   },
   "outputs": [
    {
     "name": "stdout",
     "output_type": "stream",
     "text": [
      "650000\n",
      "[-0.345 -0.345 -0.345 ... -0.295 -0.29   0.   ]\n"
     ]
    }
   ],
   "source": [
    "print(len(signal))\n",
    "print(signal)"
   ]
  },
  {
   "cell_type": "markdown",
   "id": "4ac468df",
   "metadata": {
    "papermill": {
     "duration": 0.004682,
     "end_time": "2025-02-26T07:35:04.008452",
     "exception": false,
     "start_time": "2025-02-26T07:35:04.003770",
     "status": "completed"
    },
    "tags": []
   },
   "source": [
    "## Checking the length of the R_peaks and labels Is equal or not"
   ]
  },
  {
   "cell_type": "code",
   "execution_count": 7,
   "id": "d90e91d1",
   "metadata": {
    "execution": {
     "iopub.execute_input": "2025-02-26T07:35:04.018947Z",
     "iopub.status.busy": "2025-02-26T07:35:04.018711Z",
     "iopub.status.idle": "2025-02-26T07:35:04.022365Z",
     "shell.execute_reply": "2025-02-26T07:35:04.021594Z"
    },
    "papermill": {
     "duration": 0.010263,
     "end_time": "2025-02-26T07:35:04.023605",
     "exception": false,
     "start_time": "2025-02-26T07:35:04.013342",
     "status": "completed"
    },
    "tags": []
   },
   "outputs": [],
   "source": [
    "def check_len(r_peaks, labels):\n",
    "\n",
    "    print(f\"The length of the {len(r_peaks)}\")\n",
    "    print(f\"The length of the {len(labels)}\")\n",
    "    if len(r_peaks) == len(labels):\n",
    "        print(\"The length of the detected beats is equal to the length of the define labels\")\n",
    "    else:\n",
    "        print(\"length is not match\")\n",
    "        "
   ]
  },
  {
   "cell_type": "code",
   "execution_count": 8,
   "id": "fb04e044",
   "metadata": {
    "execution": {
     "iopub.execute_input": "2025-02-26T07:35:04.034391Z",
     "iopub.status.busy": "2025-02-26T07:35:04.034128Z",
     "iopub.status.idle": "2025-02-26T07:35:04.038234Z",
     "shell.execute_reply": "2025-02-26T07:35:04.037574Z"
    },
    "papermill": {
     "duration": 0.01085,
     "end_time": "2025-02-26T07:35:04.039516",
     "exception": false,
     "start_time": "2025-02-26T07:35:04.028666",
     "status": "completed"
    },
    "tags": []
   },
   "outputs": [
    {
     "name": "stdout",
     "output_type": "stream",
     "text": [
      "The length of the 1874\n",
      "The length of the 1874\n",
      "The length of the detected beats is equal to the length of the define labels\n"
     ]
    }
   ],
   "source": [
    "check_len(r_peaks, labels)"
   ]
  },
  {
   "cell_type": "code",
   "execution_count": 9,
   "id": "3d93211e",
   "metadata": {
    "execution": {
     "iopub.execute_input": "2025-02-26T07:35:04.050285Z",
     "iopub.status.busy": "2025-02-26T07:35:04.049990Z",
     "iopub.status.idle": "2025-02-26T07:35:04.052972Z",
     "shell.execute_reply": "2025-02-26T07:35:04.052229Z"
    },
    "papermill": {
     "duration": 0.00982,
     "end_time": "2025-02-26T07:35:04.054288",
     "exception": false,
     "start_time": "2025-02-26T07:35:04.044468",
     "status": "completed"
    },
    "tags": []
   },
   "outputs": [],
   "source": [
    "# sanity check\n",
    "\n",
    "# window_size = int(0.6 * 360)\n",
    "# print(window_size)\n",
    "# print(window_size//2)\n",
    "# print(77 + 108)"
   ]
  },
  {
   "cell_type": "markdown",
   "id": "6ee488a7",
   "metadata": {
    "papermill": {
     "duration": 0.004708,
     "end_time": "2025-02-26T07:35:04.064088",
     "exception": false,
     "start_time": "2025-02-26T07:35:04.059380",
     "status": "completed"
    },
    "tags": []
   },
   "source": [
    "### Extract and Resample ECG Beats\n",
    "\n",
    "This code processes the ECG signal to extract individual heartbeats and resample them to a target frequency (125 Hz):\n",
    "\n",
    "1. **Initialization**:\n",
    "   - `beat_labels = []`: A list to store the labels corresponding to each beat.\n",
    "   - `beats = []`: A list to store the original ECG segments corresponding to each beat.\n",
    "   - `resampled_beats = []`: A list to store the resampled ECG segments.\n",
    "   - `window_size = int(0.6 * fs)`: Defines the size of the window (in samples) around each R-peak to extract the beat. A 0.6-second window is chosen based on the original sampling rate `fs` (usually 360 Hz).\n",
    "\n",
    "2. **Loop to Extract Beats**:\n",
    "   - The loop iterates over the detected R-peaks, excluding the first and last beats to avoid edge effects.\n",
    "   - For each R-peak:\n",
    "     - `start = max(0, r_peaks[i] - window_size // 2)`: Sets the start of the window, ensuring it doesn't go below 0.\n",
    "     - `end = min(len(signal), r_peaks[i] + window_size // 2)`: Sets the end of the window, ensuring it doesn't exceed the signal length.\n",
    "     - `beat = signal[start:end]`: Extracts the ECG segment corresponding to the current heartbeat.\n",
    "\n",
    "3. **Resampling**:\n",
    "   - `num_samples = int(len(beat) * (target_fs / fs))`: Calculates the number of samples required to resample the beat to the target frequency (`target_fs = 125 Hz`).\n",
    "   - `resampled_beat = resample(beat, num_samples)`: Resamples the extracted beat to the target sampling frequency.\n",
    "\n",
    "4. **Store Results**:\n",
    "   - `beats.append(beat)`: Adds the original beat segment to the `beats` list.\n",
    "   - `resampled_beats.append(resampled_beat)`: Adds the resampled beat segment to the `resampled_beats` list.\n",
    "   - `beat_labels.append(labels[i])`: Adds the label corresponding to the current beat to the `beat_labels` list.\n",
    "\n",
    "This process prepares the ECG beats for further analysis, such as classification or feature extraction, with the beats now resampled to a consistent frequency.\n"
   ]
  },
  {
   "cell_type": "code",
   "execution_count": 10,
   "id": "7839484f",
   "metadata": {
    "execution": {
     "iopub.execute_input": "2025-02-26T07:35:04.074605Z",
     "iopub.status.busy": "2025-02-26T07:35:04.074414Z",
     "iopub.status.idle": "2025-02-26T07:35:04.137873Z",
     "shell.execute_reply": "2025-02-26T07:35:04.137249Z"
    },
    "papermill": {
     "duration": 0.070162,
     "end_time": "2025-02-26T07:35:04.139113",
     "exception": false,
     "start_time": "2025-02-26T07:35:04.068951",
     "status": "completed"
    },
    "tags": []
   },
   "outputs": [],
   "source": [
    "beat_labels = []\n",
    "beats = []\n",
    "resampled_beats = []\n",
    "window_size = int(0.6 * fs)  # 0.6s window around R-peak (adjust if needed)\n",
    "\n",
    "for i in range(1, len(r_peaks) - 1):  # Ignore first & last beats\n",
    "    start = max(0, r_peaks[i] - window_size // 2)\n",
    "    end = min(len(signal), r_peaks[i] + window_size // 2)\n",
    "    beat = signal[start:end]  # Extract the beat segment\n",
    "    \n",
    "    # Resample to 125 Hz\n",
    "    num_samples = int(len(beat) * (target_fs / fs))\n",
    "    # print(num_samples)\n",
    "    resampled_beat = resample(beat, num_samples)\n",
    "\n",
    "    beats.append(beat)\n",
    "    resampled_beats.append(resampled_beat)\n",
    "    beat_labels.append(labels[i])\n"
   ]
  },
  {
   "cell_type": "markdown",
   "id": "373c947c",
   "metadata": {
    "papermill": {
     "duration": 0.00485,
     "end_time": "2025-02-26T07:35:04.149244",
     "exception": false,
     "start_time": "2025-02-26T07:35:04.144394",
     "status": "completed"
    },
    "tags": []
   },
   "source": [
    "### Plotting the signal beat"
   ]
  },
  {
   "cell_type": "code",
   "execution_count": 11,
   "id": "48a0fb51",
   "metadata": {
    "execution": {
     "iopub.execute_input": "2025-02-26T07:35:04.160127Z",
     "iopub.status.busy": "2025-02-26T07:35:04.159910Z",
     "iopub.status.idle": "2025-02-26T07:35:04.393241Z",
     "shell.execute_reply": "2025-02-26T07:35:04.392366Z"
    },
    "papermill": {
     "duration": 0.240265,
     "end_time": "2025-02-26T07:35:04.394653",
     "exception": false,
     "start_time": "2025-02-26T07:35:04.154388",
     "status": "completed"
    },
    "tags": []
   },
   "outputs": [
    {
     "data": {
      "image/png": "[encoded data removed]",
      "text/plain": [
       "<Figure size 1000x400 with 1 Axes>"
      ]
     },
     "metadata": {},
     "output_type": "display_data"
    }
   ],
   "source": [
    "plt.figure(figsize=(10, 4))\n",
    "plt.plot(beats[0], label=f\"Resampled Beat (125 Hz)\")\n",
    "plt.legend()\n",
    "plt.show()"
   ]
  },
  {
   "cell_type": "code",
   "execution_count": 12,
   "id": "ec9ad18b",
   "metadata": {
    "execution": {
     "iopub.execute_input": "2025-02-26T07:35:04.407065Z",
     "iopub.status.busy": "2025-02-26T07:35:04.406816Z",
     "iopub.status.idle": "2025-02-26T07:35:04.558013Z",
     "shell.execute_reply": "2025-02-26T07:35:04.557134Z"
    },
    "papermill": {
     "duration": 0.15885,
     "end_time": "2025-02-26T07:35:04.559368",
     "exception": false,
     "start_time": "2025-02-26T07:35:04.400518",
     "status": "completed"
    },
    "tags": []
   },
   "outputs": [
    {
     "data": {
      "image/png": "[encoded data removed]",
      "text/plain": [
       "<Figure size 1000x400 with 1 Axes>"
      ]
     },
     "metadata": {},
     "output_type": "display_data"
    }
   ],
   "source": [
    "plt.figure(figsize=(10, 4))\n",
    "plt.plot(resampled_beats[0], label=f\"Resampled Beat (125 Hz)\")\n",
    "plt.legend()\n",
    "plt.show()"
   ]
  },
  {
   "cell_type": "markdown",
   "id": "6fbd835f",
   "metadata": {
    "papermill": {
     "duration": 0.006142,
     "end_time": "2025-02-26T07:35:04.572047",
     "exception": false,
     "start_time": "2025-02-26T07:35:04.565905",
     "status": "completed"
    },
    "tags": []
   },
   "source": [
    "#### Final verdict is that the csv file will contains the multiple columns that will represent the features for the beat"
   ]
  },
  {
   "cell_type": "markdown",
   "id": "0fde83b2",
   "metadata": {
    "papermill": {
     "duration": 0.006009,
     "end_time": "2025-02-26T07:35:04.584293",
     "exception": false,
     "start_time": "2025-02-26T07:35:04.578284",
     "status": "completed"
    },
    "tags": []
   },
   "source": [
    "### Interpolate ECG Beat to a Target Length\n",
    "\n",
    "This function performs linear interpolation to resize an ECG beat segment to a target length, preserving the shape of the signal.\n",
    "\n",
    "#### Function: `interpolate_beat(beat, target_length)`\n",
    "\n",
    "1. **Parameters**:\n",
    "   - `beat`: The ECG beat segment (a 1D array or list) that needs to be interpolated.\n",
    "   - `target_length`: The desired length (number of samples) for the interpolated beat.\n",
    "\n",
    "2. **Steps**:\n",
    "   - `x_old = np.linspace(0, 1, len(beat))`: Creates the original time scale based on the number of samples in the input `beat`. This represents the positions of the samples in the original signal.\n",
    "   - `x_new = np.linspace(0, 1, target_length)`: Creates a new time scale for the target length (i.e., the desired number of samples after interpolation).\n",
    "   - `f = interp1d(x_old, beat, kind='linear')`: Defines a linear interpolation function using the `interp1d` method from the `scipy.interpolate` module. This function will map the original time scale (`x_old`) to the `beat` values.\n",
    "   - `return f(x_new)`: Returns the interpolated ECG beat at the new time scale (`x_new`), resizing it to the `target_length`.\n",
    "\n",
    "#### Purpose:\n",
    "This function is useful when you need to standardize the length of ECG beats, especially when resampling or aligning beats to a consistent number of samples, ensuring that each beat has the same duration in time for further analysis or classification.\n"
   ]
  },
  {
   "cell_type": "code",
   "execution_count": 13,
   "id": "2e97647a",
   "metadata": {
    "execution": {
     "iopub.execute_input": "2025-02-26T07:35:04.597988Z",
     "iopub.status.busy": "2025-02-26T07:35:04.597724Z",
     "iopub.status.idle": "2025-02-26T07:35:04.601612Z",
     "shell.execute_reply": "2025-02-26T07:35:04.600812Z"
    },
    "papermill": {
     "duration": 0.012056,
     "end_time": "2025-02-26T07:35:04.602817",
     "exception": false,
     "start_time": "2025-02-26T07:35:04.590761",
     "status": "completed"
    },
    "tags": []
   },
   "outputs": [],
   "source": [
    "def interpolate_beat(beat, target_length):\n",
    "    x_old = np.linspace(0, 1, len(beat))  # Original time scale\n",
    "    x_new = np.linspace(0, 1, target_length)  # Target time scale\n",
    "    f = interp1d(x_old, beat, kind='linear')  # Linear interpolation\n",
    "    return f(x_new)"
   ]
  },
  {
   "cell_type": "code",
   "execution_count": 14,
   "id": "da9f31ec",
   "metadata": {
    "execution": {
     "iopub.execute_input": "2025-02-26T07:35:04.616013Z",
     "iopub.status.busy": "2025-02-26T07:35:04.615773Z",
     "iopub.status.idle": "2025-02-26T07:35:04.772741Z",
     "shell.execute_reply": "2025-02-26T07:35:04.771877Z"
    },
    "papermill": {
     "duration": 0.165376,
     "end_time": "2025-02-26T07:35:04.774364",
     "exception": false,
     "start_time": "2025-02-26T07:35:04.608988",
     "status": "completed"
    },
    "tags": []
   },
   "outputs": [
    {
     "data": {
      "image/png": "[encoded data removed]",
      "text/plain": [
       "<Figure size 1000x400 with 1 Axes>"
      ]
     },
     "metadata": {},
     "output_type": "display_data"
    }
   ],
   "source": [
    "plt.figure(figsize=(10, 4))\n",
    "plt.plot(interpolate_beat(resampled_beats[0], 75), label=f\"Resampled Beat (125 Hz)\")\n",
    "plt.legend()\n",
    "plt.show()"
   ]
  },
  {
   "cell_type": "markdown",
   "id": "87572454",
   "metadata": {
    "papermill": {
     "duration": 0.006537,
     "end_time": "2025-02-26T07:35:04.788360",
     "exception": false,
     "start_time": "2025-02-26T07:35:04.781823",
     "status": "completed"
    },
    "tags": []
   },
   "source": [
    "### Checking the Distinct length of beat"
   ]
  },
  {
   "cell_type": "code",
   "execution_count": 15,
   "id": "ab0eaf62",
   "metadata": {
    "execution": {
     "iopub.execute_input": "2025-02-26T07:35:04.802670Z",
     "iopub.status.busy": "2025-02-26T07:35:04.802441Z",
     "iopub.status.idle": "2025-02-26T07:35:04.808018Z",
     "shell.execute_reply": "2025-02-26T07:35:04.807250Z"
    },
    "papermill": {
     "duration": 0.014041,
     "end_time": "2025-02-26T07:35:04.809141",
     "exception": false,
     "start_time": "2025-02-26T07:35:04.795100",
     "status": "completed"
    },
    "tags": []
   },
   "outputs": [
    {
     "name": "stdout",
     "output_type": "stream",
     "text": [
      "{66, 75}\n"
     ]
    }
   ],
   "source": [
    "count_65 = 0\n",
    "count_75 = 0\n",
    "beat_set = list()\n",
    "\n",
    "for beat in resampled_beats:\n",
    "    if len(beat) == 64:\n",
    "        count_65 = count_65 + 1\n",
    "    else:\n",
    "        count_75 += 1\n",
    "    beat_set.append(len(beat))\n",
    "\n",
    "beat_set = set(beat_set)\n",
    "print(beat_set)"
   ]
  },
  {
   "cell_type": "code",
   "execution_count": 16,
   "id": "f9aa20ed",
   "metadata": {
    "execution": {
     "iopub.execute_input": "2025-02-26T07:35:04.823799Z",
     "iopub.status.busy": "2025-02-26T07:35:04.823585Z",
     "iopub.status.idle": "2025-02-26T07:35:04.827443Z",
     "shell.execute_reply": "2025-02-26T07:35:04.826547Z"
    },
    "papermill": {
     "duration": 0.012655,
     "end_time": "2025-02-26T07:35:04.828655",
     "exception": false,
     "start_time": "2025-02-26T07:35:04.816000",
     "status": "completed"
    },
    "tags": []
   },
   "outputs": [
    {
     "name": "stdout",
     "output_type": "stream",
     "text": [
      "The beat with 65 length 0\n",
      "The beat with 75 length 1872\n"
     ]
    }
   ],
   "source": [
    "print(f\"The beat with 65 length {count_65}\")\n",
    "print(f\"The beat with 75 length {count_75}\")"
   ]
  },
  {
   "cell_type": "code",
   "execution_count": 17,
   "id": "1c85e8ce",
   "metadata": {
    "execution": {
     "iopub.execute_input": "2025-02-26T07:35:04.843112Z",
     "iopub.status.busy": "2025-02-26T07:35:04.842914Z",
     "iopub.status.idle": "2025-02-26T07:35:04.846831Z",
     "shell.execute_reply": "2025-02-26T07:35:04.846260Z"
    },
    "papermill": {
     "duration": 0.012525,
     "end_time": "2025-02-26T07:35:04.848042",
     "exception": false,
     "start_time": "2025-02-26T07:35:04.835517",
     "status": "completed"
    },
    "tags": []
   },
   "outputs": [],
   "source": [
    "same_size_resample_beat = []\n",
    "new_labels = []\n",
    "\n",
    "for beat, label in zip(resampled_beats, beat_labels):\n",
    "    if len(beat) == 75:\n",
    "        same_size_resample_beat.append(beat)\n",
    "        new_labels.append(label)\n",
    "        "
   ]
  },
  {
   "cell_type": "code",
   "execution_count": 18,
   "id": "9e0907b9",
   "metadata": {
    "execution": {
     "iopub.execute_input": "2025-02-26T07:35:04.862686Z",
     "iopub.status.busy": "2025-02-26T07:35:04.862489Z",
     "iopub.status.idle": "2025-02-26T07:35:04.866339Z",
     "shell.execute_reply": "2025-02-26T07:35:04.865617Z"
    },
    "papermill": {
     "duration": 0.012585,
     "end_time": "2025-02-26T07:35:04.867540",
     "exception": false,
     "start_time": "2025-02-26T07:35:04.854955",
     "status": "completed"
    },
    "tags": []
   },
   "outputs": [
    {
     "name": "stdout",
     "output_type": "stream",
     "text": [
      "The all the beat with the same length 1871\n",
      "The labels crossponding to the beat 1871\n"
     ]
    }
   ],
   "source": [
    "print(f\"The all the beat with the same length {len(same_size_resample_beat)}\")\n",
    "print(f\"The labels crossponding to the beat {len(new_labels)}\")"
   ]
  },
  {
   "cell_type": "markdown",
   "id": "52dfbbb6",
   "metadata": {
    "papermill": {
     "duration": 0.006693,
     "end_time": "2025-02-26T07:35:04.881101",
     "exception": false,
     "start_time": "2025-02-26T07:35:04.874408",
     "status": "completed"
    },
    "tags": []
   },
   "source": [
    "### Converting the beat into DataFrame"
   ]
  },
  {
   "cell_type": "code",
   "execution_count": 19,
   "id": "5192e1ed",
   "metadata": {
    "execution": {
     "iopub.execute_input": "2025-02-26T07:35:04.895664Z",
     "iopub.status.busy": "2025-02-26T07:35:04.895467Z",
     "iopub.status.idle": "2025-02-26T07:35:04.899608Z",
     "shell.execute_reply": "2025-02-26T07:35:04.899020Z"
    },
    "papermill": {
     "duration": 0.012697,
     "end_time": "2025-02-26T07:35:04.900784",
     "exception": false,
     "start_time": "2025-02-26T07:35:04.888087",
     "status": "completed"
    },
    "tags": []
   },
   "outputs": [],
   "source": [
    "resampled_beats = np.array(same_size_resample_beat)\n",
    "labels = np.array(new_labels)"
   ]
  },
  {
   "cell_type": "code",
   "execution_count": 20,
   "id": "ab1fd223",
   "metadata": {
    "execution": {
     "iopub.execute_input": "2025-02-26T07:35:04.915325Z",
     "iopub.status.busy": "2025-02-26T07:35:04.915112Z",
     "iopub.status.idle": "2025-02-26T07:35:04.918323Z",
     "shell.execute_reply": "2025-02-26T07:35:04.917479Z"
    },
    "papermill": {
     "duration": 0.011938,
     "end_time": "2025-02-26T07:35:04.919655",
     "exception": false,
     "start_time": "2025-02-26T07:35:04.907717",
     "status": "completed"
    },
    "tags": []
   },
   "outputs": [
    {
     "name": "stdout",
     "output_type": "stream",
     "text": [
      "(1871, 75)\n",
      "(1871,)\n"
     ]
    }
   ],
   "source": [
    "print(resampled_beats.shape)\n",
    "print(labels.shape)"
   ]
  },
  {
   "cell_type": "code",
   "execution_count": 21,
   "id": "b37495d1",
   "metadata": {
    "execution": {
     "iopub.execute_input": "2025-02-26T07:35:04.934166Z",
     "iopub.status.busy": "2025-02-26T07:35:04.933935Z",
     "iopub.status.idle": "2025-02-26T07:35:05.140404Z",
     "shell.execute_reply": "2025-02-26T07:35:05.139595Z"
    },
    "papermill": {
     "duration": 0.21504,
     "end_time": "2025-02-26T07:35:05.141640",
     "exception": false,
     "start_time": "2025-02-26T07:35:04.926600",
     "status": "completed"
    },
    "tags": []
   },
   "outputs": [
    {
     "name": "stdout",
     "output_type": "stream",
     "text": [
      "(1871, 76)\n"
     ]
    }
   ],
   "source": [
    "resampled_beats_with_labels = [np.append(resampled_beats[i], labels[i]) for i in range(len(resampled_beats))]\n",
    "resampled_beats_with_labels = np.array(resampled_beats_with_labels, dtype=object)\n",
    "\n",
    "print(resampled_beats_with_labels.shape)"
   ]
  },
  {
   "cell_type": "code",
   "execution_count": 22,
   "id": "867352a6",
   "metadata": {
    "execution": {
     "iopub.execute_input": "2025-02-26T07:35:05.157078Z",
     "iopub.status.busy": "2025-02-26T07:35:05.156857Z",
     "iopub.status.idle": "2025-02-26T07:35:05.181009Z",
     "shell.execute_reply": "2025-02-26T07:35:05.180147Z"
    },
    "papermill": {
     "duration": 0.03327,
     "end_time": "2025-02-26T07:35:05.182294",
     "exception": false,
     "start_time": "2025-02-26T07:35:05.149024",
     "status": "completed"
    },
    "tags": []
   },
   "outputs": [
    {
     "data": {
      "text/html": [
       "<div>\n",
       "<style scoped>\n",
       "    .dataframe tbody tr th:only-of-type {\n",
       "        vertical-align: middle;\n",
       "    }\n",
       "\n",
       "    .dataframe tbody tr th {\n",
       "        vertical-align: top;\n",
       "    }\n",
       "\n",
       "    .dataframe thead th {\n",
       "        text-align: right;\n",
       "    }\n",
       "</style>\n",
       "<table border=\"1\" class=\"dataframe\">\n",
       "  <thead>\n",
       "    <tr style=\"text-align: right;\">\n",
       "      <th></th>\n",
       "      <th>0</th>\n",
       "      <th>1</th>\n",
       "      <th>2</th>\n",
       "      <th>3</th>\n",
       "      <th>4</th>\n",
       "      <th>5</th>\n",
       "      <th>6</th>\n",
       "      <th>7</th>\n",
       "      <th>8</th>\n",
       "      <th>9</th>\n",
       "      <th>...</th>\n",
       "      <th>66</th>\n",
       "      <th>67</th>\n",
       "      <th>68</th>\n",
       "      <th>69</th>\n",
       "      <th>70</th>\n",
       "      <th>71</th>\n",
       "      <th>72</th>\n",
       "      <th>73</th>\n",
       "      <th>74</th>\n",
       "      <th>75</th>\n",
       "    </tr>\n",
       "  </thead>\n",
       "  <tbody>\n",
       "    <tr>\n",
       "      <th>0</th>\n",
       "      <td>-0.2765826941799416</td>\n",
       "      <td>-0.3414947338554218</td>\n",
       "      <td>-0.3195020458148922</td>\n",
       "      <td>-0.3199608517066094</td>\n",
       "      <td>-0.32617286403445145</td>\n",
       "      <td>-0.32636660070586576</td>\n",
       "      <td>-0.3405209039758399</td>\n",
       "      <td>-0.3268892680826637</td>\n",
       "      <td>-0.336339477570425</td>\n",
       "      <td>-0.324916688252171</td>\n",
       "      <td>...</td>\n",
       "      <td>-0.24958390569979516</td>\n",
       "      <td>-0.24960007982693724</td>\n",
       "      <td>-0.2085145914767063</td>\n",
       "      <td>-0.21228575018738383</td>\n",
       "      <td>-0.15156509221728137</td>\n",
       "      <td>-0.14419822642018532</td>\n",
       "      <td>-0.10952199337172687</td>\n",
       "      <td>-0.13665063915734388</td>\n",
       "      <td>-0.09931202250191487</td>\n",
       "      <td>N</td>\n",
       "    </tr>\n",
       "    <tr>\n",
       "      <th>1</th>\n",
       "      <td>-0.21755352143525866</td>\n",
       "      <td>-0.29493327651162243</td>\n",
       "      <td>-0.2679278415782136</td>\n",
       "      <td>-0.2862619171262596</td>\n",
       "      <td>-0.2666114088242677</td>\n",
       "      <td>-0.2806054455084041</td>\n",
       "      <td>-0.2678279454601262</td>\n",
       "      <td>-0.2755352625381687</td>\n",
       "      <td>-0.2672948694326798</td>\n",
       "      <td>-0.275274643642554</td>\n",
       "      <td>...</td>\n",
       "      <td>-0.28899431909151985</td>\n",
       "      <td>-0.24566443594395923</td>\n",
       "      <td>-0.23632591941259737</td>\n",
       "      <td>-0.19445992234043163</td>\n",
       "      <td>-0.17183247492684803</td>\n",
       "      <td>-0.14693808670701208</td>\n",
       "      <td>-0.14003849388070508</td>\n",
       "      <td>-0.12808739763871296</td>\n",
       "      <td>-0.11985395431515838</td>\n",
       "      <td>N</td>\n",
       "    </tr>\n",
       "    <tr>\n",
       "      <th>2</th>\n",
       "      <td>-0.30805563210014464</td>\n",
       "      <td>-0.3507280287832321</td>\n",
       "      <td>-0.3764897986291018</td>\n",
       "      <td>-0.36666236040479155</td>\n",
       "      <td>-0.3618554634529202</td>\n",
       "      <td>-0.3491222310145302</td>\n",
       "      <td>-0.3687702642114315</td>\n",
       "      <td>-0.3592514652185586</td>\n",
       "      <td>-0.3623241468688399</td>\n",
       "      <td>-0.3654804359403824</td>\n",
       "      <td>...</td>\n",
       "      <td>-0.40165375512511253</td>\n",
       "      <td>-0.3820807931528156</td>\n",
       "      <td>-0.35736983068353784</td>\n",
       "      <td>-0.33406113969352724</td>\n",
       "      <td>-0.28363285575853475</td>\n",
       "      <td>-0.2692715147846346</td>\n",
       "      <td>-0.22755549097260247</td>\n",
       "      <td>-0.24065735618359255</td>\n",
       "      <td>-0.16728280320788788</td>\n",
       "      <td>N</td>\n",
       "    </tr>\n",
       "    <tr>\n",
       "      <th>3</th>\n",
       "      <td>-0.35084279791713957</td>\n",
       "      <td>-0.4282057450063681</td>\n",
       "      <td>-0.40902368105689485</td>\n",
       "      <td>-0.4122230033020528</td>\n",
       "      <td>-0.41021206183634096</td>\n",
       "      <td>-0.4024040495910697</td>\n",
       "      <td>-0.4245405390888037</td>\n",
       "      <td>-0.40315863997856033</td>\n",
       "      <td>-0.4242962949019887</td>\n",
       "      <td>-0.40777395648430365</td>\n",
       "      <td>...</td>\n",
       "      <td>-0.3698385642268374</td>\n",
       "      <td>-0.37083089848655265</td>\n",
       "      <td>-0.345511323030627</td>\n",
       "      <td>-0.32916681382076707</td>\n",
       "      <td>-0.2801198253618152</td>\n",
       "      <td>-0.2689900998818088</td>\n",
       "      <td>-0.22949536631208012</td>\n",
       "      <td>-0.24013339812524867</td>\n",
       "      <td>-0.17836758890710216</td>\n",
       "      <td>N</td>\n",
       "    </tr>\n",
       "    <tr>\n",
       "      <th>4</th>\n",
       "      <td>-0.3157656024003587</td>\n",
       "      <td>-0.32358595391176587</td>\n",
       "      <td>-0.31364174566560277</td>\n",
       "      <td>-0.3221809830810448</td>\n",
       "      <td>-0.31319111959120927</td>\n",
       "      <td>-0.32584559902974436</td>\n",
       "      <td>-0.31680874150095806</td>\n",
       "      <td>-0.3149316949313722</td>\n",
       "      <td>-0.32392717796346626</td>\n",
       "      <td>-0.31466110031192535</td>\n",
       "      <td>...</td>\n",
       "      <td>-0.4688703020706729</td>\n",
       "      <td>-0.4396827953584166</td>\n",
       "      <td>-0.4598090967473371</td>\n",
       "      <td>-0.41338031879452186</td>\n",
       "      <td>-0.41441560801224464</td>\n",
       "      <td>-0.36442509545421997</td>\n",
       "      <td>-0.36583450605585044</td>\n",
       "      <td>-0.3230337048096841</td>\n",
       "      <td>-0.32196406409259015</td>\n",
       "      <td>N</td>\n",
       "    </tr>\n",
       "  </tbody>\n",
       "</table>\n",
       "<p>5 rows × 76 columns</p>\n",
       "</div>"
      ],
      "text/plain": [
       "                     0                     1                     2   \\\n",
       "0   -0.2765826941799416   -0.3414947338554218   -0.3195020458148922   \n",
       "1  -0.21755352143525866  -0.29493327651162243   -0.2679278415782136   \n",
       "2  -0.30805563210014464   -0.3507280287832321   -0.3764897986291018   \n",
       "3  -0.35084279791713957   -0.4282057450063681  -0.40902368105689485   \n",
       "4   -0.3157656024003587  -0.32358595391176587  -0.31364174566560277   \n",
       "\n",
       "                     3                     4                     5   \\\n",
       "0   -0.3199608517066094  -0.32617286403445145  -0.32636660070586576   \n",
       "1   -0.2862619171262596   -0.2666114088242677   -0.2806054455084041   \n",
       "2  -0.36666236040479155   -0.3618554634529202   -0.3491222310145302   \n",
       "3   -0.4122230033020528  -0.41021206183634096   -0.4024040495910697   \n",
       "4   -0.3221809830810448  -0.31319111959120927  -0.32584559902974436   \n",
       "\n",
       "                     6                     7                     8   \\\n",
       "0   -0.3405209039758399   -0.3268892680826637    -0.336339477570425   \n",
       "1   -0.2678279454601262   -0.2755352625381687   -0.2672948694326798   \n",
       "2   -0.3687702642114315   -0.3592514652185586   -0.3623241468688399   \n",
       "3   -0.4245405390888037  -0.40315863997856033   -0.4242962949019887   \n",
       "4  -0.31680874150095806   -0.3149316949313722  -0.32392717796346626   \n",
       "\n",
       "                     9   ...                    66                    67  \\\n",
       "0    -0.324916688252171  ...  -0.24958390569979516  -0.24960007982693724   \n",
       "1    -0.275274643642554  ...  -0.28899431909151985  -0.24566443594395923   \n",
       "2   -0.3654804359403824  ...  -0.40165375512511253   -0.3820807931528156   \n",
       "3  -0.40777395648430365  ...   -0.3698385642268374  -0.37083089848655265   \n",
       "4  -0.31466110031192535  ...   -0.4688703020706729   -0.4396827953584166   \n",
       "\n",
       "                     68                    69                    70  \\\n",
       "0   -0.2085145914767063  -0.21228575018738383  -0.15156509221728137   \n",
       "1  -0.23632591941259737  -0.19445992234043163  -0.17183247492684803   \n",
       "2  -0.35736983068353784  -0.33406113969352724  -0.28363285575853475   \n",
       "3    -0.345511323030627  -0.32916681382076707   -0.2801198253618152   \n",
       "4   -0.4598090967473371  -0.41338031879452186  -0.41441560801224464   \n",
       "\n",
       "                     71                    72                    73  \\\n",
       "0  -0.14419822642018532  -0.10952199337172687  -0.13665063915734388   \n",
       "1  -0.14693808670701208  -0.14003849388070508  -0.12808739763871296   \n",
       "2   -0.2692715147846346  -0.22755549097260247  -0.24065735618359255   \n",
       "3   -0.2689900998818088  -0.22949536631208012  -0.24013339812524867   \n",
       "4  -0.36442509545421997  -0.36583450605585044   -0.3230337048096841   \n",
       "\n",
       "                     74 75  \n",
       "0  -0.09931202250191487  N  \n",
       "1  -0.11985395431515838  N  \n",
       "2  -0.16728280320788788  N  \n",
       "3  -0.17836758890710216  N  \n",
       "4  -0.32196406409259015  N  \n",
       "\n",
       "[5 rows x 76 columns]"
      ]
     },
     "execution_count": 22,
     "metadata": {},
     "output_type": "execute_result"
    }
   ],
   "source": [
    "data = pd.DataFrame(resampled_beats_with_labels)\n",
    "data.head()"
   ]
  },
  {
   "cell_type": "code",
   "execution_count": 23,
   "id": "2a8e0616",
   "metadata": {
    "execution": {
     "iopub.execute_input": "2025-02-26T07:35:05.197790Z",
     "iopub.status.busy": "2025-02-26T07:35:05.197585Z",
     "iopub.status.idle": "2025-02-26T07:35:05.202852Z",
     "shell.execute_reply": "2025-02-26T07:35:05.202243Z"
    },
    "papermill": {
     "duration": 0.014207,
     "end_time": "2025-02-26T07:35:05.203909",
     "exception": false,
     "start_time": "2025-02-26T07:35:05.189702",
     "status": "completed"
    },
    "tags": []
   },
   "outputs": [
    {
     "data": {
      "text/plain": [
       "array(['A', 'N', 'Q', '|', '~'], dtype=object)"
      ]
     },
     "execution_count": 23,
     "metadata": {},
     "output_type": "execute_result"
    }
   ],
   "source": [
    "np.unique(data.iloc[:, -1])"
   ]
  },
  {
   "cell_type": "code",
   "execution_count": null,
   "id": "170786d3",
   "metadata": {
    "papermill": {
     "duration": 0.007122,
     "end_time": "2025-02-26T07:35:05.218398",
     "exception": false,
     "start_time": "2025-02-26T07:35:05.211276",
     "status": "completed"
    },
    "tags": []
   },
   "outputs": [],
   "source": []
  }
 ],
 "metadata": {
  "kaggle": {
   "accelerator": "gpu",
   "dataSources": [
    {
     "datasetId": 6548859,
     "sourceId": 10582402,
     "sourceType": "datasetVersion"
    }
   ],
   "dockerImageVersionId": 30919,
   "isGpuEnabled": true,
   "isInternetEnabled": true,
   "language": "python",
   "sourceType": "notebook"
  },
  "kernelspec": {
   "display_name": "Python 3",
   "language": "python",
   "name": "python3"
  },
  "language_info": {
   "codemirror_mode": {
    "name": "ipython",
    "version": 3
   },
   "file_extension": ".py",
   "mimetype": "text/x-python",
   "name": "python",
   "nbconvert_exporter": "python",
   "pygments_lexer": "ipython3",
   "version": "3.10.12"
  },
  "papermill": {
   "default_parameters": {},
   "duration": 11.162908,
   "end_time": "2025-02-26T07:35:05.743507",
   "environment_variables": {},
   "exception": null,
   "input_path": "__notebook__.ipynb",
   "output_path": "__notebook__.ipynb",
   "parameters": {},
   "start_time": "2025-02-26T07:34:54.580599",
   "version": "2.6.0"
  }
 },
 "nbformat": 4,
 "nbformat_minor": 5
}
