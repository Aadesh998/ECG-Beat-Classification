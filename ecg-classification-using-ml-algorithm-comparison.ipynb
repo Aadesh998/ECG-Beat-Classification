{
 "cells": [
  {
   "cell_type": "markdown",
   "id": "628a5a81",
   "metadata": {
    "papermill": {
     "duration": 0.004806,
     "end_time": "2025-02-16T12:47:42.669364",
     "exception": false,
     "start_time": "2025-02-16T12:47:42.664558",
     "status": "completed"
    },
    "tags": []
   },
   "source": [
    "### Import Library"
   ]
  },
  {
   "cell_type": "code",
   "execution_count": 1,
   "id": "e5081340",
   "metadata": {
    "execution": {
     "iopub.execute_input": "2025-02-16T12:47:42.678851Z",
     "iopub.status.busy": "2025-02-16T12:47:42.678498Z",
     "iopub.status.idle": "2025-02-16T12:47:44.986116Z",
     "shell.execute_reply": "2025-02-16T12:47:44.985357Z"
    },
    "papermill": {
     "duration": 2.313954,
     "end_time": "2025-02-16T12:47:44.987568",
     "exception": false,
     "start_time": "2025-02-16T12:47:42.673614",
     "status": "completed"
    },
    "tags": []
   },
   "outputs": [],
   "source": [
    "import os\n",
    "import shutil\n",
    "import pandas as pd\n",
    "import numpy as np\n",
    "import matplotlib.pyplot as plt\n",
    "# from sklearn.utils import resample\n",
    "from imblearn.over_sampling import SMOTE\n",
    "from sklearn.model_selection import train_test_split\n",
    "from sklearn.metrics import precision_score, f1_score, recall_score, accuracy_score, confusion_matrix, classification_report"
   ]
  },
  {
   "cell_type": "markdown",
   "id": "f8729e21",
   "metadata": {
    "papermill": {
     "duration": 0.003977,
     "end_time": "2025-02-16T12:47:44.995937",
     "exception": false,
     "start_time": "2025-02-16T12:47:44.991960",
     "status": "completed"
    },
    "tags": []
   },
   "source": [
    "### Load Dataset"
   ]
  },
  {
   "cell_type": "code",
   "execution_count": 2,
   "id": "f651c48c",
   "metadata": {
    "execution": {
     "iopub.execute_input": "2025-02-16T12:47:45.005007Z",
     "iopub.status.busy": "2025-02-16T12:47:45.004632Z",
     "iopub.status.idle": "2025-02-16T12:47:48.972894Z",
     "shell.execute_reply": "2025-02-16T12:47:48.972069Z"
    },
    "papermill": {
     "duration": 3.97428,
     "end_time": "2025-02-16T12:47:48.974222",
     "exception": false,
     "start_time": "2025-02-16T12:47:44.999942",
     "status": "completed"
    },
    "tags": []
   },
   "outputs": [
    {
     "data": {
      "text/html": [
       "<div>\n",
       "<style scoped>\n",
       "    .dataframe tbody tr th:only-of-type {\n",
       "        vertical-align: middle;\n",
       "    }\n",
       "\n",
       "    .dataframe tbody tr th {\n",
       "        vertical-align: top;\n",
       "    }\n",
       "\n",
       "    .dataframe thead th {\n",
       "        text-align: right;\n",
       "    }\n",
       "</style>\n",
       "<table border=\"1\" class=\"dataframe\">\n",
       "  <thead>\n",
       "    <tr style=\"text-align: right;\">\n",
       "      <th></th>\n",
       "      <th>0</th>\n",
       "      <th>1</th>\n",
       "      <th>2</th>\n",
       "      <th>3</th>\n",
       "      <th>4</th>\n",
       "      <th>5</th>\n",
       "      <th>6</th>\n",
       "      <th>7</th>\n",
       "      <th>8</th>\n",
       "      <th>9</th>\n",
       "      <th>...</th>\n",
       "      <th>116</th>\n",
       "      <th>117</th>\n",
       "      <th>118</th>\n",
       "      <th>119</th>\n",
       "      <th>120</th>\n",
       "      <th>121</th>\n",
       "      <th>122</th>\n",
       "      <th>123</th>\n",
       "      <th>124</th>\n",
       "      <th>125</th>\n",
       "    </tr>\n",
       "  </thead>\n",
       "  <tbody>\n",
       "    <tr>\n",
       "      <th>0</th>\n",
       "      <td>-0.135</td>\n",
       "      <td>-0.115</td>\n",
       "      <td>-0.105</td>\n",
       "      <td>-0.105</td>\n",
       "      <td>-0.115</td>\n",
       "      <td>-0.115</td>\n",
       "      <td>-0.115</td>\n",
       "      <td>-0.105</td>\n",
       "      <td>-0.105</td>\n",
       "      <td>-0.135</td>\n",
       "      <td>...</td>\n",
       "      <td>0.075</td>\n",
       "      <td>0.035</td>\n",
       "      <td>-0.025</td>\n",
       "      <td>-0.055</td>\n",
       "      <td>-0.075</td>\n",
       "      <td>-0.115</td>\n",
       "      <td>-0.135</td>\n",
       "      <td>-0.135</td>\n",
       "      <td>-0.135</td>\n",
       "      <td>0</td>\n",
       "    </tr>\n",
       "    <tr>\n",
       "      <th>1</th>\n",
       "      <td>-0.105</td>\n",
       "      <td>-0.095</td>\n",
       "      <td>-0.085</td>\n",
       "      <td>-0.095</td>\n",
       "      <td>-0.095</td>\n",
       "      <td>-0.105</td>\n",
       "      <td>-0.085</td>\n",
       "      <td>-0.095</td>\n",
       "      <td>-0.095</td>\n",
       "      <td>-0.105</td>\n",
       "      <td>...</td>\n",
       "      <td>0.025</td>\n",
       "      <td>-0.025</td>\n",
       "      <td>-0.055</td>\n",
       "      <td>-0.105</td>\n",
       "      <td>-0.145</td>\n",
       "      <td>-0.155</td>\n",
       "      <td>-0.165</td>\n",
       "      <td>-0.165</td>\n",
       "      <td>-0.185</td>\n",
       "      <td>0</td>\n",
       "    </tr>\n",
       "    <tr>\n",
       "      <th>2</th>\n",
       "      <td>-0.105</td>\n",
       "      <td>-0.115</td>\n",
       "      <td>-0.125</td>\n",
       "      <td>-0.105</td>\n",
       "      <td>-0.115</td>\n",
       "      <td>-0.105</td>\n",
       "      <td>-0.105</td>\n",
       "      <td>-0.095</td>\n",
       "      <td>-0.095</td>\n",
       "      <td>-0.105</td>\n",
       "      <td>...</td>\n",
       "      <td>0.065</td>\n",
       "      <td>0.005</td>\n",
       "      <td>-0.045</td>\n",
       "      <td>-0.075</td>\n",
       "      <td>-0.105</td>\n",
       "      <td>-0.115</td>\n",
       "      <td>-0.115</td>\n",
       "      <td>-0.135</td>\n",
       "      <td>-0.125</td>\n",
       "      <td>0</td>\n",
       "    </tr>\n",
       "    <tr>\n",
       "      <th>3</th>\n",
       "      <td>-0.075</td>\n",
       "      <td>-0.075</td>\n",
       "      <td>-0.085</td>\n",
       "      <td>-0.075</td>\n",
       "      <td>-0.075</td>\n",
       "      <td>-0.075</td>\n",
       "      <td>-0.065</td>\n",
       "      <td>-0.075</td>\n",
       "      <td>-0.065</td>\n",
       "      <td>-0.065</td>\n",
       "      <td>...</td>\n",
       "      <td>0.085</td>\n",
       "      <td>0.035</td>\n",
       "      <td>-0.005</td>\n",
       "      <td>-0.065</td>\n",
       "      <td>-0.055</td>\n",
       "      <td>-0.095</td>\n",
       "      <td>-0.095</td>\n",
       "      <td>-0.105</td>\n",
       "      <td>-0.125</td>\n",
       "      <td>0</td>\n",
       "    </tr>\n",
       "    <tr>\n",
       "      <th>4</th>\n",
       "      <td>-0.065</td>\n",
       "      <td>-0.085</td>\n",
       "      <td>-0.075</td>\n",
       "      <td>-0.065</td>\n",
       "      <td>-0.075</td>\n",
       "      <td>-0.045</td>\n",
       "      <td>-0.055</td>\n",
       "      <td>-0.075</td>\n",
       "      <td>-0.065</td>\n",
       "      <td>-0.065</td>\n",
       "      <td>...</td>\n",
       "      <td>0.085</td>\n",
       "      <td>0.015</td>\n",
       "      <td>-0.045</td>\n",
       "      <td>-0.085</td>\n",
       "      <td>-0.135</td>\n",
       "      <td>-0.135</td>\n",
       "      <td>-0.155</td>\n",
       "      <td>-0.155</td>\n",
       "      <td>-0.165</td>\n",
       "      <td>0</td>\n",
       "    </tr>\n",
       "  </tbody>\n",
       "</table>\n",
       "<p>5 rows × 126 columns</p>\n",
       "</div>"
      ],
      "text/plain": [
       "       0      1      2      3      4      5      6      7      8      9  ...  \\\n",
       "0 -0.135 -0.115 -0.105 -0.105 -0.115 -0.115 -0.115 -0.105 -0.105 -0.135  ...   \n",
       "1 -0.105 -0.095 -0.085 -0.095 -0.095 -0.105 -0.085 -0.095 -0.095 -0.105  ...   \n",
       "2 -0.105 -0.115 -0.125 -0.105 -0.115 -0.105 -0.105 -0.095 -0.095 -0.105  ...   \n",
       "3 -0.075 -0.075 -0.085 -0.075 -0.075 -0.075 -0.065 -0.075 -0.065 -0.065  ...   \n",
       "4 -0.065 -0.085 -0.075 -0.065 -0.075 -0.045 -0.055 -0.075 -0.065 -0.065  ...   \n",
       "\n",
       "     116    117    118    119    120    121    122    123    124  125  \n",
       "0  0.075  0.035 -0.025 -0.055 -0.075 -0.115 -0.135 -0.135 -0.135    0  \n",
       "1  0.025 -0.025 -0.055 -0.105 -0.145 -0.155 -0.165 -0.165 -0.185    0  \n",
       "2  0.065  0.005 -0.045 -0.075 -0.105 -0.115 -0.115 -0.135 -0.125    0  \n",
       "3  0.085  0.035 -0.005 -0.065 -0.055 -0.095 -0.095 -0.105 -0.125    0  \n",
       "4  0.085  0.015 -0.045 -0.085 -0.135 -0.135 -0.155 -0.155 -0.165    0  \n",
       "\n",
       "[5 rows x 126 columns]"
      ]
     },
     "execution_count": 2,
     "metadata": {},
     "output_type": "execute_result"
    }
   ],
   "source": [
    "# Loading the merged dataset\n",
    "data = pd.read_csv('/kaggle/input/ecgsignal/ECGSignal_Data.csv')\n",
    "data.drop(columns = ['Unnamed: 0'], inplace = True)\n",
    "\n",
    "data.head()"
   ]
  },
  {
   "cell_type": "code",
   "execution_count": 3,
   "id": "4a08335a",
   "metadata": {
    "execution": {
     "iopub.execute_input": "2025-02-16T12:47:48.983922Z",
     "iopub.status.busy": "2025-02-16T12:47:48.983650Z",
     "iopub.status.idle": "2025-02-16T12:47:49.056027Z",
     "shell.execute_reply": "2025-02-16T12:47:49.055211Z"
    },
    "papermill": {
     "duration": 0.078609,
     "end_time": "2025-02-16T12:47:49.057436",
     "exception": false,
     "start_time": "2025-02-16T12:47:48.978827",
     "status": "completed"
    },
    "tags": []
   },
   "outputs": [
    {
     "data": {
      "text/html": [
       "<div>\n",
       "<style scoped>\n",
       "    .dataframe tbody tr th:only-of-type {\n",
       "        vertical-align: middle;\n",
       "    }\n",
       "\n",
       "    .dataframe tbody tr th {\n",
       "        vertical-align: top;\n",
       "    }\n",
       "\n",
       "    .dataframe thead th {\n",
       "        text-align: right;\n",
       "    }\n",
       "</style>\n",
       "<table border=\"1\" class=\"dataframe\">\n",
       "  <thead>\n",
       "    <tr style=\"text-align: right;\">\n",
       "      <th></th>\n",
       "      <th>0</th>\n",
       "      <th>1</th>\n",
       "      <th>2</th>\n",
       "      <th>3</th>\n",
       "      <th>4</th>\n",
       "      <th>5</th>\n",
       "      <th>6</th>\n",
       "      <th>7</th>\n",
       "      <th>8</th>\n",
       "      <th>9</th>\n",
       "      <th>...</th>\n",
       "      <th>115</th>\n",
       "      <th>116</th>\n",
       "      <th>117</th>\n",
       "      <th>118</th>\n",
       "      <th>119</th>\n",
       "      <th>120</th>\n",
       "      <th>121</th>\n",
       "      <th>122</th>\n",
       "      <th>123</th>\n",
       "      <th>124</th>\n",
       "    </tr>\n",
       "  </thead>\n",
       "  <tbody>\n",
       "    <tr>\n",
       "      <th>0</th>\n",
       "      <td>-0.135</td>\n",
       "      <td>-0.115</td>\n",
       "      <td>-0.105</td>\n",
       "      <td>-0.105</td>\n",
       "      <td>-0.115</td>\n",
       "      <td>-0.115</td>\n",
       "      <td>-0.115</td>\n",
       "      <td>-0.105</td>\n",
       "      <td>-0.105</td>\n",
       "      <td>-0.135</td>\n",
       "      <td>...</td>\n",
       "      <td>0.175</td>\n",
       "      <td>0.075</td>\n",
       "      <td>0.035</td>\n",
       "      <td>-0.025</td>\n",
       "      <td>-0.055</td>\n",
       "      <td>-0.075</td>\n",
       "      <td>-0.115</td>\n",
       "      <td>-0.135</td>\n",
       "      <td>-0.135</td>\n",
       "      <td>-0.135</td>\n",
       "    </tr>\n",
       "    <tr>\n",
       "      <th>1</th>\n",
       "      <td>-0.105</td>\n",
       "      <td>-0.095</td>\n",
       "      <td>-0.085</td>\n",
       "      <td>-0.095</td>\n",
       "      <td>-0.095</td>\n",
       "      <td>-0.105</td>\n",
       "      <td>-0.085</td>\n",
       "      <td>-0.095</td>\n",
       "      <td>-0.095</td>\n",
       "      <td>-0.105</td>\n",
       "      <td>...</td>\n",
       "      <td>0.095</td>\n",
       "      <td>0.025</td>\n",
       "      <td>-0.025</td>\n",
       "      <td>-0.055</td>\n",
       "      <td>-0.105</td>\n",
       "      <td>-0.145</td>\n",
       "      <td>-0.155</td>\n",
       "      <td>-0.165</td>\n",
       "      <td>-0.165</td>\n",
       "      <td>-0.185</td>\n",
       "    </tr>\n",
       "    <tr>\n",
       "      <th>2</th>\n",
       "      <td>-0.105</td>\n",
       "      <td>-0.115</td>\n",
       "      <td>-0.125</td>\n",
       "      <td>-0.105</td>\n",
       "      <td>-0.115</td>\n",
       "      <td>-0.105</td>\n",
       "      <td>-0.105</td>\n",
       "      <td>-0.095</td>\n",
       "      <td>-0.095</td>\n",
       "      <td>-0.105</td>\n",
       "      <td>...</td>\n",
       "      <td>0.135</td>\n",
       "      <td>0.065</td>\n",
       "      <td>0.005</td>\n",
       "      <td>-0.045</td>\n",
       "      <td>-0.075</td>\n",
       "      <td>-0.105</td>\n",
       "      <td>-0.115</td>\n",
       "      <td>-0.115</td>\n",
       "      <td>-0.135</td>\n",
       "      <td>-0.125</td>\n",
       "    </tr>\n",
       "    <tr>\n",
       "      <th>3</th>\n",
       "      <td>-0.075</td>\n",
       "      <td>-0.075</td>\n",
       "      <td>-0.085</td>\n",
       "      <td>-0.075</td>\n",
       "      <td>-0.075</td>\n",
       "      <td>-0.075</td>\n",
       "      <td>-0.065</td>\n",
       "      <td>-0.075</td>\n",
       "      <td>-0.065</td>\n",
       "      <td>-0.065</td>\n",
       "      <td>...</td>\n",
       "      <td>0.165</td>\n",
       "      <td>0.085</td>\n",
       "      <td>0.035</td>\n",
       "      <td>-0.005</td>\n",
       "      <td>-0.065</td>\n",
       "      <td>-0.055</td>\n",
       "      <td>-0.095</td>\n",
       "      <td>-0.095</td>\n",
       "      <td>-0.105</td>\n",
       "      <td>-0.125</td>\n",
       "    </tr>\n",
       "    <tr>\n",
       "      <th>4</th>\n",
       "      <td>-0.065</td>\n",
       "      <td>-0.085</td>\n",
       "      <td>-0.075</td>\n",
       "      <td>-0.065</td>\n",
       "      <td>-0.075</td>\n",
       "      <td>-0.045</td>\n",
       "      <td>-0.055</td>\n",
       "      <td>-0.075</td>\n",
       "      <td>-0.065</td>\n",
       "      <td>-0.065</td>\n",
       "      <td>...</td>\n",
       "      <td>0.155</td>\n",
       "      <td>0.085</td>\n",
       "      <td>0.015</td>\n",
       "      <td>-0.045</td>\n",
       "      <td>-0.085</td>\n",
       "      <td>-0.135</td>\n",
       "      <td>-0.135</td>\n",
       "      <td>-0.155</td>\n",
       "      <td>-0.155</td>\n",
       "      <td>-0.165</td>\n",
       "    </tr>\n",
       "  </tbody>\n",
       "</table>\n",
       "<p>5 rows × 125 columns</p>\n",
       "</div>"
      ],
      "text/plain": [
       "       0      1      2      3      4      5      6      7      8      9  ...  \\\n",
       "0 -0.135 -0.115 -0.105 -0.105 -0.115 -0.115 -0.115 -0.105 -0.105 -0.135  ...   \n",
       "1 -0.105 -0.095 -0.085 -0.095 -0.095 -0.105 -0.085 -0.095 -0.095 -0.105  ...   \n",
       "2 -0.105 -0.115 -0.125 -0.105 -0.115 -0.105 -0.105 -0.095 -0.095 -0.105  ...   \n",
       "3 -0.075 -0.075 -0.085 -0.075 -0.075 -0.075 -0.065 -0.075 -0.065 -0.065  ...   \n",
       "4 -0.065 -0.085 -0.075 -0.065 -0.075 -0.045 -0.055 -0.075 -0.065 -0.065  ...   \n",
       "\n",
       "     115    116    117    118    119    120    121    122    123    124  \n",
       "0  0.175  0.075  0.035 -0.025 -0.055 -0.075 -0.115 -0.135 -0.135 -0.135  \n",
       "1  0.095  0.025 -0.025 -0.055 -0.105 -0.145 -0.155 -0.165 -0.165 -0.185  \n",
       "2  0.135  0.065  0.005 -0.045 -0.075 -0.105 -0.115 -0.115 -0.135 -0.125  \n",
       "3  0.165  0.085  0.035 -0.005 -0.065 -0.055 -0.095 -0.095 -0.105 -0.125  \n",
       "4  0.155  0.085  0.015 -0.045 -0.085 -0.135 -0.135 -0.155 -0.155 -0.165  \n",
       "\n",
       "[5 rows x 125 columns]"
      ]
     },
     "execution_count": 3,
     "metadata": {},
     "output_type": "execute_result"
    }
   ],
   "source": [
    "X = data.iloc[:, :-1]\n",
    "X.head()"
   ]
  },
  {
   "cell_type": "code",
   "execution_count": 4,
   "id": "2d507eaa",
   "metadata": {
    "execution": {
     "iopub.execute_input": "2025-02-16T12:47:49.067708Z",
     "iopub.status.busy": "2025-02-16T12:47:49.067448Z",
     "iopub.status.idle": "2025-02-16T12:47:49.072411Z",
     "shell.execute_reply": "2025-02-16T12:47:49.071627Z"
    },
    "papermill": {
     "duration": 0.011329,
     "end_time": "2025-02-16T12:47:49.073613",
     "exception": false,
     "start_time": "2025-02-16T12:47:49.062284",
     "status": "completed"
    },
    "tags": []
   },
   "outputs": [
    {
     "data": {
      "text/plain": [
       "0    0\n",
       "1    0\n",
       "2    0\n",
       "3    0\n",
       "4    0\n",
       "Name: 125, dtype: int64"
      ]
     },
     "execution_count": 4,
     "metadata": {},
     "output_type": "execute_result"
    }
   ],
   "source": [
    "y = data.iloc[:, -1]\n",
    "y.head()"
   ]
  },
  {
   "cell_type": "code",
   "execution_count": 5,
   "id": "51449609",
   "metadata": {
    "execution": {
     "iopub.execute_input": "2025-02-16T12:47:49.083592Z",
     "iopub.status.busy": "2025-02-16T12:47:49.083392Z",
     "iopub.status.idle": "2025-02-16T12:47:49.087574Z",
     "shell.execute_reply": "2025-02-16T12:47:49.086739Z"
    },
    "papermill": {
     "duration": 0.010693,
     "end_time": "2025-02-16T12:47:49.088898",
     "exception": false,
     "start_time": "2025-02-16T12:47:49.078205",
     "status": "completed"
    },
    "tags": []
   },
   "outputs": [
    {
     "name": "stdout",
     "output_type": "stream",
     "text": [
      "The Shape of the X: (189459, 125)\n",
      "The Shape of the y: (189459,)\n"
     ]
    }
   ],
   "source": [
    "print(f\"The Shape of the X: {X.shape}\")\n",
    "print(f\"The Shape of the y: {y.shape}\")"
   ]
  },
  {
   "cell_type": "markdown",
   "id": "945fddbc",
   "metadata": {
    "papermill": {
     "duration": 0.004484,
     "end_time": "2025-02-16T12:47:49.098092",
     "exception": false,
     "start_time": "2025-02-16T12:47:49.093608",
     "status": "completed"
    },
    "tags": []
   },
   "source": [
    "### Dividing Dataset"
   ]
  },
  {
   "cell_type": "code",
   "execution_count": 6,
   "id": "69c94444",
   "metadata": {
    "execution": {
     "iopub.execute_input": "2025-02-16T12:47:49.108154Z",
     "iopub.status.busy": "2025-02-16T12:47:49.107948Z",
     "iopub.status.idle": "2025-02-16T12:47:49.283148Z",
     "shell.execute_reply": "2025-02-16T12:47:49.282434Z"
    },
    "papermill": {
     "duration": 0.182038,
     "end_time": "2025-02-16T12:47:49.284767",
     "exception": false,
     "start_time": "2025-02-16T12:47:49.102729",
     "status": "completed"
    },
    "tags": []
   },
   "outputs": [],
   "source": [
    "X_train, X_test, y_train, y_test = train_test_split(X, y, test_size = 0.2, random_state=42)"
   ]
  },
  {
   "cell_type": "markdown",
   "id": "d97f498d",
   "metadata": {
    "papermill": {
     "duration": 0.004503,
     "end_time": "2025-02-16T12:47:49.294413",
     "exception": false,
     "start_time": "2025-02-16T12:47:49.289910",
     "status": "completed"
    },
    "tags": []
   },
   "source": [
    "## Without Sampling"
   ]
  },
  {
   "cell_type": "code",
   "execution_count": 7,
   "id": "239af52a",
   "metadata": {
    "execution": {
     "iopub.execute_input": "2025-02-16T12:47:49.304430Z",
     "iopub.status.busy": "2025-02-16T12:47:49.304189Z",
     "iopub.status.idle": "2025-02-16T12:47:49.503589Z",
     "shell.execute_reply": "2025-02-16T12:47:49.502687Z"
    },
    "papermill": {
     "duration": 0.205949,
     "end_time": "2025-02-16T12:47:49.504965",
     "exception": false,
     "start_time": "2025-02-16T12:47:49.299016",
     "status": "completed"
    },
    "tags": []
   },
   "outputs": [
    {
     "data": {
      "image/png": "[encoded data removed]",
      "text/plain": [
       "<Figure size 2000x1000 with 1 Axes>"
      ]
     },
     "metadata": {},
     "output_type": "display_data"
    }
   ],
   "source": [
    "per_classes = data.iloc[:, -1].value_counts()\n",
    "plt.figure(figsize=(20,10))\n",
    "plt.pie(per_classes, labels=['Normal', 'Abnormal'], colors=['tab:blue','tab:orange'],autopct='%1.1f%%')\n",
    "plt.show()"
   ]
  },
  {
   "cell_type": "code",
   "execution_count": 8,
   "id": "c955ae5a",
   "metadata": {
    "execution": {
     "iopub.execute_input": "2025-02-16T12:47:49.516758Z",
     "iopub.status.busy": "2025-02-16T12:47:49.516518Z",
     "iopub.status.idle": "2025-02-16T12:47:49.721054Z",
     "shell.execute_reply": "2025-02-16T12:47:49.720395Z"
    },
    "papermill": {
     "duration": 0.211914,
     "end_time": "2025-02-16T12:47:49.722534",
     "exception": false,
     "start_time": "2025-02-16T12:47:49.510620",
     "status": "completed"
    },
    "tags": []
   },
   "outputs": [],
   "source": [
    "# importing library\n",
    "from sklearn.linear_model import LogisticRegression\n",
    "from sklearn.svm import SVC\n",
    "from sklearn.naive_bayes import MultinomialNB\n",
    "from sklearn.tree import DecisionTreeClassifier\n",
    "from sklearn.neighbors import KNeighborsClassifier\n",
    "from sklearn.ensemble import RandomForestClassifier\n",
    "from sklearn.ensemble import AdaBoostClassifier\n",
    "from sklearn.ensemble import BaggingClassifier\n",
    "from sklearn.ensemble import ExtraTreesClassifier\n",
    "from sklearn.ensemble import GradientBoostingClassifier\n",
    "from xgboost import XGBClassifier\n",
    "\n",
    "import warnings\n",
    "warnings.filterwarnings('ignore')"
   ]
  },
  {
   "cell_type": "code",
   "execution_count": 9,
   "id": "4580329c",
   "metadata": {
    "execution": {
     "iopub.execute_input": "2025-02-16T12:47:49.734378Z",
     "iopub.status.busy": "2025-02-16T12:47:49.734137Z",
     "iopub.status.idle": "2025-02-16T12:47:49.738157Z",
     "shell.execute_reply": "2025-02-16T12:47:49.737534Z"
    },
    "papermill": {
     "duration": 0.011183,
     "end_time": "2025-02-16T12:47:49.739339",
     "exception": false,
     "start_time": "2025-02-16T12:47:49.728156",
     "status": "completed"
    },
    "tags": []
   },
   "outputs": [],
   "source": [
    "# model define\n",
    "\n",
    "knc = KNeighborsClassifier()\n",
    "dtc = DecisionTreeClassifier(max_depth=5)\n",
    "lrc = LogisticRegression(solver='liblinear', penalty='l1')\n",
    "rfc = RandomForestClassifier(n_estimators=50, random_state=2)\n",
    "abc = AdaBoostClassifier(n_estimators=50, random_state=2)\n",
    "etc = ExtraTreesClassifier(n_estimators=50, random_state=2)\n",
    "gbdt = GradientBoostingClassifier(n_estimators=50,random_state=2)\n",
    "xgb = XGBClassifier(n_estimators=50,random_state=2)"
   ]
  },
  {
   "cell_type": "code",
   "execution_count": 10,
   "id": "e3577bb0",
   "metadata": {
    "execution": {
     "iopub.execute_input": "2025-02-16T12:47:49.750762Z",
     "iopub.status.busy": "2025-02-16T12:47:49.750550Z",
     "iopub.status.idle": "2025-02-16T12:47:49.753629Z",
     "shell.execute_reply": "2025-02-16T12:47:49.753074Z"
    },
    "papermill": {
     "duration": 0.010237,
     "end_time": "2025-02-16T12:47:49.754950",
     "exception": false,
     "start_time": "2025-02-16T12:47:49.744713",
     "status": "completed"
    },
    "tags": []
   },
   "outputs": [],
   "source": [
    "clfs = {\n",
    "    'KN' : knc, \n",
    "    'DT': dtc, \n",
    "    'LR': lrc, \n",
    "    'RF': rfc, \n",
    "    'AdaBoost': abc,  \n",
    "    'ETC': etc,\n",
    "    'GBDT':gbdt,\n",
    "    'xgb':xgb\n",
    "}"
   ]
  },
  {
   "cell_type": "code",
   "execution_count": 11,
   "id": "465bb8a3",
   "metadata": {
    "execution": {
     "iopub.execute_input": "2025-02-16T12:47:49.766297Z",
     "iopub.status.busy": "2025-02-16T12:47:49.766087Z",
     "iopub.status.idle": "2025-02-16T12:47:49.769874Z",
     "shell.execute_reply": "2025-02-16T12:47:49.769246Z"
    },
    "papermill": {
     "duration": 0.010932,
     "end_time": "2025-02-16T12:47:49.771123",
     "exception": false,
     "start_time": "2025-02-16T12:47:49.760191",
     "status": "completed"
    },
    "tags": []
   },
   "outputs": [],
   "source": [
    "def train_classifier(clf,X_train,y_train,X_test,y_test):\n",
    "    clf.fit(X_train,y_train)\n",
    "    y_pred = clf.predict(X_test)\n",
    "    accuracy = accuracy_score(y_test,y_pred)\n",
    "    precision = precision_score(y_test,y_pred)\n",
    "    recall = recall_score(y_test, y_pred)\n",
    "    f1 = f1_score(y_test, y_pred)\n",
    "    \n",
    "    return accuracy, precision, recall, f1"
   ]
  },
  {
   "cell_type": "code",
   "execution_count": 12,
   "id": "131f36af",
   "metadata": {
    "execution": {
     "iopub.execute_input": "2025-02-16T12:47:49.782444Z",
     "iopub.status.busy": "2025-02-16T12:47:49.782241Z",
     "iopub.status.idle": "2025-02-16T12:47:49.784971Z",
     "shell.execute_reply": "2025-02-16T12:47:49.784355Z"
    },
    "papermill": {
     "duration": 0.00958,
     "end_time": "2025-02-16T12:47:49.786100",
     "exception": false,
     "start_time": "2025-02-16T12:47:49.776520",
     "status": "completed"
    },
    "tags": []
   },
   "outputs": [],
   "source": [
    "# train_classifier(xgb,X_train,y_train,X_test,y_test)"
   ]
  },
  {
   "cell_type": "code",
   "execution_count": 13,
   "id": "fdc4356a",
   "metadata": {
    "execution": {
     "iopub.execute_input": "2025-02-16T12:47:49.797100Z",
     "iopub.status.busy": "2025-02-16T12:47:49.796892Z",
     "iopub.status.idle": "2025-02-16T12:54:42.647627Z",
     "shell.execute_reply": "2025-02-16T12:54:42.646654Z"
    },
    "papermill": {
     "duration": 412.857918,
     "end_time": "2025-02-16T12:54:42.649109",
     "exception": false,
     "start_time": "2025-02-16T12:47:49.791191",
     "status": "completed"
    },
    "tags": []
   },
   "outputs": [
    {
     "name": "stdout",
     "output_type": "stream",
     "text": [
      "For Algorithm KN the Accuracy: 0.9765121925472395, Precision: 0.9512195121951219, Recall: 0.8605898123324397, f1_score: 0.9036379385015159\n",
      "For Algorithm DT the Accuracy: 0.9216985115591682, Precision: 0.8776083467094703, Recall: 0.4510208290369148, f1_score: 0.5958316305680426\n",
      "For Algorithm LR the Accuracy: 0.9003483584925578, Precision: 0.8868060562364816, Recall: 0.25366054856671477, f1_score: 0.3944836433611289\n",
      "For Algorithm RF the Accuracy: 0.97297582603188, Precision: 0.9605104743558873, Recall: 0.8226438440915653, f1_score: 0.8862475005554322\n",
      "For Algorithm AdaBoost the Accuracy: 0.9118019634751399, Precision: 0.8027320208919244, Recall: 0.4120437203547123, f1_score: 0.544562551103843\n",
      "For Algorithm ETC the Accuracy: 0.9751926528027024, Precision: 0.9683680805176133, Recall: 0.8333677046813776, f1_score: 0.8958102416315673\n",
      "For Algorithm GBDT the Accuracy: 0.9322020479256835, Precision: 0.930188679245283, Recall: 0.5083522375747577, f1_score: 0.6574209894652621\n",
      "For Algorithm xgb the Accuracy: 0.9701784017734614, Precision: 0.93970205722393, Recall: 0.8195504227675809, f1_score: 0.8755232430050672\n"
     ]
    }
   ],
   "source": [
    "accuracy_scores = []\n",
    "precision_scores = []\n",
    "recall_scores = []\n",
    "f1_scores = []\n",
    "\n",
    "for name,clf in clfs.items():\n",
    "    \n",
    "    current_accuracy,current_precision, current_recall, current_f1 = train_classifier(clf, X_train,y_train,X_test,y_test)\n",
    "\n",
    "    print(f\"For Algorithm {name} the Accuracy: {current_accuracy}, Precision: {current_precision}, Recall: {current_recall}, f1_score: {current_f1}\")\n",
    "    \n",
    "    accuracy_scores.append(current_accuracy)\n",
    "    precision_scores.append(current_precision)\n",
    "    recall_scores.append(current_recall)\n",
    "    f1_scores.append(current_f1)"
   ]
  },
  {
   "cell_type": "code",
   "execution_count": 14,
   "id": "2e8b0ece",
   "metadata": {
    "execution": {
     "iopub.execute_input": "2025-02-16T12:54:42.661742Z",
     "iopub.status.busy": "2025-02-16T12:54:42.661507Z",
     "iopub.status.idle": "2025-02-16T12:54:42.667372Z",
     "shell.execute_reply": "2025-02-16T12:54:42.666546Z"
    },
    "papermill": {
     "duration": 0.013509,
     "end_time": "2025-02-16T12:54:42.668641",
     "exception": false,
     "start_time": "2025-02-16T12:54:42.655132",
     "status": "completed"
    },
    "tags": []
   },
   "outputs": [],
   "source": [
    "performance_df = pd.DataFrame({'Algorithm':clfs.keys(),'Accuracy':accuracy_scores,'Precision':precision_scores, 'Recall': recall_scores, \"F1_score\": f1_scores}).sort_values('Precision',ascending=False)"
   ]
  },
  {
   "cell_type": "code",
   "execution_count": 15,
   "id": "381fc4f6",
   "metadata": {
    "execution": {
     "iopub.execute_input": "2025-02-16T12:54:42.680417Z",
     "iopub.status.busy": "2025-02-16T12:54:42.680213Z",
     "iopub.status.idle": "2025-02-16T12:54:42.688723Z",
     "shell.execute_reply": "2025-02-16T12:54:42.688005Z"
    },
    "papermill": {
     "duration": 0.015885,
     "end_time": "2025-02-16T12:54:42.690089",
     "exception": false,
     "start_time": "2025-02-16T12:54:42.674204",
     "status": "completed"
    },
    "tags": []
   },
   "outputs": [
    {
     "data": {
      "text/html": [
       "<div>\n",
       "<style scoped>\n",
       "    .dataframe tbody tr th:only-of-type {\n",
       "        vertical-align: middle;\n",
       "    }\n",
       "\n",
       "    .dataframe tbody tr th {\n",
       "        vertical-align: top;\n",
       "    }\n",
       "\n",
       "    .dataframe thead th {\n",
       "        text-align: right;\n",
       "    }\n",
       "</style>\n",
       "<table border=\"1\" class=\"dataframe\">\n",
       "  <thead>\n",
       "    <tr style=\"text-align: right;\">\n",
       "      <th></th>\n",
       "      <th>Algorithm</th>\n",
       "      <th>Accuracy</th>\n",
       "      <th>Precision</th>\n",
       "      <th>Recall</th>\n",
       "      <th>F1_score</th>\n",
       "    </tr>\n",
       "  </thead>\n",
       "  <tbody>\n",
       "    <tr>\n",
       "      <th>5</th>\n",
       "      <td>ETC</td>\n",
       "      <td>0.975193</td>\n",
       "      <td>0.968368</td>\n",
       "      <td>0.833368</td>\n",
       "      <td>0.895810</td>\n",
       "    </tr>\n",
       "    <tr>\n",
       "      <th>3</th>\n",
       "      <td>RF</td>\n",
       "      <td>0.972976</td>\n",
       "      <td>0.960510</td>\n",
       "      <td>0.822644</td>\n",
       "      <td>0.886248</td>\n",
       "    </tr>\n",
       "    <tr>\n",
       "      <th>0</th>\n",
       "      <td>KN</td>\n",
       "      <td>0.976512</td>\n",
       "      <td>0.951220</td>\n",
       "      <td>0.860590</td>\n",
       "      <td>0.903638</td>\n",
       "    </tr>\n",
       "    <tr>\n",
       "      <th>7</th>\n",
       "      <td>xgb</td>\n",
       "      <td>0.970178</td>\n",
       "      <td>0.939702</td>\n",
       "      <td>0.819550</td>\n",
       "      <td>0.875523</td>\n",
       "    </tr>\n",
       "    <tr>\n",
       "      <th>6</th>\n",
       "      <td>GBDT</td>\n",
       "      <td>0.932202</td>\n",
       "      <td>0.930189</td>\n",
       "      <td>0.508352</td>\n",
       "      <td>0.657421</td>\n",
       "    </tr>\n",
       "    <tr>\n",
       "      <th>2</th>\n",
       "      <td>LR</td>\n",
       "      <td>0.900348</td>\n",
       "      <td>0.886806</td>\n",
       "      <td>0.253661</td>\n",
       "      <td>0.394484</td>\n",
       "    </tr>\n",
       "    <tr>\n",
       "      <th>1</th>\n",
       "      <td>DT</td>\n",
       "      <td>0.921699</td>\n",
       "      <td>0.877608</td>\n",
       "      <td>0.451021</td>\n",
       "      <td>0.595832</td>\n",
       "    </tr>\n",
       "    <tr>\n",
       "      <th>4</th>\n",
       "      <td>AdaBoost</td>\n",
       "      <td>0.911802</td>\n",
       "      <td>0.802732</td>\n",
       "      <td>0.412044</td>\n",
       "      <td>0.544563</td>\n",
       "    </tr>\n",
       "  </tbody>\n",
       "</table>\n",
       "</div>"
      ],
      "text/plain": [
       "  Algorithm  Accuracy  Precision    Recall  F1_score\n",
       "5       ETC  0.975193   0.968368  0.833368  0.895810\n",
       "3        RF  0.972976   0.960510  0.822644  0.886248\n",
       "0        KN  0.976512   0.951220  0.860590  0.903638\n",
       "7       xgb  0.970178   0.939702  0.819550  0.875523\n",
       "6      GBDT  0.932202   0.930189  0.508352  0.657421\n",
       "2        LR  0.900348   0.886806  0.253661  0.394484\n",
       "1        DT  0.921699   0.877608  0.451021  0.595832\n",
       "4  AdaBoost  0.911802   0.802732  0.412044  0.544563"
      ]
     },
     "execution_count": 15,
     "metadata": {},
     "output_type": "execute_result"
    }
   ],
   "source": [
    "performance_df"
   ]
  },
  {
   "cell_type": "markdown",
   "id": "7ad54e37",
   "metadata": {
    "papermill": {
     "duration": 0.005483,
     "end_time": "2025-02-16T12:54:42.701413",
     "exception": false,
     "start_time": "2025-02-16T12:54:42.695930",
     "status": "completed"
    },
    "tags": []
   },
   "source": [
    "## After Sampling"
   ]
  },
  {
   "cell_type": "code",
   "execution_count": 16,
   "id": "85f96db3",
   "metadata": {
    "execution": {
     "iopub.execute_input": "2025-02-16T12:54:42.713381Z",
     "iopub.status.busy": "2025-02-16T12:54:42.713181Z",
     "iopub.status.idle": "2025-02-16T12:54:45.609145Z",
     "shell.execute_reply": "2025-02-16T12:54:45.608457Z"
    },
    "papermill": {
     "duration": 2.903579,
     "end_time": "2025-02-16T12:54:45.610542",
     "exception": false,
     "start_time": "2025-02-16T12:54:42.706963",
     "status": "completed"
    },
    "tags": []
   },
   "outputs": [],
   "source": [
    "# Increasing the data\n",
    "sm = SMOTE(k_neighbors=6)\n",
    "updated_X, updated_y = sm.fit_resample(X, y)"
   ]
  },
  {
   "cell_type": "code",
   "execution_count": 17,
   "id": "2c6ef9e6",
   "metadata": {
    "execution": {
     "iopub.execute_input": "2025-02-16T12:54:45.623288Z",
     "iopub.status.busy": "2025-02-16T12:54:45.623055Z",
     "iopub.status.idle": "2025-02-16T12:54:45.719063Z",
     "shell.execute_reply": "2025-02-16T12:54:45.718219Z"
    },
    "papermill": {
     "duration": 0.103563,
     "end_time": "2025-02-16T12:54:45.720391",
     "exception": false,
     "start_time": "2025-02-16T12:54:45.616828",
     "status": "completed"
    },
    "tags": []
   },
   "outputs": [
    {
     "data": {
      "image/png": "[encoded data removed]",
      "text/plain": [
       "<Figure size 2000x1000 with 1 Axes>"
      ]
     },
     "metadata": {},
     "output_type": "display_data"
    }
   ],
   "source": [
    "# Checking the class size\n",
    "per_classes = updated_y.value_counts()\n",
    "plt.figure(figsize=(20,10))\n",
    "plt.pie(per_classes, labels=['Normal', 'Abnormal'], colors=['tab:blue','tab:orange'],autopct='%1.1f%%')\n",
    "plt.show()"
   ]
  },
  {
   "cell_type": "code",
   "execution_count": 18,
   "id": "dbb97106",
   "metadata": {
    "execution": {
     "iopub.execute_input": "2025-02-16T12:54:45.733721Z",
     "iopub.status.busy": "2025-02-16T12:54:45.733464Z",
     "iopub.status.idle": "2025-02-16T12:54:46.389870Z",
     "shell.execute_reply": "2025-02-16T12:54:46.388879Z"
    },
    "papermill": {
     "duration": 0.665415,
     "end_time": "2025-02-16T12:54:46.392228",
     "exception": false,
     "start_time": "2025-02-16T12:54:45.726813",
     "status": "completed"
    },
    "tags": []
   },
   "outputs": [],
   "source": [
    "train_x, test_x, train_y, test_y = train_test_split(updated_X, updated_y, test_size = 0.2, random_state=42)"
   ]
  },
  {
   "cell_type": "code",
   "execution_count": 19,
   "id": "6389b1f4",
   "metadata": {
    "execution": {
     "iopub.execute_input": "2025-02-16T12:54:46.413599Z",
     "iopub.status.busy": "2025-02-16T12:54:46.413330Z",
     "iopub.status.idle": "2025-02-16T13:12:22.428528Z",
     "shell.execute_reply": "2025-02-16T13:12:22.427511Z"
    },
    "papermill": {
     "duration": 1056.029583,
     "end_time": "2025-02-16T13:12:22.430045",
     "exception": false,
     "start_time": "2025-02-16T12:54:46.400462",
     "status": "completed"
    },
    "tags": []
   },
   "outputs": [
    {
     "name": "stdout",
     "output_type": "stream",
     "text": [
      "For Algorithm KN the Accuracy: 0.9810166823094856, Precision: 0.9665257223396758, Recall: 0.9965485921889191, f1_score: 0.9813075753510418\n",
      "For Algorithm DT the Accuracy: 0.7696872445426746, Precision: 0.9331842054075082, Recall: 0.5809869815319406, f1_score: 0.7161249393588833\n",
      "For Algorithm LR the Accuracy: 0.6963274697992673, Precision: 0.7646506692784851, Recall: 0.5672721768089616, f1_score: 0.6513366009663851\n",
      "For Algorithm RF the Accuracy: 0.9848163734899633, Precision: 0.9866585625284912, Recall: 0.9829246139872843, f1_score: 0.9847880488359749\n",
      "For Algorithm AdaBoost the Accuracy: 0.8092433921705168, Precision: 0.8558191381892918, Recall: 0.7438086587950348, f1_score: 0.7958922526199848\n",
      "For Algorithm ETC the Accuracy: 0.988722032153562, Precision: 0.9902213854049622, Recall: 0.9871934604904632, f1_score: 0.9887051046862445\n",
      "For Algorithm GBDT the Accuracy: 0.8611977353235036, Precision: 0.9239845054906002, Recall: 0.7871631849833485, f1_score: 0.8501038107538132\n",
      "For Algorithm xgb the Accuracy: 0.9539949741136577, Precision: 0.9688291386587463, Recall: 0.9381774144716925, f1_score: 0.953256940705991\n"
     ]
    }
   ],
   "source": [
    "accuracy_scores = []\n",
    "precision_scores = []\n",
    "recall_scores = []\n",
    "f1_scores = []\n",
    "\n",
    "for name,clf in clfs.items():\n",
    "    \n",
    "    current_accuracy,current_precision, current_recall, current_f1 = train_classifier(clf, train_x, train_y, test_x, test_y)\n",
    "\n",
    "    print(f\"For Algorithm {name} the Accuracy: {current_accuracy}, Precision: {current_precision}, Recall: {current_recall}, f1_score: {current_f1}\")\n",
    "    \n",
    "    accuracy_scores.append(current_accuracy)\n",
    "    precision_scores.append(current_precision)\n",
    "    recall_scores.append(current_recall)\n",
    "    f1_scores.append(current_f1)"
   ]
  },
  {
   "cell_type": "code",
   "execution_count": 20,
   "id": "a8910c1a",
   "metadata": {
    "execution": {
     "iopub.execute_input": "2025-02-16T13:12:22.445339Z",
     "iopub.status.busy": "2025-02-16T13:12:22.445098Z",
     "iopub.status.idle": "2025-02-16T13:12:22.449638Z",
     "shell.execute_reply": "2025-02-16T13:12:22.448851Z"
    },
    "papermill": {
     "duration": 0.013307,
     "end_time": "2025-02-16T13:12:22.450854",
     "exception": false,
     "start_time": "2025-02-16T13:12:22.437547",
     "status": "completed"
    },
    "tags": []
   },
   "outputs": [],
   "source": [
    "smote_performance_df = pd.DataFrame({'Algorithm':clfs.keys(),'Accuracy':accuracy_scores,'Precision':precision_scores, 'Recall': recall_scores, \"F1_score\": f1_scores}).sort_values('Precision',ascending=False)"
   ]
  },
  {
   "cell_type": "code",
   "execution_count": 21,
   "id": "0c3baed3",
   "metadata": {
    "execution": {
     "iopub.execute_input": "2025-02-16T13:12:22.464527Z",
     "iopub.status.busy": "2025-02-16T13:12:22.464299Z",
     "iopub.status.idle": "2025-02-16T13:12:22.472792Z",
     "shell.execute_reply": "2025-02-16T13:12:22.472014Z"
    },
    "papermill": {
     "duration": 0.016724,
     "end_time": "2025-02-16T13:12:22.474062",
     "exception": false,
     "start_time": "2025-02-16T13:12:22.457338",
     "status": "completed"
    },
    "tags": []
   },
   "outputs": [
    {
     "data": {
      "text/html": [
       "<div>\n",
       "<style scoped>\n",
       "    .dataframe tbody tr th:only-of-type {\n",
       "        vertical-align: middle;\n",
       "    }\n",
       "\n",
       "    .dataframe tbody tr th {\n",
       "        vertical-align: top;\n",
       "    }\n",
       "\n",
       "    .dataframe thead th {\n",
       "        text-align: right;\n",
       "    }\n",
       "</style>\n",
       "<table border=\"1\" class=\"dataframe\">\n",
       "  <thead>\n",
       "    <tr style=\"text-align: right;\">\n",
       "      <th></th>\n",
       "      <th>Algorithm</th>\n",
       "      <th>Accuracy</th>\n",
       "      <th>Precision</th>\n",
       "      <th>Recall</th>\n",
       "      <th>F1_score</th>\n",
       "    </tr>\n",
       "  </thead>\n",
       "  <tbody>\n",
       "    <tr>\n",
       "      <th>5</th>\n",
       "      <td>ETC</td>\n",
       "      <td>0.988722</td>\n",
       "      <td>0.990221</td>\n",
       "      <td>0.987193</td>\n",
       "      <td>0.988705</td>\n",
       "    </tr>\n",
       "    <tr>\n",
       "      <th>3</th>\n",
       "      <td>RF</td>\n",
       "      <td>0.984816</td>\n",
       "      <td>0.986659</td>\n",
       "      <td>0.982925</td>\n",
       "      <td>0.984788</td>\n",
       "    </tr>\n",
       "    <tr>\n",
       "      <th>7</th>\n",
       "      <td>xgb</td>\n",
       "      <td>0.953995</td>\n",
       "      <td>0.968829</td>\n",
       "      <td>0.938177</td>\n",
       "      <td>0.953257</td>\n",
       "    </tr>\n",
       "    <tr>\n",
       "      <th>0</th>\n",
       "      <td>KN</td>\n",
       "      <td>0.981017</td>\n",
       "      <td>0.966526</td>\n",
       "      <td>0.996549</td>\n",
       "      <td>0.981308</td>\n",
       "    </tr>\n",
       "    <tr>\n",
       "      <th>1</th>\n",
       "      <td>DT</td>\n",
       "      <td>0.769687</td>\n",
       "      <td>0.933184</td>\n",
       "      <td>0.580987</td>\n",
       "      <td>0.716125</td>\n",
       "    </tr>\n",
       "    <tr>\n",
       "      <th>6</th>\n",
       "      <td>GBDT</td>\n",
       "      <td>0.861198</td>\n",
       "      <td>0.923985</td>\n",
       "      <td>0.787163</td>\n",
       "      <td>0.850104</td>\n",
       "    </tr>\n",
       "    <tr>\n",
       "      <th>4</th>\n",
       "      <td>AdaBoost</td>\n",
       "      <td>0.809243</td>\n",
       "      <td>0.855819</td>\n",
       "      <td>0.743809</td>\n",
       "      <td>0.795892</td>\n",
       "    </tr>\n",
       "    <tr>\n",
       "      <th>2</th>\n",
       "      <td>LR</td>\n",
       "      <td>0.696327</td>\n",
       "      <td>0.764651</td>\n",
       "      <td>0.567272</td>\n",
       "      <td>0.651337</td>\n",
       "    </tr>\n",
       "  </tbody>\n",
       "</table>\n",
       "</div>"
      ],
      "text/plain": [
       "  Algorithm  Accuracy  Precision    Recall  F1_score\n",
       "5       ETC  0.988722   0.990221  0.987193  0.988705\n",
       "3        RF  0.984816   0.986659  0.982925  0.984788\n",
       "7       xgb  0.953995   0.968829  0.938177  0.953257\n",
       "0        KN  0.981017   0.966526  0.996549  0.981308\n",
       "1        DT  0.769687   0.933184  0.580987  0.716125\n",
       "6      GBDT  0.861198   0.923985  0.787163  0.850104\n",
       "4  AdaBoost  0.809243   0.855819  0.743809  0.795892\n",
       "2        LR  0.696327   0.764651  0.567272  0.651337"
      ]
     },
     "execution_count": 21,
     "metadata": {},
     "output_type": "execute_result"
    }
   ],
   "source": [
    "smote_performance_df"
   ]
  },
  {
   "cell_type": "code",
   "execution_count": null,
   "id": "7376acfd",
   "metadata": {
    "papermill": {
     "duration": 0.006473,
     "end_time": "2025-02-16T13:12:22.487148",
     "exception": false,
     "start_time": "2025-02-16T13:12:22.480675",
     "status": "completed"
    },
    "tags": []
   },
   "outputs": [],
   "source": []
  }
 ],
 "metadata": {
  "kaggle": {
   "accelerator": "gpu",
   "dataSources": [
    {
     "datasetId": 6551802,
     "sourceId": 10586675,
     "sourceType": "datasetVersion"
    }
   ],
   "dockerImageVersionId": 30887,
   "isGpuEnabled": true,
   "isInternetEnabled": true,
   "language": "python",
   "sourceType": "notebook"
  },
  "kernelspec": {
   "display_name": "Python 3",
   "language": "python",
   "name": "python3"
  },
  "language_info": {
   "codemirror_mode": {
    "name": "ipython",
    "version": 3
   },
   "file_extension": ".py",
   "mimetype": "text/x-python",
   "name": "python",
   "nbconvert_exporter": "python",
   "pygments_lexer": "ipython3",
   "version": "3.10.12"
  },
  "papermill": {
   "default_parameters": {},
   "duration": 1483.003517,
   "end_time": "2025-02-16T13:12:23.112745",
   "environment_variables": {},
   "exception": null,
   "input_path": "__notebook__.ipynb",
   "output_path": "__notebook__.ipynb",
   "parameters": {},
   "start_time": "2025-02-16T12:47:40.109228",
   "version": "2.6.0"
  }
 },
 "nbformat": 4,
 "nbformat_minor": 5
}
