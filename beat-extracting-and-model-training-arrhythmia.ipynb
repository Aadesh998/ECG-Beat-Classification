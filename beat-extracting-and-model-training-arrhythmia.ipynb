{
 "cells": [
  {
   "cell_type": "markdown",
   "id": "f6cb4ae6",
   "metadata": {
    "papermill": {
     "duration": 0.009252,
     "end_time": "2025-02-28T12:34:36.066296",
     "exception": false,
     "start_time": "2025-02-28T12:34:36.057044",
     "status": "completed"
    },
    "tags": []
   },
   "source": [
    "# **PhysioNet MIT-BIH Arrhythmia Dataset**\n",
    "\n",
    "The **PhysioNet MIT-BIH Arrhythmia Dataset** is primarily used for **ECG (electrocardiogram) classification**, specifically for detecting and classifying different types of **cardiac arrhythmias** (irregular heartbeats). The dataset contains ECG recordings from 47 subjects and is widely used for research in **heartbeat classification, arrhythmia detection, and anomaly detection** in ECG signals.\n",
    "\n",
    "## **Common Classes in the Dataset**\n",
    "The dataset follows the **AAMI (Association for the Advancement of Medical Instrumentation) ECG classification** standard, grouping heartbeats into five main categories:\n",
    "\n",
    "1. **Normal (N)**\n",
    "   - Includes normal heartbeats.\n",
    "  \n",
    "2. **Supraventricular Ectopic Beats (S)**\n",
    "   - Includes premature atrial contraction (PAC), atrial flutter, and atrial fibrillation.\n",
    "  \n",
    "3. **Ventricular Ectopic Beats (V)**\n",
    "   - Includes premature ventricular contractions (PVC) and ventricular tachycardia.\n",
    "  \n",
    "4. **Fusion Beats (F)**\n",
    "   - Fusion of normal and abnormal beats.\n",
    "  \n",
    "5. **Unknown (Q)**\n",
    "   - Includes unclassified or noisy beats.\n"
   ]
  },
  {
   "cell_type": "markdown",
   "id": "a37fbcbf",
   "metadata": {
    "papermill": {
     "duration": 0.007917,
     "end_time": "2025-02-28T12:34:36.082841",
     "exception": false,
     "start_time": "2025-02-28T12:34:36.074924",
     "status": "completed"
    },
    "tags": []
   },
   "source": [
    "# **Q. In ECG signal which part is annotated**\n",
    "\n",
    "In the **PhysioNet MIT-BIH Arrhythmia Dataset**, the **R-peaks (QRS complex)** of the ECG signal are annotated. Each heartbeat in the signal is labeled with its corresponding **arrhythmia class** based on the location of the **R-peak** (which represents ventricular depolarization).  \n",
    "\n",
    "## **Key Annotations in the Dataset**\n",
    "Each ECG recording comes with annotation files (`.atr`) that contain:\n",
    "1. **R-peak Locations**: The dataset provides timestamps (in sample indices) where the **R-peaks** occur in the ECG signal.\n",
    "2. **Beat Types (Class Labels)**: Each detected beat is labeled with one of the arrhythmia types (e.g., normal, PVC, PAC, etc.).\n",
    "3. **Rhythm Annotations**: Some recordings also contain information about rhythm abnormalities (e.g., atrial fibrillation, ventricular fibrillation).\n",
    "4. **Other Markers**: Information about noise, pacing, and other events in the ECG signal.\n",
    "\n",
    "## **Example of Annotations**\n",
    "Annotations are provided in the form of:\n",
    "- **Time (in samples) of R-peak occurrences**\n",
    "- **Class label for the heartbeat**\n",
    "- **Additional markers for rhythm events**\n",
    "\n",
    "For example, a small annotation file might look like:\n",
    "\n",
    "1. 1024 N \n",
    "2. 2048 V \n",
    "3. 3072 N \n",
    "4. 4096 F\n",
    "\n",
    "This means:\n",
    "- At sample **1024**, a **Normal (N)** beat was detected.\n",
    "- At sample **2048**, a **Ventricular Ectopic Beat (V)** was detected.\n",
    "- At sample **3072**, a **Normal (N)** beat was detected.\n",
    "- At sample **4096**, a **Fusion (F)** beat was detected.\n",
    "\n",
    "## **How to Access Annotations?**\n",
    "To read the annotations programmatically, you can use the `wfdb` library in Python:\n",
    "\n",
    "```python\n",
    "import wfdb\n",
    "\n",
    "# Load annotations\n",
    "record_name = '100'  # Example record from the dataset\n",
    "annotation = wfdb.rdann(f'mit-bih-arrhythmia-database/{record_name}', 'atr')\n",
    "\n",
    "# Get R-peak locations and corresponding labels\n",
    "r_peaks = annotation.sample\n",
    "labels = annotation.symbol  # These are the beat labels\n",
    "\n",
    "print(\"R-Peak Locations:\", r_peaks)\n",
    "print(\"Beat Labels:\", labels)\n",
    "\n"
   ]
  },
  {
   "cell_type": "markdown",
   "id": "66ca3221",
   "metadata": {
    "papermill": {
     "duration": 0.007708,
     "end_time": "2025-02-28T12:34:36.098697",
     "exception": false,
     "start_time": "2025-02-28T12:34:36.090989",
     "status": "completed"
    },
    "tags": []
   },
   "source": [
    "# **Q. Why is the R-peak the only annotated part in ECG signals?**\n",
    "\n",
    "Doctors annotate only the **R-peaks** in ECG signals for arrhythmia classification because the **R-peak is the most prominent and stable feature of the QRS complex**, making it the best reference point for analyzing heartbeats. Here’s why:  \n",
    "\n",
    "## **1. The R-Peak is the Most Distinctive Feature**  \n",
    "- The **QRS complex** represents **ventricular depolarization**, which is the most significant event in an ECG cycle.  \n",
    "- The **R-wave is the highest peak**, making it easy to detect and less prone to noise compared to other parts of the ECG.  \n",
    "\n",
    "## **2. Heartbeat Segmentation is Centered Around the R-Peak**  \n",
    "- The ECG is **naturally periodic**, with one cycle repeating after each heartbeat.  \n",
    "- By marking the **R-peaks**, doctors can segment the ECG into individual beats, making it easier to classify normal and abnormal patterns.  \n",
    "\n",
    "## **3. Different Arrhythmias Have Unique QRS Complexes**  \n",
    "- Arrhythmias cause changes in the **shape, width, and timing** of the QRS complex.  \n",
    "- The **R-peak location and surrounding QRS morphology** provide enough information to identify different types of arrhythmias.  \n",
    "\n",
    "## **4. Stable and Reliable for Automated Detection**  \n",
    "- The P-wave (atrial activity) and T-wave (ventricular repolarization) are smaller and can be affected by noise or overlapping signals.  \n",
    "- The R-peak is **sharp and high in amplitude**, making it easier for automated algorithms to detect with high accuracy.  \n",
    "\n",
    "## **5. Efficient Manual Annotation**  \n",
    "- Instead of marking every wave (P, Q, R, S, T), marking just the **R-peak and labeling the beat type** is much faster and still provides sufficient diagnostic information.  \n",
    "\n",
    "## **Conclusion**  \n",
    "Annotating only the **R-peaks** allows for efficient **heartbeat classification, rhythm analysis, and arrhythmia detection**, without unnecessary complexity. Doctors focus on the **intervals and variations around R-peaks** to detect abnormalities like **bradycardia, tachycardia, atrial fibrillation, and ventricular arrhythmias**.  \n"
   ]
  },
  {
   "cell_type": "markdown",
   "id": "d8d8dea2",
   "metadata": {
    "papermill": {
     "duration": 0.007738,
     "end_time": "2025-02-28T12:34:36.114266",
     "exception": false,
     "start_time": "2025-02-28T12:34:36.106528",
     "status": "completed"
    },
    "tags": []
   },
   "source": [
    "# **Q. In MIT-BIH Arrhythmia, what is the meaning of Arrhythmia?**\n",
    "\n",
    "**Arrhythmia** is a medical term that refers to an **irregular heartbeat or abnormal heart rhythm**. It occurs when the electrical signals that control the heartbeat are disrupted, causing the heart to beat **too fast (tachycardia), too slow (bradycardia), or irregularly**.  \n",
    "\n",
    "## **Types of Arrhythmias**  \n",
    "1. **Bradycardia (Slow Heart Rate)**\n",
    "   - Heart rate **below 60 beats per minute (bpm)**.\n",
    "   - Example: **Sinus Bradycardia**, **Heart Block**.\n",
    "\n",
    "2. **Tachycardia (Fast Heart Rate)**\n",
    "   - Heart rate **above 100 bpm**.\n",
    "   - Example: **Supraventricular Tachycardia (SVT)**, **Ventricular Tachycardia**.\n",
    "\n",
    "3. **Irregular Heart Rhythms**\n",
    "   - **Atrial Fibrillation (AFib):** The atria beat chaotically instead of in a regular rhythm.\n",
    "   - **Ventricular Fibrillation (VFib):** Life-threatening condition where the ventricles quiver instead of pumping blood properly.\n",
    "\n",
    "4. **Premature Beats (Extra or Skipped Beats)**\n",
    "   - **Premature Atrial Contractions (PACs):** Early beats from the atria.\n",
    "   - **Premature Ventricular Contractions (PVCs):** Early beats from the ventricles.\n",
    "\n",
    "## **Causes of Arrhythmia**  \n",
    "- Heart disease  \n",
    "- High blood pressure  \n",
    "- Electrolyte imbalances (e.g., potassium, calcium)  \n",
    "- Stress or anxiety  \n",
    "- Excess caffeine, alcohol, or smoking  \n",
    "- Medication side effects  \n",
    "\n",
    "## **Why is Arrhythmia Important in ECG Analysis?**  \n",
    "Arrhythmias can **increase the risk of stroke, heart failure, or sudden cardiac arrest**, making their early detection via **ECG analysis** critical. The **MIT-BIH Arrhythmia Dataset** helps in training AI models to classify different types of arrhythmias from ECG signals.  \n"
   ]
  },
  {
   "cell_type": "markdown",
   "id": "a0719e2c",
   "metadata": {
    "papermill": {
     "duration": 0.007976,
     "end_time": "2025-02-28T12:34:36.130440",
     "exception": false,
     "start_time": "2025-02-28T12:34:36.122464",
     "status": "completed"
    },
    "tags": []
   },
   "source": [
    "# **Q. Why do we consider some part before the R-peak and some part after the R-peak in ECG beat classification? Why?**\n",
    "\n",
    "We consider **some part before and some part after the R-peak** in ECG beat classification because a **complete heartbeat (P-QRS-T complex) provides critical information for identifying different arrhythmias**. The **R-peak is used as a reference point**, but we need a window around it to capture the full beat structure.  \n",
    "\n",
    "---\n",
    "\n",
    "## **Reasons for Using a Window Around the R-Peak**  \n",
    "\n",
    "### **1. To Capture the Full Heartbeat Cycle (P-QRS-T Complex)**\n",
    "- The **P-wave (before R-peak)** represents **atrial activity**. Some arrhythmias, like **atrial fibrillation**, are detected here.  \n",
    "- The **QRS complex (centered on R-peak)** represents **ventricular activity**. It is critical for detecting **PVCs, bundle branch blocks, and conduction issues**.  \n",
    "- The **T-wave (after R-peak)** represents **ventricular repolarization**, which is useful for detecting **ischemia, QT prolongation, and electrolyte imbalances**.  \n",
    "\n",
    "Without including both **before and after R-peak**, we would **miss** key features of abnormal beats.  \n",
    "\n",
    "---\n",
    "\n",
    "### **2. Arrhythmias Affect Different Parts of the Beat**\n",
    "- **Before R-Peak (P-wave and Q-wave)**\n",
    "  - Helps detect **atrial arrhythmias** like atrial fibrillation (AFib), atrial flutter, or premature atrial contractions (PACs).  \n",
    "  - Missing this region may cause misclassification.  \n",
    "\n",
    "- **After R-Peak (S-wave and T-wave)**\n",
    "  - Important for detecting **ventricular repolarization issues**, such as **long QT syndrome, ischemia, or ventricular arrhythmias**.  \n",
    "\n",
    "Example:  \n",
    "A **Premature Ventricular Contraction (PVC)** has a **wide QRS complex with abnormal repolarization**. If we only focus on the **R-peak**, we might misclassify it as a normal beat.  \n",
    "\n",
    "---\n",
    "\n",
    "### **3. ECG Beats are Not Perfectly Aligned in Time**\n",
    "- Heart rate is **not constant**, and the spacing between beats varies.  \n",
    "- If we extract only a **fixed interval after R-peak**, we might cut off parts of the P-wave or T-wave in different beats.  \n",
    "- A **balanced window (before & after R-peak)** ensures we always get a **consistent** representation of each heartbeat.  \n",
    "\n",
    "---\n",
    "\n",
    "### **4. Noise and Misalignment Issues**\n",
    "- The **R-peak is the most stable point**, but the **P-wave and T-wave positions can vary** due to heart rate fluctuations.  \n",
    "- Capturing a **window around R-peak** ensures that minor shifts in heart rate do not affect classification accuracy.  \n",
    "\n",
    "---\n",
    "\n",
    "### **Typical Segmentation Strategy**\n",
    "- **100–200 ms before R-peak** → Captures **P-wave and start of QRS**.  \n",
    "- **200–400 ms after R-peak** → Captures **QRS completion, S-wave, and T-wave**.  \n",
    "\n",
    "This ensures that **every beat includes complete information for classification**.  \n",
    "\n",
    "---\n",
    "\n",
    "### **Conclusion**\n",
    "We take **some part before and some part after the R-peak** because:\n",
    "✅ It ensures we capture **P-QRS-T** (the full heartbeat).  \n",
    "✅ It helps detect **both atrial and ventricular arrhythmias**.  \n",
    "✅ It compensates for **heartbeat variability** and **ECG noise**.  \n",
    "✅ It improves **classification accuracy** by providing a full beat context.  "
   ]
  },
  {
   "cell_type": "markdown",
   "id": "265031cc",
   "metadata": {
    "papermill": {
     "duration": 0.007665,
     "end_time": "2025-02-28T12:34:36.146272",
     "exception": false,
     "start_time": "2025-02-28T12:34:36.138607",
     "status": "completed"
    },
    "tags": []
   },
   "source": [
    "# **Dataset Preparation**"
   ]
  },
  {
   "cell_type": "markdown",
   "id": "a7cb5abc",
   "metadata": {
    "papermill": {
     "duration": 0.008076,
     "end_time": "2025-02-28T12:34:36.162608",
     "exception": false,
     "start_time": "2025-02-28T12:34:36.154532",
     "status": "completed"
    },
    "tags": []
   },
   "source": [
    "### Install `wfdb` Library\n",
    "\n",
    "This code installs the `wfdb` Python library, which is used for reading, writing, and processing physiological signal data (such as ECG or other bio-signals). \n",
    "\n",
    "- The `!pip install -q wfdb` command is used to install the `wfdb` library via pip in a Jupyter notebook or similar environment.\n",
    "- The `-q` flag stands for \"quiet\" mode, which suppresses most of the installation output for a cleaner experience.\n",
    "  \n",
    "By running this cell, the `wfdb` library will be available for use in subsequent code cells.\n"
   ]
  },
  {
   "cell_type": "code",
   "execution_count": 1,
   "id": "14ebbce9",
   "metadata": {
    "execution": {
     "iopub.execute_input": "2025-02-28T12:34:36.180372Z",
     "iopub.status.busy": "2025-02-28T12:34:36.180011Z",
     "iopub.status.idle": "2025-02-28T12:34:41.013586Z",
     "shell.execute_reply": "2025-02-28T12:34:41.012501Z"
    },
    "papermill": {
     "duration": 4.844359,
     "end_time": "2025-02-28T12:34:41.015260",
     "exception": false,
     "start_time": "2025-02-28T12:34:36.170901",
     "status": "completed"
    },
    "tags": []
   },
   "outputs": [
    {
     "name": "stdout",
     "output_type": "stream",
     "text": [
      "\u001b[2K   \u001b[90m━━━━━━━━━━━━━━━━━━━━━━━━━━━━━━━━━━━━━━━━\u001b[0m \u001b[32m162.3/162.3 kB\u001b[0m \u001b[31m3.6 MB/s\u001b[0m eta \u001b[36m0:00:00\u001b[0m\r\n",
      "\u001b[?25h"
     ]
    }
   ],
   "source": [
    "!pip install -q wfdb"
   ]
  },
  {
   "cell_type": "markdown",
   "id": "744b1266",
   "metadata": {
    "papermill": {
     "duration": 0.008215,
     "end_time": "2025-02-28T12:34:41.032428",
     "exception": false,
     "start_time": "2025-02-28T12:34:41.024213",
     "status": "completed"
    },
    "tags": []
   },
   "source": [
    "### Import library"
   ]
  },
  {
   "cell_type": "code",
   "execution_count": 2,
   "id": "9d4d3233",
   "metadata": {
    "execution": {
     "iopub.execute_input": "2025-02-28T12:34:41.050150Z",
     "iopub.status.busy": "2025-02-28T12:34:41.049870Z",
     "iopub.status.idle": "2025-02-28T12:34:54.567036Z",
     "shell.execute_reply": "2025-02-28T12:34:54.566342Z"
    },
    "papermill": {
     "duration": 13.528181,
     "end_time": "2025-02-28T12:34:54.568899",
     "exception": false,
     "start_time": "2025-02-28T12:34:41.040718",
     "status": "completed"
    },
    "tags": []
   },
   "outputs": [],
   "source": [
    "import os\n",
    "import wfdb\n",
    "import numpy as np\n",
    "import pandas as pd\n",
    "from scipy.signal import resample\n",
    "import matplotlib.pyplot as plt\n",
    "from scipy.interpolate import interp1d\n",
    "from sklearn.model_selection import train_test_split\n",
    "\n",
    "import keras\n",
    "from keras.models import Sequential, Model\n",
    "from keras.layers import Conv1D, AvgPool1D, MaxPooling1D, Flatten, Dense, Dropout, Softmax, Concatenate\n",
    "from tensorflow.keras.callbacks import EarlyStopping, ModelCheckpoint\n",
    "from keras.layers import BatchNormalization\n",
    "from keras.optimizers import Adam \n",
    "import tensorflow as tf\n",
    "from tensorflow.keras.utils import to_categorical\n",
    "from tensorflow.keras.utils import plot_model\n",
    "from keras import regularizers\n",
    "from sklearn.preprocessing import StandardScaler"
   ]
  },
  {
   "cell_type": "markdown",
   "id": "d2e6831f",
   "metadata": {
    "papermill": {
     "duration": 0.007905,
     "end_time": "2025-02-28T12:34:54.585215",
     "exception": false,
     "start_time": "2025-02-28T12:34:54.577310",
     "status": "completed"
    },
    "tags": []
   },
   "source": [
    "## *Datasets*\n",
    "\n",
    "### 1. [MIT-BIH Arrhythmia Database](https://physionet.org/content/mitdb/1.0.0/)\n",
    "- *Description:* Contains normal sinus rhythm ECG signals.  \n",
    "- *Sampling Frequency:* 360 Hz.  \n",
    "- *Leads:* MLII and V1.  \n",
    "- *Files:*\n",
    "  - .atr → Annotation file.  \n",
    "  - .dat → Information about the beats.  \n",
    "  - .header → Metadata of the file record.\n"
   ]
  },
  {
   "cell_type": "code",
   "execution_count": 3,
   "id": "348fcc75",
   "metadata": {
    "execution": {
     "iopub.execute_input": "2025-02-28T12:34:54.602678Z",
     "iopub.status.busy": "2025-02-28T12:34:54.602163Z",
     "iopub.status.idle": "2025-02-28T12:34:54.624865Z",
     "shell.execute_reply": "2025-02-28T12:34:54.624129Z"
    },
    "papermill": {
     "duration": 0.032593,
     "end_time": "2025-02-28T12:34:54.626036",
     "exception": false,
     "start_time": "2025-02-28T12:34:54.593443",
     "status": "completed"
    },
    "tags": []
   },
   "outputs": [
    {
     "name": "stdout",
     "output_type": "stream",
     "text": [
      "['100', '101', '102', '103', '104', '105', '106', '107', '108', '109', '111', '112', '113', '114', '115', '116', '117', '118', '119', '121', '122', '123', '124', '200', '201', '202', '203', '205', '207', '208', '209', '210', '212', '213', '214', '215', '217', '219', '220', '221', '222', '223', '228', '230', '231', '232', '233', '234']\n"
     ]
    }
   ],
   "source": [
    "# Define the file path\n",
    "file_path = \"/kaggle/input/mit-ar/mit-bih-arrhythmia-database-1.0.0/RECORDS\"\n",
    "\n",
    "try:\n",
    "    # Open the file and read all lines\n",
    "    with open(file_path, \"r\") as file:\n",
    "        lines = file.readlines()\n",
    "\n",
    "    # Clean the data by removing any leading/trailing whitespace\n",
    "    cleaned_data = [line.strip() for line in lines]\n",
    "\n",
    "    # Display the cleaned data\n",
    "    print(cleaned_data)\n",
    "\n",
    "except FileNotFoundError:\n",
    "    print(f\"Error: The file '{file_path}' was not found.\")\n",
    "except Exception as e:\n",
    "    print(f\"An error occurred: {e}\")"
   ]
  },
  {
   "cell_type": "code",
   "execution_count": 4,
   "id": "3123a5f1",
   "metadata": {
    "execution": {
     "iopub.execute_input": "2025-02-28T12:34:54.643144Z",
     "iopub.status.busy": "2025-02-28T12:34:54.642932Z",
     "iopub.status.idle": "2025-02-28T12:34:54.648248Z",
     "shell.execute_reply": "2025-02-28T12:34:54.647579Z"
    },
    "papermill": {
     "duration": 0.015023,
     "end_time": "2025-02-28T12:34:54.649407",
     "exception": false,
     "start_time": "2025-02-28T12:34:54.634384",
     "status": "completed"
    },
    "tags": []
   },
   "outputs": [],
   "source": [
    "def extract_beats_from_multiple_files(record_list):\n",
    "\n",
    "    beat_labels = []\n",
    "    beats = []\n",
    "    resampled_beats = []\n",
    "    for name in record_list:\n",
    "        record_name = f\"/kaggle/input/mit-ar/mit-bih-arrhythmia-database-1.0.0/{name}\"  # Change this based on your dataset\n",
    "        record = wfdb.rdrecord(record_name, channels=[0])  # Load lead 0\n",
    "        annotation = wfdb.rdann(record_name, 'atr')\n",
    "\n",
    "        # Extract signal and sampling frequency\n",
    "        signal = record.p_signal.flatten()  # Convert 2D signal to 1D\n",
    "        fs = record.fs  # Original sampling rate (usually 360 Hz)\n",
    "        target_fs = 125  # Target sampling rate\n",
    "        \n",
    "        # Get R-peak locations and annotations\n",
    "        r_peaks = annotation.sample  # Index positions of detected R-peaks\n",
    "        labels = annotation.symbol   # Corresponding beat labels\n",
    "        \n",
    "        window_size = int(0.6 * fs)\n",
    "        for i in range(1, len(r_peaks) - 1):  # Ignore first & last beats\n",
    "            start = max(0, r_peaks[i] - window_size // 2)\n",
    "            end = min(len(signal), r_peaks[i] + window_size // 2)\n",
    "            beat = signal[start:end]  # Extract the beat segment\n",
    "            \n",
    "            # Resample to 125 Hz\n",
    "            num_samples = int(len(beat) * (target_fs / fs))\n",
    "            # print(num_samples)\n",
    "            resampled_beat = resample(beat, num_samples)\n",
    "        \n",
    "            beats.append(beat)\n",
    "            resampled_beats.append(resampled_beat)\n",
    "            beat_labels.append(labels[i])\n",
    "\n",
    "    return beat_labels, beats, resampled_beats\n",
    "\n"
   ]
  },
  {
   "cell_type": "code",
   "execution_count": 5,
   "id": "dca6c8f3",
   "metadata": {
    "execution": {
     "iopub.execute_input": "2025-02-28T12:34:54.666510Z",
     "iopub.status.busy": "2025-02-28T12:34:54.666274Z",
     "iopub.status.idle": "2025-02-28T12:35:01.963216Z",
     "shell.execute_reply": "2025-02-28T12:35:01.962178Z"
    },
    "papermill": {
     "duration": 7.307129,
     "end_time": "2025-02-28T12:35:01.964941",
     "exception": false,
     "start_time": "2025-02-28T12:34:54.657812",
     "status": "completed"
    },
    "tags": []
   },
   "outputs": [],
   "source": [
    "beat_labels, beats, resampled_beats = extract_beats_from_multiple_files(cleaned_data)"
   ]
  },
  {
   "cell_type": "code",
   "execution_count": 6,
   "id": "d02c61a5",
   "metadata": {
    "execution": {
     "iopub.execute_input": "2025-02-28T12:35:01.983050Z",
     "iopub.status.busy": "2025-02-28T12:35:01.982772Z",
     "iopub.status.idle": "2025-02-28T12:35:01.987405Z",
     "shell.execute_reply": "2025-02-28T12:35:01.986574Z"
    },
    "papermill": {
     "duration": 0.014869,
     "end_time": "2025-02-28T12:35:01.988738",
     "exception": false,
     "start_time": "2025-02-28T12:35:01.973869",
     "status": "completed"
    },
    "tags": []
   },
   "outputs": [
    {
     "name": "stdout",
     "output_type": "stream",
     "text": [
      "Number of beat labels: 112551\n",
      "Number of beats: 112551\n",
      "Number of resampled beats: 112551\n"
     ]
    }
   ],
   "source": [
    "print(f\"Number of beat labels: {len(beat_labels)}\")\n",
    "print(f\"Number of beats: {len(beats)}\")\n",
    "print(f\"Number of resampled beats: {len(resampled_beats)}\")\n"
   ]
  },
  {
   "cell_type": "code",
   "execution_count": 7,
   "id": "131e321c",
   "metadata": {
    "execution": {
     "iopub.execute_input": "2025-02-28T12:35:02.005910Z",
     "iopub.status.busy": "2025-02-28T12:35:02.005699Z",
     "iopub.status.idle": "2025-02-28T12:35:02.037666Z",
     "shell.execute_reply": "2025-02-28T12:35:02.036959Z"
    },
    "papermill": {
     "duration": 0.041747,
     "end_time": "2025-02-28T12:35:02.038841",
     "exception": false,
     "start_time": "2025-02-28T12:35:01.997094",
     "status": "completed"
    },
    "tags": []
   },
   "outputs": [
    {
     "name": "stdout",
     "output_type": "stream",
     "text": [
      "{64, 65, 66, 68, 69, 70, 71, 75, 45, 47, 52, 53, 54, 57, 61, 62, 63}\n"
     ]
    }
   ],
   "source": [
    "len_beats = []\n",
    "for beat in resampled_beats:\n",
    "    len_beats.append(len(beat))\n",
    "\n",
    "print(set(len_beats))"
   ]
  },
  {
   "cell_type": "code",
   "execution_count": 8,
   "id": "c0e461c6",
   "metadata": {
    "execution": {
     "iopub.execute_input": "2025-02-28T12:35:02.056100Z",
     "iopub.status.busy": "2025-02-28T12:35:02.055886Z",
     "iopub.status.idle": "2025-02-28T12:35:02.111697Z",
     "shell.execute_reply": "2025-02-28T12:35:02.110861Z"
    },
    "papermill": {
     "duration": 0.06577,
     "end_time": "2025-02-28T12:35:02.112968",
     "exception": false,
     "start_time": "2025-02-28T12:35:02.047198",
     "status": "completed"
    },
    "tags": []
   },
   "outputs": [
    {
     "name": "stdout",
     "output_type": "stream",
     "text": [
      "Valid beat lengths encountered: {64, 65, 66, 68, 69, 70, 71, 75, 45, 47, 52, 53, 54, 57, 61, 62, 63}\n",
      "Count of beats by length: {64: 1, 65: 1, 66: 1, 68: 1, 69: 1, 70: 2, 71: 1, 75: 112532, 45: 1, 47: 1, 52: 1, 53: 1, 54: 1, 57: 2, 61: 2, 62: 1, 63: 1}\n"
     ]
    }
   ],
   "source": [
    "# Define the set of valid lengths\n",
    "valid_lengths = {64, 65, 66, 68, 69, 70, 71, 75, 45, 47, 52, 53, 54, 57, 61, 62, 63}\n",
    "\n",
    "# Initialize counters and beat_set\n",
    "count_dict = {length: 0 for length in valid_lengths}\n",
    "beat_set = list()\n",
    "\n",
    "# Iterate over resampled beats and count occurrences of valid lengths\n",
    "for beat in resampled_beats:\n",
    "    beat_len = len(beat)\n",
    "    if beat_len in valid_lengths:\n",
    "        count_dict[beat_len] += 1\n",
    "    beat_set.append(beat_len)\n",
    "\n",
    "# Convert beat_set to a set to get unique lengths\n",
    "beat_set = set(beat_set)\n",
    "\n",
    "# Print the results\n",
    "print(f\"Valid beat lengths encountered: {beat_set}\")\n",
    "print(f\"Count of beats by length: {count_dict}\")\n"
   ]
  },
  {
   "cell_type": "code",
   "execution_count": 9,
   "id": "e9ca89a2",
   "metadata": {
    "execution": {
     "iopub.execute_input": "2025-02-28T12:35:02.131369Z",
     "iopub.status.busy": "2025-02-28T12:35:02.131110Z",
     "iopub.status.idle": "2025-02-28T12:35:02.178119Z",
     "shell.execute_reply": "2025-02-28T12:35:02.177371Z"
    },
    "papermill": {
     "duration": 0.057841,
     "end_time": "2025-02-28T12:35:02.179550",
     "exception": false,
     "start_time": "2025-02-28T12:35:02.121709",
     "status": "completed"
    },
    "tags": []
   },
   "outputs": [
    {
     "name": "stdout",
     "output_type": "stream",
     "text": [
      "Number of beats with length 75: 112532\n",
      "Corresponding labels for length 75 beats: ['N', 'N', 'N', 'N', 'N', 'N', 'A', 'N', 'N', 'N']\n"
     ]
    }
   ],
   "source": [
    "# Initialize a list to store the beats and their corresponding labels\n",
    "filtered_beats = []\n",
    "filtered_labels = []\n",
    "\n",
    "# Loop through both resampled_beats and beat_labels simultaneously\n",
    "for beat, label in zip(resampled_beats, beat_labels):\n",
    "    if len(beat) == 75:\n",
    "        filtered_beats.append(beat)\n",
    "        filtered_labels.append(label)\n",
    "\n",
    "# Print the results\n",
    "print(f\"Number of beats with length 75: {len(filtered_beats)}\")\n",
    "print(f\"Corresponding labels for length 75 beats: {filtered_labels[:10]}\")  # Display the first 10 labels as a sample\n"
   ]
  },
  {
   "cell_type": "code",
   "execution_count": 10,
   "id": "f627524d",
   "metadata": {
    "execution": {
     "iopub.execute_input": "2025-02-28T12:35:02.197033Z",
     "iopub.status.busy": "2025-02-28T12:35:02.196820Z",
     "iopub.status.idle": "2025-02-28T12:35:02.201314Z",
     "shell.execute_reply": "2025-02-28T12:35:02.200670Z"
    },
    "papermill": {
     "duration": 0.014627,
     "end_time": "2025-02-28T12:35:02.202664",
     "exception": false,
     "start_time": "2025-02-28T12:35:02.188037",
     "status": "completed"
    },
    "tags": []
   },
   "outputs": [],
   "source": [
    "def process_and_save_beats(resampled_beats, labels):\n",
    "    # Convert resampled_beats and labels to numpy arrays\n",
    "    resampled_beats = np.array(resampled_beats)\n",
    "    labels = np.array(labels)\n",
    "\n",
    "    # Print the shapes of resampled_beats and labels to check their dimensions\n",
    "    print(f\"Shape of resampled beats: {resampled_beats.shape}\")\n",
    "    print(f\"Shape of labels: {labels.shape}\")\n",
    "\n",
    "    # Combine each resampled beat with its corresponding label\n",
    "    resampled_beats_with_labels = [\n",
    "        np.append(resampled_beats[i], labels[i]) for i in range(len(resampled_beats))\n",
    "    ]\n",
    "\n",
    "    # Convert the combined list into a numpy array with dtype=object to handle varying lengths\n",
    "    resampled_beats_with_labels = np.array(resampled_beats_with_labels, dtype=object)\n",
    "\n",
    "    # Print the shape of the combined data (beats + labels)\n",
    "    print(f\"Shape of resampled beats with labels: {resampled_beats_with_labels.shape}\")\n",
    "\n",
    "    # Create a pandas DataFrame from the combined data\n",
    "    data = pd.DataFrame(resampled_beats_with_labels)\n",
    "    \n",
    "    # Print the unique labels present in the last column (labels column)\n",
    "    print(f\"Unique labels in the dataset: {np.unique(data.iloc[:, -1])}\")\n",
    "\n",
    "    return data"
   ]
  },
  {
   "cell_type": "code",
   "execution_count": 11,
   "id": "ae1d4137",
   "metadata": {
    "execution": {
     "iopub.execute_input": "2025-02-28T12:35:02.220043Z",
     "iopub.status.busy": "2025-02-28T12:35:02.219810Z",
     "iopub.status.idle": "2025-02-28T12:35:11.886923Z",
     "shell.execute_reply": "2025-02-28T12:35:11.886016Z"
    },
    "papermill": {
     "duration": 9.67727,
     "end_time": "2025-02-28T12:35:11.888264",
     "exception": false,
     "start_time": "2025-02-28T12:35:02.210994",
     "status": "completed"
    },
    "tags": []
   },
   "outputs": [
    {
     "name": "stdout",
     "output_type": "stream",
     "text": [
      "Shape of resampled beats: (112532, 75)\n",
      "Shape of labels: (112532,)\n",
      "Shape of resampled beats with labels: (112532, 76)\n",
      "Unique labels in the dataset: ['!' '\"' '+' '/' 'A' 'E' 'F' 'J' 'L' 'N' 'Q' 'R' 'S' 'V' '[' ']' 'a' 'e'\n",
      " 'f' 'j' 'x' '|' '~']\n"
     ]
    },
    {
     "data": {
      "text/html": [
       "<div>\n",
       "<style scoped>\n",
       "    .dataframe tbody tr th:only-of-type {\n",
       "        vertical-align: middle;\n",
       "    }\n",
       "\n",
       "    .dataframe tbody tr th {\n",
       "        vertical-align: top;\n",
       "    }\n",
       "\n",
       "    .dataframe thead th {\n",
       "        text-align: right;\n",
       "    }\n",
       "</style>\n",
       "<table border=\"1\" class=\"dataframe\">\n",
       "  <thead>\n",
       "    <tr style=\"text-align: right;\">\n",
       "      <th></th>\n",
       "      <th>0</th>\n",
       "      <th>1</th>\n",
       "      <th>2</th>\n",
       "      <th>3</th>\n",
       "      <th>4</th>\n",
       "      <th>5</th>\n",
       "      <th>6</th>\n",
       "      <th>7</th>\n",
       "      <th>8</th>\n",
       "      <th>9</th>\n",
       "      <th>...</th>\n",
       "      <th>66</th>\n",
       "      <th>67</th>\n",
       "      <th>68</th>\n",
       "      <th>69</th>\n",
       "      <th>70</th>\n",
       "      <th>71</th>\n",
       "      <th>72</th>\n",
       "      <th>73</th>\n",
       "      <th>74</th>\n",
       "      <th>75</th>\n",
       "    </tr>\n",
       "  </thead>\n",
       "  <tbody>\n",
       "    <tr>\n",
       "      <th>0</th>\n",
       "      <td>-0.35911538024258877</td>\n",
       "      <td>-0.2903786204332479</td>\n",
       "      <td>-0.3235733598985074</td>\n",
       "      <td>-0.30721786700984627</td>\n",
       "      <td>-0.3166447222092403</td>\n",
       "      <td>-0.32163697729774454</td>\n",
       "      <td>-0.3060665559763355</td>\n",
       "      <td>-0.3025992425509998</td>\n",
       "      <td>-0.29850192409518883</td>\n",
       "      <td>-0.29965905000702686</td>\n",
       "      <td>...</td>\n",
       "      <td>-0.4140518421452742</td>\n",
       "      <td>-0.43184737104296</td>\n",
       "      <td>-0.42529645313341974</td>\n",
       "      <td>-0.4502391038929214</td>\n",
       "      <td>-0.44188527823681517</td>\n",
       "      <td>-0.46139015796348526</td>\n",
       "      <td>-0.45503869957521725</td>\n",
       "      <td>-0.46450236640111797</td>\n",
       "      <td>-0.45894928801828405</td>\n",
       "      <td>N</td>\n",
       "    </tr>\n",
       "    <tr>\n",
       "      <th>1</th>\n",
       "      <td>-0.33159005201620695</td>\n",
       "      <td>-0.35915129908132676</td>\n",
       "      <td>-0.3427193114111601</td>\n",
       "      <td>-0.347785456860998</td>\n",
       "      <td>-0.3296094445027253</td>\n",
       "      <td>-0.3485099141395304</td>\n",
       "      <td>-0.3376696862022902</td>\n",
       "      <td>-0.34932634929774764</td>\n",
       "      <td>-0.34056383184892774</td>\n",
       "      <td>-0.33845006166045705</td>\n",
       "      <td>...</td>\n",
       "      <td>-0.4102524695287548</td>\n",
       "      <td>-0.41172384793553984</td>\n",
       "      <td>-0.4231270883876285</td>\n",
       "      <td>-0.4147749022885177</td>\n",
       "      <td>-0.43443828243288607</td>\n",
       "      <td>-0.4162977551052533</td>\n",
       "      <td>-0.4262132806445661</td>\n",
       "      <td>-0.3988064338505317</td>\n",
       "      <td>-0.3747221898111922</td>\n",
       "      <td>N</td>\n",
       "    </tr>\n",
       "    <tr>\n",
       "      <th>2</th>\n",
       "      <td>-0.3596935821417594</td>\n",
       "      <td>-0.36285849101926165</td>\n",
       "      <td>-0.35601219242087645</td>\n",
       "      <td>-0.353828777951019</td>\n",
       "      <td>-0.3492710535714224</td>\n",
       "      <td>-0.35879707260530647</td>\n",
       "      <td>-0.36390313778474753</td>\n",
       "      <td>-0.36712253604991446</td>\n",
       "      <td>-0.35674189358235625</td>\n",
       "      <td>-0.3619787734082352</td>\n",
       "      <td>...</td>\n",
       "      <td>-0.3745933773098115</td>\n",
       "      <td>-0.3875174304201594</td>\n",
       "      <td>-0.3734830747955423</td>\n",
       "      <td>-0.3847803526473663</td>\n",
       "      <td>-0.36635053637419135</td>\n",
       "      <td>-0.3949238282815594</td>\n",
       "      <td>-0.36635524062294295</td>\n",
       "      <td>-0.36943749766214684</td>\n",
       "      <td>-0.3121596407616159</td>\n",
       "      <td>N</td>\n",
       "    </tr>\n",
       "    <tr>\n",
       "      <th>3</th>\n",
       "      <td>-0.3399810340653625</td>\n",
       "      <td>-0.3526477370395955</td>\n",
       "      <td>-0.3511859072939032</td>\n",
       "      <td>-0.35017091542662965</td>\n",
       "      <td>-0.33906944113982057</td>\n",
       "      <td>-0.36064727722856105</td>\n",
       "      <td>-0.3547354434501923</td>\n",
       "      <td>-0.34947998991525436</td>\n",
       "      <td>-0.33529009561373446</td>\n",
       "      <td>-0.3370531001138716</td>\n",
       "      <td>...</td>\n",
       "      <td>-0.4244962655472517</td>\n",
       "      <td>-0.4301420612465175</td>\n",
       "      <td>-0.44710827873955056</td>\n",
       "      <td>-0.45251481542999544</td>\n",
       "      <td>-0.45250956037258727</td>\n",
       "      <td>-0.425351878024515</td>\n",
       "      <td>-0.4513674132229852</td>\n",
       "      <td>-0.41489966340466267</td>\n",
       "      <td>-0.4209234494557653</td>\n",
       "      <td>N</td>\n",
       "    </tr>\n",
       "    <tr>\n",
       "      <th>4</th>\n",
       "      <td>-0.3663167270125467</td>\n",
       "      <td>-0.3323091931906461</td>\n",
       "      <td>-0.33561089001957567</td>\n",
       "      <td>-0.32193201931728943</td>\n",
       "      <td>-0.32944704829527227</td>\n",
       "      <td>-0.3308040093297393</td>\n",
       "      <td>-0.3366297248977422</td>\n",
       "      <td>-0.3323477140551532</td>\n",
       "      <td>-0.33261758384779977</td>\n",
       "      <td>-0.3415889164470717</td>\n",
       "      <td>...</td>\n",
       "      <td>-0.39347622348269307</td>\n",
       "      <td>-0.42385676612604817</td>\n",
       "      <td>-0.40987354350019833</td>\n",
       "      <td>-0.4404408562099744</td>\n",
       "      <td>-0.4309774065376857</td>\n",
       "      <td>-0.4459936752478342</td>\n",
       "      <td>-0.43636271334992255</td>\n",
       "      <td>-0.4455390307034217</td>\n",
       "      <td>-0.42434810225359476</td>\n",
       "      <td>N</td>\n",
       "    </tr>\n",
       "  </tbody>\n",
       "</table>\n",
       "<p>5 rows × 76 columns</p>\n",
       "</div>"
      ],
      "text/plain": [
       "                     0                     1                     2   \\\n",
       "0  -0.35911538024258877   -0.2903786204332479   -0.3235733598985074   \n",
       "1  -0.33159005201620695  -0.35915129908132676   -0.3427193114111601   \n",
       "2   -0.3596935821417594  -0.36285849101926165  -0.35601219242087645   \n",
       "3   -0.3399810340653625   -0.3526477370395955   -0.3511859072939032   \n",
       "4   -0.3663167270125467   -0.3323091931906461  -0.33561089001957567   \n",
       "\n",
       "                     3                     4                     5   \\\n",
       "0  -0.30721786700984627   -0.3166447222092403  -0.32163697729774454   \n",
       "1    -0.347785456860998   -0.3296094445027253   -0.3485099141395304   \n",
       "2    -0.353828777951019   -0.3492710535714224  -0.35879707260530647   \n",
       "3  -0.35017091542662965  -0.33906944113982057  -0.36064727722856105   \n",
       "4  -0.32193201931728943  -0.32944704829527227   -0.3308040093297393   \n",
       "\n",
       "                     6                     7                     8   \\\n",
       "0   -0.3060665559763355   -0.3025992425509998  -0.29850192409518883   \n",
       "1   -0.3376696862022902  -0.34932634929774764  -0.34056383184892774   \n",
       "2  -0.36390313778474753  -0.36712253604991446  -0.35674189358235625   \n",
       "3   -0.3547354434501923  -0.34947998991525436  -0.33529009561373446   \n",
       "4   -0.3366297248977422   -0.3323477140551532  -0.33261758384779977   \n",
       "\n",
       "                     9   ...                    66                    67  \\\n",
       "0  -0.29965905000702686  ...   -0.4140518421452742     -0.43184737104296   \n",
       "1  -0.33845006166045705  ...   -0.4102524695287548  -0.41172384793553984   \n",
       "2   -0.3619787734082352  ...   -0.3745933773098115   -0.3875174304201594   \n",
       "3   -0.3370531001138716  ...   -0.4244962655472517   -0.4301420612465175   \n",
       "4   -0.3415889164470717  ...  -0.39347622348269307  -0.42385676612604817   \n",
       "\n",
       "                     68                    69                    70  \\\n",
       "0  -0.42529645313341974   -0.4502391038929214  -0.44188527823681517   \n",
       "1   -0.4231270883876285   -0.4147749022885177  -0.43443828243288607   \n",
       "2   -0.3734830747955423   -0.3847803526473663  -0.36635053637419135   \n",
       "3  -0.44710827873955056  -0.45251481542999544  -0.45250956037258727   \n",
       "4  -0.40987354350019833   -0.4404408562099744   -0.4309774065376857   \n",
       "\n",
       "                     71                    72                    73  \\\n",
       "0  -0.46139015796348526  -0.45503869957521725  -0.46450236640111797   \n",
       "1   -0.4162977551052533   -0.4262132806445661   -0.3988064338505317   \n",
       "2   -0.3949238282815594  -0.36635524062294295  -0.36943749766214684   \n",
       "3    -0.425351878024515   -0.4513674132229852  -0.41489966340466267   \n",
       "4   -0.4459936752478342  -0.43636271334992255   -0.4455390307034217   \n",
       "\n",
       "                     74 75  \n",
       "0  -0.45894928801828405  N  \n",
       "1   -0.3747221898111922  N  \n",
       "2   -0.3121596407616159  N  \n",
       "3   -0.4209234494557653  N  \n",
       "4  -0.42434810225359476  N  \n",
       "\n",
       "[5 rows x 76 columns]"
      ]
     },
     "execution_count": 11,
     "metadata": {},
     "output_type": "execute_result"
    }
   ],
   "source": [
    "data = process_and_save_beats(filtered_beats, filtered_labels)\n",
    "\n",
    "data.head()"
   ]
  },
  {
   "cell_type": "code",
   "execution_count": 12,
   "id": "fe553439",
   "metadata": {
    "execution": {
     "iopub.execute_input": "2025-02-28T12:35:11.908645Z",
     "iopub.status.busy": "2025-02-28T12:35:11.908380Z",
     "iopub.status.idle": "2025-02-28T12:35:12.018857Z",
     "shell.execute_reply": "2025-02-28T12:35:12.017859Z"
    },
    "papermill": {
     "duration": 0.122061,
     "end_time": "2025-02-28T12:35:12.020425",
     "exception": false,
     "start_time": "2025-02-28T12:35:11.898364",
     "status": "completed"
    },
    "tags": []
   },
   "outputs": [
    {
     "name": "stdout",
     "output_type": "stream",
     "text": [
      "Unique labels after filtering and mapping: ['F' 'N' 'Q' 'S' 'V']\n"
     ]
    },
    {
     "data": {
      "text/html": [
       "<div>\n",
       "<style scoped>\n",
       "    .dataframe tbody tr th:only-of-type {\n",
       "        vertical-align: middle;\n",
       "    }\n",
       "\n",
       "    .dataframe tbody tr th {\n",
       "        vertical-align: top;\n",
       "    }\n",
       "\n",
       "    .dataframe thead th {\n",
       "        text-align: right;\n",
       "    }\n",
       "</style>\n",
       "<table border=\"1\" class=\"dataframe\">\n",
       "  <thead>\n",
       "    <tr style=\"text-align: right;\">\n",
       "      <th></th>\n",
       "      <th>0</th>\n",
       "      <th>1</th>\n",
       "      <th>2</th>\n",
       "      <th>3</th>\n",
       "      <th>4</th>\n",
       "      <th>5</th>\n",
       "      <th>6</th>\n",
       "      <th>7</th>\n",
       "      <th>8</th>\n",
       "      <th>9</th>\n",
       "      <th>...</th>\n",
       "      <th>66</th>\n",
       "      <th>67</th>\n",
       "      <th>68</th>\n",
       "      <th>69</th>\n",
       "      <th>70</th>\n",
       "      <th>71</th>\n",
       "      <th>72</th>\n",
       "      <th>73</th>\n",
       "      <th>74</th>\n",
       "      <th>75</th>\n",
       "    </tr>\n",
       "  </thead>\n",
       "  <tbody>\n",
       "    <tr>\n",
       "      <th>0</th>\n",
       "      <td>-0.35911538024258877</td>\n",
       "      <td>-0.2903786204332479</td>\n",
       "      <td>-0.3235733598985074</td>\n",
       "      <td>-0.30721786700984627</td>\n",
       "      <td>-0.3166447222092403</td>\n",
       "      <td>-0.32163697729774454</td>\n",
       "      <td>-0.3060665559763355</td>\n",
       "      <td>-0.3025992425509998</td>\n",
       "      <td>-0.29850192409518883</td>\n",
       "      <td>-0.29965905000702686</td>\n",
       "      <td>...</td>\n",
       "      <td>-0.4140518421452742</td>\n",
       "      <td>-0.43184737104296</td>\n",
       "      <td>-0.42529645313341974</td>\n",
       "      <td>-0.4502391038929214</td>\n",
       "      <td>-0.44188527823681517</td>\n",
       "      <td>-0.46139015796348526</td>\n",
       "      <td>-0.45503869957521725</td>\n",
       "      <td>-0.46450236640111797</td>\n",
       "      <td>-0.45894928801828405</td>\n",
       "      <td>N</td>\n",
       "    </tr>\n",
       "    <tr>\n",
       "      <th>1</th>\n",
       "      <td>-0.33159005201620695</td>\n",
       "      <td>-0.35915129908132676</td>\n",
       "      <td>-0.3427193114111601</td>\n",
       "      <td>-0.347785456860998</td>\n",
       "      <td>-0.3296094445027253</td>\n",
       "      <td>-0.3485099141395304</td>\n",
       "      <td>-0.3376696862022902</td>\n",
       "      <td>-0.34932634929774764</td>\n",
       "      <td>-0.34056383184892774</td>\n",
       "      <td>-0.33845006166045705</td>\n",
       "      <td>...</td>\n",
       "      <td>-0.4102524695287548</td>\n",
       "      <td>-0.41172384793553984</td>\n",
       "      <td>-0.4231270883876285</td>\n",
       "      <td>-0.4147749022885177</td>\n",
       "      <td>-0.43443828243288607</td>\n",
       "      <td>-0.4162977551052533</td>\n",
       "      <td>-0.4262132806445661</td>\n",
       "      <td>-0.3988064338505317</td>\n",
       "      <td>-0.3747221898111922</td>\n",
       "      <td>N</td>\n",
       "    </tr>\n",
       "    <tr>\n",
       "      <th>2</th>\n",
       "      <td>-0.3596935821417594</td>\n",
       "      <td>-0.36285849101926165</td>\n",
       "      <td>-0.35601219242087645</td>\n",
       "      <td>-0.353828777951019</td>\n",
       "      <td>-0.3492710535714224</td>\n",
       "      <td>-0.35879707260530647</td>\n",
       "      <td>-0.36390313778474753</td>\n",
       "      <td>-0.36712253604991446</td>\n",
       "      <td>-0.35674189358235625</td>\n",
       "      <td>-0.3619787734082352</td>\n",
       "      <td>...</td>\n",
       "      <td>-0.3745933773098115</td>\n",
       "      <td>-0.3875174304201594</td>\n",
       "      <td>-0.3734830747955423</td>\n",
       "      <td>-0.3847803526473663</td>\n",
       "      <td>-0.36635053637419135</td>\n",
       "      <td>-0.3949238282815594</td>\n",
       "      <td>-0.36635524062294295</td>\n",
       "      <td>-0.36943749766214684</td>\n",
       "      <td>-0.3121596407616159</td>\n",
       "      <td>N</td>\n",
       "    </tr>\n",
       "    <tr>\n",
       "      <th>3</th>\n",
       "      <td>-0.3399810340653625</td>\n",
       "      <td>-0.3526477370395955</td>\n",
       "      <td>-0.3511859072939032</td>\n",
       "      <td>-0.35017091542662965</td>\n",
       "      <td>-0.33906944113982057</td>\n",
       "      <td>-0.36064727722856105</td>\n",
       "      <td>-0.3547354434501923</td>\n",
       "      <td>-0.34947998991525436</td>\n",
       "      <td>-0.33529009561373446</td>\n",
       "      <td>-0.3370531001138716</td>\n",
       "      <td>...</td>\n",
       "      <td>-0.4244962655472517</td>\n",
       "      <td>-0.4301420612465175</td>\n",
       "      <td>-0.44710827873955056</td>\n",
       "      <td>-0.45251481542999544</td>\n",
       "      <td>-0.45250956037258727</td>\n",
       "      <td>-0.425351878024515</td>\n",
       "      <td>-0.4513674132229852</td>\n",
       "      <td>-0.41489966340466267</td>\n",
       "      <td>-0.4209234494557653</td>\n",
       "      <td>N</td>\n",
       "    </tr>\n",
       "    <tr>\n",
       "      <th>4</th>\n",
       "      <td>-0.3663167270125467</td>\n",
       "      <td>-0.3323091931906461</td>\n",
       "      <td>-0.33561089001957567</td>\n",
       "      <td>-0.32193201931728943</td>\n",
       "      <td>-0.32944704829527227</td>\n",
       "      <td>-0.3308040093297393</td>\n",
       "      <td>-0.3366297248977422</td>\n",
       "      <td>-0.3323477140551532</td>\n",
       "      <td>-0.33261758384779977</td>\n",
       "      <td>-0.3415889164470717</td>\n",
       "      <td>...</td>\n",
       "      <td>-0.39347622348269307</td>\n",
       "      <td>-0.42385676612604817</td>\n",
       "      <td>-0.40987354350019833</td>\n",
       "      <td>-0.4404408562099744</td>\n",
       "      <td>-0.4309774065376857</td>\n",
       "      <td>-0.4459936752478342</td>\n",
       "      <td>-0.43636271334992255</td>\n",
       "      <td>-0.4455390307034217</td>\n",
       "      <td>-0.42434810225359476</td>\n",
       "      <td>N</td>\n",
       "    </tr>\n",
       "  </tbody>\n",
       "</table>\n",
       "<p>5 rows × 76 columns</p>\n",
       "</div>"
      ],
      "text/plain": [
       "                     0                     1                     2   \\\n",
       "0  -0.35911538024258877   -0.2903786204332479   -0.3235733598985074   \n",
       "1  -0.33159005201620695  -0.35915129908132676   -0.3427193114111601   \n",
       "2   -0.3596935821417594  -0.36285849101926165  -0.35601219242087645   \n",
       "3   -0.3399810340653625   -0.3526477370395955   -0.3511859072939032   \n",
       "4   -0.3663167270125467   -0.3323091931906461  -0.33561089001957567   \n",
       "\n",
       "                     3                     4                     5   \\\n",
       "0  -0.30721786700984627   -0.3166447222092403  -0.32163697729774454   \n",
       "1    -0.347785456860998   -0.3296094445027253   -0.3485099141395304   \n",
       "2    -0.353828777951019   -0.3492710535714224  -0.35879707260530647   \n",
       "3  -0.35017091542662965  -0.33906944113982057  -0.36064727722856105   \n",
       "4  -0.32193201931728943  -0.32944704829527227   -0.3308040093297393   \n",
       "\n",
       "                     6                     7                     8   \\\n",
       "0   -0.3060665559763355   -0.3025992425509998  -0.29850192409518883   \n",
       "1   -0.3376696862022902  -0.34932634929774764  -0.34056383184892774   \n",
       "2  -0.36390313778474753  -0.36712253604991446  -0.35674189358235625   \n",
       "3   -0.3547354434501923  -0.34947998991525436  -0.33529009561373446   \n",
       "4   -0.3366297248977422   -0.3323477140551532  -0.33261758384779977   \n",
       "\n",
       "                     9   ...                    66                    67  \\\n",
       "0  -0.29965905000702686  ...   -0.4140518421452742     -0.43184737104296   \n",
       "1  -0.33845006166045705  ...   -0.4102524695287548  -0.41172384793553984   \n",
       "2   -0.3619787734082352  ...   -0.3745933773098115   -0.3875174304201594   \n",
       "3   -0.3370531001138716  ...   -0.4244962655472517   -0.4301420612465175   \n",
       "4   -0.3415889164470717  ...  -0.39347622348269307  -0.42385676612604817   \n",
       "\n",
       "                     68                    69                    70  \\\n",
       "0  -0.42529645313341974   -0.4502391038929214  -0.44188527823681517   \n",
       "1   -0.4231270883876285   -0.4147749022885177  -0.43443828243288607   \n",
       "2   -0.3734830747955423   -0.3847803526473663  -0.36635053637419135   \n",
       "3  -0.44710827873955056  -0.45251481542999544  -0.45250956037258727   \n",
       "4  -0.40987354350019833   -0.4404408562099744   -0.4309774065376857   \n",
       "\n",
       "                     71                    72                    73  \\\n",
       "0  -0.46139015796348526  -0.45503869957521725  -0.46450236640111797   \n",
       "1   -0.4162977551052533   -0.4262132806445661   -0.3988064338505317   \n",
       "2   -0.3949238282815594  -0.36635524062294295  -0.36943749766214684   \n",
       "3    -0.425351878024515   -0.4513674132229852  -0.41489966340466267   \n",
       "4   -0.4459936752478342  -0.43636271334992255   -0.4455390307034217   \n",
       "\n",
       "                     74 75  \n",
       "0  -0.45894928801828405  N  \n",
       "1   -0.3747221898111922  N  \n",
       "2   -0.3121596407616159  N  \n",
       "3   -0.4209234494557653  N  \n",
       "4  -0.42434810225359476  N  \n",
       "\n",
       "[5 rows x 76 columns]"
      ]
     },
     "execution_count": 12,
     "metadata": {},
     "output_type": "execute_result"
    }
   ],
   "source": [
    "def filter_and_map_labels(df):\n",
    "    \"\"\"\n",
    "    This function filters and maps the labels in the dataset:\n",
    "    - Keep the labels: 'N', 'S', 'V', 'F', and 'Q'.\n",
    "    - Any other labels will be mapped to 'Q' as extra classes.\n",
    "    \"\"\"\n",
    "    allowed_labels = ['N', 'S', 'V', 'F', 'Q']\n",
    "    df.iloc[:, -1] = df.iloc[:, -1].apply(lambda x: x if x in allowed_labels else 'Q')\n",
    "    print(f\"Unique labels after filtering and mapping: {np.unique(df.iloc[:, -1])}\")\n",
    "    \n",
    "    return df\n",
    "    \n",
    "data = filter_and_map_labels(data)\n",
    "data.head()"
   ]
  },
  {
   "cell_type": "code",
   "execution_count": 13,
   "id": "246fb3ce",
   "metadata": {
    "execution": {
     "iopub.execute_input": "2025-02-28T12:35:12.040431Z",
     "iopub.status.busy": "2025-02-28T12:35:12.040139Z",
     "iopub.status.idle": "2025-02-28T12:35:12.182132Z",
     "shell.execute_reply": "2025-02-28T12:35:12.181222Z"
    },
    "papermill": {
     "duration": 0.152784,
     "end_time": "2025-02-28T12:35:12.183413",
     "exception": false,
     "start_time": "2025-02-28T12:35:12.030629",
     "status": "completed"
    },
    "tags": []
   },
   "outputs": [
    {
     "name": "stdout",
     "output_type": "stream",
     "text": [
      "Unique labels after encoding: [0 1 2 3 4]\n"
     ]
    },
    {
     "name": "stderr",
     "output_type": "stream",
     "text": [
      "<ipython-input-13-b280e61110b5>:11: FutureWarning: Downcasting behavior in `replace` is deprecated and will be removed in a future version. To retain the old behavior, explicitly call `result.infer_objects(copy=False)`. To opt-in to the future behavior, set `pd.set_option('future.no_silent_downcasting', True)`\n",
      "  df.iloc[:, -1] = df.iloc[:, -1].replace(label_mapping)\n"
     ]
    },
    {
     "data": {
      "text/html": [
       "<div>\n",
       "<style scoped>\n",
       "    .dataframe tbody tr th:only-of-type {\n",
       "        vertical-align: middle;\n",
       "    }\n",
       "\n",
       "    .dataframe tbody tr th {\n",
       "        vertical-align: top;\n",
       "    }\n",
       "\n",
       "    .dataframe thead th {\n",
       "        text-align: right;\n",
       "    }\n",
       "</style>\n",
       "<table border=\"1\" class=\"dataframe\">\n",
       "  <thead>\n",
       "    <tr style=\"text-align: right;\">\n",
       "      <th></th>\n",
       "      <th>0</th>\n",
       "      <th>1</th>\n",
       "      <th>2</th>\n",
       "      <th>3</th>\n",
       "      <th>4</th>\n",
       "      <th>5</th>\n",
       "      <th>6</th>\n",
       "      <th>7</th>\n",
       "      <th>8</th>\n",
       "      <th>9</th>\n",
       "      <th>...</th>\n",
       "      <th>66</th>\n",
       "      <th>67</th>\n",
       "      <th>68</th>\n",
       "      <th>69</th>\n",
       "      <th>70</th>\n",
       "      <th>71</th>\n",
       "      <th>72</th>\n",
       "      <th>73</th>\n",
       "      <th>74</th>\n",
       "      <th>75</th>\n",
       "    </tr>\n",
       "  </thead>\n",
       "  <tbody>\n",
       "    <tr>\n",
       "      <th>0</th>\n",
       "      <td>-0.35911538024258877</td>\n",
       "      <td>-0.2903786204332479</td>\n",
       "      <td>-0.3235733598985074</td>\n",
       "      <td>-0.30721786700984627</td>\n",
       "      <td>-0.3166447222092403</td>\n",
       "      <td>-0.32163697729774454</td>\n",
       "      <td>-0.3060665559763355</td>\n",
       "      <td>-0.3025992425509998</td>\n",
       "      <td>-0.29850192409518883</td>\n",
       "      <td>-0.29965905000702686</td>\n",
       "      <td>...</td>\n",
       "      <td>-0.4140518421452742</td>\n",
       "      <td>-0.43184737104296</td>\n",
       "      <td>-0.42529645313341974</td>\n",
       "      <td>-0.4502391038929214</td>\n",
       "      <td>-0.44188527823681517</td>\n",
       "      <td>-0.46139015796348526</td>\n",
       "      <td>-0.45503869957521725</td>\n",
       "      <td>-0.46450236640111797</td>\n",
       "      <td>-0.45894928801828405</td>\n",
       "      <td>0</td>\n",
       "    </tr>\n",
       "    <tr>\n",
       "      <th>1</th>\n",
       "      <td>-0.33159005201620695</td>\n",
       "      <td>-0.35915129908132676</td>\n",
       "      <td>-0.3427193114111601</td>\n",
       "      <td>-0.347785456860998</td>\n",
       "      <td>-0.3296094445027253</td>\n",
       "      <td>-0.3485099141395304</td>\n",
       "      <td>-0.3376696862022902</td>\n",
       "      <td>-0.34932634929774764</td>\n",
       "      <td>-0.34056383184892774</td>\n",
       "      <td>-0.33845006166045705</td>\n",
       "      <td>...</td>\n",
       "      <td>-0.4102524695287548</td>\n",
       "      <td>-0.41172384793553984</td>\n",
       "      <td>-0.4231270883876285</td>\n",
       "      <td>-0.4147749022885177</td>\n",
       "      <td>-0.43443828243288607</td>\n",
       "      <td>-0.4162977551052533</td>\n",
       "      <td>-0.4262132806445661</td>\n",
       "      <td>-0.3988064338505317</td>\n",
       "      <td>-0.3747221898111922</td>\n",
       "      <td>0</td>\n",
       "    </tr>\n",
       "    <tr>\n",
       "      <th>2</th>\n",
       "      <td>-0.3596935821417594</td>\n",
       "      <td>-0.36285849101926165</td>\n",
       "      <td>-0.35601219242087645</td>\n",
       "      <td>-0.353828777951019</td>\n",
       "      <td>-0.3492710535714224</td>\n",
       "      <td>-0.35879707260530647</td>\n",
       "      <td>-0.36390313778474753</td>\n",
       "      <td>-0.36712253604991446</td>\n",
       "      <td>-0.35674189358235625</td>\n",
       "      <td>-0.3619787734082352</td>\n",
       "      <td>...</td>\n",
       "      <td>-0.3745933773098115</td>\n",
       "      <td>-0.3875174304201594</td>\n",
       "      <td>-0.3734830747955423</td>\n",
       "      <td>-0.3847803526473663</td>\n",
       "      <td>-0.36635053637419135</td>\n",
       "      <td>-0.3949238282815594</td>\n",
       "      <td>-0.36635524062294295</td>\n",
       "      <td>-0.36943749766214684</td>\n",
       "      <td>-0.3121596407616159</td>\n",
       "      <td>0</td>\n",
       "    </tr>\n",
       "    <tr>\n",
       "      <th>3</th>\n",
       "      <td>-0.3399810340653625</td>\n",
       "      <td>-0.3526477370395955</td>\n",
       "      <td>-0.3511859072939032</td>\n",
       "      <td>-0.35017091542662965</td>\n",
       "      <td>-0.33906944113982057</td>\n",
       "      <td>-0.36064727722856105</td>\n",
       "      <td>-0.3547354434501923</td>\n",
       "      <td>-0.34947998991525436</td>\n",
       "      <td>-0.33529009561373446</td>\n",
       "      <td>-0.3370531001138716</td>\n",
       "      <td>...</td>\n",
       "      <td>-0.4244962655472517</td>\n",
       "      <td>-0.4301420612465175</td>\n",
       "      <td>-0.44710827873955056</td>\n",
       "      <td>-0.45251481542999544</td>\n",
       "      <td>-0.45250956037258727</td>\n",
       "      <td>-0.425351878024515</td>\n",
       "      <td>-0.4513674132229852</td>\n",
       "      <td>-0.41489966340466267</td>\n",
       "      <td>-0.4209234494557653</td>\n",
       "      <td>0</td>\n",
       "    </tr>\n",
       "    <tr>\n",
       "      <th>4</th>\n",
       "      <td>-0.3663167270125467</td>\n",
       "      <td>-0.3323091931906461</td>\n",
       "      <td>-0.33561089001957567</td>\n",
       "      <td>-0.32193201931728943</td>\n",
       "      <td>-0.32944704829527227</td>\n",
       "      <td>-0.3308040093297393</td>\n",
       "      <td>-0.3366297248977422</td>\n",
       "      <td>-0.3323477140551532</td>\n",
       "      <td>-0.33261758384779977</td>\n",
       "      <td>-0.3415889164470717</td>\n",
       "      <td>...</td>\n",
       "      <td>-0.39347622348269307</td>\n",
       "      <td>-0.42385676612604817</td>\n",
       "      <td>-0.40987354350019833</td>\n",
       "      <td>-0.4404408562099744</td>\n",
       "      <td>-0.4309774065376857</td>\n",
       "      <td>-0.4459936752478342</td>\n",
       "      <td>-0.43636271334992255</td>\n",
       "      <td>-0.4455390307034217</td>\n",
       "      <td>-0.42434810225359476</td>\n",
       "      <td>0</td>\n",
       "    </tr>\n",
       "  </tbody>\n",
       "</table>\n",
       "<p>5 rows × 76 columns</p>\n",
       "</div>"
      ],
      "text/plain": [
       "                     0                     1                     2   \\\n",
       "0  -0.35911538024258877   -0.2903786204332479   -0.3235733598985074   \n",
       "1  -0.33159005201620695  -0.35915129908132676   -0.3427193114111601   \n",
       "2   -0.3596935821417594  -0.36285849101926165  -0.35601219242087645   \n",
       "3   -0.3399810340653625   -0.3526477370395955   -0.3511859072939032   \n",
       "4   -0.3663167270125467   -0.3323091931906461  -0.33561089001957567   \n",
       "\n",
       "                     3                     4                     5   \\\n",
       "0  -0.30721786700984627   -0.3166447222092403  -0.32163697729774454   \n",
       "1    -0.347785456860998   -0.3296094445027253   -0.3485099141395304   \n",
       "2    -0.353828777951019   -0.3492710535714224  -0.35879707260530647   \n",
       "3  -0.35017091542662965  -0.33906944113982057  -0.36064727722856105   \n",
       "4  -0.32193201931728943  -0.32944704829527227   -0.3308040093297393   \n",
       "\n",
       "                     6                     7                     8   \\\n",
       "0   -0.3060665559763355   -0.3025992425509998  -0.29850192409518883   \n",
       "1   -0.3376696862022902  -0.34932634929774764  -0.34056383184892774   \n",
       "2  -0.36390313778474753  -0.36712253604991446  -0.35674189358235625   \n",
       "3   -0.3547354434501923  -0.34947998991525436  -0.33529009561373446   \n",
       "4   -0.3366297248977422   -0.3323477140551532  -0.33261758384779977   \n",
       "\n",
       "                     9   ...                    66                    67  \\\n",
       "0  -0.29965905000702686  ...   -0.4140518421452742     -0.43184737104296   \n",
       "1  -0.33845006166045705  ...   -0.4102524695287548  -0.41172384793553984   \n",
       "2   -0.3619787734082352  ...   -0.3745933773098115   -0.3875174304201594   \n",
       "3   -0.3370531001138716  ...   -0.4244962655472517   -0.4301420612465175   \n",
       "4   -0.3415889164470717  ...  -0.39347622348269307  -0.42385676612604817   \n",
       "\n",
       "                     68                    69                    70  \\\n",
       "0  -0.42529645313341974   -0.4502391038929214  -0.44188527823681517   \n",
       "1   -0.4231270883876285   -0.4147749022885177  -0.43443828243288607   \n",
       "2   -0.3734830747955423   -0.3847803526473663  -0.36635053637419135   \n",
       "3  -0.44710827873955056  -0.45251481542999544  -0.45250956037258727   \n",
       "4  -0.40987354350019833   -0.4404408562099744   -0.4309774065376857   \n",
       "\n",
       "                     71                    72                    73  \\\n",
       "0  -0.46139015796348526  -0.45503869957521725  -0.46450236640111797   \n",
       "1   -0.4162977551052533   -0.4262132806445661   -0.3988064338505317   \n",
       "2   -0.3949238282815594  -0.36635524062294295  -0.36943749766214684   \n",
       "3    -0.425351878024515   -0.4513674132229852  -0.41489966340466267   \n",
       "4   -0.4459936752478342  -0.43636271334992255   -0.4455390307034217   \n",
       "\n",
       "                     74 75  \n",
       "0  -0.45894928801828405  0  \n",
       "1   -0.3747221898111922  0  \n",
       "2   -0.3121596407616159  0  \n",
       "3   -0.4209234494557653  0  \n",
       "4  -0.42434810225359476  0  \n",
       "\n",
       "[5 rows x 76 columns]"
      ]
     },
     "execution_count": 13,
     "metadata": {},
     "output_type": "execute_result"
    }
   ],
   "source": [
    "def encode_labels(df):\n",
    "    \"\"\"\n",
    "    This function encodes the labels in the dataset to numeric values:\n",
    "    - 'N' -> 0\n",
    "    - 'S' -> 1\n",
    "    - 'V' -> 2\n",
    "    - 'F' -> 3\n",
    "    - 'Q' -> 4\n",
    "    \"\"\"\n",
    "    label_mapping = {'N': 0, 'S': 1, 'V': 2, 'F': 3, 'Q': 4}\n",
    "    df.iloc[:, -1] = df.iloc[:, -1].replace(label_mapping)\n",
    "    print(f\"Unique labels after encoding: {np.unique(df.iloc[:, -1])}\")\n",
    "    return df\n",
    "\n",
    "data = encode_labels(data)\n",
    "data.head()"
   ]
  },
  {
   "cell_type": "code",
   "execution_count": 14,
   "id": "500daa76",
   "metadata": {
    "execution": {
     "iopub.execute_input": "2025-02-28T12:35:12.206695Z",
     "iopub.status.busy": "2025-02-28T12:35:12.206407Z",
     "iopub.status.idle": "2025-02-28T12:35:16.861941Z",
     "shell.execute_reply": "2025-02-28T12:35:16.860807Z"
    },
    "papermill": {
     "duration": 4.669596,
     "end_time": "2025-02-28T12:35:16.863170",
     "exception": false,
     "start_time": "2025-02-28T12:35:12.193574",
     "status": "completed"
    },
    "tags": []
   },
   "outputs": [
    {
     "name": "stdout",
     "output_type": "stream",
     "text": [
      "CSV file 'beats.csv' saved successfully.\n"
     ]
    }
   ],
   "source": [
    "data.to_csv('beats.csv')\n",
    "print(\"CSV file 'beats.csv' saved successfully.\")"
   ]
  },
  {
   "cell_type": "code",
   "execution_count": 15,
   "id": "23b865d9",
   "metadata": {
    "execution": {
     "iopub.execute_input": "2025-02-28T12:35:16.886443Z",
     "iopub.status.busy": "2025-02-28T12:35:16.886089Z",
     "iopub.status.idle": "2025-02-28T12:35:17.370199Z",
     "shell.execute_reply": "2025-02-28T12:35:17.369241Z"
    },
    "papermill": {
     "duration": 0.497349,
     "end_time": "2025-02-28T12:35:17.371666",
     "exception": false,
     "start_time": "2025-02-28T12:35:16.874317",
     "status": "completed"
    },
    "tags": []
   },
   "outputs": [
    {
     "data": {
      "image/png": "[encoded data removed]",
      "text/plain": [
       "<Figure size 3000x500 with 1 Axes>"
      ]
     },
     "metadata": {},
     "output_type": "display_data"
    }
   ],
   "source": [
    "beat = data[data.iloc[:, -1] == 1].iloc[0, :-1].values  \n",
    "beat = beat.astype(float)  \n",
    "\n",
    "plt.figure(figsize=(30, 5))\n",
    "plt.plot(beat, color='blue', linewidth=1.5)\n",
    "plt.title('ECG Signal - Single Abnormal Beat')\n",
    "plt.xlabel('Time (samples)')\n",
    "plt.ylabel('Amplitude')\n",
    "plt.grid(True)\n",
    "\n",
    "plt.savefig('Abnormal_beat_plot.png')\n",
    "plt.show()\n"
   ]
  },
  {
   "cell_type": "markdown",
   "id": "66979f58",
   "metadata": {
    "papermill": {
     "duration": 0.01024,
     "end_time": "2025-02-28T12:35:17.393029",
     "exception": false,
     "start_time": "2025-02-28T12:35:17.382789",
     "status": "completed"
    },
    "tags": []
   },
   "source": [
    "# **CNN Model Training**"
   ]
  },
  {
   "cell_type": "code",
   "execution_count": 16,
   "id": "e511bb4e",
   "metadata": {
    "execution": {
     "iopub.execute_input": "2025-02-28T12:35:17.415274Z",
     "iopub.status.busy": "2025-02-28T12:35:17.414991Z",
     "iopub.status.idle": "2025-02-28T12:35:17.418970Z",
     "shell.execute_reply": "2025-02-28T12:35:17.418130Z"
    },
    "papermill": {
     "duration": 0.016411,
     "end_time": "2025-02-28T12:35:17.420112",
     "exception": false,
     "start_time": "2025-02-28T12:35:17.403701",
     "status": "completed"
    },
    "tags": []
   },
   "outputs": [
    {
     "name": "stdout",
     "output_type": "stream",
     "text": [
      "The Shape of the data: (112532, 76)\n"
     ]
    }
   ],
   "source": [
    "print(f\"The Shape of the data: {data.shape}\")"
   ]
  },
  {
   "cell_type": "markdown",
   "id": "d7ebc496",
   "metadata": {
    "papermill": {
     "duration": 0.01042,
     "end_time": "2025-02-28T12:35:17.441238",
     "exception": false,
     "start_time": "2025-02-28T12:35:17.430818",
     "status": "completed"
    },
    "tags": []
   },
   "source": [
    "## Visualizing Class Distribution in the ECG Dataset\n",
    "This cell generates a **pie chart** to visualize the proportion of **normal vs. abnormal ECG beats** in the dataset.\n",
    "\n",
    "### Steps Involved:\n",
    "    1. Counting Instances of Each Class\n",
    "\n",
    "        * data.iloc[:, -1].value_counts() retrieves the count of normal (0) and abnormal (1) beats from the last column of the dataset.\n",
    "        * The result is stored in per_classes.\n",
    "    2. Creating the Pie Chart\n",
    "\n",
    "    * A figure of size (20,10) is created for better visibility.\n",
    "    * The plt.pie() function is used to generate the chart:\n",
    "        * Labels: ['Normal', 'Abnormal'] to distinguish between classes.\n",
    "        * Colors: tab:blue for normal and tab:orange for abnormal beats.\n",
    "        * Percentage Display: autopct='%1.1f%%' shows the percentage of each class in the dataset.\n",
    "3. Displaying the Chart\n",
    "\n",
    "    * plt.show() renders the pie chart.\n",
    "### Purpose of This Visualization\n",
    "    * Helps in understanding class imbalance in the dataset.\n",
    "    * Provides insight into the distribution of normal vs. abnormal heartbeats, which is crucial for model performance and bias mitigation."
   ]
  },
  {
   "cell_type": "code",
   "execution_count": 17,
   "id": "5f2e4402",
   "metadata": {
    "execution": {
     "iopub.execute_input": "2025-02-28T12:35:17.464310Z",
     "iopub.status.busy": "2025-02-28T12:35:17.464035Z",
     "iopub.status.idle": "2025-02-28T12:35:17.608714Z",
     "shell.execute_reply": "2025-02-28T12:35:17.607842Z"
    },
    "papermill": {
     "duration": 0.15745,
     "end_time": "2025-02-28T12:35:17.610202",
     "exception": false,
     "start_time": "2025-02-28T12:35:17.452752",
     "status": "completed"
    },
    "tags": []
   },
   "outputs": [
    {
     "data": {
      "image/png": "[encoded data removed]",
      "text/plain": [
       "<Figure size 2000x1000 with 1 Axes>"
      ]
     },
     "metadata": {},
     "output_type": "display_data"
    }
   ],
   "source": [
    "per_classes = data.iloc[:, -1].value_counts()\n",
    "plt.figure(figsize=(20,10))\n",
    "plt.pie(per_classes, labels=['N', 'S', 'V', 'F', 'Q'], autopct='%1.1f%%')\n",
    "plt.show()"
   ]
  },
  {
   "cell_type": "code",
   "execution_count": 18,
   "id": "498476fd",
   "metadata": {
    "execution": {
     "iopub.execute_input": "2025-02-28T12:35:17.634183Z",
     "iopub.status.busy": "2025-02-28T12:35:17.633946Z",
     "iopub.status.idle": "2025-02-28T12:35:17.757772Z",
     "shell.execute_reply": "2025-02-28T12:35:17.756999Z"
    },
    "papermill": {
     "duration": 0.13691,
     "end_time": "2025-02-28T12:35:17.759146",
     "exception": false,
     "start_time": "2025-02-28T12:35:17.622236",
     "status": "completed"
    },
    "tags": []
   },
   "outputs": [
    {
     "data": {
      "text/plain": [
       "75\n",
       "0    75005\n",
       "4    29594\n",
       "2     7129\n",
       "3      802\n",
       "Name: count, dtype: int64"
      ]
     },
     "execution_count": 18,
     "metadata": {},
     "output_type": "execute_result"
    }
   ],
   "source": [
    "data = data[data.iloc[:, -1] != 1]\n",
    "data.iloc[:, -1].value_counts()"
   ]
  },
  {
   "cell_type": "code",
   "execution_count": 19,
   "id": "d075f08a",
   "metadata": {
    "execution": {
     "iopub.execute_input": "2025-02-28T12:35:17.783090Z",
     "iopub.status.busy": "2025-02-28T12:35:17.782852Z",
     "iopub.status.idle": "2025-02-28T12:35:17.797771Z",
     "shell.execute_reply": "2025-02-28T12:35:17.797031Z"
    },
    "papermill": {
     "duration": 0.028034,
     "end_time": "2025-02-28T12:35:17.798990",
     "exception": false,
     "start_time": "2025-02-28T12:35:17.770956",
     "status": "completed"
    },
    "tags": []
   },
   "outputs": [
    {
     "data": {
      "text/html": [
       "<div>\n",
       "<style scoped>\n",
       "    .dataframe tbody tr th:only-of-type {\n",
       "        vertical-align: middle;\n",
       "    }\n",
       "\n",
       "    .dataframe tbody tr th {\n",
       "        vertical-align: top;\n",
       "    }\n",
       "\n",
       "    .dataframe thead th {\n",
       "        text-align: right;\n",
       "    }\n",
       "</style>\n",
       "<table border=\"1\" class=\"dataframe\">\n",
       "  <thead>\n",
       "    <tr style=\"text-align: right;\">\n",
       "      <th></th>\n",
       "      <th>0</th>\n",
       "      <th>1</th>\n",
       "      <th>2</th>\n",
       "      <th>3</th>\n",
       "      <th>4</th>\n",
       "      <th>5</th>\n",
       "      <th>6</th>\n",
       "      <th>7</th>\n",
       "      <th>8</th>\n",
       "      <th>9</th>\n",
       "      <th>...</th>\n",
       "      <th>65</th>\n",
       "      <th>66</th>\n",
       "      <th>67</th>\n",
       "      <th>68</th>\n",
       "      <th>69</th>\n",
       "      <th>70</th>\n",
       "      <th>71</th>\n",
       "      <th>72</th>\n",
       "      <th>73</th>\n",
       "      <th>74</th>\n",
       "    </tr>\n",
       "  </thead>\n",
       "  <tbody>\n",
       "    <tr>\n",
       "      <th>0</th>\n",
       "      <td>-0.35911538024258877</td>\n",
       "      <td>-0.2903786204332479</td>\n",
       "      <td>-0.3235733598985074</td>\n",
       "      <td>-0.30721786700984627</td>\n",
       "      <td>-0.3166447222092403</td>\n",
       "      <td>-0.32163697729774454</td>\n",
       "      <td>-0.3060665559763355</td>\n",
       "      <td>-0.3025992425509998</td>\n",
       "      <td>-0.29850192409518883</td>\n",
       "      <td>-0.29965905000702686</td>\n",
       "      <td>...</td>\n",
       "      <td>-0.4199271835302824</td>\n",
       "      <td>-0.4140518421452742</td>\n",
       "      <td>-0.43184737104296</td>\n",
       "      <td>-0.42529645313341974</td>\n",
       "      <td>-0.4502391038929214</td>\n",
       "      <td>-0.44188527823681517</td>\n",
       "      <td>-0.46139015796348526</td>\n",
       "      <td>-0.45503869957521725</td>\n",
       "      <td>-0.46450236640111797</td>\n",
       "      <td>-0.45894928801828405</td>\n",
       "    </tr>\n",
       "    <tr>\n",
       "      <th>1</th>\n",
       "      <td>-0.33159005201620695</td>\n",
       "      <td>-0.35915129908132676</td>\n",
       "      <td>-0.3427193114111601</td>\n",
       "      <td>-0.347785456860998</td>\n",
       "      <td>-0.3296094445027253</td>\n",
       "      <td>-0.3485099141395304</td>\n",
       "      <td>-0.3376696862022902</td>\n",
       "      <td>-0.34932634929774764</td>\n",
       "      <td>-0.34056383184892774</td>\n",
       "      <td>-0.33845006166045705</td>\n",
       "      <td>...</td>\n",
       "      <td>-0.3937719106448711</td>\n",
       "      <td>-0.4102524695287548</td>\n",
       "      <td>-0.41172384793553984</td>\n",
       "      <td>-0.4231270883876285</td>\n",
       "      <td>-0.4147749022885177</td>\n",
       "      <td>-0.43443828243288607</td>\n",
       "      <td>-0.4162977551052533</td>\n",
       "      <td>-0.4262132806445661</td>\n",
       "      <td>-0.3988064338505317</td>\n",
       "      <td>-0.3747221898111922</td>\n",
       "    </tr>\n",
       "    <tr>\n",
       "      <th>2</th>\n",
       "      <td>-0.3596935821417594</td>\n",
       "      <td>-0.36285849101926165</td>\n",
       "      <td>-0.35601219242087645</td>\n",
       "      <td>-0.353828777951019</td>\n",
       "      <td>-0.3492710535714224</td>\n",
       "      <td>-0.35879707260530647</td>\n",
       "      <td>-0.36390313778474753</td>\n",
       "      <td>-0.36712253604991446</td>\n",
       "      <td>-0.35674189358235625</td>\n",
       "      <td>-0.3619787734082352</td>\n",
       "      <td>...</td>\n",
       "      <td>-0.38096965987573683</td>\n",
       "      <td>-0.3745933773098115</td>\n",
       "      <td>-0.3875174304201594</td>\n",
       "      <td>-0.3734830747955423</td>\n",
       "      <td>-0.3847803526473663</td>\n",
       "      <td>-0.36635053637419135</td>\n",
       "      <td>-0.3949238282815594</td>\n",
       "      <td>-0.36635524062294295</td>\n",
       "      <td>-0.36943749766214684</td>\n",
       "      <td>-0.3121596407616159</td>\n",
       "    </tr>\n",
       "    <tr>\n",
       "      <th>3</th>\n",
       "      <td>-0.3399810340653625</td>\n",
       "      <td>-0.3526477370395955</td>\n",
       "      <td>-0.3511859072939032</td>\n",
       "      <td>-0.35017091542662965</td>\n",
       "      <td>-0.33906944113982057</td>\n",
       "      <td>-0.36064727722856105</td>\n",
       "      <td>-0.3547354434501923</td>\n",
       "      <td>-0.34947998991525436</td>\n",
       "      <td>-0.33529009561373446</td>\n",
       "      <td>-0.3370531001138716</td>\n",
       "      <td>...</td>\n",
       "      <td>-0.4004244847452387</td>\n",
       "      <td>-0.4244962655472517</td>\n",
       "      <td>-0.4301420612465175</td>\n",
       "      <td>-0.44710827873955056</td>\n",
       "      <td>-0.45251481542999544</td>\n",
       "      <td>-0.45250956037258727</td>\n",
       "      <td>-0.425351878024515</td>\n",
       "      <td>-0.4513674132229852</td>\n",
       "      <td>-0.41489966340466267</td>\n",
       "      <td>-0.4209234494557653</td>\n",
       "    </tr>\n",
       "    <tr>\n",
       "      <th>4</th>\n",
       "      <td>-0.3663167270125467</td>\n",
       "      <td>-0.3323091931906461</td>\n",
       "      <td>-0.33561089001957567</td>\n",
       "      <td>-0.32193201931728943</td>\n",
       "      <td>-0.32944704829527227</td>\n",
       "      <td>-0.3308040093297393</td>\n",
       "      <td>-0.3366297248977422</td>\n",
       "      <td>-0.3323477140551532</td>\n",
       "      <td>-0.33261758384779977</td>\n",
       "      <td>-0.3415889164470717</td>\n",
       "      <td>...</td>\n",
       "      <td>-0.40722180138088715</td>\n",
       "      <td>-0.39347622348269307</td>\n",
       "      <td>-0.42385676612604817</td>\n",
       "      <td>-0.40987354350019833</td>\n",
       "      <td>-0.4404408562099744</td>\n",
       "      <td>-0.4309774065376857</td>\n",
       "      <td>-0.4459936752478342</td>\n",
       "      <td>-0.43636271334992255</td>\n",
       "      <td>-0.4455390307034217</td>\n",
       "      <td>-0.42434810225359476</td>\n",
       "    </tr>\n",
       "  </tbody>\n",
       "</table>\n",
       "<p>5 rows × 75 columns</p>\n",
       "</div>"
      ],
      "text/plain": [
       "                     0                     1                     2   \\\n",
       "0  -0.35911538024258877   -0.2903786204332479   -0.3235733598985074   \n",
       "1  -0.33159005201620695  -0.35915129908132676   -0.3427193114111601   \n",
       "2   -0.3596935821417594  -0.36285849101926165  -0.35601219242087645   \n",
       "3   -0.3399810340653625   -0.3526477370395955   -0.3511859072939032   \n",
       "4   -0.3663167270125467   -0.3323091931906461  -0.33561089001957567   \n",
       "\n",
       "                     3                     4                     5   \\\n",
       "0  -0.30721786700984627   -0.3166447222092403  -0.32163697729774454   \n",
       "1    -0.347785456860998   -0.3296094445027253   -0.3485099141395304   \n",
       "2    -0.353828777951019   -0.3492710535714224  -0.35879707260530647   \n",
       "3  -0.35017091542662965  -0.33906944113982057  -0.36064727722856105   \n",
       "4  -0.32193201931728943  -0.32944704829527227   -0.3308040093297393   \n",
       "\n",
       "                     6                     7                     8   \\\n",
       "0   -0.3060665559763355   -0.3025992425509998  -0.29850192409518883   \n",
       "1   -0.3376696862022902  -0.34932634929774764  -0.34056383184892774   \n",
       "2  -0.36390313778474753  -0.36712253604991446  -0.35674189358235625   \n",
       "3   -0.3547354434501923  -0.34947998991525436  -0.33529009561373446   \n",
       "4   -0.3366297248977422   -0.3323477140551532  -0.33261758384779977   \n",
       "\n",
       "                     9   ...                    65                    66  \\\n",
       "0  -0.29965905000702686  ...   -0.4199271835302824   -0.4140518421452742   \n",
       "1  -0.33845006166045705  ...   -0.3937719106448711   -0.4102524695287548   \n",
       "2   -0.3619787734082352  ...  -0.38096965987573683   -0.3745933773098115   \n",
       "3   -0.3370531001138716  ...   -0.4004244847452387   -0.4244962655472517   \n",
       "4   -0.3415889164470717  ...  -0.40722180138088715  -0.39347622348269307   \n",
       "\n",
       "                     67                    68                    69  \\\n",
       "0     -0.43184737104296  -0.42529645313341974   -0.4502391038929214   \n",
       "1  -0.41172384793553984   -0.4231270883876285   -0.4147749022885177   \n",
       "2   -0.3875174304201594   -0.3734830747955423   -0.3847803526473663   \n",
       "3   -0.4301420612465175  -0.44710827873955056  -0.45251481542999544   \n",
       "4  -0.42385676612604817  -0.40987354350019833   -0.4404408562099744   \n",
       "\n",
       "                     70                    71                    72  \\\n",
       "0  -0.44188527823681517  -0.46139015796348526  -0.45503869957521725   \n",
       "1  -0.43443828243288607   -0.4162977551052533   -0.4262132806445661   \n",
       "2  -0.36635053637419135   -0.3949238282815594  -0.36635524062294295   \n",
       "3  -0.45250956037258727    -0.425351878024515   -0.4513674132229852   \n",
       "4   -0.4309774065376857   -0.4459936752478342  -0.43636271334992255   \n",
       "\n",
       "                     73                    74  \n",
       "0  -0.46450236640111797  -0.45894928801828405  \n",
       "1   -0.3988064338505317   -0.3747221898111922  \n",
       "2  -0.36943749766214684   -0.3121596407616159  \n",
       "3  -0.41489966340466267   -0.4209234494557653  \n",
       "4   -0.4455390307034217  -0.42434810225359476  \n",
       "\n",
       "[5 rows x 75 columns]"
      ]
     },
     "execution_count": 19,
     "metadata": {},
     "output_type": "execute_result"
    }
   ],
   "source": [
    "X = data.iloc[:, :-1]\n",
    "X.head()"
   ]
  },
  {
   "cell_type": "code",
   "execution_count": 20,
   "id": "3c10f4c8",
   "metadata": {
    "execution": {
     "iopub.execute_input": "2025-02-28T12:35:17.822660Z",
     "iopub.status.busy": "2025-02-28T12:35:17.822447Z",
     "iopub.status.idle": "2025-02-28T12:35:17.827314Z",
     "shell.execute_reply": "2025-02-28T12:35:17.826708Z"
    },
    "papermill": {
     "duration": 0.017984,
     "end_time": "2025-02-28T12:35:17.828477",
     "exception": false,
     "start_time": "2025-02-28T12:35:17.810493",
     "status": "completed"
    },
    "tags": []
   },
   "outputs": [
    {
     "data": {
      "text/plain": [
       "0    0\n",
       "1    0\n",
       "2    0\n",
       "3    0\n",
       "4    0\n",
       "Name: 75, dtype: object"
      ]
     },
     "execution_count": 20,
     "metadata": {},
     "output_type": "execute_result"
    }
   ],
   "source": [
    "y = data.iloc[:, -1]\n",
    "y.head()"
   ]
  },
  {
   "cell_type": "code",
   "execution_count": 21,
   "id": "1bb6bb8d",
   "metadata": {
    "execution": {
     "iopub.execute_input": "2025-02-28T12:35:17.852365Z",
     "iopub.status.busy": "2025-02-28T12:35:17.852121Z",
     "iopub.status.idle": "2025-02-28T12:35:17.856259Z",
     "shell.execute_reply": "2025-02-28T12:35:17.855508Z"
    },
    "papermill": {
     "duration": 0.017606,
     "end_time": "2025-02-28T12:35:17.857546",
     "exception": false,
     "start_time": "2025-02-28T12:35:17.839940",
     "status": "completed"
    },
    "tags": []
   },
   "outputs": [
    {
     "name": "stdout",
     "output_type": "stream",
     "text": [
      "The Shape of the X: (112530, 75)\n",
      "The Shape of the y: (112530,)\n"
     ]
    }
   ],
   "source": [
    "print(f\"The Shape of the X: {X.shape}\")\n",
    "print(f\"The Shape of the y: {y.shape}\")"
   ]
  },
  {
   "cell_type": "code",
   "execution_count": 22,
   "id": "eca407e6",
   "metadata": {
    "execution": {
     "iopub.execute_input": "2025-02-28T12:35:17.882240Z",
     "iopub.status.busy": "2025-02-28T12:35:17.881987Z",
     "iopub.status.idle": "2025-02-28T12:35:17.900453Z",
     "shell.execute_reply": "2025-02-28T12:35:17.899709Z"
    },
    "papermill": {
     "duration": 0.032706,
     "end_time": "2025-02-28T12:35:17.901718",
     "exception": false,
     "start_time": "2025-02-28T12:35:17.869012",
     "status": "completed"
    },
    "tags": []
   },
   "outputs": [
    {
     "data": {
      "text/html": [
       "<div>\n",
       "<style scoped>\n",
       "    .dataframe tbody tr th:only-of-type {\n",
       "        vertical-align: middle;\n",
       "    }\n",
       "\n",
       "    .dataframe tbody tr th {\n",
       "        vertical-align: top;\n",
       "    }\n",
       "\n",
       "    .dataframe thead th {\n",
       "        text-align: right;\n",
       "    }\n",
       "</style>\n",
       "<table border=\"1\" class=\"dataframe\">\n",
       "  <thead>\n",
       "    <tr style=\"text-align: right;\">\n",
       "      <th></th>\n",
       "      <th>75</th>\n",
       "      <th>count</th>\n",
       "    </tr>\n",
       "  </thead>\n",
       "  <tbody>\n",
       "    <tr>\n",
       "      <th>0</th>\n",
       "      <td>0</td>\n",
       "      <td>75005</td>\n",
       "    </tr>\n",
       "    <tr>\n",
       "      <th>1</th>\n",
       "      <td>4</td>\n",
       "      <td>29594</td>\n",
       "    </tr>\n",
       "    <tr>\n",
       "      <th>2</th>\n",
       "      <td>2</td>\n",
       "      <td>7129</td>\n",
       "    </tr>\n",
       "    <tr>\n",
       "      <th>3</th>\n",
       "      <td>3</td>\n",
       "      <td>802</td>\n",
       "    </tr>\n",
       "  </tbody>\n",
       "</table>\n",
       "</div>"
      ],
      "text/plain": [
       "   75  count\n",
       "0   0  75005\n",
       "1   4  29594\n",
       "2   2   7129\n",
       "3   3    802"
      ]
     },
     "execution_count": 22,
     "metadata": {},
     "output_type": "execute_result"
    }
   ],
   "source": [
    "# count of the classes\n",
    "y.value_counts().reset_index()"
   ]
  },
  {
   "cell_type": "code",
   "execution_count": 23,
   "id": "7a27987b",
   "metadata": {
    "execution": {
     "iopub.execute_input": "2025-02-28T12:35:17.926614Z",
     "iopub.status.busy": "2025-02-28T12:35:17.926389Z",
     "iopub.status.idle": "2025-02-28T12:35:20.488646Z",
     "shell.execute_reply": "2025-02-28T12:35:20.487913Z"
    },
    "papermill": {
     "duration": 2.576543,
     "end_time": "2025-02-28T12:35:20.490272",
     "exception": false,
     "start_time": "2025-02-28T12:35:17.913729",
     "status": "completed"
    },
    "tags": []
   },
   "outputs": [],
   "source": [
    "# First, split into train and test sets\n",
    "X_train, X_test, y_train, y_test = train_test_split(X, y, test_size=0.2, random_state=42)\n",
    "\n",
    "# Now, split the train set into training and validation sets\n",
    "X_train, X_valid, y_train, y_valid = train_test_split(X_train, y_train, test_size=0.25, random_state=42)  # 0.25 x 0.8 = 0.2"
   ]
  },
  {
   "cell_type": "code",
   "execution_count": 24,
   "id": "286c8cc7",
   "metadata": {
    "execution": {
     "iopub.execute_input": "2025-02-28T12:35:20.516025Z",
     "iopub.status.busy": "2025-02-28T12:35:20.515794Z",
     "iopub.status.idle": "2025-02-28T12:35:20.520936Z",
     "shell.execute_reply": "2025-02-28T12:35:20.520185Z"
    },
    "papermill": {
     "duration": 0.019458,
     "end_time": "2025-02-28T12:35:20.522240",
     "exception": false,
     "start_time": "2025-02-28T12:35:20.502782",
     "status": "completed"
    },
    "tags": []
   },
   "outputs": [
    {
     "name": "stdout",
     "output_type": "stream",
     "text": [
      "The shape of X_train: (67518, 75)\n",
      "The shape of X_test: (22506, 75)\n",
      "The shape of X_valid: (22506, 75)\n",
      "The length of y_train: 67518\n",
      "The length of y_test: 22506\n",
      "The shape of y_valid: 22506\n"
     ]
    }
   ],
   "source": [
    "print(f\"The shape of X_train: {X_train.shape}\")\n",
    "print(f\"The shape of X_test: {X_test.shape}\")\n",
    "print(f\"The shape of X_valid: {X_valid.shape}\")\n",
    "print(f\"The length of y_train: {len(y_train)}\")\n",
    "print(f\"The length of y_test: {len(y_test)}\")\n",
    "print(f\"The shape of y_valid: {len(y_valid)}\")"
   ]
  },
  {
   "cell_type": "code",
   "execution_count": 25,
   "id": "3ef56751",
   "metadata": {
    "execution": {
     "iopub.execute_input": "2025-02-28T12:35:20.585220Z",
     "iopub.status.busy": "2025-02-28T12:35:20.584911Z",
     "iopub.status.idle": "2025-02-28T12:35:20.910573Z",
     "shell.execute_reply": "2025-02-28T12:35:20.909683Z"
    },
    "papermill": {
     "duration": 0.377632,
     "end_time": "2025-02-28T12:35:20.912247",
     "exception": false,
     "start_time": "2025-02-28T12:35:20.534615",
     "status": "completed"
    },
    "tags": []
   },
   "outputs": [
    {
     "data": {
      "image/png": "[encoded data removed]",
      "text/plain": [
       "<Figure size 1000x800 with 3 Axes>"
      ]
     },
     "metadata": {},
     "output_type": "display_data"
    }
   ],
   "source": [
    "# Compute class distributions for training and testing sets\n",
    "train_classes, train_counts = np.unique(y_train, return_counts=True)\n",
    "test_classes, test_counts = np.unique(y_test, return_counts=True)\n",
    "valid_classes, valid_counts = np.unique(y_valid, return_counts=True)\n",
    "\n",
    "# Create a figure with two subplots (1 row, 2 columns)\n",
    "fig, axes = plt.subplots(1, 3, figsize=(10, 8))\n",
    "\n",
    "# Plot the Training Set Distribution\n",
    "axes[0].pie(train_counts, labels=['N', 'V', 'F', 'Q'], autopct='%1.1f%%')\n",
    "axes[0].set_title('Training Set Class Distribution')\n",
    "\n",
    "# Plot the Testing Set Distribution\n",
    "axes[1].pie(test_counts, labels=['N', 'V', 'F', 'Q'], autopct='%1.1f%%')\n",
    "axes[1].set_title('Testing Set Class Distribution')\n",
    "\n",
    "# Plot the Testing Set Distribution\n",
    "axes[2].pie(valid_counts, labels=['N', 'V', 'F', 'Q'], autopct='%1.1f%%')\n",
    "axes[2].set_title('Validation Set Class Distribution')\n",
    "\n",
    "# Adjust layout for better visualization\n",
    "plt.tight_layout()\n",
    "plt.show()"
   ]
  },
  {
   "cell_type": "code",
   "execution_count": 26,
   "id": "0300f591",
   "metadata": {
    "execution": {
     "iopub.execute_input": "2025-02-28T12:35:20.940231Z",
     "iopub.status.busy": "2025-02-28T12:35:20.939930Z",
     "iopub.status.idle": "2025-02-28T12:35:20.946271Z",
     "shell.execute_reply": "2025-02-28T12:35:20.945427Z"
    },
    "papermill": {
     "duration": 0.02174,
     "end_time": "2025-02-28T12:35:20.947639",
     "exception": false,
     "start_time": "2025-02-28T12:35:20.925899",
     "status": "completed"
    },
    "tags": []
   },
   "outputs": [
    {
     "name": "stdout",
     "output_type": "stream",
     "text": [
      "(67518, 75, 1)\n",
      "<class 'numpy.ndarray'>\n",
      "(22506, 75, 1)\n",
      "<class 'numpy.ndarray'>\n",
      "(22506, 75, 1)\n",
      "<class 'numpy.ndarray'>\n"
     ]
    }
   ],
   "source": [
    "X_train = X_train.values\n",
    "train_x = X_train.reshape(len(X_train), X_train.shape[1],1)\n",
    "print(np.shape(train_x))\n",
    "# print(train_x[0])\n",
    "print(type(train_x))\n",
    "# X_train = np.array(X_train)\n",
    "\n",
    "X_test = X_test.values\n",
    "test_x = X_test.reshape(len(X_test), X_test.shape[1],1)\n",
    "print(np.shape(test_x))\n",
    "# print(train_x[0])\n",
    "print(type(test_x))\n",
    "\n",
    "X_valid = X_valid.values\n",
    "valid_x = X_valid.reshape(len(X_valid), X_valid.shape[1],1)\n",
    "print(np.shape(valid_x))\n",
    "# print(train_x[0])\n",
    "print(type(valid_x))\n",
    "# X_test = np.array(X_test)\n",
    "\n",
    "# print(type(y_train))"
   ]
  },
  {
   "cell_type": "code",
   "execution_count": 27,
   "id": "4fa6e1a2",
   "metadata": {
    "execution": {
     "iopub.execute_input": "2025-02-28T12:35:20.975716Z",
     "iopub.status.busy": "2025-02-28T12:35:20.975408Z",
     "iopub.status.idle": "2025-02-28T12:35:20.979709Z",
     "shell.execute_reply": "2025-02-28T12:35:20.978771Z"
    },
    "papermill": {
     "duration": 0.01979,
     "end_time": "2025-02-28T12:35:20.980975",
     "exception": false,
     "start_time": "2025-02-28T12:35:20.961185",
     "status": "completed"
    },
    "tags": []
   },
   "outputs": [
    {
     "name": "stdout",
     "output_type": "stream",
     "text": [
      "(67518,)\n",
      "(22506,)\n",
      "(22506,)\n"
     ]
    }
   ],
   "source": [
    "print(y_train.shape)\n",
    "print(y_test.shape)\n",
    "print(y_valid.shape)"
   ]
  },
  {
   "cell_type": "code",
   "execution_count": 28,
   "id": "e8ee5b30",
   "metadata": {
    "execution": {
     "iopub.execute_input": "2025-02-28T12:35:21.008084Z",
     "iopub.status.busy": "2025-02-28T12:35:21.007792Z",
     "iopub.status.idle": "2025-02-28T12:35:21.019387Z",
     "shell.execute_reply": "2025-02-28T12:35:21.018351Z"
    },
    "papermill": {
     "duration": 0.026918,
     "end_time": "2025-02-28T12:35:21.020947",
     "exception": false,
     "start_time": "2025-02-28T12:35:20.994029",
     "status": "completed"
    },
    "tags": []
   },
   "outputs": [
    {
     "name": "stdout",
     "output_type": "stream",
     "text": [
      "(67518, 5) (22506, 5) (22506, 5)\n"
     ]
    }
   ],
   "source": [
    "train_y=to_categorical(y_train)\n",
    "test_y=to_categorical(y_test)\n",
    "valid_y=to_categorical(y_valid)\n",
    "print(np.shape(train_y), np.shape(test_y), np.shape(valid_y))"
   ]
  },
  {
   "cell_type": "code",
   "execution_count": 29,
   "id": "11347caa",
   "metadata": {
    "execution": {
     "iopub.execute_input": "2025-02-28T12:35:21.049132Z",
     "iopub.status.busy": "2025-02-28T12:35:21.048847Z",
     "iopub.status.idle": "2025-02-28T12:35:24.561405Z",
     "shell.execute_reply": "2025-02-28T12:35:24.560420Z"
    },
    "papermill": {
     "duration": 3.528295,
     "end_time": "2025-02-28T12:35:24.563205",
     "exception": false,
     "start_time": "2025-02-28T12:35:21.034910",
     "status": "completed"
    },
    "tags": []
   },
   "outputs": [],
   "source": [
    "train_x = np.array(train_x, dtype=np.float32)\n",
    "train_y = np.array(train_y, dtype=np.float32)\n",
    "\n",
    "test_x = np.array(test_x, dtype=np.float32)\n",
    "test_y = np.array(test_y, dtype=np.float32)\n",
    "\n",
    "valid_x = np.array(valid_x, dtype=np.float32)\n",
    "valid_y = np.array(valid_y, dtype=np.float32)"
   ]
  },
  {
   "cell_type": "markdown",
   "id": "0a7831aa",
   "metadata": {
    "papermill": {
     "duration": 0.012506,
     "end_time": "2025-02-28T12:35:24.589019",
     "exception": false,
     "start_time": "2025-02-28T12:35:24.576513",
     "status": "completed"
    },
    "tags": []
   },
   "source": [
    "### Model Architecture Definition\n",
    "This section defines a **1D Convolutional Neural Network (CNN)** for ECG classification.\n",
    "The model consists of:\n",
    "\n",
    "1. **Four Convolutional Layers** with increasing filters (16 → 32 → 64 → 128) to extract ECG signal features.\n",
    "2. **Max Pooling Layers** to reduce spatial dimensions and computational complexity.\n",
    "3. **Flattening Layer** to convert feature maps into a single vector.\n",
    "4. **Fully Connected Layers** with **Dropout (0.5, 0.4, 0.3)** to prevent overfitting.\n",
    "5. **Output Layer** with a **sigmoid activation** for binary classification (Normal vs. Abnormal ECG)."
   ]
  },
  {
   "cell_type": "code",
   "execution_count": 30,
   "id": "f523cb40",
   "metadata": {
    "execution": {
     "iopub.execute_input": "2025-02-28T12:35:24.615788Z",
     "iopub.status.busy": "2025-02-28T12:35:24.615477Z",
     "iopub.status.idle": "2025-02-28T12:35:26.892087Z",
     "shell.execute_reply": "2025-02-28T12:35:26.891303Z"
    },
    "papermill": {
     "duration": 2.291577,
     "end_time": "2025-02-28T12:35:26.893577",
     "exception": false,
     "start_time": "2025-02-28T12:35:24.602000",
     "status": "completed"
    },
    "tags": []
   },
   "outputs": [
    {
     "name": "stderr",
     "output_type": "stream",
     "text": [
      "/usr/local/lib/python3.10/dist-packages/keras/src/layers/convolutional/base_conv.py:107: UserWarning: Do not pass an `input_shape`/`input_dim` argument to a layer. When using Sequential models, prefer using an `Input(shape)` object as the first layer in the model instead.\n",
      "  super().__init__(activity_regularizer=activity_regularizer, **kwargs)\n"
     ]
    },
    {
     "data": {
      "text/html": [
       "<pre style=\"white-space:pre;overflow-x:auto;line-height:normal;font-family:Menlo,'DejaVu Sans Mono',consolas,'Courier New',monospace\"><span style=\"font-weight: bold\">Model: \"sequential\"</span>\n",
       "</pre>\n"
      ],
      "text/plain": [
       "\u001b[1mModel: \"sequential\"\u001b[0m\n"
      ]
     },
     "metadata": {},
     "output_type": "display_data"
    },
    {
     "data": {
      "text/html": [
       "<pre style=\"white-space:pre;overflow-x:auto;line-height:normal;font-family:Menlo,'DejaVu Sans Mono',consolas,'Courier New',monospace\">┏━━━━━━━━━━━━━━━━━━━━━━━━━━━━━━━━━━━━━━┳━━━━━━━━━━━━━━━━━━━━━━━━━━━━━┳━━━━━━━━━━━━━━━━━┓\n",
       "┃<span style=\"font-weight: bold\"> Layer (type)                         </span>┃<span style=\"font-weight: bold\"> Output Shape                </span>┃<span style=\"font-weight: bold\">         Param # </span>┃\n",
       "┡━━━━━━━━━━━━━━━━━━━━━━━━━━━━━━━━━━━━━━╇━━━━━━━━━━━━━━━━━━━━━━━━━━━━━╇━━━━━━━━━━━━━━━━━┩\n",
       "│ conv1d (<span style=\"color: #0087ff; text-decoration-color: #0087ff\">Conv1D</span>)                      │ (<span style=\"color: #00d7ff; text-decoration-color: #00d7ff\">None</span>, <span style=\"color: #00af00; text-decoration-color: #00af00\">75</span>, <span style=\"color: #00af00; text-decoration-color: #00af00\">16</span>)              │             <span style=\"color: #00af00; text-decoration-color: #00af00\">192</span> │\n",
       "├──────────────────────────────────────┼─────────────────────────────┼─────────────────┤\n",
       "│ max_pooling1d (<span style=\"color: #0087ff; text-decoration-color: #0087ff\">MaxPooling1D</span>)         │ (<span style=\"color: #00d7ff; text-decoration-color: #00d7ff\">None</span>, <span style=\"color: #00af00; text-decoration-color: #00af00\">36</span>, <span style=\"color: #00af00; text-decoration-color: #00af00\">16</span>)              │               <span style=\"color: #00af00; text-decoration-color: #00af00\">0</span> │\n",
       "├──────────────────────────────────────┼─────────────────────────────┼─────────────────┤\n",
       "│ conv1d_1 (<span style=\"color: #0087ff; text-decoration-color: #0087ff\">Conv1D</span>)                    │ (<span style=\"color: #00d7ff; text-decoration-color: #00d7ff\">None</span>, <span style=\"color: #00af00; text-decoration-color: #00af00\">36</span>, <span style=\"color: #00af00; text-decoration-color: #00af00\">32</span>)              │           <span style=\"color: #00af00; text-decoration-color: #00af00\">6,688</span> │\n",
       "├──────────────────────────────────────┼─────────────────────────────┼─────────────────┤\n",
       "│ max_pooling1d_1 (<span style=\"color: #0087ff; text-decoration-color: #0087ff\">MaxPooling1D</span>)       │ (<span style=\"color: #00d7ff; text-decoration-color: #00d7ff\">None</span>, <span style=\"color: #00af00; text-decoration-color: #00af00\">16</span>, <span style=\"color: #00af00; text-decoration-color: #00af00\">32</span>)              │               <span style=\"color: #00af00; text-decoration-color: #00af00\">0</span> │\n",
       "├──────────────────────────────────────┼─────────────────────────────┼─────────────────┤\n",
       "│ conv1d_2 (<span style=\"color: #0087ff; text-decoration-color: #0087ff\">Conv1D</span>)                    │ (<span style=\"color: #00d7ff; text-decoration-color: #00d7ff\">None</span>, <span style=\"color: #00af00; text-decoration-color: #00af00\">16</span>, <span style=\"color: #00af00; text-decoration-color: #00af00\">64</span>)              │          <span style=\"color: #00af00; text-decoration-color: #00af00\">30,784</span> │\n",
       "├──────────────────────────────────────┼─────────────────────────────┼─────────────────┤\n",
       "│ max_pooling1d_2 (<span style=\"color: #0087ff; text-decoration-color: #0087ff\">MaxPooling1D</span>)       │ (<span style=\"color: #00d7ff; text-decoration-color: #00d7ff\">None</span>, <span style=\"color: #00af00; text-decoration-color: #00af00\">6</span>, <span style=\"color: #00af00; text-decoration-color: #00af00\">64</span>)               │               <span style=\"color: #00af00; text-decoration-color: #00af00\">0</span> │\n",
       "├──────────────────────────────────────┼─────────────────────────────┼─────────────────┤\n",
       "│ conv1d_3 (<span style=\"color: #0087ff; text-decoration-color: #0087ff\">Conv1D</span>)                    │ (<span style=\"color: #00d7ff; text-decoration-color: #00d7ff\">None</span>, <span style=\"color: #00af00; text-decoration-color: #00af00\">6</span>, <span style=\"color: #00af00; text-decoration-color: #00af00\">128</span>)              │         <span style=\"color: #00af00; text-decoration-color: #00af00\">139,392</span> │\n",
       "├──────────────────────────────────────┼─────────────────────────────┼─────────────────┤\n",
       "│ max_pooling1d_3 (<span style=\"color: #0087ff; text-decoration-color: #0087ff\">MaxPooling1D</span>)       │ (<span style=\"color: #00d7ff; text-decoration-color: #00d7ff\">None</span>, <span style=\"color: #00af00; text-decoration-color: #00af00\">1</span>, <span style=\"color: #00af00; text-decoration-color: #00af00\">128</span>)              │               <span style=\"color: #00af00; text-decoration-color: #00af00\">0</span> │\n",
       "├──────────────────────────────────────┼─────────────────────────────┼─────────────────┤\n",
       "│ flatten (<span style=\"color: #0087ff; text-decoration-color: #0087ff\">Flatten</span>)                    │ (<span style=\"color: #00d7ff; text-decoration-color: #00d7ff\">None</span>, <span style=\"color: #00af00; text-decoration-color: #00af00\">128</span>)                 │               <span style=\"color: #00af00; text-decoration-color: #00af00\">0</span> │\n",
       "├──────────────────────────────────────┼─────────────────────────────┼─────────────────┤\n",
       "│ dropout (<span style=\"color: #0087ff; text-decoration-color: #0087ff\">Dropout</span>)                    │ (<span style=\"color: #00d7ff; text-decoration-color: #00d7ff\">None</span>, <span style=\"color: #00af00; text-decoration-color: #00af00\">128</span>)                 │               <span style=\"color: #00af00; text-decoration-color: #00af00\">0</span> │\n",
       "├──────────────────────────────────────┼─────────────────────────────┼─────────────────┤\n",
       "│ dense (<span style=\"color: #0087ff; text-decoration-color: #0087ff\">Dense</span>)                        │ (<span style=\"color: #00d7ff; text-decoration-color: #00d7ff\">None</span>, <span style=\"color: #00af00; text-decoration-color: #00af00\">100</span>)                 │          <span style=\"color: #00af00; text-decoration-color: #00af00\">12,900</span> │\n",
       "├──────────────────────────────────────┼─────────────────────────────┼─────────────────┤\n",
       "│ dropout_1 (<span style=\"color: #0087ff; text-decoration-color: #0087ff\">Dropout</span>)                  │ (<span style=\"color: #00d7ff; text-decoration-color: #00d7ff\">None</span>, <span style=\"color: #00af00; text-decoration-color: #00af00\">100</span>)                 │               <span style=\"color: #00af00; text-decoration-color: #00af00\">0</span> │\n",
       "├──────────────────────────────────────┼─────────────────────────────┼─────────────────┤\n",
       "│ dense_1 (<span style=\"color: #0087ff; text-decoration-color: #0087ff\">Dense</span>)                      │ (<span style=\"color: #00d7ff; text-decoration-color: #00d7ff\">None</span>, <span style=\"color: #00af00; text-decoration-color: #00af00\">50</span>)                  │           <span style=\"color: #00af00; text-decoration-color: #00af00\">5,050</span> │\n",
       "├──────────────────────────────────────┼─────────────────────────────┼─────────────────┤\n",
       "│ dropout_2 (<span style=\"color: #0087ff; text-decoration-color: #0087ff\">Dropout</span>)                  │ (<span style=\"color: #00d7ff; text-decoration-color: #00d7ff\">None</span>, <span style=\"color: #00af00; text-decoration-color: #00af00\">50</span>)                  │               <span style=\"color: #00af00; text-decoration-color: #00af00\">0</span> │\n",
       "├──────────────────────────────────────┼─────────────────────────────┼─────────────────┤\n",
       "│ dense_2 (<span style=\"color: #0087ff; text-decoration-color: #0087ff\">Dense</span>)                      │ (<span style=\"color: #00d7ff; text-decoration-color: #00d7ff\">None</span>, <span style=\"color: #00af00; text-decoration-color: #00af00\">5</span>)                   │             <span style=\"color: #00af00; text-decoration-color: #00af00\">255</span> │\n",
       "└──────────────────────────────────────┴─────────────────────────────┴─────────────────┘\n",
       "</pre>\n"
      ],
      "text/plain": [
       "┏━━━━━━━━━━━━━━━━━━━━━━━━━━━━━━━━━━━━━━┳━━━━━━━━━━━━━━━━━━━━━━━━━━━━━┳━━━━━━━━━━━━━━━━━┓\n",
       "┃\u001b[1m \u001b[0m\u001b[1mLayer (type)                        \u001b[0m\u001b[1m \u001b[0m┃\u001b[1m \u001b[0m\u001b[1mOutput Shape               \u001b[0m\u001b[1m \u001b[0m┃\u001b[1m \u001b[0m\u001b[1m        Param #\u001b[0m\u001b[1m \u001b[0m┃\n",
       "┡━━━━━━━━━━━━━━━━━━━━━━━━━━━━━━━━━━━━━━╇━━━━━━━━━━━━━━━━━━━━━━━━━━━━━╇━━━━━━━━━━━━━━━━━┩\n",
       "│ conv1d (\u001b[38;5;33mConv1D\u001b[0m)                      │ (\u001b[38;5;45mNone\u001b[0m, \u001b[38;5;34m75\u001b[0m, \u001b[38;5;34m16\u001b[0m)              │             \u001b[38;5;34m192\u001b[0m │\n",
       "├──────────────────────────────────────┼─────────────────────────────┼─────────────────┤\n",
       "│ max_pooling1d (\u001b[38;5;33mMaxPooling1D\u001b[0m)         │ (\u001b[38;5;45mNone\u001b[0m, \u001b[38;5;34m36\u001b[0m, \u001b[38;5;34m16\u001b[0m)              │               \u001b[38;5;34m0\u001b[0m │\n",
       "├──────────────────────────────────────┼─────────────────────────────┼─────────────────┤\n",
       "│ conv1d_1 (\u001b[38;5;33mConv1D\u001b[0m)                    │ (\u001b[38;5;45mNone\u001b[0m, \u001b[38;5;34m36\u001b[0m, \u001b[38;5;34m32\u001b[0m)              │           \u001b[38;5;34m6,688\u001b[0m │\n",
       "├──────────────────────────────────────┼─────────────────────────────┼─────────────────┤\n",
       "│ max_pooling1d_1 (\u001b[38;5;33mMaxPooling1D\u001b[0m)       │ (\u001b[38;5;45mNone\u001b[0m, \u001b[38;5;34m16\u001b[0m, \u001b[38;5;34m32\u001b[0m)              │               \u001b[38;5;34m0\u001b[0m │\n",
       "├──────────────────────────────────────┼─────────────────────────────┼─────────────────┤\n",
       "│ conv1d_2 (\u001b[38;5;33mConv1D\u001b[0m)                    │ (\u001b[38;5;45mNone\u001b[0m, \u001b[38;5;34m16\u001b[0m, \u001b[38;5;34m64\u001b[0m)              │          \u001b[38;5;34m30,784\u001b[0m │\n",
       "├──────────────────────────────────────┼─────────────────────────────┼─────────────────┤\n",
       "│ max_pooling1d_2 (\u001b[38;5;33mMaxPooling1D\u001b[0m)       │ (\u001b[38;5;45mNone\u001b[0m, \u001b[38;5;34m6\u001b[0m, \u001b[38;5;34m64\u001b[0m)               │               \u001b[38;5;34m0\u001b[0m │\n",
       "├──────────────────────────────────────┼─────────────────────────────┼─────────────────┤\n",
       "│ conv1d_3 (\u001b[38;5;33mConv1D\u001b[0m)                    │ (\u001b[38;5;45mNone\u001b[0m, \u001b[38;5;34m6\u001b[0m, \u001b[38;5;34m128\u001b[0m)              │         \u001b[38;5;34m139,392\u001b[0m │\n",
       "├──────────────────────────────────────┼─────────────────────────────┼─────────────────┤\n",
       "│ max_pooling1d_3 (\u001b[38;5;33mMaxPooling1D\u001b[0m)       │ (\u001b[38;5;45mNone\u001b[0m, \u001b[38;5;34m1\u001b[0m, \u001b[38;5;34m128\u001b[0m)              │               \u001b[38;5;34m0\u001b[0m │\n",
       "├──────────────────────────────────────┼─────────────────────────────┼─────────────────┤\n",
       "│ flatten (\u001b[38;5;33mFlatten\u001b[0m)                    │ (\u001b[38;5;45mNone\u001b[0m, \u001b[38;5;34m128\u001b[0m)                 │               \u001b[38;5;34m0\u001b[0m │\n",
       "├──────────────────────────────────────┼─────────────────────────────┼─────────────────┤\n",
       "│ dropout (\u001b[38;5;33mDropout\u001b[0m)                    │ (\u001b[38;5;45mNone\u001b[0m, \u001b[38;5;34m128\u001b[0m)                 │               \u001b[38;5;34m0\u001b[0m │\n",
       "├──────────────────────────────────────┼─────────────────────────────┼─────────────────┤\n",
       "│ dense (\u001b[38;5;33mDense\u001b[0m)                        │ (\u001b[38;5;45mNone\u001b[0m, \u001b[38;5;34m100\u001b[0m)                 │          \u001b[38;5;34m12,900\u001b[0m │\n",
       "├──────────────────────────────────────┼─────────────────────────────┼─────────────────┤\n",
       "│ dropout_1 (\u001b[38;5;33mDropout\u001b[0m)                  │ (\u001b[38;5;45mNone\u001b[0m, \u001b[38;5;34m100\u001b[0m)                 │               \u001b[38;5;34m0\u001b[0m │\n",
       "├──────────────────────────────────────┼─────────────────────────────┼─────────────────┤\n",
       "│ dense_1 (\u001b[38;5;33mDense\u001b[0m)                      │ (\u001b[38;5;45mNone\u001b[0m, \u001b[38;5;34m50\u001b[0m)                  │           \u001b[38;5;34m5,050\u001b[0m │\n",
       "├──────────────────────────────────────┼─────────────────────────────┼─────────────────┤\n",
       "│ dropout_2 (\u001b[38;5;33mDropout\u001b[0m)                  │ (\u001b[38;5;45mNone\u001b[0m, \u001b[38;5;34m50\u001b[0m)                  │               \u001b[38;5;34m0\u001b[0m │\n",
       "├──────────────────────────────────────┼─────────────────────────────┼─────────────────┤\n",
       "│ dense_2 (\u001b[38;5;33mDense\u001b[0m)                      │ (\u001b[38;5;45mNone\u001b[0m, \u001b[38;5;34m5\u001b[0m)                   │             \u001b[38;5;34m255\u001b[0m │\n",
       "└──────────────────────────────────────┴─────────────────────────────┴─────────────────┘\n"
      ]
     },
     "metadata": {},
     "output_type": "display_data"
    },
    {
     "data": {
      "text/html": [
       "<pre style=\"white-space:pre;overflow-x:auto;line-height:normal;font-family:Menlo,'DejaVu Sans Mono',consolas,'Courier New',monospace\"><span style=\"font-weight: bold\"> Total params: </span><span style=\"color: #00af00; text-decoration-color: #00af00\">195,261</span> (762.74 KB)\n",
       "</pre>\n"
      ],
      "text/plain": [
       "\u001b[1m Total params: \u001b[0m\u001b[38;5;34m195,261\u001b[0m (762.74 KB)\n"
      ]
     },
     "metadata": {},
     "output_type": "display_data"
    },
    {
     "data": {
      "text/html": [
       "<pre style=\"white-space:pre;overflow-x:auto;line-height:normal;font-family:Menlo,'DejaVu Sans Mono',consolas,'Courier New',monospace\"><span style=\"font-weight: bold\"> Trainable params: </span><span style=\"color: #00af00; text-decoration-color: #00af00\">195,261</span> (762.74 KB)\n",
       "</pre>\n"
      ],
      "text/plain": [
       "\u001b[1m Trainable params: \u001b[0m\u001b[38;5;34m195,261\u001b[0m (762.74 KB)\n"
      ]
     },
     "metadata": {},
     "output_type": "display_data"
    },
    {
     "data": {
      "text/html": [
       "<pre style=\"white-space:pre;overflow-x:auto;line-height:normal;font-family:Menlo,'DejaVu Sans Mono',consolas,'Courier New',monospace\"><span style=\"font-weight: bold\"> Non-trainable params: </span><span style=\"color: #00af00; text-decoration-color: #00af00\">0</span> (0.00 B)\n",
       "</pre>\n"
      ],
      "text/plain": [
       "\u001b[1m Non-trainable params: \u001b[0m\u001b[38;5;34m0\u001b[0m (0.00 B)\n"
      ]
     },
     "metadata": {},
     "output_type": "display_data"
    }
   ],
   "source": [
    "# Function to build the CNN model for ECG classification\n",
    "model = Sequential()\n",
    "\n",
    "# First Convolutional Layer with 16 filters, kernel size 11, ReLU activation, and same padding\n",
    "model.add(Conv1D(filters=16, kernel_size=11, strides=1, padding='same', activation='relu', input_shape=(75, 1)))\n",
    "model.add(MaxPooling1D(pool_size=5, strides=2))  # Max pooling to reduce dimensionality\n",
    "\n",
    "# Second Convolutional Layer with 32 filters\n",
    "model.add(Conv1D(filters=32, kernel_size=13, strides=1, padding='same', activation='relu'))\n",
    "model.add(MaxPooling1D(pool_size=5, strides=2))  \n",
    "\n",
    "# Third Convolutional Layer with 64 filters\n",
    "model.add(Conv1D(filters=64, kernel_size=15, strides=1, padding='same', activation='relu'))\n",
    "model.add(MaxPooling1D(pool_size=5, strides=2))  \n",
    "\n",
    "# Fourth Convolutional Layer with 128 filters\n",
    "model.add(Conv1D(filters=128, kernel_size=17, strides=1, padding='same', activation='relu'))\n",
    "model.add(MaxPooling1D(pool_size=5, strides=2))  \n",
    "\n",
    "# Flattening the feature maps into a single vector\n",
    "model.add(Flatten())\n",
    "\n",
    "# Fully connected layers with Dropout for regularization\n",
    "model.add(Dropout(0.5))  # Dropout to prevent overfitting\n",
    "model.add(Dense(100, activation='relu'))\n",
    "model.add(Dropout(0.4))\n",
    "model.add(Dense(50, activation='relu'))\n",
    "model.add(Dropout(0.3))\n",
    "\n",
    "# Output layer with sigmoid activation for binary classification\n",
    "model.add(Dense(5, activation='softmax'))\n",
    "\n",
    "# Display model architecture\n",
    "model.summary()"
   ]
  },
  {
   "cell_type": "markdown",
   "id": "1deaf1dd",
   "metadata": {
    "papermill": {
     "duration": 0.014287,
     "end_time": "2025-02-28T12:35:26.922823",
     "exception": false,
     "start_time": "2025-02-28T12:35:26.908536",
     "status": "completed"
    },
    "tags": []
   },
   "source": [
    "### Model Compilation\n",
    "This section **compiles** the CNN model with:  \n",
    "- **Loss Function:** `binary_crossentropy` (since it's a binary classification task).  \n",
    "- **Optimizer:** `Adam` with a learning rate of `0.0001` for efficient learning.  \n",
    "- **Metric:** `accuracy`, which evaluates how well the model is performing.  "
   ]
  },
  {
   "cell_type": "code",
   "execution_count": 31,
   "id": "0975114e",
   "metadata": {
    "execution": {
     "iopub.execute_input": "2025-02-28T12:35:26.951467Z",
     "iopub.status.busy": "2025-02-28T12:35:26.951095Z",
     "iopub.status.idle": "2025-02-28T12:35:26.963085Z",
     "shell.execute_reply": "2025-02-28T12:35:26.962390Z"
    },
    "papermill": {
     "duration": 0.027604,
     "end_time": "2025-02-28T12:35:26.964448",
     "exception": false,
     "start_time": "2025-02-28T12:35:26.936844",
     "status": "completed"
    },
    "tags": []
   },
   "outputs": [],
   "source": [
    "# Compile the model with binary cross-entropy loss and Adam optimizer\n",
    "model.compile(\n",
    "    loss='categorical_crossentropy',  # Suitable for binary classification\n",
    "    optimizer=Adam(learning_rate=0.0001),  # Adam optimizer with a learning rate of 0.0001\n",
    "    metrics=['accuracy']  # Track accuracy during training\n",
    ")"
   ]
  },
  {
   "cell_type": "markdown",
   "id": "8120532a",
   "metadata": {
    "papermill": {
     "duration": 0.013898,
     "end_time": "2025-02-28T12:35:26.992421",
     "exception": false,
     "start_time": "2025-02-28T12:35:26.978523",
     "status": "completed"
    },
    "tags": []
   },
   "source": [
    "### Early Stopping Mechanism\n",
    "To **prevent overfitting**, `EarlyStopping` is used:  \n",
    "- **Monitors Validation Loss** (`val_loss`) to track generalization.  \n",
    "- **Stops Training if No Improvement in 5 Consecutive Epochs** (`patience=5`).  \n",
    "- **Restores Best Weights** (`restore_best_weights=True`) to keep the most optimal model.  "
   ]
  },
  {
   "cell_type": "code",
   "execution_count": 32,
   "id": "427e1562",
   "metadata": {
    "execution": {
     "iopub.execute_input": "2025-02-28T12:35:27.021269Z",
     "iopub.status.busy": "2025-02-28T12:35:27.020978Z",
     "iopub.status.idle": "2025-02-28T12:35:27.024440Z",
     "shell.execute_reply": "2025-02-28T12:35:27.023746Z"
    },
    "papermill": {
     "duration": 0.019613,
     "end_time": "2025-02-28T12:35:27.025675",
     "exception": false,
     "start_time": "2025-02-28T12:35:27.006062",
     "status": "completed"
    },
    "tags": []
   },
   "outputs": [],
   "source": [
    "# Define early stopping to prevent overfitting\n",
    "early_stopping = EarlyStopping(\n",
    "    monitor='val_loss',  # Monitor validation loss\n",
    "    patience=5,  # Stop training if validation loss doesn't improve for 5 epochs\n",
    "    restore_best_weights=True  # Restore best model weights after stopping\n",
    ")"
   ]
  },
  {
   "cell_type": "markdown",
   "id": "5b415d9f",
   "metadata": {
    "papermill": {
     "duration": 0.013786,
     "end_time": "2025-02-28T12:35:27.053651",
     "exception": false,
     "start_time": "2025-02-28T12:35:27.039865",
     "status": "completed"
    },
    "tags": []
   },
   "source": [
    "### Saving the Best Model in HDF5 Format\n",
    "\n",
    "1. **Using ModelCheckpoint Callback**\n",
    "   - Saves the best model based on **validation loss** (`val_loss`).\n",
    "   - Ensures only the best-performing model (lowest `val_loss`) is saved.\n",
    "   - The model is saved in **HDF5 format (`.h5`)**, which supports model architecture, weights, and optimizer state.\n",
    "\n",
    "2. **Parameters in `ModelCheckpoint`**\n",
    "   - `filepath='best_ecg_model.h5'` → Saves the model with this filename.\n",
    "   - `monitor='val_loss'` → Tracks validation loss for saving.\n",
    "   - `save_best_only=True` → Saves only the best model, preventing storage of unnecessary models.\n",
    "   - `mode='min'` → Saves the model when `val_loss` decreases."
   ]
  },
  {
   "cell_type": "code",
   "execution_count": 33,
   "id": "0ae91955",
   "metadata": {
    "execution": {
     "iopub.execute_input": "2025-02-28T12:35:27.081752Z",
     "iopub.status.busy": "2025-02-28T12:35:27.081442Z",
     "iopub.status.idle": "2025-02-28T12:35:27.085079Z",
     "shell.execute_reply": "2025-02-28T12:35:27.084317Z"
    },
    "papermill": {
     "duration": 0.019303,
     "end_time": "2025-02-28T12:35:27.086364",
     "exception": false,
     "start_time": "2025-02-28T12:35:27.067061",
     "status": "completed"
    },
    "tags": []
   },
   "outputs": [],
   "source": [
    "# Define a ModelCheckpoint to save the best model\n",
    "checkpoint = ModelCheckpoint(\n",
    "    filepath='best_ecg_model.keras',  # Change the extension to .keras\n",
    "    monitor='val_loss',              # Monitor validation loss\n",
    "    save_best_only=True,             # Save only the best model based on val_loss\n",
    "    mode='min',                      # Save model when val_loss is minimized\n",
    "    verbose=1                        # Print a message when saving the model\n",
    ")\n"
   ]
  },
  {
   "cell_type": "markdown",
   "id": "b769f9c9",
   "metadata": {
    "papermill": {
     "duration": 0.013672,
     "end_time": "2025-02-28T12:35:27.114027",
     "exception": false,
     "start_time": "2025-02-28T12:35:27.100355",
     "status": "completed"
    },
    "tags": []
   },
   "source": [
    "### Model Training Process\n",
    "The model is trained on `X_train` and `y_train` using:  \n",
    "- **Batch Size:** `42` (controls how many samples are processed before updating weights).  \n",
    "- **Epochs:** `50` (maximum training cycles).  \n",
    "- **Validation Data:** `(X_test, y_test)` for tracking model performance on unseen data.  \n",
    "- **Early Stopping Callback:** Helps prevent unnecessary training when validation loss stops improving.  "
   ]
  },
  {
   "cell_type": "code",
   "execution_count": 34,
   "id": "e6c203f1",
   "metadata": {
    "execution": {
     "iopub.execute_input": "2025-02-28T12:35:27.142842Z",
     "iopub.status.busy": "2025-02-28T12:35:27.142496Z",
     "iopub.status.idle": "2025-02-28T12:37:56.999120Z",
     "shell.execute_reply": "2025-02-28T12:37:56.998141Z"
    },
    "papermill": {
     "duration": 149.872743,
     "end_time": "2025-02-28T12:37:57.000569",
     "exception": false,
     "start_time": "2025-02-28T12:35:27.127826",
     "status": "completed"
    },
    "tags": []
   },
   "outputs": [
    {
     "name": "stdout",
     "output_type": "stream",
     "text": [
      "Epoch 1/50\n",
      "\u001b[1m1608/1608\u001b[0m \u001b[32m━━━━━━━━━━━━━━━━━━━━\u001b[0m\u001b[37m\u001b[0m \u001b[1m0s\u001b[0m 15ms/step - accuracy: 0.7112 - loss: 0.7975\n",
      "Epoch 1: val_loss improved from inf to 0.25109, saving model to best_ecg_model.keras\n",
      "\u001b[1m1608/1608\u001b[0m \u001b[32m━━━━━━━━━━━━━━━━━━━━\u001b[0m\u001b[37m\u001b[0m \u001b[1m33s\u001b[0m 16ms/step - accuracy: 0.7113 - loss: 0.7974 - val_accuracy: 0.9268 - val_loss: 0.2511\n",
      "Epoch 2/50\n",
      "\u001b[1m1604/1608\u001b[0m \u001b[32m━━━━━━━━━━━━━━━━━━━\u001b[0m\u001b[37m━\u001b[0m \u001b[1m0s\u001b[0m 2ms/step - accuracy: 0.9258 - loss: 0.2695\n",
      "Epoch 2: val_loss improved from 0.25109 to 0.14784, saving model to best_ecg_model.keras\n",
      "\u001b[1m1608/1608\u001b[0m \u001b[32m━━━━━━━━━━━━━━━━━━━━\u001b[0m\u001b[37m\u001b[0m \u001b[1m5s\u001b[0m 3ms/step - accuracy: 0.9258 - loss: 0.2694 - val_accuracy: 0.9582 - val_loss: 0.1478\n",
      "Epoch 3/50\n",
      "\u001b[1m1593/1608\u001b[0m \u001b[32m━━━━━━━━━━━━━━━━━━━\u001b[0m\u001b[37m━\u001b[0m \u001b[1m0s\u001b[0m 2ms/step - accuracy: 0.9573 - loss: 0.1710\n",
      "Epoch 3: val_loss improved from 0.14784 to 0.11348, saving model to best_ecg_model.keras\n",
      "\u001b[1m1608/1608\u001b[0m \u001b[32m━━━━━━━━━━━━━━━━━━━━\u001b[0m\u001b[37m\u001b[0m \u001b[1m5s\u001b[0m 3ms/step - accuracy: 0.9573 - loss: 0.1709 - val_accuracy: 0.9675 - val_loss: 0.1135\n",
      "Epoch 4/50\n",
      "\u001b[1m1604/1608\u001b[0m \u001b[32m━━━━━━━━━━━━━━━━━━━\u001b[0m\u001b[37m━\u001b[0m \u001b[1m0s\u001b[0m 2ms/step - accuracy: 0.9646 - loss: 0.1393\n",
      "Epoch 4: val_loss improved from 0.11348 to 0.11117, saving model to best_ecg_model.keras\n",
      "\u001b[1m1608/1608\u001b[0m \u001b[32m━━━━━━━━━━━━━━━━━━━━\u001b[0m\u001b[37m\u001b[0m \u001b[1m5s\u001b[0m 3ms/step - accuracy: 0.9646 - loss: 0.1392 - val_accuracy: 0.9708 - val_loss: 0.1112\n",
      "Epoch 5/50\n",
      "\u001b[1m1608/1608\u001b[0m \u001b[32m━━━━━━━━━━━━━━━━━━━━\u001b[0m\u001b[37m\u001b[0m \u001b[1m0s\u001b[0m 2ms/step - accuracy: 0.9689 - loss: 0.1183\n",
      "Epoch 5: val_loss improved from 0.11117 to 0.08899, saving model to best_ecg_model.keras\n",
      "\u001b[1m1608/1608\u001b[0m \u001b[32m━━━━━━━━━━━━━━━━━━━━\u001b[0m\u001b[37m\u001b[0m \u001b[1m5s\u001b[0m 3ms/step - accuracy: 0.9689 - loss: 0.1183 - val_accuracy: 0.9741 - val_loss: 0.0890\n",
      "Epoch 6/50\n",
      "\u001b[1m1588/1608\u001b[0m \u001b[32m━━━━━━━━━━━━━━━━━━━\u001b[0m\u001b[37m━\u001b[0m \u001b[1m0s\u001b[0m 2ms/step - accuracy: 0.9726 - loss: 0.1032\n",
      "Epoch 6: val_loss improved from 0.08899 to 0.08389, saving model to best_ecg_model.keras\n",
      "\u001b[1m1608/1608\u001b[0m \u001b[32m━━━━━━━━━━━━━━━━━━━━\u001b[0m\u001b[37m\u001b[0m \u001b[1m5s\u001b[0m 3ms/step - accuracy: 0.9726 - loss: 0.1032 - val_accuracy: 0.9771 - val_loss: 0.0839\n",
      "Epoch 7/50\n",
      "\u001b[1m1588/1608\u001b[0m \u001b[32m━━━━━━━━━━━━━━━━━━━\u001b[0m\u001b[37m━\u001b[0m \u001b[1m0s\u001b[0m 2ms/step - accuracy: 0.9758 - loss: 0.0915\n",
      "Epoch 7: val_loss did not improve from 0.08389\n",
      "\u001b[1m1608/1608\u001b[0m \u001b[32m━━━━━━━━━━━━━━━━━━━━\u001b[0m\u001b[37m\u001b[0m \u001b[1m5s\u001b[0m 3ms/step - accuracy: 0.9758 - loss: 0.0915 - val_accuracy: 0.9771 - val_loss: 0.0913\n",
      "Epoch 8/50\n",
      "\u001b[1m1596/1608\u001b[0m \u001b[32m━━━━━━━━━━━━━━━━━━━\u001b[0m\u001b[37m━\u001b[0m \u001b[1m0s\u001b[0m 2ms/step - accuracy: 0.9769 - loss: 0.0869\n",
      "Epoch 8: val_loss did not improve from 0.08389\n",
      "\u001b[1m1608/1608\u001b[0m \u001b[32m━━━━━━━━━━━━━━━━━━━━\u001b[0m\u001b[37m\u001b[0m \u001b[1m5s\u001b[0m 3ms/step - accuracy: 0.9769 - loss: 0.0869 - val_accuracy: 0.9773 - val_loss: 0.0856\n",
      "Epoch 9/50\n",
      "\u001b[1m1596/1608\u001b[0m \u001b[32m━━━━━━━━━━━━━━━━━━━\u001b[0m\u001b[37m━\u001b[0m \u001b[1m0s\u001b[0m 2ms/step - accuracy: 0.9792 - loss: 0.0747\n",
      "Epoch 9: val_loss improved from 0.08389 to 0.06614, saving model to best_ecg_model.keras\n",
      "\u001b[1m1608/1608\u001b[0m \u001b[32m━━━━━━━━━━━━━━━━━━━━\u001b[0m\u001b[37m\u001b[0m \u001b[1m5s\u001b[0m 3ms/step - accuracy: 0.9792 - loss: 0.0747 - val_accuracy: 0.9808 - val_loss: 0.0661\n",
      "Epoch 10/50\n",
      "\u001b[1m1600/1608\u001b[0m \u001b[32m━━━━━━━━━━━━━━━━━━━\u001b[0m\u001b[37m━\u001b[0m \u001b[1m0s\u001b[0m 2ms/step - accuracy: 0.9808 - loss: 0.0737\n",
      "Epoch 10: val_loss improved from 0.06614 to 0.06130, saving model to best_ecg_model.keras\n",
      "\u001b[1m1608/1608\u001b[0m \u001b[32m━━━━━━━━━━━━━━━━━━━━\u001b[0m\u001b[37m\u001b[0m \u001b[1m5s\u001b[0m 3ms/step - accuracy: 0.9808 - loss: 0.0737 - val_accuracy: 0.9820 - val_loss: 0.0613\n",
      "Epoch 11/50\n",
      "\u001b[1m1590/1608\u001b[0m \u001b[32m━━━━━━━━━━━━━━━━━━━\u001b[0m\u001b[37m━\u001b[0m \u001b[1m0s\u001b[0m 2ms/step - accuracy: 0.9815 - loss: 0.0663\n",
      "Epoch 11: val_loss did not improve from 0.06130\n",
      "\u001b[1m1608/1608\u001b[0m \u001b[32m━━━━━━━━━━━━━━━━━━━━\u001b[0m\u001b[37m\u001b[0m \u001b[1m5s\u001b[0m 3ms/step - accuracy: 0.9815 - loss: 0.0664 - val_accuracy: 0.9820 - val_loss: 0.0653\n",
      "Epoch 12/50\n",
      "\u001b[1m1607/1608\u001b[0m \u001b[32m━━━━━━━━━━━━━━━━━━━\u001b[0m\u001b[37m━\u001b[0m \u001b[1m0s\u001b[0m 2ms/step - accuracy: 0.9834 - loss: 0.0624\n",
      "Epoch 12: val_loss improved from 0.06130 to 0.06082, saving model to best_ecg_model.keras\n",
      "\u001b[1m1608/1608\u001b[0m \u001b[32m━━━━━━━━━━━━━━━━━━━━\u001b[0m\u001b[37m\u001b[0m \u001b[1m5s\u001b[0m 3ms/step - accuracy: 0.9834 - loss: 0.0624 - val_accuracy: 0.9837 - val_loss: 0.0608\n",
      "Epoch 13/50\n",
      "\u001b[1m1592/1608\u001b[0m \u001b[32m━━━━━━━━━━━━━━━━━━━\u001b[0m\u001b[37m━\u001b[0m \u001b[1m0s\u001b[0m 2ms/step - accuracy: 0.9826 - loss: 0.0648\n",
      "Epoch 13: val_loss improved from 0.06082 to 0.05918, saving model to best_ecg_model.keras\n",
      "\u001b[1m1608/1608\u001b[0m \u001b[32m━━━━━━━━━━━━━━━━━━━━\u001b[0m\u001b[37m\u001b[0m \u001b[1m5s\u001b[0m 3ms/step - accuracy: 0.9826 - loss: 0.0647 - val_accuracy: 0.9847 - val_loss: 0.0592\n",
      "Epoch 14/50\n",
      "\u001b[1m1604/1608\u001b[0m \u001b[32m━━━━━━━━━━━━━━━━━━━\u001b[0m\u001b[37m━\u001b[0m \u001b[1m0s\u001b[0m 2ms/step - accuracy: 0.9849 - loss: 0.0567\n",
      "Epoch 14: val_loss improved from 0.05918 to 0.05204, saving model to best_ecg_model.keras\n",
      "\u001b[1m1608/1608\u001b[0m \u001b[32m━━━━━━━━━━━━━━━━━━━━\u001b[0m\u001b[37m\u001b[0m \u001b[1m5s\u001b[0m 3ms/step - accuracy: 0.9849 - loss: 0.0567 - val_accuracy: 0.9851 - val_loss: 0.0520\n",
      "Epoch 15/50\n",
      "\u001b[1m1596/1608\u001b[0m \u001b[32m━━━━━━━━━━━━━━━━━━━\u001b[0m\u001b[37m━\u001b[0m \u001b[1m0s\u001b[0m 2ms/step - accuracy: 0.9846 - loss: 0.0562\n",
      "Epoch 15: val_loss improved from 0.05204 to 0.05143, saving model to best_ecg_model.keras\n",
      "\u001b[1m1608/1608\u001b[0m \u001b[32m━━━━━━━━━━━━━━━━━━━━\u001b[0m\u001b[37m\u001b[0m \u001b[1m5s\u001b[0m 3ms/step - accuracy: 0.9846 - loss: 0.0562 - val_accuracy: 0.9865 - val_loss: 0.0514\n",
      "Epoch 16/50\n",
      "\u001b[1m1604/1608\u001b[0m \u001b[32m━━━━━━━━━━━━━━━━━━━\u001b[0m\u001b[37m━\u001b[0m \u001b[1m0s\u001b[0m 2ms/step - accuracy: 0.9862 - loss: 0.0504\n",
      "Epoch 16: val_loss improved from 0.05143 to 0.05074, saving model to best_ecg_model.keras\n",
      "\u001b[1m1608/1608\u001b[0m \u001b[32m━━━━━━━━━━━━━━━━━━━━\u001b[0m\u001b[37m\u001b[0m \u001b[1m5s\u001b[0m 3ms/step - accuracy: 0.9862 - loss: 0.0504 - val_accuracy: 0.9859 - val_loss: 0.0507\n",
      "Epoch 17/50\n",
      "\u001b[1m1591/1608\u001b[0m \u001b[32m━━━━━━━━━━━━━━━━━━━\u001b[0m\u001b[37m━\u001b[0m \u001b[1m0s\u001b[0m 3ms/step - accuracy: 0.9857 - loss: 0.0535\n",
      "Epoch 17: val_loss did not improve from 0.05074\n",
      "\u001b[1m1608/1608\u001b[0m \u001b[32m━━━━━━━━━━━━━━━━━━━━\u001b[0m\u001b[37m\u001b[0m \u001b[1m5s\u001b[0m 3ms/step - accuracy: 0.9857 - loss: 0.0535 - val_accuracy: 0.9869 - val_loss: 0.0523\n",
      "Epoch 18/50\n",
      "\u001b[1m1598/1608\u001b[0m \u001b[32m━━━━━━━━━━━━━━━━━━━\u001b[0m\u001b[37m━\u001b[0m \u001b[1m0s\u001b[0m 2ms/step - accuracy: 0.9865 - loss: 0.0485\n",
      "Epoch 18: val_loss improved from 0.05074 to 0.04688, saving model to best_ecg_model.keras\n",
      "\u001b[1m1608/1608\u001b[0m \u001b[32m━━━━━━━━━━━━━━━━━━━━\u001b[0m\u001b[37m\u001b[0m \u001b[1m5s\u001b[0m 3ms/step - accuracy: 0.9865 - loss: 0.0485 - val_accuracy: 0.9868 - val_loss: 0.0469\n",
      "Epoch 19/50\n",
      "\u001b[1m1608/1608\u001b[0m \u001b[32m━━━━━━━━━━━━━━━━━━━━\u001b[0m\u001b[37m\u001b[0m \u001b[1m0s\u001b[0m 2ms/step - accuracy: 0.9870 - loss: 0.0458\n",
      "Epoch 19: val_loss improved from 0.04688 to 0.04641, saving model to best_ecg_model.keras\n",
      "\u001b[1m1608/1608\u001b[0m \u001b[32m━━━━━━━━━━━━━━━━━━━━\u001b[0m\u001b[37m\u001b[0m \u001b[1m5s\u001b[0m 3ms/step - accuracy: 0.9870 - loss: 0.0458 - val_accuracy: 0.9872 - val_loss: 0.0464\n",
      "Epoch 20/50\n",
      "\u001b[1m1594/1608\u001b[0m \u001b[32m━━━━━━━━━━━━━━━━━━━\u001b[0m\u001b[37m━\u001b[0m \u001b[1m0s\u001b[0m 2ms/step - accuracy: 0.9872 - loss: 0.0453\n",
      "Epoch 20: val_loss did not improve from 0.04641\n",
      "\u001b[1m1608/1608\u001b[0m \u001b[32m━━━━━━━━━━━━━━━━━━━━\u001b[0m\u001b[37m\u001b[0m \u001b[1m5s\u001b[0m 3ms/step - accuracy: 0.9872 - loss: 0.0453 - val_accuracy: 0.9869 - val_loss: 0.0514\n",
      "Epoch 21/50\n",
      "\u001b[1m1599/1608\u001b[0m \u001b[32m━━━━━━━━━━━━━━━━━━━\u001b[0m\u001b[37m━\u001b[0m \u001b[1m0s\u001b[0m 2ms/step - accuracy: 0.9878 - loss: 0.0438\n",
      "Epoch 21: val_loss improved from 0.04641 to 0.04437, saving model to best_ecg_model.keras\n",
      "\u001b[1m1608/1608\u001b[0m \u001b[32m━━━━━━━━━━━━━━━━━━━━\u001b[0m\u001b[37m\u001b[0m \u001b[1m5s\u001b[0m 3ms/step - accuracy: 0.9878 - loss: 0.0438 - val_accuracy: 0.9878 - val_loss: 0.0444\n",
      "Epoch 22/50\n",
      "\u001b[1m1600/1608\u001b[0m \u001b[32m━━━━━━━━━━━━━━━━━━━\u001b[0m\u001b[37m━\u001b[0m \u001b[1m0s\u001b[0m 2ms/step - accuracy: 0.9881 - loss: 0.0424\n",
      "Epoch 22: val_loss did not improve from 0.04437\n",
      "\u001b[1m1608/1608\u001b[0m \u001b[32m━━━━━━━━━━━━━━━━━━━━\u001b[0m\u001b[37m\u001b[0m \u001b[1m5s\u001b[0m 3ms/step - accuracy: 0.9881 - loss: 0.0424 - val_accuracy: 0.9864 - val_loss: 0.0486\n",
      "Epoch 23/50\n",
      "\u001b[1m1603/1608\u001b[0m \u001b[32m━━━━━━━━━━━━━━━━━━━\u001b[0m\u001b[37m━\u001b[0m \u001b[1m0s\u001b[0m 2ms/step - accuracy: 0.9876 - loss: 0.0429\n",
      "Epoch 23: val_loss did not improve from 0.04437\n",
      "\u001b[1m1608/1608\u001b[0m \u001b[32m━━━━━━━━━━━━━━━━━━━━\u001b[0m\u001b[37m\u001b[0m \u001b[1m5s\u001b[0m 3ms/step - accuracy: 0.9876 - loss: 0.0429 - val_accuracy: 0.9874 - val_loss: 0.0456\n",
      "Epoch 24/50\n",
      "\u001b[1m1595/1608\u001b[0m \u001b[32m━━━━━━━━━━━━━━━━━━━\u001b[0m\u001b[37m━\u001b[0m \u001b[1m0s\u001b[0m 2ms/step - accuracy: 0.9891 - loss: 0.0402\n",
      "Epoch 24: val_loss did not improve from 0.04437\n",
      "\u001b[1m1608/1608\u001b[0m \u001b[32m━━━━━━━━━━━━━━━━━━━━\u001b[0m\u001b[37m\u001b[0m \u001b[1m5s\u001b[0m 3ms/step - accuracy: 0.9891 - loss: 0.0402 - val_accuracy: 0.9866 - val_loss: 0.0515\n",
      "Epoch 25/50\n",
      "\u001b[1m1607/1608\u001b[0m \u001b[32m━━━━━━━━━━━━━━━━━━━\u001b[0m\u001b[37m━\u001b[0m \u001b[1m0s\u001b[0m 2ms/step - accuracy: 0.9898 - loss: 0.0371\n",
      "Epoch 25: val_loss did not improve from 0.04437\n",
      "\u001b[1m1608/1608\u001b[0m \u001b[32m━━━━━━━━━━━━━━━━━━━━\u001b[0m\u001b[37m\u001b[0m \u001b[1m5s\u001b[0m 3ms/step - accuracy: 0.9898 - loss: 0.0372 - val_accuracy: 0.9864 - val_loss: 0.0511\n",
      "Epoch 26/50\n",
      "\u001b[1m1588/1608\u001b[0m \u001b[32m━━━━━━━━━━━━━━━━━━━\u001b[0m\u001b[37m━\u001b[0m \u001b[1m0s\u001b[0m 2ms/step - accuracy: 0.9895 - loss: 0.0366\n",
      "Epoch 26: val_loss did not improve from 0.04437\n",
      "\u001b[1m1608/1608\u001b[0m \u001b[32m━━━━━━━━━━━━━━━━━━━━\u001b[0m\u001b[37m\u001b[0m \u001b[1m5s\u001b[0m 3ms/step - accuracy: 0.9895 - loss: 0.0366 - val_accuracy: 0.9880 - val_loss: 0.0467\n"
     ]
    }
   ],
   "source": [
    "# Train the model\n",
    "history = model.fit(\n",
    "    train_x, train_y,\n",
    "    batch_size=42,  # Number of samples per batch\n",
    "    epochs=50,  # Train for up to 50 epochs\n",
    "    verbose=1,  # Show training progress\n",
    "    validation_data=(valid_x, valid_y),  # Validate on test data\n",
    "    callbacks=[early_stopping, checkpoint]  # Apply early stopping and checkpoint\n",
    ")"
   ]
  },
  {
   "cell_type": "code",
   "execution_count": 35,
   "id": "07cfcd13",
   "metadata": {
    "execution": {
     "iopub.execute_input": "2025-02-28T12:37:57.228906Z",
     "iopub.status.busy": "2025-02-28T12:37:57.228580Z",
     "iopub.status.idle": "2025-02-28T12:37:57.479106Z",
     "shell.execute_reply": "2025-02-28T12:37:57.478156Z"
    },
    "papermill": {
     "duration": 0.366988,
     "end_time": "2025-02-28T12:37:57.480588",
     "exception": false,
     "start_time": "2025-02-28T12:37:57.113600",
     "status": "completed"
    },
    "tags": []
   },
   "outputs": [
    {
     "data": {
      "image/png": "[encoded data removed]",
      "text/plain": [
       "<Figure size 640x480 with 1 Axes>"
      ]
     },
     "metadata": {},
     "output_type": "display_data"
    }
   ],
   "source": [
    "# Plot training and validation loss\n",
    "plt.plot(history.history['loss'], label='Training Loss')  # Plot training loss\n",
    "plt.plot(history.history['val_loss'], label='Validation Loss')  # Plot validation loss\n",
    "\n",
    "# Set the title and axis labels\n",
    "plt.title('Model Loss Over Epochs')  # Title of the plot\n",
    "plt.ylabel('Loss')  # Y-axis label (Loss)\n",
    "plt.xlabel('Epoch')  # X-axis label (Epoch count)\n",
    "\n",
    "# Add a legend to differentiate between training and validation loss\n",
    "plt.legend(['Train', 'Validation'], loc='upper left')\n",
    "plt.savefig('loss_plot.png')\n",
    "\n",
    "# Display the plot\n",
    "plt.show()"
   ]
  },
  {
   "cell_type": "code",
   "execution_count": 36,
   "id": "ebaaa00c",
   "metadata": {
    "execution": {
     "iopub.execute_input": "2025-02-28T12:37:57.702118Z",
     "iopub.status.busy": "2025-02-28T12:37:57.701796Z",
     "iopub.status.idle": "2025-02-28T12:37:57.970228Z",
     "shell.execute_reply": "2025-02-28T12:37:57.969422Z"
    },
    "papermill": {
     "duration": 0.380238,
     "end_time": "2025-02-28T12:37:57.971855",
     "exception": false,
     "start_time": "2025-02-28T12:37:57.591617",
     "status": "completed"
    },
    "tags": []
   },
   "outputs": [
    {
     "data": {
      "image/png": "[encoded data removed]",
      "text/plain": [
       "<Figure size 640x480 with 1 Axes>"
      ]
     },
     "metadata": {},
     "output_type": "display_data"
    }
   ],
   "source": [
    "# Plot training and validation accuracy\n",
    "plt.plot(history.history['accuracy'], label='Training Accuracy')  # Plot training accuracy\n",
    "plt.plot(history.history['val_accuracy'], label='Validation Accuracy')  # Plot validation accuracy\n",
    "\n",
    "# Set the title and axis labels\n",
    "plt.title('Model Accuracy Over Epochs')  # Title of the plot\n",
    "plt.ylabel('Accuracy')  # Y-axis label (Accuracy)\n",
    "plt.xlabel('Epoch')  # X-axis label (Epoch count)\n",
    "\n",
    "# Add a legend to differentiate between training and validation accuracy\n",
    "plt.legend(['Train', 'Validation'], loc='upper left')\n",
    "plt.savefig('accuracy_plot.png')\n",
    "\n",
    "# Display the plot\n",
    "plt.show()"
   ]
  },
  {
   "cell_type": "code",
   "execution_count": 37,
   "id": "26a98e43",
   "metadata": {
    "execution": {
     "iopub.execute_input": "2025-02-28T12:37:58.206156Z",
     "iopub.status.busy": "2025-02-28T12:37:58.205832Z",
     "iopub.status.idle": "2025-02-28T12:38:00.404079Z",
     "shell.execute_reply": "2025-02-28T12:38:00.403081Z"
    },
    "papermill": {
     "duration": 2.314313,
     "end_time": "2025-02-28T12:38:00.405533",
     "exception": false,
     "start_time": "2025-02-28T12:37:58.091220",
     "status": "completed"
    },
    "tags": []
   },
   "outputs": [
    {
     "name": "stdout",
     "output_type": "stream",
     "text": [
      "\u001b[1m704/704\u001b[0m \u001b[32m━━━━━━━━━━━━━━━━━━━━\u001b[0m\u001b[37m\u001b[0m \u001b[1m2s\u001b[0m 2ms/step\n"
     ]
    },
    {
     "data": {
      "text/plain": [
       "array([[1.21236462e-06, 7.87593797e-25, 1.24593589e-06, 1.39265847e-11,\n",
       "        9.99997497e-01],\n",
       "       [9.87734973e-01, 1.51133064e-11, 1.02430567e-04, 5.34219085e-04,\n",
       "        1.16283605e-02],\n",
       "       [9.95399535e-01, 3.68259229e-14, 1.02563090e-05, 7.52953638e-05,\n",
       "        4.51492006e-03],\n",
       "       ...,\n",
       "       [9.98739183e-01, 1.38230779e-15, 4.25227563e-06, 5.26675612e-05,\n",
       "        1.20396505e-03],\n",
       "       [2.42917496e-03, 2.70995639e-12, 1.48965453e-03, 8.34808361e-06,\n",
       "        9.96072888e-01],\n",
       "       [9.99958754e-01, 2.89021848e-25, 5.13126652e-10, 4.02325888e-08,\n",
       "        4.12913905e-05]], dtype=float32)"
      ]
     },
     "execution_count": 37,
     "metadata": {},
     "output_type": "execute_result"
    }
   ],
   "source": [
    "model.predict(test_x)"
   ]
  },
  {
   "cell_type": "code",
   "execution_count": 38,
   "id": "6df140ef",
   "metadata": {
    "execution": {
     "iopub.execute_input": "2025-02-28T12:38:00.628279Z",
     "iopub.status.busy": "2025-02-28T12:38:00.627931Z",
     "iopub.status.idle": "2025-02-28T12:38:02.291258Z",
     "shell.execute_reply": "2025-02-28T12:38:02.290424Z"
    },
    "papermill": {
     "duration": 1.776339,
     "end_time": "2025-02-28T12:38:02.292605",
     "exception": false,
     "start_time": "2025-02-28T12:38:00.516266",
     "status": "completed"
    },
    "tags": []
   },
   "outputs": [
    {
     "name": "stdout",
     "output_type": "stream",
     "text": [
      "\u001b[1m704/704\u001b[0m \u001b[32m━━━━━━━━━━━━━━━━━━━━\u001b[0m\u001b[37m\u001b[0m \u001b[1m2s\u001b[0m 2ms/step - accuracy: 0.9867 - loss: 0.0412\n",
      "Test Loss: 0.0442\n",
      "Test Accuracy: 98.68%\n"
     ]
    }
   ],
   "source": [
    "# Evaluate the trained model on the test dataset\n",
    "score = model.evaluate(test_x, test_y)\n",
    "\n",
    "# Print the test loss\n",
    "print(f'Test Loss: {score[0]:.4f}')  # Display test loss with 4 decimal precision\n",
    "\n",
    "# Print the test accuracy\n",
    "print(f'Test Accuracy: {score[1] * 100:.2f}%')"
   ]
  },
  {
   "cell_type": "code",
   "execution_count": 39,
   "id": "b6a97df0",
   "metadata": {
    "execution": {
     "iopub.execute_input": "2025-02-28T12:38:02.571355Z",
     "iopub.status.busy": "2025-02-28T12:38:02.571030Z",
     "iopub.status.idle": "2025-02-28T12:38:04.443839Z",
     "shell.execute_reply": "2025-02-28T12:38:04.442816Z"
    },
    "papermill": {
     "duration": 2.039426,
     "end_time": "2025-02-28T12:38:04.445104",
     "exception": false,
     "start_time": "2025-02-28T12:38:02.405678",
     "status": "completed"
    },
    "tags": []
   },
   "outputs": [
    {
     "name": "stdout",
     "output_type": "stream",
     "text": [
      "\u001b[1m704/704\u001b[0m \u001b[32m━━━━━━━━━━━━━━━━━━━━\u001b[0m\u001b[37m\u001b[0m \u001b[1m1s\u001b[0m 1ms/step\n"
     ]
    },
    {
     "data": {
      "image/png": "[encoded data removed]",
      "text/plain": [
       "<Figure size 640x480 with 2 Axes>"
      ]
     },
     "metadata": {},
     "output_type": "display_data"
    }
   ],
   "source": [
    "from sklearn.metrics import confusion_matrix\n",
    "import seaborn as sns\n",
    "\n",
    "y_true=[]\n",
    "for element in test_y:\n",
    "    y_true.append(np.argmax(element))\n",
    "prediction_proba=model.predict(test_x)\n",
    "prediction=np.argmax(prediction_proba,axis=1)\n",
    "ax=plt.subplot()\n",
    "custCnnConfMat = confusion_matrix(y_true, prediction)\n",
    "sns.heatmap(custCnnConfMat, annot=True,fmt='d',ax=ax)\n",
    "ax.set_title('Confusion Matrix'); \n",
    "plt.savefig('cm')"
   ]
  },
  {
   "cell_type": "code",
   "execution_count": 40,
   "id": "0a48e434",
   "metadata": {
    "execution": {
     "iopub.execute_input": "2025-02-28T12:38:04.672856Z",
     "iopub.status.busy": "2025-02-28T12:38:04.672208Z",
     "iopub.status.idle": "2025-02-28T12:38:04.694836Z",
     "shell.execute_reply": "2025-02-28T12:38:04.693792Z"
    },
    "papermill": {
     "duration": 0.136965,
     "end_time": "2025-02-28T12:38:04.696219",
     "exception": false,
     "start_time": "2025-02-28T12:38:04.559254",
     "status": "completed"
    },
    "tags": []
   },
   "outputs": [
    {
     "name": "stdout",
     "output_type": "stream",
     "text": [
      "              precision    recall  f1-score   support\n",
      "\n",
      "           0     0.9921    0.9929    0.9925     15143\n",
      "           2     0.9622    0.9615    0.9618      1402\n",
      "           3     0.7853    0.8101    0.7975       158\n",
      "           4     0.9843    0.9816    0.9829      5803\n",
      "\n",
      "    accuracy                         0.9868     22506\n",
      "   macro avg     0.9310    0.9365    0.9337     22506\n",
      "weighted avg     0.9868    0.9868    0.9868     22506\n",
      "\n"
     ]
    }
   ],
   "source": [
    "from sklearn.metrics import classification_report\n",
    "\n",
    "cf = classification_report(y_true, prediction,digits=4)\n",
    "print(cf)"
   ]
  },
  {
   "cell_type": "code",
   "execution_count": null,
   "id": "99585870",
   "metadata": {
    "papermill": {
     "duration": 0.118754,
     "end_time": "2025-02-28T12:38:04.934817",
     "exception": false,
     "start_time": "2025-02-28T12:38:04.816063",
     "status": "completed"
    },
    "tags": []
   },
   "outputs": [],
   "source": []
  }
 ],
 "metadata": {
  "kaggle": {
   "accelerator": "gpu",
   "dataSources": [
    {
     "datasetId": 6548859,
     "sourceId": 10582402,
     "sourceType": "datasetVersion"
    }
   ],
   "dockerImageVersionId": 30919,
   "isGpuEnabled": true,
   "isInternetEnabled": true,
   "language": "python",
   "sourceType": "notebook"
  },
  "kernelspec": {
   "display_name": "Python 3",
   "language": "python",
   "name": "python3"
  },
  "language_info": {
   "codemirror_mode": {
    "name": "ipython",
    "version": 3
   },
   "file_extension": ".py",
   "mimetype": "text/x-python",
   "name": "python",
   "nbconvert_exporter": "python",
   "pygments_lexer": "ipython3",
   "version": "3.10.12"
  },
  "papermill": {
   "default_parameters": {},
   "duration": 214.963809,
   "end_time": "2025-02-28T12:38:08.205098",
   "environment_variables": {},
   "exception": null,
   "input_path": "__notebook__.ipynb",
   "output_path": "__notebook__.ipynb",
   "parameters": {},
   "start_time": "2025-02-28T12:34:33.241289",
   "version": "2.6.0"
  }
 },
 "nbformat": 4,
 "nbformat_minor": 5
}
