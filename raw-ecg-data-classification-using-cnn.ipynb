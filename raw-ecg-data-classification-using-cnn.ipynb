{
 "cells": [
  {
   "cell_type": "markdown",
   "id": "cad562bd",
   "metadata": {
    "papermill": {
     "duration": 0.007535,
     "end_time": "2025-03-03T06:04:34.648272",
     "exception": false,
     "start_time": "2025-03-03T06:04:34.640737",
     "status": "completed"
    },
    "tags": []
   },
   "source": [
    "# **Dataset Preparation**"
   ]
  },
  {
   "cell_type": "markdown",
   "id": "bbaa87a0",
   "metadata": {
    "papermill": {
     "duration": 0.006505,
     "end_time": "2025-03-03T06:04:34.661602",
     "exception": false,
     "start_time": "2025-03-03T06:04:34.655097",
     "status": "completed"
    },
    "tags": []
   },
   "source": [
    "### Install `wfdb` Library\n",
    "\n",
    "This code installs the `wfdb` Python library, which is used for reading, writing, and processing physiological signal data (such as ECG or other bio-signals). \n",
    "\n",
    "- The `!pip install -q wfdb` command is used to install the `wfdb` library via pip in a Jupyter notebook or similar environment.\n",
    "- The `-q` flag stands for \"quiet\" mode, which suppresses most of the installation output for a cleaner experience.\n",
    "  \n",
    "By running this cell, the `wfdb` library will be available for use in subsequent code cells.\n"
   ]
  },
  {
   "cell_type": "code",
   "execution_count": 1,
   "id": "5e09865b",
   "metadata": {
    "execution": {
     "iopub.execute_input": "2025-03-03T06:04:34.676167Z",
     "iopub.status.busy": "2025-03-03T06:04:34.675867Z",
     "iopub.status.idle": "2025-03-03T06:04:39.521250Z",
     "shell.execute_reply": "2025-03-03T06:04:39.520333Z"
    },
    "papermill": {
     "duration": 4.85462,
     "end_time": "2025-03-03T06:04:39.522848",
     "exception": false,
     "start_time": "2025-03-03T06:04:34.668228",
     "status": "completed"
    },
    "tags": []
   },
   "outputs": [
    {
     "name": "stdout",
     "output_type": "stream",
     "text": [
      "\u001b[2K   \u001b[90m━━━━━━━━━━━━━━━━━━━━━━━━━━━━━━━━━━━━━━━━\u001b[0m \u001b[32m162.3/162.3 kB\u001b[0m \u001b[31m4.8 MB/s\u001b[0m eta \u001b[36m0:00:00\u001b[0m\r\n",
      "\u001b[?25h"
     ]
    }
   ],
   "source": [
    "!pip install -q wfdb"
   ]
  },
  {
   "cell_type": "markdown",
   "id": "f22d9334",
   "metadata": {
    "papermill": {
     "duration": 0.006722,
     "end_time": "2025-03-03T06:04:39.536970",
     "exception": false,
     "start_time": "2025-03-03T06:04:39.530248",
     "status": "completed"
    },
    "tags": []
   },
   "source": [
    "### Import library"
   ]
  },
  {
   "cell_type": "code",
   "execution_count": 2,
   "id": "e174a283",
   "metadata": {
    "execution": {
     "iopub.execute_input": "2025-03-03T06:04:39.551818Z",
     "iopub.status.busy": "2025-03-03T06:04:39.551457Z",
     "iopub.status.idle": "2025-03-03T06:04:53.550806Z",
     "shell.execute_reply": "2025-03-03T06:04:53.549832Z"
    },
    "papermill": {
     "duration": 14.008661,
     "end_time": "2025-03-03T06:04:53.552479",
     "exception": false,
     "start_time": "2025-03-03T06:04:39.543818",
     "status": "completed"
    },
    "tags": []
   },
   "outputs": [],
   "source": [
    "import os\n",
    "import wfdb\n",
    "import numpy as np\n",
    "import pandas as pd\n",
    "from scipy.signal import resample\n",
    "import matplotlib.pyplot as plt\n",
    "from scipy.interpolate import interp1d\n",
    "from sklearn.model_selection import train_test_split\n",
    "\n",
    "import keras\n",
    "from keras.models import Sequential, Model\n",
    "from keras.layers import Conv1D, AvgPool1D, MaxPooling1D, Flatten, Dense, Dropout, Softmax, Concatenate\n",
    "from tensorflow.keras.callbacks import EarlyStopping, ModelCheckpoint\n",
    "from keras.layers import BatchNormalization\n",
    "from keras.optimizers import Adam \n",
    "import tensorflow as tf\n",
    "from tensorflow.keras.utils import to_categorical\n",
    "from tensorflow.keras.utils import plot_model\n",
    "from keras import regularizers\n",
    "from sklearn.preprocessing import StandardScaler"
   ]
  },
  {
   "cell_type": "markdown",
   "id": "d94cba05",
   "metadata": {
    "papermill": {
     "duration": 0.00672,
     "end_time": "2025-03-03T06:04:53.566654",
     "exception": false,
     "start_time": "2025-03-03T06:04:53.559934",
     "status": "completed"
    },
    "tags": []
   },
   "source": [
    "## *Datasets*\n",
    "\n",
    "### 1. [MIT-BIH Arrhythmia Database](https://physionet.org/content/mitdb/1.0.0/)\n",
    "- *Description:* Contains normal sinus rhythm ECG signals.  \n",
    "- *Sampling Frequency:* 360 Hz.  \n",
    "- *Leads:* MLII and V1.  \n",
    "- *Files:*\n",
    "  - .atr → Annotation file.  \n",
    "  - .dat → Information about the beats.  \n",
    "  - .header → Metadata of the file record.\n"
   ]
  },
  {
   "cell_type": "code",
   "execution_count": 3,
   "id": "21321cc7",
   "metadata": {
    "execution": {
     "iopub.execute_input": "2025-03-03T06:04:53.581356Z",
     "iopub.status.busy": "2025-03-03T06:04:53.580883Z",
     "iopub.status.idle": "2025-03-03T06:04:53.592732Z",
     "shell.execute_reply": "2025-03-03T06:04:53.591913Z"
    },
    "papermill": {
     "duration": 0.020629,
     "end_time": "2025-03-03T06:04:53.593980",
     "exception": false,
     "start_time": "2025-03-03T06:04:53.573351",
     "status": "completed"
    },
    "tags": []
   },
   "outputs": [
    {
     "name": "stdout",
     "output_type": "stream",
     "text": [
      "['100', '101', '102', '103', '104', '105', '106', '107', '108', '109', '111', '112', '113', '114', '115', '116', '117', '118', '119', '121', '122', '123', '124', '200', '201', '202', '203', '205', '207', '208', '209', '210', '212', '213', '214', '215', '217', '219', '220', '221', '222', '223', '228', '230', '231', '232', '233', '234']\n"
     ]
    }
   ],
   "source": [
    "# Define the file path\n",
    "file_path = \"/kaggle/input/mit-ar/mit-bih-arrhythmia-database-1.0.0/RECORDS\"\n",
    "\n",
    "try:\n",
    "    # Open the file and read all lines\n",
    "    with open(file_path, \"r\") as file:\n",
    "        lines = file.readlines()\n",
    "\n",
    "    # Clean the data by removing any leading/trailing whitespace\n",
    "    cleaned_data = [line.strip() for line in lines]\n",
    "\n",
    "    # Display the cleaned data\n",
    "    print(cleaned_data)\n",
    "\n",
    "except FileNotFoundError:\n",
    "    print(f\"Error: The file '{file_path}' was not found.\")\n",
    "except Exception as e:\n",
    "    print(f\"An error occurred: {e}\")"
   ]
  },
  {
   "cell_type": "code",
   "execution_count": 4,
   "id": "e972aefe",
   "metadata": {
    "execution": {
     "iopub.execute_input": "2025-03-03T06:04:53.609183Z",
     "iopub.status.busy": "2025-03-03T06:04:53.608904Z",
     "iopub.status.idle": "2025-03-03T06:04:57.382200Z",
     "shell.execute_reply": "2025-03-03T06:04:57.381401Z"
    },
    "papermill": {
     "duration": 3.782634,
     "end_time": "2025-03-03T06:04:57.383463",
     "exception": false,
     "start_time": "2025-03-03T06:04:53.600829",
     "status": "completed"
    },
    "tags": []
   },
   "outputs": [
    {
     "name": "stdout",
     "output_type": "stream",
     "text": [
      "Total beats extracted: 112532\n",
      "Total labels: 112532\n",
      "Length of first beat: 216\n"
     ]
    }
   ],
   "source": [
    "def extract_beats_from_multiple_files(record_list):\n",
    "    beat_labels = []\n",
    "    beats = []\n",
    "    \n",
    "    for name in record_list:\n",
    "        record_name = f\"/kaggle/input/mit-ar/mit-bih-arrhythmia-database-1.0.0/{name}\"  # Adjust path as needed\n",
    "        try:\n",
    "            record = wfdb.rdrecord(record_name, channels=[0])  # Load lead 0 (MLII)\n",
    "            annotation = wfdb.rdann(record_name, 'atr')\n",
    "\n",
    "            # Extract signal and sampling frequency\n",
    "            signal = record.p_signal.flatten()  # Convert 2D signal to 1D\n",
    "            fs = record.fs  # 360 Hz for MIT-BIH\n",
    "\n",
    "            # Get R-peak locations and annotations\n",
    "            r_peaks = annotation.sample\n",
    "            labels = annotation.symbol\n",
    "            \n",
    "            # Define window size (0.6 seconds * fs)\n",
    "            window_size = int(0.6 * fs)  # 216 samples at 360 Hz\n",
    "            \n",
    "            for i in range(1, len(r_peaks) - 1):  # Ignore first & last beats\n",
    "                start = max(0, r_peaks[i] - window_size // 2)\n",
    "                end = min(len(signal), r_peaks[i] + window_size // 2)\n",
    "                beat = signal[start:end]\n",
    "                \n",
    "                # Append only if the extracted beat matches the window size\n",
    "                if len(beat) == window_size:\n",
    "                    beats.append(beat)\n",
    "                    beat_labels.append(labels[i])\n",
    "        except Exception as e:\n",
    "            print(f\"Error processing record {name}: {e}\")\n",
    "            continue\n",
    "\n",
    "    return beat_labels, beats\n",
    "\n",
    "# Your record list\n",
    "record_list = ['100', '101', '102', '103', '104', '105', '106', '107', '108', '109', \n",
    "               '111', '112', '113', '114', '115', '116', '117', '118', '119', '121', \n",
    "               '122', '123', '124', '200', '201', '202', '203', '205', '207', '208', \n",
    "               '209', '210', '212', '213', '214', '215', '217', '219', '220', '221', \n",
    "               '222', '223', '228', '230', '231', '232', '233', '234']\n",
    "\n",
    "# Extract beats and labels\n",
    "labels, extracted_beats = extract_beats_from_multiple_files(record_list)\n",
    "\n",
    "# Basic validation\n",
    "print(f\"Total beats extracted: {len(extracted_beats)}\")\n",
    "print(f\"Total labels: {len(labels)}\")\n",
    "print(f\"Length of first beat: {len(extracted_beats[0]) if extracted_beats else 'N/A'}\")"
   ]
  },
  {
   "cell_type": "code",
   "execution_count": 5,
   "id": "263fe625",
   "metadata": {
    "execution": {
     "iopub.execute_input": "2025-03-03T06:04:57.398917Z",
     "iopub.status.busy": "2025-03-03T06:04:57.398627Z",
     "iopub.status.idle": "2025-03-03T06:04:57.727996Z",
     "shell.execute_reply": "2025-03-03T06:04:57.727132Z"
    },
    "papermill": {
     "duration": 0.338427,
     "end_time": "2025-03-03T06:04:57.729287",
     "exception": false,
     "start_time": "2025-03-03T06:04:57.390860",
     "status": "completed"
    },
    "tags": []
   },
   "outputs": [
    {
     "data": {
      "image/png": "[encoded data removed]",
      "text/plain": [
       "<Figure size 3000x600 with 1 Axes>"
      ]
     },
     "metadata": {},
     "output_type": "display_data"
    }
   ],
   "source": [
    "# Create the plot\n",
    "plt.figure(figsize=(30, 6))  # Set figure size to (30, 6)\n",
    "plt.plot(extracted_beats[0], linewidth=2, color='blue')  # Plot the ECG beat\n",
    "plt.title('ECG Beat Sample plot (216 Samples)', fontsize=16)\n",
    "plt.xlabel('Sample Index', fontsize=12)\n",
    "plt.ylabel('Amplitude (mV)', fontsize=12)\n",
    "plt.grid(True)  # Add a grid for better readability\n",
    "plt.show()"
   ]
  },
  {
   "cell_type": "code",
   "execution_count": 6,
   "id": "c8cb9afe",
   "metadata": {
    "execution": {
     "iopub.execute_input": "2025-03-03T06:04:57.747159Z",
     "iopub.status.busy": "2025-03-03T06:04:57.746896Z",
     "iopub.status.idle": "2025-03-03T06:05:15.442670Z",
     "shell.execute_reply": "2025-03-03T06:05:15.441405Z"
    },
    "papermill": {
     "duration": 17.705792,
     "end_time": "2025-03-03T06:05:15.444061",
     "exception": false,
     "start_time": "2025-03-03T06:04:57.738269",
     "status": "completed"
    },
    "tags": []
   },
   "outputs": [
    {
     "name": "stdout",
     "output_type": "stream",
     "text": [
      "Converting beats to array...\n",
      "Creating DataFrame with 217 columns...\n",
      "CSV saved as 'mitbih_beats_expanded.csv'\n",
      "Validating CSV...\n",
      "CSV Shape: (112532, 217)\n",
      "Sample data:\n",
      "   signal_0  signal_1  signal_2  signal_3  signal_4  signal_5  signal_6  \\\n",
      "0    -0.310    -0.325    -0.310    -0.300    -0.290     -0.31    -0.325   \n",
      "1    -0.330    -0.335    -0.355    -0.360    -0.355     -0.35    -0.340   \n",
      "2    -0.365    -0.380    -0.370    -0.365    -0.350     -0.35    -0.350   \n",
      "3    -0.320    -0.340    -0.340    -0.350    -0.365     -0.36    -0.345   \n",
      "4    -0.335    -0.355    -0.345    -0.340    -0.335     -0.32    -0.325   \n",
      "\n",
      "   signal_7  signal_8  signal_9  ...  signal_207  signal_208  signal_209  \\\n",
      "0    -0.330    -0.315    -0.300  ...      -0.455      -0.450      -0.455   \n",
      "1    -0.345    -0.345    -0.345  ...      -0.425      -0.425      -0.415   \n",
      "2    -0.370    -0.365    -0.345  ...      -0.370      -0.365      -0.370   \n",
      "3    -0.345    -0.350    -0.350  ...      -0.450      -0.445      -0.430   \n",
      "4    -0.350    -0.330    -0.315  ...      -0.435      -0.435      -0.445   \n",
      "\n",
      "   signal_210  signal_211  signal_212  signal_213  signal_214  signal_215  \\\n",
      "0      -0.470      -0.475      -0.460      -0.450      -0.445       -0.44   \n",
      "1      -0.395      -0.395      -0.390      -0.375      -0.360       -0.34   \n",
      "2      -0.375      -0.350      -0.335      -0.320      -0.315       -0.32   \n",
      "3      -0.420      -0.410      -0.425      -0.420      -0.405       -0.38   \n",
      "4      -0.440      -0.450      -0.430      -0.430      -0.415       -0.40   \n",
      "\n",
      "   label  \n",
      "0      N  \n",
      "1      N  \n",
      "2      N  \n",
      "3      N  \n",
      "4      N  \n",
      "\n",
      "[5 rows x 217 columns]\n",
      "Signals Shape: (112532, 216)\n",
      "Labels Shape: (112532,)\n"
     ]
    }
   ],
   "source": [
    "# Convert beats to a NumPy array with 216 columns\n",
    "print(\"Converting beats to array...\")\n",
    "signals = np.array(extracted_beats)  # Shape: (~108,000, 216)\n",
    "\n",
    "# Create DataFrame with 216 signal columns and 1 label column\n",
    "print(\"Creating DataFrame with 217 columns...\")\n",
    "signal_columns = [f\"signal_{i}\" for i in range(216)]  # Column names: signal_0, signal_1, ..., signal_215\n",
    "df = pd.DataFrame(signals, columns=signal_columns)\n",
    "df[\"label\"] = labels  # Add label column\n",
    "\n",
    "# Save to CSV\n",
    "csv_path = \"mitbih_beats_expanded.csv\"\n",
    "df.to_csv(csv_path, index=False)\n",
    "print(f\"CSV saved as '{csv_path}'\")\n",
    "\n",
    "# Validate the CSV\n",
    "print(\"Validating CSV...\")\n",
    "df_loaded = pd.read_csv(csv_path)\n",
    "print(f\"CSV Shape: {df_loaded.shape}\")\n",
    "print(f\"Sample data:\\n{df_loaded.head()}\")\n",
    "\n",
    "# Validate signals and labels shapes\n",
    "signals_loaded = df_loaded[[f\"signal_{i}\" for i in range(216)]].values\n",
    "labels_loaded = df_loaded[\"label\"].values\n",
    "print(f\"Signals Shape: {signals_loaded.shape}\")\n",
    "print(f\"Labels Shape: {labels_loaded.shape}\")"
   ]
  },
  {
   "cell_type": "code",
   "execution_count": 7,
   "id": "560a407a",
   "metadata": {
    "execution": {
     "iopub.execute_input": "2025-03-03T06:05:15.463387Z",
     "iopub.status.busy": "2025-03-03T06:05:15.463080Z",
     "iopub.status.idle": "2025-03-03T06:05:29.715305Z",
     "shell.execute_reply": "2025-03-03T06:05:29.714630Z"
    },
    "papermill": {
     "duration": 14.26365,
     "end_time": "2025-03-03T06:05:29.716963",
     "exception": false,
     "start_time": "2025-03-03T06:05:15.453313",
     "status": "completed"
    },
    "tags": []
   },
   "outputs": [],
   "source": [
    "target_classes = ['N', 'V', 'F', 'Q']\n",
    "df[\"label\"] = df[\"label\"].apply(lambda x: x if x in target_classes else 'Q')\n",
    "df.to_csv(\"mitbih_beats_relabeled.csv\", index=False)"
   ]
  },
  {
   "cell_type": "code",
   "execution_count": 8,
   "id": "f8aa9d06",
   "metadata": {
    "execution": {
     "iopub.execute_input": "2025-03-03T06:05:29.734907Z",
     "iopub.status.busy": "2025-03-03T06:05:29.734645Z",
     "iopub.status.idle": "2025-03-03T06:05:29.748185Z",
     "shell.execute_reply": "2025-03-03T06:05:29.747472Z"
    },
    "papermill": {
     "duration": 0.023705,
     "end_time": "2025-03-03T06:05:29.749580",
     "exception": false,
     "start_time": "2025-03-03T06:05:29.725875",
     "status": "completed"
    },
    "tags": []
   },
   "outputs": [
    {
     "data": {
      "text/plain": [
       "label\n",
       "N    75005\n",
       "Q    29596\n",
       "V     7129\n",
       "F      802\n",
       "Name: count, dtype: int64"
      ]
     },
     "execution_count": 8,
     "metadata": {},
     "output_type": "execute_result"
    }
   ],
   "source": [
    "df['label'].value_counts()"
   ]
  },
  {
   "cell_type": "code",
   "execution_count": 9,
   "id": "6b6e530c",
   "metadata": {
    "execution": {
     "iopub.execute_input": "2025-03-03T06:05:29.766825Z",
     "iopub.status.busy": "2025-03-03T06:05:29.766590Z",
     "iopub.status.idle": "2025-03-03T06:05:29.775524Z",
     "shell.execute_reply": "2025-03-03T06:05:29.774836Z"
    },
    "papermill": {
     "duration": 0.018915,
     "end_time": "2025-03-03T06:05:29.776804",
     "exception": false,
     "start_time": "2025-03-03T06:05:29.757889",
     "status": "completed"
    },
    "tags": []
   },
   "outputs": [
    {
     "name": "stdout",
     "output_type": "stream",
     "text": [
      "Encoding labels manually...\n"
     ]
    }
   ],
   "source": [
    "print(\"Encoding labels manually...\")\n",
    "label_mapping = {'N': 0, 'V': 1, 'F': 2, 'Q': 3}  # Custom mapping\n",
    "df[\"label\"] = df[\"label\"].map(label_mapping)"
   ]
  },
  {
   "cell_type": "code",
   "execution_count": 10,
   "id": "6f10edc4",
   "metadata": {
    "execution": {
     "iopub.execute_input": "2025-03-03T06:05:29.794178Z",
     "iopub.status.busy": "2025-03-03T06:05:29.793940Z",
     "iopub.status.idle": "2025-03-03T06:05:29.819849Z",
     "shell.execute_reply": "2025-03-03T06:05:29.819000Z"
    },
    "papermill": {
     "duration": 0.035758,
     "end_time": "2025-03-03T06:05:29.821092",
     "exception": false,
     "start_time": "2025-03-03T06:05:29.785334",
     "status": "completed"
    },
    "tags": []
   },
   "outputs": [
    {
     "data": {
      "text/html": [
       "<div>\n",
       "<style scoped>\n",
       "    .dataframe tbody tr th:only-of-type {\n",
       "        vertical-align: middle;\n",
       "    }\n",
       "\n",
       "    .dataframe tbody tr th {\n",
       "        vertical-align: top;\n",
       "    }\n",
       "\n",
       "    .dataframe thead th {\n",
       "        text-align: right;\n",
       "    }\n",
       "</style>\n",
       "<table border=\"1\" class=\"dataframe\">\n",
       "  <thead>\n",
       "    <tr style=\"text-align: right;\">\n",
       "      <th></th>\n",
       "      <th>signal_0</th>\n",
       "      <th>signal_1</th>\n",
       "      <th>signal_2</th>\n",
       "      <th>signal_3</th>\n",
       "      <th>signal_4</th>\n",
       "      <th>signal_5</th>\n",
       "      <th>signal_6</th>\n",
       "      <th>signal_7</th>\n",
       "      <th>signal_8</th>\n",
       "      <th>signal_9</th>\n",
       "      <th>...</th>\n",
       "      <th>signal_207</th>\n",
       "      <th>signal_208</th>\n",
       "      <th>signal_209</th>\n",
       "      <th>signal_210</th>\n",
       "      <th>signal_211</th>\n",
       "      <th>signal_212</th>\n",
       "      <th>signal_213</th>\n",
       "      <th>signal_214</th>\n",
       "      <th>signal_215</th>\n",
       "      <th>label</th>\n",
       "    </tr>\n",
       "  </thead>\n",
       "  <tbody>\n",
       "    <tr>\n",
       "      <th>0</th>\n",
       "      <td>-0.310</td>\n",
       "      <td>-0.325</td>\n",
       "      <td>-0.310</td>\n",
       "      <td>-0.300</td>\n",
       "      <td>-0.290</td>\n",
       "      <td>-0.31</td>\n",
       "      <td>-0.325</td>\n",
       "      <td>-0.330</td>\n",
       "      <td>-0.315</td>\n",
       "      <td>-0.300</td>\n",
       "      <td>...</td>\n",
       "      <td>-0.455</td>\n",
       "      <td>-0.450</td>\n",
       "      <td>-0.455</td>\n",
       "      <td>-0.470</td>\n",
       "      <td>-0.475</td>\n",
       "      <td>-0.460</td>\n",
       "      <td>-0.450</td>\n",
       "      <td>-0.445</td>\n",
       "      <td>-0.44</td>\n",
       "      <td>0</td>\n",
       "    </tr>\n",
       "    <tr>\n",
       "      <th>1</th>\n",
       "      <td>-0.330</td>\n",
       "      <td>-0.335</td>\n",
       "      <td>-0.355</td>\n",
       "      <td>-0.360</td>\n",
       "      <td>-0.355</td>\n",
       "      <td>-0.35</td>\n",
       "      <td>-0.340</td>\n",
       "      <td>-0.345</td>\n",
       "      <td>-0.345</td>\n",
       "      <td>-0.345</td>\n",
       "      <td>...</td>\n",
       "      <td>-0.425</td>\n",
       "      <td>-0.425</td>\n",
       "      <td>-0.415</td>\n",
       "      <td>-0.395</td>\n",
       "      <td>-0.395</td>\n",
       "      <td>-0.390</td>\n",
       "      <td>-0.375</td>\n",
       "      <td>-0.360</td>\n",
       "      <td>-0.34</td>\n",
       "      <td>0</td>\n",
       "    </tr>\n",
       "    <tr>\n",
       "      <th>2</th>\n",
       "      <td>-0.365</td>\n",
       "      <td>-0.380</td>\n",
       "      <td>-0.370</td>\n",
       "      <td>-0.365</td>\n",
       "      <td>-0.350</td>\n",
       "      <td>-0.35</td>\n",
       "      <td>-0.350</td>\n",
       "      <td>-0.370</td>\n",
       "      <td>-0.365</td>\n",
       "      <td>-0.345</td>\n",
       "      <td>...</td>\n",
       "      <td>-0.370</td>\n",
       "      <td>-0.365</td>\n",
       "      <td>-0.370</td>\n",
       "      <td>-0.375</td>\n",
       "      <td>-0.350</td>\n",
       "      <td>-0.335</td>\n",
       "      <td>-0.320</td>\n",
       "      <td>-0.315</td>\n",
       "      <td>-0.32</td>\n",
       "      <td>0</td>\n",
       "    </tr>\n",
       "    <tr>\n",
       "      <th>3</th>\n",
       "      <td>-0.320</td>\n",
       "      <td>-0.340</td>\n",
       "      <td>-0.340</td>\n",
       "      <td>-0.350</td>\n",
       "      <td>-0.365</td>\n",
       "      <td>-0.36</td>\n",
       "      <td>-0.345</td>\n",
       "      <td>-0.345</td>\n",
       "      <td>-0.350</td>\n",
       "      <td>-0.350</td>\n",
       "      <td>...</td>\n",
       "      <td>-0.450</td>\n",
       "      <td>-0.445</td>\n",
       "      <td>-0.430</td>\n",
       "      <td>-0.420</td>\n",
       "      <td>-0.410</td>\n",
       "      <td>-0.425</td>\n",
       "      <td>-0.420</td>\n",
       "      <td>-0.405</td>\n",
       "      <td>-0.38</td>\n",
       "      <td>0</td>\n",
       "    </tr>\n",
       "    <tr>\n",
       "      <th>4</th>\n",
       "      <td>-0.335</td>\n",
       "      <td>-0.355</td>\n",
       "      <td>-0.345</td>\n",
       "      <td>-0.340</td>\n",
       "      <td>-0.335</td>\n",
       "      <td>-0.32</td>\n",
       "      <td>-0.325</td>\n",
       "      <td>-0.350</td>\n",
       "      <td>-0.330</td>\n",
       "      <td>-0.315</td>\n",
       "      <td>...</td>\n",
       "      <td>-0.435</td>\n",
       "      <td>-0.435</td>\n",
       "      <td>-0.445</td>\n",
       "      <td>-0.440</td>\n",
       "      <td>-0.450</td>\n",
       "      <td>-0.430</td>\n",
       "      <td>-0.430</td>\n",
       "      <td>-0.415</td>\n",
       "      <td>-0.40</td>\n",
       "      <td>0</td>\n",
       "    </tr>\n",
       "  </tbody>\n",
       "</table>\n",
       "<p>5 rows × 217 columns</p>\n",
       "</div>"
      ],
      "text/plain": [
       "   signal_0  signal_1  signal_2  signal_3  signal_4  signal_5  signal_6  \\\n",
       "0    -0.310    -0.325    -0.310    -0.300    -0.290     -0.31    -0.325   \n",
       "1    -0.330    -0.335    -0.355    -0.360    -0.355     -0.35    -0.340   \n",
       "2    -0.365    -0.380    -0.370    -0.365    -0.350     -0.35    -0.350   \n",
       "3    -0.320    -0.340    -0.340    -0.350    -0.365     -0.36    -0.345   \n",
       "4    -0.335    -0.355    -0.345    -0.340    -0.335     -0.32    -0.325   \n",
       "\n",
       "   signal_7  signal_8  signal_9  ...  signal_207  signal_208  signal_209  \\\n",
       "0    -0.330    -0.315    -0.300  ...      -0.455      -0.450      -0.455   \n",
       "1    -0.345    -0.345    -0.345  ...      -0.425      -0.425      -0.415   \n",
       "2    -0.370    -0.365    -0.345  ...      -0.370      -0.365      -0.370   \n",
       "3    -0.345    -0.350    -0.350  ...      -0.450      -0.445      -0.430   \n",
       "4    -0.350    -0.330    -0.315  ...      -0.435      -0.435      -0.445   \n",
       "\n",
       "   signal_210  signal_211  signal_212  signal_213  signal_214  signal_215  \\\n",
       "0      -0.470      -0.475      -0.460      -0.450      -0.445       -0.44   \n",
       "1      -0.395      -0.395      -0.390      -0.375      -0.360       -0.34   \n",
       "2      -0.375      -0.350      -0.335      -0.320      -0.315       -0.32   \n",
       "3      -0.420      -0.410      -0.425      -0.420      -0.405       -0.38   \n",
       "4      -0.440      -0.450      -0.430      -0.430      -0.415       -0.40   \n",
       "\n",
       "   label  \n",
       "0      0  \n",
       "1      0  \n",
       "2      0  \n",
       "3      0  \n",
       "4      0  \n",
       "\n",
       "[5 rows x 217 columns]"
      ]
     },
     "execution_count": 10,
     "metadata": {},
     "output_type": "execute_result"
    }
   ],
   "source": [
    "df.head()"
   ]
  },
  {
   "cell_type": "markdown",
   "id": "cc10d885",
   "metadata": {
    "papermill": {
     "duration": 0.008523,
     "end_time": "2025-03-03T06:05:29.838900",
     "exception": false,
     "start_time": "2025-03-03T06:05:29.830377",
     "status": "completed"
    },
    "tags": []
   },
   "source": [
    "# **CNN Model Training**"
   ]
  },
  {
   "cell_type": "code",
   "execution_count": 11,
   "id": "a57be8fd",
   "metadata": {
    "execution": {
     "iopub.execute_input": "2025-03-03T06:05:29.858157Z",
     "iopub.status.busy": "2025-03-03T06:05:29.857866Z",
     "iopub.status.idle": "2025-03-03T06:05:29.862188Z",
     "shell.execute_reply": "2025-03-03T06:05:29.861284Z"
    },
    "papermill": {
     "duration": 0.015792,
     "end_time": "2025-03-03T06:05:29.863468",
     "exception": false,
     "start_time": "2025-03-03T06:05:29.847676",
     "status": "completed"
    },
    "tags": []
   },
   "outputs": [
    {
     "name": "stdout",
     "output_type": "stream",
     "text": [
      "The Shape of the data: (112532, 217)\n"
     ]
    }
   ],
   "source": [
    "print(f\"The Shape of the data: {df.shape}\")"
   ]
  },
  {
   "cell_type": "markdown",
   "id": "ccc2886c",
   "metadata": {
    "papermill": {
     "duration": 0.008538,
     "end_time": "2025-03-03T06:05:29.881012",
     "exception": false,
     "start_time": "2025-03-03T06:05:29.872474",
     "status": "completed"
    },
    "tags": []
   },
   "source": [
    "## Visualizing Class Distribution in the ECG Dataset\n",
    "This cell generates a **pie chart** to visualize the proportion of **normal vs. abnormal ECG beats** in the dataset.\n",
    "\n",
    "### Steps Involved:\n",
    "    1. Counting Instances of Each Class\n",
    "\n",
    "        * data.iloc[:, -1].value_counts() retrieves the count of normal (0) and abnormal (1) beats from the last column of the dataset.\n",
    "        * The result is stored in per_classes.\n",
    "    2. Creating the Pie Chart\n",
    "\n",
    "    * A figure of size (20,10) is created for better visibility.\n",
    "    * The plt.pie() function is used to generate the chart:\n",
    "        * Labels: ['Normal', 'Abnormal'] to distinguish between classes.\n",
    "        * Colors: tab:blue for normal and tab:orange for abnormal beats.\n",
    "        * Percentage Display: autopct='%1.1f%%' shows the percentage of each class in the dataset.\n",
    "3. Displaying the Chart\n",
    "\n",
    "    * plt.show() renders the pie chart.\n",
    "### Purpose of This Visualization\n",
    "    * Helps in understanding class imbalance in the dataset.\n",
    "    * Provides insight into the distribution of normal vs. abnormal heartbeats, which is crucial for model performance and bias mitigation."
   ]
  },
  {
   "cell_type": "code",
   "execution_count": 12,
   "id": "825b71ee",
   "metadata": {
    "execution": {
     "iopub.execute_input": "2025-03-03T06:05:29.899831Z",
     "iopub.status.busy": "2025-03-03T06:05:29.899445Z",
     "iopub.status.idle": "2025-03-03T06:05:30.027284Z",
     "shell.execute_reply": "2025-03-03T06:05:30.026398Z"
    },
    "papermill": {
     "duration": 0.139213,
     "end_time": "2025-03-03T06:05:30.028839",
     "exception": false,
     "start_time": "2025-03-03T06:05:29.889626",
     "status": "completed"
    },
    "tags": []
   },
   "outputs": [
    {
     "data": {
      "image/png": "[encoded data removed]",
      "text/plain": [
       "<Figure size 2000x1000 with 1 Axes>"
      ]
     },
     "metadata": {},
     "output_type": "display_data"
    }
   ],
   "source": [
    "per_classes = df.iloc[:, -1].value_counts()\n",
    "plt.figure(figsize=(20,10))\n",
    "plt.pie(per_classes, labels=['N', 'V', 'F', 'Q'], autopct='%1.1f%%')\n",
    "plt.show()"
   ]
  },
  {
   "cell_type": "code",
   "execution_count": 13,
   "id": "016cdaa2",
   "metadata": {
    "execution": {
     "iopub.execute_input": "2025-03-03T06:05:30.048980Z",
     "iopub.status.busy": "2025-03-03T06:05:30.048712Z",
     "iopub.status.idle": "2025-03-03T06:05:30.055018Z",
     "shell.execute_reply": "2025-03-03T06:05:30.054271Z"
    },
    "papermill": {
     "duration": 0.017888,
     "end_time": "2025-03-03T06:05:30.056452",
     "exception": false,
     "start_time": "2025-03-03T06:05:30.038564",
     "status": "completed"
    },
    "tags": []
   },
   "outputs": [
    {
     "data": {
      "text/plain": [
       "label\n",
       "0    75005\n",
       "3    29596\n",
       "1     7129\n",
       "2      802\n",
       "Name: count, dtype: int64"
      ]
     },
     "execution_count": 13,
     "metadata": {},
     "output_type": "execute_result"
    }
   ],
   "source": [
    "df.iloc[:, -1].value_counts()"
   ]
  },
  {
   "cell_type": "code",
   "execution_count": 14,
   "id": "ccc6ffad",
   "metadata": {
    "execution": {
     "iopub.execute_input": "2025-03-03T06:05:30.075918Z",
     "iopub.status.busy": "2025-03-03T06:05:30.075676Z",
     "iopub.status.idle": "2025-03-03T06:05:30.159952Z",
     "shell.execute_reply": "2025-03-03T06:05:30.159062Z"
    },
    "papermill": {
     "duration": 0.095381,
     "end_time": "2025-03-03T06:05:30.161269",
     "exception": false,
     "start_time": "2025-03-03T06:05:30.065888",
     "status": "completed"
    },
    "tags": []
   },
   "outputs": [
    {
     "data": {
      "text/html": [
       "<div>\n",
       "<style scoped>\n",
       "    .dataframe tbody tr th:only-of-type {\n",
       "        vertical-align: middle;\n",
       "    }\n",
       "\n",
       "    .dataframe tbody tr th {\n",
       "        vertical-align: top;\n",
       "    }\n",
       "\n",
       "    .dataframe thead th {\n",
       "        text-align: right;\n",
       "    }\n",
       "</style>\n",
       "<table border=\"1\" class=\"dataframe\">\n",
       "  <thead>\n",
       "    <tr style=\"text-align: right;\">\n",
       "      <th></th>\n",
       "      <th>signal_0</th>\n",
       "      <th>signal_1</th>\n",
       "      <th>signal_2</th>\n",
       "      <th>signal_3</th>\n",
       "      <th>signal_4</th>\n",
       "      <th>signal_5</th>\n",
       "      <th>signal_6</th>\n",
       "      <th>signal_7</th>\n",
       "      <th>signal_8</th>\n",
       "      <th>signal_9</th>\n",
       "      <th>...</th>\n",
       "      <th>signal_206</th>\n",
       "      <th>signal_207</th>\n",
       "      <th>signal_208</th>\n",
       "      <th>signal_209</th>\n",
       "      <th>signal_210</th>\n",
       "      <th>signal_211</th>\n",
       "      <th>signal_212</th>\n",
       "      <th>signal_213</th>\n",
       "      <th>signal_214</th>\n",
       "      <th>signal_215</th>\n",
       "    </tr>\n",
       "  </thead>\n",
       "  <tbody>\n",
       "    <tr>\n",
       "      <th>0</th>\n",
       "      <td>-0.310</td>\n",
       "      <td>-0.325</td>\n",
       "      <td>-0.310</td>\n",
       "      <td>-0.300</td>\n",
       "      <td>-0.290</td>\n",
       "      <td>-0.31</td>\n",
       "      <td>-0.325</td>\n",
       "      <td>-0.330</td>\n",
       "      <td>-0.315</td>\n",
       "      <td>-0.300</td>\n",
       "      <td>...</td>\n",
       "      <td>-0.460</td>\n",
       "      <td>-0.455</td>\n",
       "      <td>-0.450</td>\n",
       "      <td>-0.455</td>\n",
       "      <td>-0.470</td>\n",
       "      <td>-0.475</td>\n",
       "      <td>-0.460</td>\n",
       "      <td>-0.450</td>\n",
       "      <td>-0.445</td>\n",
       "      <td>-0.44</td>\n",
       "    </tr>\n",
       "    <tr>\n",
       "      <th>1</th>\n",
       "      <td>-0.330</td>\n",
       "      <td>-0.335</td>\n",
       "      <td>-0.355</td>\n",
       "      <td>-0.360</td>\n",
       "      <td>-0.355</td>\n",
       "      <td>-0.35</td>\n",
       "      <td>-0.340</td>\n",
       "      <td>-0.345</td>\n",
       "      <td>-0.345</td>\n",
       "      <td>-0.345</td>\n",
       "      <td>...</td>\n",
       "      <td>-0.420</td>\n",
       "      <td>-0.425</td>\n",
       "      <td>-0.425</td>\n",
       "      <td>-0.415</td>\n",
       "      <td>-0.395</td>\n",
       "      <td>-0.395</td>\n",
       "      <td>-0.390</td>\n",
       "      <td>-0.375</td>\n",
       "      <td>-0.360</td>\n",
       "      <td>-0.34</td>\n",
       "    </tr>\n",
       "    <tr>\n",
       "      <th>2</th>\n",
       "      <td>-0.365</td>\n",
       "      <td>-0.380</td>\n",
       "      <td>-0.370</td>\n",
       "      <td>-0.365</td>\n",
       "      <td>-0.350</td>\n",
       "      <td>-0.35</td>\n",
       "      <td>-0.350</td>\n",
       "      <td>-0.370</td>\n",
       "      <td>-0.365</td>\n",
       "      <td>-0.345</td>\n",
       "      <td>...</td>\n",
       "      <td>-0.385</td>\n",
       "      <td>-0.370</td>\n",
       "      <td>-0.365</td>\n",
       "      <td>-0.370</td>\n",
       "      <td>-0.375</td>\n",
       "      <td>-0.350</td>\n",
       "      <td>-0.335</td>\n",
       "      <td>-0.320</td>\n",
       "      <td>-0.315</td>\n",
       "      <td>-0.32</td>\n",
       "    </tr>\n",
       "    <tr>\n",
       "      <th>3</th>\n",
       "      <td>-0.320</td>\n",
       "      <td>-0.340</td>\n",
       "      <td>-0.340</td>\n",
       "      <td>-0.350</td>\n",
       "      <td>-0.365</td>\n",
       "      <td>-0.36</td>\n",
       "      <td>-0.345</td>\n",
       "      <td>-0.345</td>\n",
       "      <td>-0.350</td>\n",
       "      <td>-0.350</td>\n",
       "      <td>...</td>\n",
       "      <td>-0.445</td>\n",
       "      <td>-0.450</td>\n",
       "      <td>-0.445</td>\n",
       "      <td>-0.430</td>\n",
       "      <td>-0.420</td>\n",
       "      <td>-0.410</td>\n",
       "      <td>-0.425</td>\n",
       "      <td>-0.420</td>\n",
       "      <td>-0.405</td>\n",
       "      <td>-0.38</td>\n",
       "    </tr>\n",
       "    <tr>\n",
       "      <th>4</th>\n",
       "      <td>-0.335</td>\n",
       "      <td>-0.355</td>\n",
       "      <td>-0.345</td>\n",
       "      <td>-0.340</td>\n",
       "      <td>-0.335</td>\n",
       "      <td>-0.32</td>\n",
       "      <td>-0.325</td>\n",
       "      <td>-0.350</td>\n",
       "      <td>-0.330</td>\n",
       "      <td>-0.315</td>\n",
       "      <td>...</td>\n",
       "      <td>-0.445</td>\n",
       "      <td>-0.435</td>\n",
       "      <td>-0.435</td>\n",
       "      <td>-0.445</td>\n",
       "      <td>-0.440</td>\n",
       "      <td>-0.450</td>\n",
       "      <td>-0.430</td>\n",
       "      <td>-0.430</td>\n",
       "      <td>-0.415</td>\n",
       "      <td>-0.40</td>\n",
       "    </tr>\n",
       "  </tbody>\n",
       "</table>\n",
       "<p>5 rows × 216 columns</p>\n",
       "</div>"
      ],
      "text/plain": [
       "   signal_0  signal_1  signal_2  signal_3  signal_4  signal_5  signal_6  \\\n",
       "0    -0.310    -0.325    -0.310    -0.300    -0.290     -0.31    -0.325   \n",
       "1    -0.330    -0.335    -0.355    -0.360    -0.355     -0.35    -0.340   \n",
       "2    -0.365    -0.380    -0.370    -0.365    -0.350     -0.35    -0.350   \n",
       "3    -0.320    -0.340    -0.340    -0.350    -0.365     -0.36    -0.345   \n",
       "4    -0.335    -0.355    -0.345    -0.340    -0.335     -0.32    -0.325   \n",
       "\n",
       "   signal_7  signal_8  signal_9  ...  signal_206  signal_207  signal_208  \\\n",
       "0    -0.330    -0.315    -0.300  ...      -0.460      -0.455      -0.450   \n",
       "1    -0.345    -0.345    -0.345  ...      -0.420      -0.425      -0.425   \n",
       "2    -0.370    -0.365    -0.345  ...      -0.385      -0.370      -0.365   \n",
       "3    -0.345    -0.350    -0.350  ...      -0.445      -0.450      -0.445   \n",
       "4    -0.350    -0.330    -0.315  ...      -0.445      -0.435      -0.435   \n",
       "\n",
       "   signal_209  signal_210  signal_211  signal_212  signal_213  signal_214  \\\n",
       "0      -0.455      -0.470      -0.475      -0.460      -0.450      -0.445   \n",
       "1      -0.415      -0.395      -0.395      -0.390      -0.375      -0.360   \n",
       "2      -0.370      -0.375      -0.350      -0.335      -0.320      -0.315   \n",
       "3      -0.430      -0.420      -0.410      -0.425      -0.420      -0.405   \n",
       "4      -0.445      -0.440      -0.450      -0.430      -0.430      -0.415   \n",
       "\n",
       "   signal_215  \n",
       "0       -0.44  \n",
       "1       -0.34  \n",
       "2       -0.32  \n",
       "3       -0.38  \n",
       "4       -0.40  \n",
       "\n",
       "[5 rows x 216 columns]"
      ]
     },
     "execution_count": 14,
     "metadata": {},
     "output_type": "execute_result"
    }
   ],
   "source": [
    "X = df.iloc[:, :-1]\n",
    "X.head()"
   ]
  },
  {
   "cell_type": "code",
   "execution_count": 15,
   "id": "d83f01e9",
   "metadata": {
    "execution": {
     "iopub.execute_input": "2025-03-03T06:05:30.182377Z",
     "iopub.status.busy": "2025-03-03T06:05:30.182088Z",
     "iopub.status.idle": "2025-03-03T06:05:30.187660Z",
     "shell.execute_reply": "2025-03-03T06:05:30.186883Z"
    },
    "papermill": {
     "duration": 0.017568,
     "end_time": "2025-03-03T06:05:30.188916",
     "exception": false,
     "start_time": "2025-03-03T06:05:30.171348",
     "status": "completed"
    },
    "tags": []
   },
   "outputs": [
    {
     "data": {
      "text/plain": [
       "0    0\n",
       "1    0\n",
       "2    0\n",
       "3    0\n",
       "4    0\n",
       "Name: label, dtype: int64"
      ]
     },
     "execution_count": 15,
     "metadata": {},
     "output_type": "execute_result"
    }
   ],
   "source": [
    "y = df.iloc[:, -1]\n",
    "y.head()"
   ]
  },
  {
   "cell_type": "code",
   "execution_count": 16,
   "id": "b246fa17",
   "metadata": {
    "execution": {
     "iopub.execute_input": "2025-03-03T06:05:30.209761Z",
     "iopub.status.busy": "2025-03-03T06:05:30.209473Z",
     "iopub.status.idle": "2025-03-03T06:05:30.213716Z",
     "shell.execute_reply": "2025-03-03T06:05:30.212988Z"
    },
    "papermill": {
     "duration": 0.015741,
     "end_time": "2025-03-03T06:05:30.214963",
     "exception": false,
     "start_time": "2025-03-03T06:05:30.199222",
     "status": "completed"
    },
    "tags": []
   },
   "outputs": [
    {
     "name": "stdout",
     "output_type": "stream",
     "text": [
      "The Shape of the X: (112532, 216)\n",
      "The Shape of the y: (112532,)\n"
     ]
    }
   ],
   "source": [
    "print(f\"The Shape of the X: {X.shape}\")\n",
    "print(f\"The Shape of the y: {y.shape}\")"
   ]
  },
  {
   "cell_type": "code",
   "execution_count": 17,
   "id": "a200aff6",
   "metadata": {
    "execution": {
     "iopub.execute_input": "2025-03-03T06:05:30.235509Z",
     "iopub.status.busy": "2025-03-03T06:05:30.235244Z",
     "iopub.status.idle": "2025-03-03T06:05:30.243338Z",
     "shell.execute_reply": "2025-03-03T06:05:30.242558Z"
    },
    "papermill": {
     "duration": 0.019768,
     "end_time": "2025-03-03T06:05:30.244562",
     "exception": false,
     "start_time": "2025-03-03T06:05:30.224794",
     "status": "completed"
    },
    "tags": []
   },
   "outputs": [
    {
     "data": {
      "text/html": [
       "<div>\n",
       "<style scoped>\n",
       "    .dataframe tbody tr th:only-of-type {\n",
       "        vertical-align: middle;\n",
       "    }\n",
       "\n",
       "    .dataframe tbody tr th {\n",
       "        vertical-align: top;\n",
       "    }\n",
       "\n",
       "    .dataframe thead th {\n",
       "        text-align: right;\n",
       "    }\n",
       "</style>\n",
       "<table border=\"1\" class=\"dataframe\">\n",
       "  <thead>\n",
       "    <tr style=\"text-align: right;\">\n",
       "      <th></th>\n",
       "      <th>label</th>\n",
       "      <th>count</th>\n",
       "    </tr>\n",
       "  </thead>\n",
       "  <tbody>\n",
       "    <tr>\n",
       "      <th>0</th>\n",
       "      <td>0</td>\n",
       "      <td>75005</td>\n",
       "    </tr>\n",
       "    <tr>\n",
       "      <th>1</th>\n",
       "      <td>3</td>\n",
       "      <td>29596</td>\n",
       "    </tr>\n",
       "    <tr>\n",
       "      <th>2</th>\n",
       "      <td>1</td>\n",
       "      <td>7129</td>\n",
       "    </tr>\n",
       "    <tr>\n",
       "      <th>3</th>\n",
       "      <td>2</td>\n",
       "      <td>802</td>\n",
       "    </tr>\n",
       "  </tbody>\n",
       "</table>\n",
       "</div>"
      ],
      "text/plain": [
       "   label  count\n",
       "0      0  75005\n",
       "1      3  29596\n",
       "2      1   7129\n",
       "3      2    802"
      ]
     },
     "execution_count": 17,
     "metadata": {},
     "output_type": "execute_result"
    }
   ],
   "source": [
    "# count of the classes\n",
    "y.value_counts().reset_index()"
   ]
  },
  {
   "cell_type": "code",
   "execution_count": 18,
   "id": "06c7d617",
   "metadata": {
    "execution": {
     "iopub.execute_input": "2025-03-03T06:05:30.264923Z",
     "iopub.status.busy": "2025-03-03T06:05:30.264696Z",
     "iopub.status.idle": "2025-03-03T06:05:30.459711Z",
     "shell.execute_reply": "2025-03-03T06:05:30.458872Z"
    },
    "papermill": {
     "duration": 0.206857,
     "end_time": "2025-03-03T06:05:30.461239",
     "exception": false,
     "start_time": "2025-03-03T06:05:30.254382",
     "status": "completed"
    },
    "tags": []
   },
   "outputs": [],
   "source": [
    "# First split: 80% train+validation, 20% test\n",
    "X_temp, X_test, y_temp, y_test = train_test_split(\n",
    "    X, y, test_size=0.2, random_state=42, stratify=y\n",
    ")\n",
    "\n",
    "# Second split: 60% train, 20% validation (0.25 of 80% = 20% of total)\n",
    "X_train, X_valid, y_train, y_valid = train_test_split(\n",
    "    X_temp, y_temp, test_size=0.25, random_state=42, stratify=y_temp\n",
    ")"
   ]
  },
  {
   "cell_type": "code",
   "execution_count": 19,
   "id": "ae046692",
   "metadata": {
    "execution": {
     "iopub.execute_input": "2025-03-03T06:05:30.482588Z",
     "iopub.status.busy": "2025-03-03T06:05:30.482291Z",
     "iopub.status.idle": "2025-03-03T06:05:30.488099Z",
     "shell.execute_reply": "2025-03-03T06:05:30.487166Z"
    },
    "papermill": {
     "duration": 0.017834,
     "end_time": "2025-03-03T06:05:30.489405",
     "exception": false,
     "start_time": "2025-03-03T06:05:30.471571",
     "status": "completed"
    },
    "tags": []
   },
   "outputs": [
    {
     "name": "stdout",
     "output_type": "stream",
     "text": [
      "The shape of X_train: (67518, 216)\n",
      "The shape of X_test: (22507, 216)\n",
      "The shape of X_valid: (22507, 216)\n",
      "The length of y_train: 67518\n",
      "The length of y_test: 22507\n",
      "The shape of y_valid: 22507\n"
     ]
    }
   ],
   "source": [
    "print(f\"The shape of X_train: {X_train.shape}\")\n",
    "print(f\"The shape of X_test: {X_test.shape}\")\n",
    "print(f\"The shape of X_valid: {X_valid.shape}\")\n",
    "print(f\"The length of y_train: {len(y_train)}\")\n",
    "print(f\"The length of y_test: {len(y_test)}\")\n",
    "print(f\"The shape of y_valid: {len(y_valid)}\")"
   ]
  },
  {
   "cell_type": "code",
   "execution_count": 20,
   "id": "4e7cd305",
   "metadata": {
    "execution": {
     "iopub.execute_input": "2025-03-03T06:05:30.510149Z",
     "iopub.status.busy": "2025-03-03T06:05:30.509917Z",
     "iopub.status.idle": "2025-03-03T06:05:30.780375Z",
     "shell.execute_reply": "2025-03-03T06:05:30.779584Z"
    },
    "papermill": {
     "duration": 0.282664,
     "end_time": "2025-03-03T06:05:30.781998",
     "exception": false,
     "start_time": "2025-03-03T06:05:30.499334",
     "status": "completed"
    },
    "tags": []
   },
   "outputs": [
    {
     "data": {
      "image/png": "[encoded data removed]",
      "text/plain": [
       "<Figure size 1000x800 with 3 Axes>"
      ]
     },
     "metadata": {},
     "output_type": "display_data"
    }
   ],
   "source": [
    "# Compute class distributions for training and testing sets\n",
    "train_classes, train_counts = np.unique(y_train, return_counts=True)\n",
    "test_classes, test_counts = np.unique(y_test, return_counts=True)\n",
    "valid_classes, valid_counts = np.unique(y_valid, return_counts=True)\n",
    "\n",
    "# Create a figure with two subplots (1 row, 2 columns)\n",
    "fig, axes = plt.subplots(1, 3, figsize=(10, 8))\n",
    "\n",
    "# Plot the Training Set Distribution\n",
    "axes[0].pie(train_counts, labels=['N', 'V', 'F', 'Q'], autopct='%1.1f%%')\n",
    "axes[0].set_title('Training Set Class Distribution')\n",
    "\n",
    "# Plot the Testing Set Distribution\n",
    "axes[1].pie(test_counts, labels=['N', 'V', 'F', 'Q'], autopct='%1.1f%%')\n",
    "axes[1].set_title('Testing Set Class Distribution')\n",
    "\n",
    "# Plot the Testing Set Distribution\n",
    "axes[2].pie(valid_counts, labels=['N', 'V', 'F', 'Q'], autopct='%1.1f%%')\n",
    "axes[2].set_title('Validation Set Class Distribution')\n",
    "\n",
    "# Adjust layout for better visualization\n",
    "plt.tight_layout()\n",
    "plt.show()"
   ]
  },
  {
   "cell_type": "code",
   "execution_count": 21,
   "id": "1e34190b",
   "metadata": {
    "execution": {
     "iopub.execute_input": "2025-03-03T06:05:30.805046Z",
     "iopub.status.busy": "2025-03-03T06:05:30.804801Z",
     "iopub.status.idle": "2025-03-03T06:05:30.810685Z",
     "shell.execute_reply": "2025-03-03T06:05:30.809841Z"
    },
    "papermill": {
     "duration": 0.018253,
     "end_time": "2025-03-03T06:05:30.811896",
     "exception": false,
     "start_time": "2025-03-03T06:05:30.793643",
     "status": "completed"
    },
    "tags": []
   },
   "outputs": [
    {
     "name": "stdout",
     "output_type": "stream",
     "text": [
      "(67518, 216, 1)\n",
      "<class 'numpy.ndarray'>\n",
      "(22507, 216, 1)\n",
      "<class 'numpy.ndarray'>\n",
      "(22507, 216, 1)\n",
      "<class 'numpy.ndarray'>\n"
     ]
    }
   ],
   "source": [
    "X_train = X_train.values\n",
    "train_x = X_train.reshape(len(X_train), X_train.shape[1],1)\n",
    "print(np.shape(train_x))\n",
    "# print(train_x[0])\n",
    "print(type(train_x))\n",
    "# X_train = np.array(X_train)\n",
    "\n",
    "X_test = X_test.values\n",
    "test_x = X_test.reshape(len(X_test), X_test.shape[1],1)\n",
    "print(np.shape(test_x))\n",
    "# print(train_x[0])\n",
    "print(type(test_x))\n",
    "\n",
    "X_valid = X_valid.values\n",
    "valid_x = X_valid.reshape(len(X_valid), X_valid.shape[1],1)\n",
    "print(np.shape(valid_x))\n",
    "# print(train_x[0])\n",
    "print(type(valid_x))\n",
    "# X_test = np.array(X_test)\n",
    "\n",
    "# print(type(y_train))"
   ]
  },
  {
   "cell_type": "code",
   "execution_count": 22,
   "id": "4495612e",
   "metadata": {
    "execution": {
     "iopub.execute_input": "2025-03-03T06:05:30.833718Z",
     "iopub.status.busy": "2025-03-03T06:05:30.833465Z",
     "iopub.status.idle": "2025-03-03T06:05:30.837271Z",
     "shell.execute_reply": "2025-03-03T06:05:30.836561Z"
    },
    "papermill": {
     "duration": 0.015901,
     "end_time": "2025-03-03T06:05:30.838407",
     "exception": false,
     "start_time": "2025-03-03T06:05:30.822506",
     "status": "completed"
    },
    "tags": []
   },
   "outputs": [
    {
     "name": "stdout",
     "output_type": "stream",
     "text": [
      "(67518,)\n",
      "(22507,)\n",
      "(22507,)\n"
     ]
    }
   ],
   "source": [
    "print(y_train.shape)\n",
    "print(y_test.shape)\n",
    "print(y_valid.shape)"
   ]
  },
  {
   "cell_type": "code",
   "execution_count": 23,
   "id": "7bc1fb74",
   "metadata": {
    "execution": {
     "iopub.execute_input": "2025-03-03T06:05:30.861032Z",
     "iopub.status.busy": "2025-03-03T06:05:30.860773Z",
     "iopub.status.idle": "2025-03-03T06:05:30.867853Z",
     "shell.execute_reply": "2025-03-03T06:05:30.866993Z"
    },
    "papermill": {
     "duration": 0.020063,
     "end_time": "2025-03-03T06:05:30.869154",
     "exception": false,
     "start_time": "2025-03-03T06:05:30.849091",
     "status": "completed"
    },
    "tags": []
   },
   "outputs": [
    {
     "name": "stdout",
     "output_type": "stream",
     "text": [
      "(67518, 4) (22507, 4) (22507, 4)\n"
     ]
    }
   ],
   "source": [
    "train_y=to_categorical(y_train)\n",
    "test_y=to_categorical(y_test)\n",
    "valid_y=to_categorical(y_valid)\n",
    "print(np.shape(train_y), np.shape(test_y), np.shape(valid_y))"
   ]
  },
  {
   "cell_type": "code",
   "execution_count": 24,
   "id": "e0141bb3",
   "metadata": {
    "execution": {
     "iopub.execute_input": "2025-03-03T06:05:30.892193Z",
     "iopub.status.busy": "2025-03-03T06:05:30.891811Z",
     "iopub.status.idle": "2025-03-03T06:05:30.938635Z",
     "shell.execute_reply": "2025-03-03T06:05:30.937680Z"
    },
    "papermill": {
     "duration": 0.05992,
     "end_time": "2025-03-03T06:05:30.940179",
     "exception": false,
     "start_time": "2025-03-03T06:05:30.880259",
     "status": "completed"
    },
    "tags": []
   },
   "outputs": [],
   "source": [
    "train_x = np.array(train_x, dtype=np.float32)\n",
    "train_y = np.array(train_y, dtype=np.float32)\n",
    "\n",
    "test_x = np.array(test_x, dtype=np.float32)\n",
    "test_y = np.array(test_y, dtype=np.float32)\n",
    "\n",
    "valid_x = np.array(valid_x, dtype=np.float32)\n",
    "valid_y = np.array(valid_y, dtype=np.float32)"
   ]
  },
  {
   "cell_type": "markdown",
   "id": "3e309295",
   "metadata": {
    "papermill": {
     "duration": 0.010792,
     "end_time": "2025-03-03T06:05:30.962233",
     "exception": false,
     "start_time": "2025-03-03T06:05:30.951441",
     "status": "completed"
    },
    "tags": []
   },
   "source": [
    "### Model Architecture Definition\n",
    "This section defines a **1D Convolutional Neural Network (CNN)** for ECG classification.\n",
    "The model consists of:\n",
    "\n",
    "1. **Four Convolutional Layers** with increasing filters (16 → 32 → 64 → 128) to extract ECG signal features.\n",
    "2. **Max Pooling Layers** to reduce spatial dimensions and computational complexity.\n",
    "3. **Flattening Layer** to convert feature maps into a single vector.\n",
    "4. **Fully Connected Layers** with **Dropout (0.5, 0.4, 0.3)** to prevent overfitting.\n",
    "5. **Output Layer** with a **sigmoid activation** for binary classification (Normal vs. Abnormal ECG)."
   ]
  },
  {
   "cell_type": "code",
   "execution_count": 25,
   "id": "10b39c76",
   "metadata": {
    "execution": {
     "iopub.execute_input": "2025-03-03T06:05:30.985405Z",
     "iopub.status.busy": "2025-03-03T06:05:30.985093Z",
     "iopub.status.idle": "2025-03-03T06:05:33.303501Z",
     "shell.execute_reply": "2025-03-03T06:05:33.302657Z"
    },
    "papermill": {
     "duration": 2.331462,
     "end_time": "2025-03-03T06:05:33.304883",
     "exception": false,
     "start_time": "2025-03-03T06:05:30.973421",
     "status": "completed"
    },
    "tags": []
   },
   "outputs": [
    {
     "name": "stderr",
     "output_type": "stream",
     "text": [
      "/usr/local/lib/python3.10/dist-packages/keras/src/layers/convolutional/base_conv.py:107: UserWarning: Do not pass an `input_shape`/`input_dim` argument to a layer. When using Sequential models, prefer using an `Input(shape)` object as the first layer in the model instead.\n",
      "  super().__init__(activity_regularizer=activity_regularizer, **kwargs)\n"
     ]
    },
    {
     "data": {
      "text/html": [
       "<pre style=\"white-space:pre;overflow-x:auto;line-height:normal;font-family:Menlo,'DejaVu Sans Mono',consolas,'Courier New',monospace\"><span style=\"font-weight: bold\">Model: \"sequential\"</span>\n",
       "</pre>\n"
      ],
      "text/plain": [
       "\u001b[1mModel: \"sequential\"\u001b[0m\n"
      ]
     },
     "metadata": {},
     "output_type": "display_data"
    },
    {
     "data": {
      "text/html": [
       "<pre style=\"white-space:pre;overflow-x:auto;line-height:normal;font-family:Menlo,'DejaVu Sans Mono',consolas,'Courier New',monospace\">┏━━━━━━━━━━━━━━━━━━━━━━━━━━━━━━━━━━━━━━┳━━━━━━━━━━━━━━━━━━━━━━━━━━━━━┳━━━━━━━━━━━━━━━━━┓\n",
       "┃<span style=\"font-weight: bold\"> Layer (type)                         </span>┃<span style=\"font-weight: bold\"> Output Shape                </span>┃<span style=\"font-weight: bold\">         Param # </span>┃\n",
       "┡━━━━━━━━━━━━━━━━━━━━━━━━━━━━━━━━━━━━━━╇━━━━━━━━━━━━━━━━━━━━━━━━━━━━━╇━━━━━━━━━━━━━━━━━┩\n",
       "│ conv1d (<span style=\"color: #0087ff; text-decoration-color: #0087ff\">Conv1D</span>)                      │ (<span style=\"color: #00d7ff; text-decoration-color: #00d7ff\">None</span>, <span style=\"color: #00af00; text-decoration-color: #00af00\">216</span>, <span style=\"color: #00af00; text-decoration-color: #00af00\">16</span>)             │             <span style=\"color: #00af00; text-decoration-color: #00af00\">192</span> │\n",
       "├──────────────────────────────────────┼─────────────────────────────┼─────────────────┤\n",
       "│ max_pooling1d (<span style=\"color: #0087ff; text-decoration-color: #0087ff\">MaxPooling1D</span>)         │ (<span style=\"color: #00d7ff; text-decoration-color: #00d7ff\">None</span>, <span style=\"color: #00af00; text-decoration-color: #00af00\">106</span>, <span style=\"color: #00af00; text-decoration-color: #00af00\">16</span>)             │               <span style=\"color: #00af00; text-decoration-color: #00af00\">0</span> │\n",
       "├──────────────────────────────────────┼─────────────────────────────┼─────────────────┤\n",
       "│ conv1d_1 (<span style=\"color: #0087ff; text-decoration-color: #0087ff\">Conv1D</span>)                    │ (<span style=\"color: #00d7ff; text-decoration-color: #00d7ff\">None</span>, <span style=\"color: #00af00; text-decoration-color: #00af00\">106</span>, <span style=\"color: #00af00; text-decoration-color: #00af00\">32</span>)             │           <span style=\"color: #00af00; text-decoration-color: #00af00\">6,688</span> │\n",
       "├──────────────────────────────────────┼─────────────────────────────┼─────────────────┤\n",
       "│ max_pooling1d_1 (<span style=\"color: #0087ff; text-decoration-color: #0087ff\">MaxPooling1D</span>)       │ (<span style=\"color: #00d7ff; text-decoration-color: #00d7ff\">None</span>, <span style=\"color: #00af00; text-decoration-color: #00af00\">51</span>, <span style=\"color: #00af00; text-decoration-color: #00af00\">32</span>)              │               <span style=\"color: #00af00; text-decoration-color: #00af00\">0</span> │\n",
       "├──────────────────────────────────────┼─────────────────────────────┼─────────────────┤\n",
       "│ conv1d_2 (<span style=\"color: #0087ff; text-decoration-color: #0087ff\">Conv1D</span>)                    │ (<span style=\"color: #00d7ff; text-decoration-color: #00d7ff\">None</span>, <span style=\"color: #00af00; text-decoration-color: #00af00\">51</span>, <span style=\"color: #00af00; text-decoration-color: #00af00\">64</span>)              │          <span style=\"color: #00af00; text-decoration-color: #00af00\">30,784</span> │\n",
       "├──────────────────────────────────────┼─────────────────────────────┼─────────────────┤\n",
       "│ max_pooling1d_2 (<span style=\"color: #0087ff; text-decoration-color: #0087ff\">MaxPooling1D</span>)       │ (<span style=\"color: #00d7ff; text-decoration-color: #00d7ff\">None</span>, <span style=\"color: #00af00; text-decoration-color: #00af00\">24</span>, <span style=\"color: #00af00; text-decoration-color: #00af00\">64</span>)              │               <span style=\"color: #00af00; text-decoration-color: #00af00\">0</span> │\n",
       "├──────────────────────────────────────┼─────────────────────────────┼─────────────────┤\n",
       "│ conv1d_3 (<span style=\"color: #0087ff; text-decoration-color: #0087ff\">Conv1D</span>)                    │ (<span style=\"color: #00d7ff; text-decoration-color: #00d7ff\">None</span>, <span style=\"color: #00af00; text-decoration-color: #00af00\">24</span>, <span style=\"color: #00af00; text-decoration-color: #00af00\">128</span>)             │         <span style=\"color: #00af00; text-decoration-color: #00af00\">139,392</span> │\n",
       "├──────────────────────────────────────┼─────────────────────────────┼─────────────────┤\n",
       "│ max_pooling1d_3 (<span style=\"color: #0087ff; text-decoration-color: #0087ff\">MaxPooling1D</span>)       │ (<span style=\"color: #00d7ff; text-decoration-color: #00d7ff\">None</span>, <span style=\"color: #00af00; text-decoration-color: #00af00\">10</span>, <span style=\"color: #00af00; text-decoration-color: #00af00\">128</span>)             │               <span style=\"color: #00af00; text-decoration-color: #00af00\">0</span> │\n",
       "├──────────────────────────────────────┼─────────────────────────────┼─────────────────┤\n",
       "│ flatten (<span style=\"color: #0087ff; text-decoration-color: #0087ff\">Flatten</span>)                    │ (<span style=\"color: #00d7ff; text-decoration-color: #00d7ff\">None</span>, <span style=\"color: #00af00; text-decoration-color: #00af00\">1280</span>)                │               <span style=\"color: #00af00; text-decoration-color: #00af00\">0</span> │\n",
       "├──────────────────────────────────────┼─────────────────────────────┼─────────────────┤\n",
       "│ dropout (<span style=\"color: #0087ff; text-decoration-color: #0087ff\">Dropout</span>)                    │ (<span style=\"color: #00d7ff; text-decoration-color: #00d7ff\">None</span>, <span style=\"color: #00af00; text-decoration-color: #00af00\">1280</span>)                │               <span style=\"color: #00af00; text-decoration-color: #00af00\">0</span> │\n",
       "├──────────────────────────────────────┼─────────────────────────────┼─────────────────┤\n",
       "│ dense (<span style=\"color: #0087ff; text-decoration-color: #0087ff\">Dense</span>)                        │ (<span style=\"color: #00d7ff; text-decoration-color: #00d7ff\">None</span>, <span style=\"color: #00af00; text-decoration-color: #00af00\">100</span>)                 │         <span style=\"color: #00af00; text-decoration-color: #00af00\">128,100</span> │\n",
       "├──────────────────────────────────────┼─────────────────────────────┼─────────────────┤\n",
       "│ dropout_1 (<span style=\"color: #0087ff; text-decoration-color: #0087ff\">Dropout</span>)                  │ (<span style=\"color: #00d7ff; text-decoration-color: #00d7ff\">None</span>, <span style=\"color: #00af00; text-decoration-color: #00af00\">100</span>)                 │               <span style=\"color: #00af00; text-decoration-color: #00af00\">0</span> │\n",
       "├──────────────────────────────────────┼─────────────────────────────┼─────────────────┤\n",
       "│ dense_1 (<span style=\"color: #0087ff; text-decoration-color: #0087ff\">Dense</span>)                      │ (<span style=\"color: #00d7ff; text-decoration-color: #00d7ff\">None</span>, <span style=\"color: #00af00; text-decoration-color: #00af00\">50</span>)                  │           <span style=\"color: #00af00; text-decoration-color: #00af00\">5,050</span> │\n",
       "├──────────────────────────────────────┼─────────────────────────────┼─────────────────┤\n",
       "│ dropout_2 (<span style=\"color: #0087ff; text-decoration-color: #0087ff\">Dropout</span>)                  │ (<span style=\"color: #00d7ff; text-decoration-color: #00d7ff\">None</span>, <span style=\"color: #00af00; text-decoration-color: #00af00\">50</span>)                  │               <span style=\"color: #00af00; text-decoration-color: #00af00\">0</span> │\n",
       "├──────────────────────────────────────┼─────────────────────────────┼─────────────────┤\n",
       "│ dense_2 (<span style=\"color: #0087ff; text-decoration-color: #0087ff\">Dense</span>)                      │ (<span style=\"color: #00d7ff; text-decoration-color: #00d7ff\">None</span>, <span style=\"color: #00af00; text-decoration-color: #00af00\">4</span>)                   │             <span style=\"color: #00af00; text-decoration-color: #00af00\">204</span> │\n",
       "└──────────────────────────────────────┴─────────────────────────────┴─────────────────┘\n",
       "</pre>\n"
      ],
      "text/plain": [
       "┏━━━━━━━━━━━━━━━━━━━━━━━━━━━━━━━━━━━━━━┳━━━━━━━━━━━━━━━━━━━━━━━━━━━━━┳━━━━━━━━━━━━━━━━━┓\n",
       "┃\u001b[1m \u001b[0m\u001b[1mLayer (type)                        \u001b[0m\u001b[1m \u001b[0m┃\u001b[1m \u001b[0m\u001b[1mOutput Shape               \u001b[0m\u001b[1m \u001b[0m┃\u001b[1m \u001b[0m\u001b[1m        Param #\u001b[0m\u001b[1m \u001b[0m┃\n",
       "┡━━━━━━━━━━━━━━━━━━━━━━━━━━━━━━━━━━━━━━╇━━━━━━━━━━━━━━━━━━━━━━━━━━━━━╇━━━━━━━━━━━━━━━━━┩\n",
       "│ conv1d (\u001b[38;5;33mConv1D\u001b[0m)                      │ (\u001b[38;5;45mNone\u001b[0m, \u001b[38;5;34m216\u001b[0m, \u001b[38;5;34m16\u001b[0m)             │             \u001b[38;5;34m192\u001b[0m │\n",
       "├──────────────────────────────────────┼─────────────────────────────┼─────────────────┤\n",
       "│ max_pooling1d (\u001b[38;5;33mMaxPooling1D\u001b[0m)         │ (\u001b[38;5;45mNone\u001b[0m, \u001b[38;5;34m106\u001b[0m, \u001b[38;5;34m16\u001b[0m)             │               \u001b[38;5;34m0\u001b[0m │\n",
       "├──────────────────────────────────────┼─────────────────────────────┼─────────────────┤\n",
       "│ conv1d_1 (\u001b[38;5;33mConv1D\u001b[0m)                    │ (\u001b[38;5;45mNone\u001b[0m, \u001b[38;5;34m106\u001b[0m, \u001b[38;5;34m32\u001b[0m)             │           \u001b[38;5;34m6,688\u001b[0m │\n",
       "├──────────────────────────────────────┼─────────────────────────────┼─────────────────┤\n",
       "│ max_pooling1d_1 (\u001b[38;5;33mMaxPooling1D\u001b[0m)       │ (\u001b[38;5;45mNone\u001b[0m, \u001b[38;5;34m51\u001b[0m, \u001b[38;5;34m32\u001b[0m)              │               \u001b[38;5;34m0\u001b[0m │\n",
       "├──────────────────────────────────────┼─────────────────────────────┼─────────────────┤\n",
       "│ conv1d_2 (\u001b[38;5;33mConv1D\u001b[0m)                    │ (\u001b[38;5;45mNone\u001b[0m, \u001b[38;5;34m51\u001b[0m, \u001b[38;5;34m64\u001b[0m)              │          \u001b[38;5;34m30,784\u001b[0m │\n",
       "├──────────────────────────────────────┼─────────────────────────────┼─────────────────┤\n",
       "│ max_pooling1d_2 (\u001b[38;5;33mMaxPooling1D\u001b[0m)       │ (\u001b[38;5;45mNone\u001b[0m, \u001b[38;5;34m24\u001b[0m, \u001b[38;5;34m64\u001b[0m)              │               \u001b[38;5;34m0\u001b[0m │\n",
       "├──────────────────────────────────────┼─────────────────────────────┼─────────────────┤\n",
       "│ conv1d_3 (\u001b[38;5;33mConv1D\u001b[0m)                    │ (\u001b[38;5;45mNone\u001b[0m, \u001b[38;5;34m24\u001b[0m, \u001b[38;5;34m128\u001b[0m)             │         \u001b[38;5;34m139,392\u001b[0m │\n",
       "├──────────────────────────────────────┼─────────────────────────────┼─────────────────┤\n",
       "│ max_pooling1d_3 (\u001b[38;5;33mMaxPooling1D\u001b[0m)       │ (\u001b[38;5;45mNone\u001b[0m, \u001b[38;5;34m10\u001b[0m, \u001b[38;5;34m128\u001b[0m)             │               \u001b[38;5;34m0\u001b[0m │\n",
       "├──────────────────────────────────────┼─────────────────────────────┼─────────────────┤\n",
       "│ flatten (\u001b[38;5;33mFlatten\u001b[0m)                    │ (\u001b[38;5;45mNone\u001b[0m, \u001b[38;5;34m1280\u001b[0m)                │               \u001b[38;5;34m0\u001b[0m │\n",
       "├──────────────────────────────────────┼─────────────────────────────┼─────────────────┤\n",
       "│ dropout (\u001b[38;5;33mDropout\u001b[0m)                    │ (\u001b[38;5;45mNone\u001b[0m, \u001b[38;5;34m1280\u001b[0m)                │               \u001b[38;5;34m0\u001b[0m │\n",
       "├──────────────────────────────────────┼─────────────────────────────┼─────────────────┤\n",
       "│ dense (\u001b[38;5;33mDense\u001b[0m)                        │ (\u001b[38;5;45mNone\u001b[0m, \u001b[38;5;34m100\u001b[0m)                 │         \u001b[38;5;34m128,100\u001b[0m │\n",
       "├──────────────────────────────────────┼─────────────────────────────┼─────────────────┤\n",
       "│ dropout_1 (\u001b[38;5;33mDropout\u001b[0m)                  │ (\u001b[38;5;45mNone\u001b[0m, \u001b[38;5;34m100\u001b[0m)                 │               \u001b[38;5;34m0\u001b[0m │\n",
       "├──────────────────────────────────────┼─────────────────────────────┼─────────────────┤\n",
       "│ dense_1 (\u001b[38;5;33mDense\u001b[0m)                      │ (\u001b[38;5;45mNone\u001b[0m, \u001b[38;5;34m50\u001b[0m)                  │           \u001b[38;5;34m5,050\u001b[0m │\n",
       "├──────────────────────────────────────┼─────────────────────────────┼─────────────────┤\n",
       "│ dropout_2 (\u001b[38;5;33mDropout\u001b[0m)                  │ (\u001b[38;5;45mNone\u001b[0m, \u001b[38;5;34m50\u001b[0m)                  │               \u001b[38;5;34m0\u001b[0m │\n",
       "├──────────────────────────────────────┼─────────────────────────────┼─────────────────┤\n",
       "│ dense_2 (\u001b[38;5;33mDense\u001b[0m)                      │ (\u001b[38;5;45mNone\u001b[0m, \u001b[38;5;34m4\u001b[0m)                   │             \u001b[38;5;34m204\u001b[0m │\n",
       "└──────────────────────────────────────┴─────────────────────────────┴─────────────────┘\n"
      ]
     },
     "metadata": {},
     "output_type": "display_data"
    },
    {
     "data": {
      "text/html": [
       "<pre style=\"white-space:pre;overflow-x:auto;line-height:normal;font-family:Menlo,'DejaVu Sans Mono',consolas,'Courier New',monospace\"><span style=\"font-weight: bold\"> Total params: </span><span style=\"color: #00af00; text-decoration-color: #00af00\">310,410</span> (1.18 MB)\n",
       "</pre>\n"
      ],
      "text/plain": [
       "\u001b[1m Total params: \u001b[0m\u001b[38;5;34m310,410\u001b[0m (1.18 MB)\n"
      ]
     },
     "metadata": {},
     "output_type": "display_data"
    },
    {
     "data": {
      "text/html": [
       "<pre style=\"white-space:pre;overflow-x:auto;line-height:normal;font-family:Menlo,'DejaVu Sans Mono',consolas,'Courier New',monospace\"><span style=\"font-weight: bold\"> Trainable params: </span><span style=\"color: #00af00; text-decoration-color: #00af00\">310,410</span> (1.18 MB)\n",
       "</pre>\n"
      ],
      "text/plain": [
       "\u001b[1m Trainable params: \u001b[0m\u001b[38;5;34m310,410\u001b[0m (1.18 MB)\n"
      ]
     },
     "metadata": {},
     "output_type": "display_data"
    },
    {
     "data": {
      "text/html": [
       "<pre style=\"white-space:pre;overflow-x:auto;line-height:normal;font-family:Menlo,'DejaVu Sans Mono',consolas,'Courier New',monospace\"><span style=\"font-weight: bold\"> Non-trainable params: </span><span style=\"color: #00af00; text-decoration-color: #00af00\">0</span> (0.00 B)\n",
       "</pre>\n"
      ],
      "text/plain": [
       "\u001b[1m Non-trainable params: \u001b[0m\u001b[38;5;34m0\u001b[0m (0.00 B)\n"
      ]
     },
     "metadata": {},
     "output_type": "display_data"
    }
   ],
   "source": [
    "# Function to build the CNN model for ECG classification\n",
    "model = Sequential()\n",
    "\n",
    "# First Convolutional Layer with 16 filters, kernel size 11, ReLU activation, and same padding\n",
    "model.add(Conv1D(filters=16, kernel_size=11, strides=1, padding='same', activation='relu', input_shape=(216, 1)))\n",
    "model.add(MaxPooling1D(pool_size=5, strides=2))  # Max pooling to reduce dimensionality\n",
    "\n",
    "# Second Convolutional Layer with 32 filters\n",
    "model.add(Conv1D(filters=32, kernel_size=13, strides=1, padding='same', activation='relu'))\n",
    "model.add(MaxPooling1D(pool_size=5, strides=2))  \n",
    "\n",
    "# Third Convolutional Layer with 64 filters\n",
    "model.add(Conv1D(filters=64, kernel_size=15, strides=1, padding='same', activation='relu'))\n",
    "model.add(MaxPooling1D(pool_size=5, strides=2))  \n",
    "\n",
    "# Fourth Convolutional Layer with 128 filters\n",
    "model.add(Conv1D(filters=128, kernel_size=17, strides=1, padding='same', activation='relu'))\n",
    "model.add(MaxPooling1D(pool_size=5, strides=2))  \n",
    "\n",
    "# Flattening the feature maps into a single vector\n",
    "model.add(Flatten())\n",
    "\n",
    "# Fully connected layers with Dropout for regularization\n",
    "model.add(Dropout(0.5))  # Dropout to prevent overfitting\n",
    "model.add(Dense(100, activation='relu'))\n",
    "model.add(Dropout(0.4))\n",
    "model.add(Dense(50, activation='relu'))\n",
    "model.add(Dropout(0.3))\n",
    "\n",
    "# Output layer with sigmoid activation for binary classification\n",
    "model.add(Dense(4, activation='softmax'))\n",
    "\n",
    "# Display model architecture\n",
    "model.summary()"
   ]
  },
  {
   "cell_type": "markdown",
   "id": "5e2fe943",
   "metadata": {
    "papermill": {
     "duration": 0.011564,
     "end_time": "2025-03-03T06:05:33.328734",
     "exception": false,
     "start_time": "2025-03-03T06:05:33.317170",
     "status": "completed"
    },
    "tags": []
   },
   "source": [
    "### Model Compilation\n",
    "This section **compiles** the CNN model with:  \n",
    "- **Loss Function:** `binary_crossentropy` (since it's a binary classification task).  \n",
    "- **Optimizer:** `Adam` with a learning rate of `0.0001` for efficient learning.  \n",
    "- **Metric:** `accuracy`, which evaluates how well the model is performing.  "
   ]
  },
  {
   "cell_type": "code",
   "execution_count": 26,
   "id": "1d2df992",
   "metadata": {
    "execution": {
     "iopub.execute_input": "2025-03-03T06:05:33.353385Z",
     "iopub.status.busy": "2025-03-03T06:05:33.353087Z",
     "iopub.status.idle": "2025-03-03T06:05:33.364752Z",
     "shell.execute_reply": "2025-03-03T06:05:33.364084Z"
    },
    "papermill": {
     "duration": 0.025497,
     "end_time": "2025-03-03T06:05:33.366021",
     "exception": false,
     "start_time": "2025-03-03T06:05:33.340524",
     "status": "completed"
    },
    "tags": []
   },
   "outputs": [],
   "source": [
    "# Compile the model with binary cross-entropy loss and Adam optimizer\n",
    "model.compile(\n",
    "    loss='categorical_crossentropy',  # Suitable for binary classification\n",
    "    optimizer=Adam(learning_rate=0.0001),  # Adam optimizer with a learning rate of 0.0001\n",
    "    metrics=['accuracy']  # Track accuracy during training\n",
    ")"
   ]
  },
  {
   "cell_type": "markdown",
   "id": "4f431eb3",
   "metadata": {
    "papermill": {
     "duration": 0.011304,
     "end_time": "2025-03-03T06:05:33.389159",
     "exception": false,
     "start_time": "2025-03-03T06:05:33.377855",
     "status": "completed"
    },
    "tags": []
   },
   "source": [
    "### Early Stopping Mechanism\n",
    "To **prevent overfitting**, `EarlyStopping` is used:  \n",
    "- **Monitors Validation Loss** (`val_loss`) to track generalization.  \n",
    "- **Stops Training if No Improvement in 5 Consecutive Epochs** (`patience=5`).  \n",
    "- **Restores Best Weights** (`restore_best_weights=True`) to keep the most optimal model.  "
   ]
  },
  {
   "cell_type": "code",
   "execution_count": 27,
   "id": "d1a48cfe",
   "metadata": {
    "execution": {
     "iopub.execute_input": "2025-03-03T06:05:33.412822Z",
     "iopub.status.busy": "2025-03-03T06:05:33.412545Z",
     "iopub.status.idle": "2025-03-03T06:05:33.416215Z",
     "shell.execute_reply": "2025-03-03T06:05:33.415454Z"
    },
    "papermill": {
     "duration": 0.016867,
     "end_time": "2025-03-03T06:05:33.417316",
     "exception": false,
     "start_time": "2025-03-03T06:05:33.400449",
     "status": "completed"
    },
    "tags": []
   },
   "outputs": [],
   "source": [
    "# Define early stopping to prevent overfitting\n",
    "early_stopping = EarlyStopping(\n",
    "    monitor='val_loss',  # Monitor validation loss\n",
    "    patience=5,  # Stop training if validation loss doesn't improve for 5 epochs\n",
    "    restore_best_weights=True  # Restore best model weights after stopping\n",
    ")"
   ]
  },
  {
   "cell_type": "markdown",
   "id": "f61c47f4",
   "metadata": {
    "papermill": {
     "duration": 0.011038,
     "end_time": "2025-03-03T06:05:33.439787",
     "exception": false,
     "start_time": "2025-03-03T06:05:33.428749",
     "status": "completed"
    },
    "tags": []
   },
   "source": [
    "### Saving the Best Model in HDF5 Format\n",
    "\n",
    "1. **Using ModelCheckpoint Callback**\n",
    "   - Saves the best model based on **validation loss** (`val_loss`).\n",
    "   - Ensures only the best-performing model (lowest `val_loss`) is saved.\n",
    "   - The model is saved in **HDF5 format (`.h5`)**, which supports model architecture, weights, and optimizer state.\n",
    "\n",
    "2. **Parameters in `ModelCheckpoint`**\n",
    "   - `filepath='best_ecg_model.h5'` → Saves the model with this filename.\n",
    "   - `monitor='val_loss'` → Tracks validation loss for saving.\n",
    "   - `save_best_only=True` → Saves only the best model, preventing storage of unnecessary models.\n",
    "   - `mode='min'` → Saves the model when `val_loss` decreases."
   ]
  },
  {
   "cell_type": "code",
   "execution_count": 28,
   "id": "56c3a057",
   "metadata": {
    "execution": {
     "iopub.execute_input": "2025-03-03T06:05:33.463145Z",
     "iopub.status.busy": "2025-03-03T06:05:33.462883Z",
     "iopub.status.idle": "2025-03-03T06:05:33.466301Z",
     "shell.execute_reply": "2025-03-03T06:05:33.465667Z"
    },
    "papermill": {
     "duration": 0.016511,
     "end_time": "2025-03-03T06:05:33.467529",
     "exception": false,
     "start_time": "2025-03-03T06:05:33.451018",
     "status": "completed"
    },
    "tags": []
   },
   "outputs": [],
   "source": [
    "# Define a ModelCheckpoint to save the best model\n",
    "checkpoint = ModelCheckpoint(\n",
    "    filepath='best_ecg_model.keras',  # Change the extension to .keras\n",
    "    monitor='val_loss',              # Monitor validation loss\n",
    "    save_best_only=True,             # Save only the best model based on val_loss\n",
    "    mode='min',                      # Save model when val_loss is minimized\n",
    "    verbose=1                        # Print a message when saving the model\n",
    ")\n"
   ]
  },
  {
   "cell_type": "markdown",
   "id": "752eb614",
   "metadata": {
    "papermill": {
     "duration": 0.011379,
     "end_time": "2025-03-03T06:05:33.490282",
     "exception": false,
     "start_time": "2025-03-03T06:05:33.478903",
     "status": "completed"
    },
    "tags": []
   },
   "source": [
    "### Model Training Process\n",
    "The model is trained on `X_train` and `y_train` using:  \n",
    "- **Batch Size:** `42` (controls how many samples are processed before updating weights).  \n",
    "- **Epochs:** `50` (maximum training cycles).  \n",
    "- **Validation Data:** `(X_test, y_test)` for tracking model performance on unseen data.  \n",
    "- **Early Stopping Callback:** Helps prevent unnecessary training when validation loss stops improving.  "
   ]
  },
  {
   "cell_type": "code",
   "execution_count": 29,
   "id": "0043596f",
   "metadata": {
    "execution": {
     "iopub.execute_input": "2025-03-03T06:05:33.514716Z",
     "iopub.status.busy": "2025-03-03T06:05:33.514351Z",
     "iopub.status.idle": "2025-03-03T06:08:23.265228Z",
     "shell.execute_reply": "2025-03-03T06:08:23.264420Z"
    },
    "papermill": {
     "duration": 169.764829,
     "end_time": "2025-03-03T06:08:23.266837",
     "exception": false,
     "start_time": "2025-03-03T06:05:33.502008",
     "status": "completed"
    },
    "tags": []
   },
   "outputs": [
    {
     "name": "stdout",
     "output_type": "stream",
     "text": [
      "Epoch 1/50\n",
      "\u001b[1m1608/1608\u001b[0m \u001b[32m━━━━━━━━━━━━━━━━━━━━\u001b[0m\u001b[37m\u001b[0m \u001b[1m0s\u001b[0m 17ms/step - accuracy: 0.7749 - loss: 0.6156\n",
      "Epoch 1: val_loss improved from inf to 0.15530, saving model to best_ecg_model.keras\n",
      "\u001b[1m1608/1608\u001b[0m \u001b[32m━━━━━━━━━━━━━━━━━━━━\u001b[0m\u001b[37m\u001b[0m \u001b[1m37s\u001b[0m 19ms/step - accuracy: 0.7749 - loss: 0.6155 - val_accuracy: 0.9552 - val_loss: 0.1553\n",
      "Epoch 2/50\n",
      "\u001b[1m1606/1608\u001b[0m \u001b[32m━━━━━━━━━━━━━━━━━━━\u001b[0m\u001b[37m━\u001b[0m \u001b[1m0s\u001b[0m 3ms/step - accuracy: 0.9520 - loss: 0.1777\n",
      "Epoch 2: val_loss improved from 0.15530 to 0.11390, saving model to best_ecg_model.keras\n",
      "\u001b[1m1608/1608\u001b[0m \u001b[32m━━━━━━━━━━━━━━━━━━━━\u001b[0m\u001b[37m\u001b[0m \u001b[1m6s\u001b[0m 3ms/step - accuracy: 0.9520 - loss: 0.1777 - val_accuracy: 0.9685 - val_loss: 0.1139\n",
      "Epoch 3/50\n",
      "\u001b[1m1600/1608\u001b[0m \u001b[32m━━━━━━━━━━━━━━━━━━━\u001b[0m\u001b[37m━\u001b[0m \u001b[1m0s\u001b[0m 3ms/step - accuracy: 0.9667 - loss: 0.1240\n",
      "Epoch 3: val_loss improved from 0.11390 to 0.08848, saving model to best_ecg_model.keras\n",
      "\u001b[1m1608/1608\u001b[0m \u001b[32m━━━━━━━━━━━━━━━━━━━━\u001b[0m\u001b[37m\u001b[0m \u001b[1m6s\u001b[0m 3ms/step - accuracy: 0.9667 - loss: 0.1240 - val_accuracy: 0.9747 - val_loss: 0.0885\n",
      "Epoch 4/50\n",
      "\u001b[1m1606/1608\u001b[0m \u001b[32m━━━━━━━━━━━━━━━━━━━\u001b[0m\u001b[37m━\u001b[0m \u001b[1m0s\u001b[0m 3ms/step - accuracy: 0.9721 - loss: 0.1035\n",
      "Epoch 4: val_loss improved from 0.08848 to 0.07590, saving model to best_ecg_model.keras\n",
      "\u001b[1m1608/1608\u001b[0m \u001b[32m━━━━━━━━━━━━━━━━━━━━\u001b[0m\u001b[37m\u001b[0m \u001b[1m6s\u001b[0m 3ms/step - accuracy: 0.9721 - loss: 0.1035 - val_accuracy: 0.9797 - val_loss: 0.0759\n",
      "Epoch 5/50\n",
      "\u001b[1m1606/1608\u001b[0m \u001b[32m━━━━━━━━━━━━━━━━━━━\u001b[0m\u001b[37m━\u001b[0m \u001b[1m0s\u001b[0m 3ms/step - accuracy: 0.9761 - loss: 0.0912\n",
      "Epoch 5: val_loss improved from 0.07590 to 0.07087, saving model to best_ecg_model.keras\n",
      "\u001b[1m1608/1608\u001b[0m \u001b[32m━━━━━━━━━━━━━━━━━━━━\u001b[0m\u001b[37m\u001b[0m \u001b[1m6s\u001b[0m 3ms/step - accuracy: 0.9761 - loss: 0.0912 - val_accuracy: 0.9807 - val_loss: 0.0709\n",
      "Epoch 6/50\n",
      "\u001b[1m1591/1608\u001b[0m \u001b[32m━━━━━━━━━━━━━━━━━━━\u001b[0m\u001b[37m━\u001b[0m \u001b[1m0s\u001b[0m 3ms/step - accuracy: 0.9791 - loss: 0.0777\n",
      "Epoch 6: val_loss improved from 0.07087 to 0.05704, saving model to best_ecg_model.keras\n",
      "\u001b[1m1608/1608\u001b[0m \u001b[32m━━━━━━━━━━━━━━━━━━━━\u001b[0m\u001b[37m\u001b[0m \u001b[1m6s\u001b[0m 3ms/step - accuracy: 0.9791 - loss: 0.0777 - val_accuracy: 0.9837 - val_loss: 0.0570\n",
      "Epoch 7/50\n",
      "\u001b[1m1591/1608\u001b[0m \u001b[32m━━━━━━━━━━━━━━━━━━━\u001b[0m\u001b[37m━\u001b[0m \u001b[1m0s\u001b[0m 3ms/step - accuracy: 0.9804 - loss: 0.0706\n",
      "Epoch 7: val_loss improved from 0.05704 to 0.05689, saving model to best_ecg_model.keras\n",
      "\u001b[1m1608/1608\u001b[0m \u001b[32m━━━━━━━━━━━━━━━━━━━━\u001b[0m\u001b[37m\u001b[0m \u001b[1m5s\u001b[0m 3ms/step - accuracy: 0.9804 - loss: 0.0706 - val_accuracy: 0.9835 - val_loss: 0.0569\n",
      "Epoch 8/50\n",
      "\u001b[1m1607/1608\u001b[0m \u001b[32m━━━━━━━━━━━━━━━━━━━\u001b[0m\u001b[37m━\u001b[0m \u001b[1m0s\u001b[0m 3ms/step - accuracy: 0.9825 - loss: 0.0635\n",
      "Epoch 8: val_loss improved from 0.05689 to 0.05472, saving model to best_ecg_model.keras\n",
      "\u001b[1m1608/1608\u001b[0m \u001b[32m━━━━━━━━━━━━━━━━━━━━\u001b[0m\u001b[37m\u001b[0m \u001b[1m5s\u001b[0m 3ms/step - accuracy: 0.9825 - loss: 0.0635 - val_accuracy: 0.9851 - val_loss: 0.0547\n",
      "Epoch 9/50\n",
      "\u001b[1m1602/1608\u001b[0m \u001b[32m━━━━━━━━━━━━━━━━━━━\u001b[0m\u001b[37m━\u001b[0m \u001b[1m0s\u001b[0m 3ms/step - accuracy: 0.9847 - loss: 0.0564\n",
      "Epoch 9: val_loss improved from 0.05472 to 0.05411, saving model to best_ecg_model.keras\n",
      "\u001b[1m1608/1608\u001b[0m \u001b[32m━━━━━━━━━━━━━━━━━━━━\u001b[0m\u001b[37m\u001b[0m \u001b[1m6s\u001b[0m 3ms/step - accuracy: 0.9847 - loss: 0.0564 - val_accuracy: 0.9859 - val_loss: 0.0541\n",
      "Epoch 10/50\n",
      "\u001b[1m1606/1608\u001b[0m \u001b[32m━━━━━━━━━━━━━━━━━━━\u001b[0m\u001b[37m━\u001b[0m \u001b[1m0s\u001b[0m 3ms/step - accuracy: 0.9856 - loss: 0.0530\n",
      "Epoch 10: val_loss improved from 0.05411 to 0.04908, saving model to best_ecg_model.keras\n",
      "\u001b[1m1608/1608\u001b[0m \u001b[32m━━━━━━━━━━━━━━━━━━━━\u001b[0m\u001b[37m\u001b[0m \u001b[1m6s\u001b[0m 3ms/step - accuracy: 0.9856 - loss: 0.0530 - val_accuracy: 0.9863 - val_loss: 0.0491\n",
      "Epoch 11/50\n",
      "\u001b[1m1605/1608\u001b[0m \u001b[32m━━━━━━━━━━━━━━━━━━━\u001b[0m\u001b[37m━\u001b[0m \u001b[1m0s\u001b[0m 3ms/step - accuracy: 0.9863 - loss: 0.0507\n",
      "Epoch 11: val_loss improved from 0.04908 to 0.04692, saving model to best_ecg_model.keras\n",
      "\u001b[1m1608/1608\u001b[0m \u001b[32m━━━━━━━━━━━━━━━━━━━━\u001b[0m\u001b[37m\u001b[0m \u001b[1m6s\u001b[0m 3ms/step - accuracy: 0.9863 - loss: 0.0507 - val_accuracy: 0.9865 - val_loss: 0.0469\n",
      "Epoch 12/50\n",
      "\u001b[1m1608/1608\u001b[0m \u001b[32m━━━━━━━━━━━━━━━━━━━━\u001b[0m\u001b[37m\u001b[0m \u001b[1m0s\u001b[0m 3ms/step - accuracy: 0.9865 - loss: 0.0481\n",
      "Epoch 12: val_loss improved from 0.04692 to 0.04458, saving model to best_ecg_model.keras\n",
      "\u001b[1m1608/1608\u001b[0m \u001b[32m━━━━━━━━━━━━━━━━━━━━\u001b[0m\u001b[37m\u001b[0m \u001b[1m5s\u001b[0m 3ms/step - accuracy: 0.9865 - loss: 0.0481 - val_accuracy: 0.9871 - val_loss: 0.0446\n",
      "Epoch 13/50\n",
      "\u001b[1m1594/1608\u001b[0m \u001b[32m━━━━━━━━━━━━━━━━━━━\u001b[0m\u001b[37m━\u001b[0m \u001b[1m0s\u001b[0m 3ms/step - accuracy: 0.9882 - loss: 0.0414\n",
      "Epoch 13: val_loss improved from 0.04458 to 0.04163, saving model to best_ecg_model.keras\n",
      "\u001b[1m1608/1608\u001b[0m \u001b[32m━━━━━━━━━━━━━━━━━━━━\u001b[0m\u001b[37m\u001b[0m \u001b[1m6s\u001b[0m 3ms/step - accuracy: 0.9882 - loss: 0.0414 - val_accuracy: 0.9886 - val_loss: 0.0416\n",
      "Epoch 14/50\n",
      "\u001b[1m1593/1608\u001b[0m \u001b[32m━━━━━━━━━━━━━━━━━━━\u001b[0m\u001b[37m━\u001b[0m \u001b[1m0s\u001b[0m 3ms/step - accuracy: 0.9879 - loss: 0.0419\n",
      "Epoch 14: val_loss did not improve from 0.04163\n",
      "\u001b[1m1608/1608\u001b[0m \u001b[32m━━━━━━━━━━━━━━━━━━━━\u001b[0m\u001b[37m\u001b[0m \u001b[1m5s\u001b[0m 3ms/step - accuracy: 0.9879 - loss: 0.0419 - val_accuracy: 0.9879 - val_loss: 0.0477\n",
      "Epoch 15/50\n",
      "\u001b[1m1592/1608\u001b[0m \u001b[32m━━━━━━━━━━━━━━━━━━━\u001b[0m\u001b[37m━\u001b[0m \u001b[1m0s\u001b[0m 3ms/step - accuracy: 0.9897 - loss: 0.0361\n",
      "Epoch 15: val_loss did not improve from 0.04163\n",
      "\u001b[1m1608/1608\u001b[0m \u001b[32m━━━━━━━━━━━━━━━━━━━━\u001b[0m\u001b[37m\u001b[0m \u001b[1m6s\u001b[0m 3ms/step - accuracy: 0.9897 - loss: 0.0362 - val_accuracy: 0.9872 - val_loss: 0.0464\n",
      "Epoch 16/50\n",
      "\u001b[1m1603/1608\u001b[0m \u001b[32m━━━━━━━━━━━━━━━━━━━\u001b[0m\u001b[37m━\u001b[0m \u001b[1m0s\u001b[0m 3ms/step - accuracy: 0.9890 - loss: 0.0385\n",
      "Epoch 16: val_loss did not improve from 0.04163\n",
      "\u001b[1m1608/1608\u001b[0m \u001b[32m━━━━━━━━━━━━━━━━━━━━\u001b[0m\u001b[37m\u001b[0m \u001b[1m5s\u001b[0m 3ms/step - accuracy: 0.9890 - loss: 0.0385 - val_accuracy: 0.9880 - val_loss: 0.0418\n",
      "Epoch 17/50\n",
      "\u001b[1m1594/1608\u001b[0m \u001b[32m━━━━━━━━━━━━━━━━━━━\u001b[0m\u001b[37m━\u001b[0m \u001b[1m0s\u001b[0m 3ms/step - accuracy: 0.9888 - loss: 0.0356\n",
      "Epoch 17: val_loss improved from 0.04163 to 0.04152, saving model to best_ecg_model.keras\n",
      "\u001b[1m1608/1608\u001b[0m \u001b[32m━━━━━━━━━━━━━━━━━━━━\u001b[0m\u001b[37m\u001b[0m \u001b[1m6s\u001b[0m 3ms/step - accuracy: 0.9888 - loss: 0.0356 - val_accuracy: 0.9896 - val_loss: 0.0415\n",
      "Epoch 18/50\n",
      "\u001b[1m1602/1608\u001b[0m \u001b[32m━━━━━━━━━━━━━━━━━━━\u001b[0m\u001b[37m━\u001b[0m \u001b[1m0s\u001b[0m 3ms/step - accuracy: 0.9913 - loss: 0.0319\n",
      "Epoch 18: val_loss did not improve from 0.04152\n",
      "\u001b[1m1608/1608\u001b[0m \u001b[32m━━━━━━━━━━━━━━━━━━━━\u001b[0m\u001b[37m\u001b[0m \u001b[1m5s\u001b[0m 3ms/step - accuracy: 0.9913 - loss: 0.0319 - val_accuracy: 0.9874 - val_loss: 0.0449\n",
      "Epoch 19/50\n",
      "\u001b[1m1602/1608\u001b[0m \u001b[32m━━━━━━━━━━━━━━━━━━━\u001b[0m\u001b[37m━\u001b[0m \u001b[1m0s\u001b[0m 3ms/step - accuracy: 0.9921 - loss: 0.0306\n",
      "Epoch 19: val_loss improved from 0.04152 to 0.03793, saving model to best_ecg_model.keras\n",
      "\u001b[1m1608/1608\u001b[0m \u001b[32m━━━━━━━━━━━━━━━━━━━━\u001b[0m\u001b[37m\u001b[0m \u001b[1m6s\u001b[0m 3ms/step - accuracy: 0.9921 - loss: 0.0306 - val_accuracy: 0.9899 - val_loss: 0.0379\n",
      "Epoch 20/50\n",
      "\u001b[1m1608/1608\u001b[0m \u001b[32m━━━━━━━━━━━━━━━━━━━━\u001b[0m\u001b[37m\u001b[0m \u001b[1m0s\u001b[0m 3ms/step - accuracy: 0.9915 - loss: 0.0302\n",
      "Epoch 20: val_loss improved from 0.03793 to 0.03601, saving model to best_ecg_model.keras\n",
      "\u001b[1m1608/1608\u001b[0m \u001b[32m━━━━━━━━━━━━━━━━━━━━\u001b[0m\u001b[37m\u001b[0m \u001b[1m6s\u001b[0m 3ms/step - accuracy: 0.9915 - loss: 0.0302 - val_accuracy: 0.9909 - val_loss: 0.0360\n",
      "Epoch 21/50\n",
      "\u001b[1m1603/1608\u001b[0m \u001b[32m━━━━━━━━━━━━━━━━━━━\u001b[0m\u001b[37m━\u001b[0m \u001b[1m0s\u001b[0m 3ms/step - accuracy: 0.9920 - loss: 0.0284\n",
      "Epoch 21: val_loss did not improve from 0.03601\n",
      "\u001b[1m1608/1608\u001b[0m \u001b[32m━━━━━━━━━━━━━━━━━━━━\u001b[0m\u001b[37m\u001b[0m \u001b[1m6s\u001b[0m 3ms/step - accuracy: 0.9920 - loss: 0.0284 - val_accuracy: 0.9900 - val_loss: 0.0378\n",
      "Epoch 22/50\n",
      "\u001b[1m1598/1608\u001b[0m \u001b[32m━━━━━━━━━━━━━━━━━━━\u001b[0m\u001b[37m━\u001b[0m \u001b[1m0s\u001b[0m 3ms/step - accuracy: 0.9918 - loss: 0.0291\n",
      "Epoch 22: val_loss did not improve from 0.03601\n",
      "\u001b[1m1608/1608\u001b[0m \u001b[32m━━━━━━━━━━━━━━━━━━━━\u001b[0m\u001b[37m\u001b[0m \u001b[1m5s\u001b[0m 3ms/step - accuracy: 0.9918 - loss: 0.0291 - val_accuracy: 0.9902 - val_loss: 0.0372\n",
      "Epoch 23/50\n",
      "\u001b[1m1591/1608\u001b[0m \u001b[32m━━━━━━━━━━━━━━━━━━━\u001b[0m\u001b[37m━\u001b[0m \u001b[1m0s\u001b[0m 3ms/step - accuracy: 0.9920 - loss: 0.0276\n",
      "Epoch 23: val_loss did not improve from 0.03601\n",
      "\u001b[1m1608/1608\u001b[0m \u001b[32m━━━━━━━━━━━━━━━━━━━━\u001b[0m\u001b[37m\u001b[0m \u001b[1m5s\u001b[0m 3ms/step - accuracy: 0.9920 - loss: 0.0276 - val_accuracy: 0.9880 - val_loss: 0.0414\n",
      "Epoch 24/50\n",
      "\u001b[1m1600/1608\u001b[0m \u001b[32m━━━━━━━━━━━━━━━━━━━\u001b[0m\u001b[37m━\u001b[0m \u001b[1m0s\u001b[0m 3ms/step - accuracy: 0.9925 - loss: 0.0262\n",
      "Epoch 24: val_loss did not improve from 0.03601\n",
      "\u001b[1m1608/1608\u001b[0m \u001b[32m━━━━━━━━━━━━━━━━━━━━\u001b[0m\u001b[37m\u001b[0m \u001b[1m5s\u001b[0m 3ms/step - accuracy: 0.9925 - loss: 0.0262 - val_accuracy: 0.9895 - val_loss: 0.0383\n",
      "Epoch 25/50\n",
      "\u001b[1m1599/1608\u001b[0m \u001b[32m━━━━━━━━━━━━━━━━━━━\u001b[0m\u001b[37m━\u001b[0m \u001b[1m0s\u001b[0m 3ms/step - accuracy: 0.9924 - loss: 0.0257\n",
      "Epoch 25: val_loss did not improve from 0.03601\n",
      "\u001b[1m1608/1608\u001b[0m \u001b[32m━━━━━━━━━━━━━━━━━━━━\u001b[0m\u001b[37m\u001b[0m \u001b[1m5s\u001b[0m 3ms/step - accuracy: 0.9924 - loss: 0.0257 - val_accuracy: 0.9892 - val_loss: 0.0430\n"
     ]
    }
   ],
   "source": [
    "# Train the model\n",
    "history = model.fit(\n",
    "    train_x, train_y,\n",
    "    batch_size=42,  # Number of samples per batch\n",
    "    epochs=50,  # Train for up to 50 epochs\n",
    "    verbose=1,  # Show training progress\n",
    "    validation_data=(valid_x, valid_y),  # Validate on test data\n",
    "    callbacks=[early_stopping, checkpoint]  # Apply early stopping and checkpoint\n",
    ")"
   ]
  },
  {
   "cell_type": "code",
   "execution_count": 30,
   "id": "c77d71c8",
   "metadata": {
    "execution": {
     "iopub.execute_input": "2025-03-03T06:08:23.516750Z",
     "iopub.status.busy": "2025-03-03T06:08:23.516366Z",
     "iopub.status.idle": "2025-03-03T06:08:23.808469Z",
     "shell.execute_reply": "2025-03-03T06:08:23.807573Z"
    },
    "papermill": {
     "duration": 0.41752,
     "end_time": "2025-03-03T06:08:23.810052",
     "exception": false,
     "start_time": "2025-03-03T06:08:23.392532",
     "status": "completed"
    },
    "tags": []
   },
   "outputs": [
    {
     "data": {
      "image/png": "[encoded data removed]",
      "text/plain": [
       "<Figure size 640x480 with 1 Axes>"
      ]
     },
     "metadata": {},
     "output_type": "display_data"
    }
   ],
   "source": [
    "# Plot training and validation loss\n",
    "plt.plot(history.history['loss'], label='Training Loss')  # Plot training loss\n",
    "plt.plot(history.history['val_loss'], label='Validation Loss')  # Plot validation loss\n",
    "\n",
    "# Set the title and axis labels\n",
    "plt.title('Model Loss Over Epochs')  # Title of the plot\n",
    "plt.ylabel('Loss')  # Y-axis label (Loss)\n",
    "plt.xlabel('Epoch')  # X-axis label (Epoch count)\n",
    "\n",
    "# Add a legend to differentiate between training and validation loss\n",
    "plt.legend(['Train', 'Validation'], loc='upper left')\n",
    "plt.savefig('loss_plot.png')\n",
    "\n",
    "# Display the plot\n",
    "plt.show()"
   ]
  },
  {
   "cell_type": "code",
   "execution_count": 31,
   "id": "e3a30db0",
   "metadata": {
    "execution": {
     "iopub.execute_input": "2025-03-03T06:08:24.062297Z",
     "iopub.status.busy": "2025-03-03T06:08:24.061981Z",
     "iopub.status.idle": "2025-03-03T06:08:24.326881Z",
     "shell.execute_reply": "2025-03-03T06:08:24.325922Z"
    },
    "papermill": {
     "duration": 0.38906,
     "end_time": "2025-03-03T06:08:24.328269",
     "exception": false,
     "start_time": "2025-03-03T06:08:23.939209",
     "status": "completed"
    },
    "tags": []
   },
   "outputs": [
    {
     "data": {
      "image/png": "[encoded data removed]",
      "text/plain": [
       "<Figure size 640x480 with 1 Axes>"
      ]
     },
     "metadata": {},
     "output_type": "display_data"
    }
   ],
   "source": [
    "# Plot training and validation accuracy\n",
    "plt.plot(history.history['accuracy'], label='Training Accuracy')  # Plot training accuracy\n",
    "plt.plot(history.history['val_accuracy'], label='Validation Accuracy')  # Plot validation accuracy\n",
    "\n",
    "# Set the title and axis labels\n",
    "plt.title('Model Accuracy Over Epochs')  # Title of the plot\n",
    "plt.ylabel('Accuracy')  # Y-axis label (Accuracy)\n",
    "plt.xlabel('Epoch')  # X-axis label (Epoch count)\n",
    "\n",
    "# Add a legend to differentiate between training and validation accuracy\n",
    "plt.legend(['Train', 'Validation'], loc='upper left')\n",
    "plt.savefig('accuracy_plot.png')\n",
    "\n",
    "# Display the plot\n",
    "plt.show()"
   ]
  },
  {
   "cell_type": "code",
   "execution_count": 32,
   "id": "a2863e3f",
   "metadata": {
    "execution": {
     "iopub.execute_input": "2025-03-03T06:08:24.579948Z",
     "iopub.status.busy": "2025-03-03T06:08:24.579626Z",
     "iopub.status.idle": "2025-03-03T06:08:26.800082Z",
     "shell.execute_reply": "2025-03-03T06:08:26.799261Z"
    },
    "papermill": {
     "duration": 2.347867,
     "end_time": "2025-03-03T06:08:26.801371",
     "exception": false,
     "start_time": "2025-03-03T06:08:24.453504",
     "status": "completed"
    },
    "tags": []
   },
   "outputs": [
    {
     "name": "stdout",
     "output_type": "stream",
     "text": [
      "\u001b[1m704/704\u001b[0m \u001b[32m━━━━━━━━━━━━━━━━━━━━\u001b[0m\u001b[37m\u001b[0m \u001b[1m2s\u001b[0m 2ms/step\n"
     ]
    },
    {
     "data": {
      "text/plain": [
       "array([[7.8876914e-12, 6.5077425e-13, 3.1250821e-17, 1.0000000e+00],\n",
       "       [9.9998677e-01, 9.3305800e-08, 1.3120416e-06, 1.1818109e-05],\n",
       "       [2.7913884e-06, 1.5058671e-06, 7.8081106e-09, 9.9999571e-01],\n",
       "       ...,\n",
       "       [2.3719007e-03, 3.6864376e-04, 2.7067375e-05, 9.9723238e-01],\n",
       "       [4.8308897e-07, 3.1932302e-07, 8.6327667e-10, 9.9999917e-01],\n",
       "       [9.9806386e-01, 5.0828439e-05, 2.5928128e-04, 1.6260982e-03]],\n",
       "      dtype=float32)"
      ]
     },
     "execution_count": 32,
     "metadata": {},
     "output_type": "execute_result"
    }
   ],
   "source": [
    "model.predict(test_x)"
   ]
  },
  {
   "cell_type": "code",
   "execution_count": 33,
   "id": "bdd5c99a",
   "metadata": {
    "execution": {
     "iopub.execute_input": "2025-03-03T06:08:27.051171Z",
     "iopub.status.busy": "2025-03-03T06:08:27.050838Z",
     "iopub.status.idle": "2025-03-03T06:08:29.072994Z",
     "shell.execute_reply": "2025-03-03T06:08:29.072080Z"
    },
    "papermill": {
     "duration": 2.146799,
     "end_time": "2025-03-03T06:08:29.074387",
     "exception": false,
     "start_time": "2025-03-03T06:08:26.927588",
     "status": "completed"
    },
    "tags": []
   },
   "outputs": [
    {
     "name": "stdout",
     "output_type": "stream",
     "text": [
      "\u001b[1m704/704\u001b[0m \u001b[32m━━━━━━━━━━━━━━━━━━━━\u001b[0m\u001b[37m\u001b[0m \u001b[1m2s\u001b[0m 2ms/step - accuracy: 0.9900 - loss: 0.0377\n",
      "Test Loss: 0.0378\n",
      "Test Accuracy: 98.92%\n"
     ]
    }
   ],
   "source": [
    "# Evaluate the trained model on the test dataset\n",
    "score = model.evaluate(test_x, test_y)\n",
    "\n",
    "# Print the test loss\n",
    "print(f'Test Loss: {score[0]:.4f}')  # Display test loss with 4 decimal precision\n",
    "\n",
    "# Print the test accuracy\n",
    "print(f'Test Accuracy: {score[1] * 100:.2f}%')"
   ]
  },
  {
   "cell_type": "code",
   "execution_count": 34,
   "id": "8936797c",
   "metadata": {
    "execution": {
     "iopub.execute_input": "2025-03-03T06:08:29.337610Z",
     "iopub.status.busy": "2025-03-03T06:08:29.337110Z",
     "iopub.status.idle": "2025-03-03T06:08:31.372412Z",
     "shell.execute_reply": "2025-03-03T06:08:31.371481Z"
    },
    "papermill": {
     "duration": 2.171505,
     "end_time": "2025-03-03T06:08:31.373750",
     "exception": false,
     "start_time": "2025-03-03T06:08:29.202245",
     "status": "completed"
    },
    "tags": []
   },
   "outputs": [
    {
     "name": "stdout",
     "output_type": "stream",
     "text": [
      "\u001b[1m704/704\u001b[0m \u001b[32m━━━━━━━━━━━━━━━━━━━━\u001b[0m\u001b[37m\u001b[0m \u001b[1m1s\u001b[0m 1ms/step\n"
     ]
    },
    {
     "data": {
      "image/png": "[encoded data removed]",
      "text/plain": [
       "<Figure size 640x480 with 2 Axes>"
      ]
     },
     "metadata": {},
     "output_type": "display_data"
    }
   ],
   "source": [
    "from sklearn.metrics import confusion_matrix\n",
    "import seaborn as sns\n",
    "\n",
    "y_true=[]\n",
    "for element in test_y:\n",
    "    y_true.append(np.argmax(element))\n",
    "prediction_proba=model.predict(test_x)\n",
    "prediction=np.argmax(prediction_proba,axis=1)\n",
    "ax=plt.subplot()\n",
    "custCnnConfMat = confusion_matrix(y_true, prediction)\n",
    "sns.heatmap(custCnnConfMat, annot=True,fmt='d',ax=ax)\n",
    "ax.set_title('Confusion Matrix'); \n",
    "plt.savefig('cm')"
   ]
  },
  {
   "cell_type": "code",
   "execution_count": 35,
   "id": "8c3ecd93",
   "metadata": {
    "execution": {
     "iopub.execute_input": "2025-03-03T06:08:31.634957Z",
     "iopub.status.busy": "2025-03-03T06:08:31.634329Z",
     "iopub.status.idle": "2025-03-03T06:08:31.676149Z",
     "shell.execute_reply": "2025-03-03T06:08:31.675053Z"
    },
    "papermill": {
     "duration": 0.171676,
     "end_time": "2025-03-03T06:08:31.677646",
     "exception": false,
     "start_time": "2025-03-03T06:08:31.505970",
     "status": "completed"
    },
    "tags": []
   },
   "outputs": [
    {
     "name": "stdout",
     "output_type": "stream",
     "text": [
      "              precision    recall  f1-score   support\n",
      "\n",
      "           0     0.9917    0.9955    0.9936     15001\n",
      "           1     0.9622    0.9818    0.9719      1426\n",
      "           2     0.9167    0.8199    0.8656       161\n",
      "           3     0.9913    0.9797    0.9855      5919\n",
      "\n",
      "    accuracy                         0.9892     22507\n",
      "   macro avg     0.9655    0.9442    0.9541     22507\n",
      "weighted avg     0.9892    0.9892    0.9892     22507\n",
      "\n"
     ]
    }
   ],
   "source": [
    "from sklearn.metrics import classification_report\n",
    "\n",
    "cf = classification_report(y_true, prediction,digits=4)\n",
    "print(cf)"
   ]
  },
  {
   "cell_type": "code",
   "execution_count": null,
   "id": "3a7854c2",
   "metadata": {
    "papermill": {
     "duration": 0.128278,
     "end_time": "2025-03-03T06:08:31.972972",
     "exception": false,
     "start_time": "2025-03-03T06:08:31.844694",
     "status": "completed"
    },
    "tags": []
   },
   "outputs": [],
   "source": []
  }
 ],
 "metadata": {
  "kaggle": {
   "accelerator": "gpu",
   "dataSources": [
    {
     "datasetId": 6548859,
     "sourceId": 10582402,
     "sourceType": "datasetVersion"
    }
   ],
   "dockerImageVersionId": 30919,
   "isGpuEnabled": true,
   "isInternetEnabled": true,
   "language": "python",
   "sourceType": "notebook"
  },
  "kernelspec": {
   "display_name": "Python 3",
   "language": "python",
   "name": "python3"
  },
  "language_info": {
   "codemirror_mode": {
    "name": "ipython",
    "version": 3
   },
   "file_extension": ".py",
   "mimetype": "text/x-python",
   "name": "python",
   "nbconvert_exporter": "python",
   "pygments_lexer": "ipython3",
   "version": "3.10.12"
  },
  "papermill": {
   "default_parameters": {},
   "duration": 242.956178,
   "end_time": "2025-03-03T06:08:34.920162",
   "environment_variables": {},
   "exception": null,
   "input_path": "__notebook__.ipynb",
   "output_path": "__notebook__.ipynb",
   "parameters": {},
   "start_time": "2025-03-03T06:04:31.963984",
   "version": "2.6.0"
  }
 },
 "nbformat": 4,
 "nbformat_minor": 5
}
