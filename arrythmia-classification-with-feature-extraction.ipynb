{
 "cells": [
  {
   "cell_type": "code",
   "execution_count": 1,
   "id": "914c4c74",
   "metadata": {
    "execution": {
     "iopub.execute_input": "2025-03-02T18:10:41.366220Z",
     "iopub.status.busy": "2025-03-02T18:10:41.365906Z",
     "iopub.status.idle": "2025-03-02T18:10:46.239872Z",
     "shell.execute_reply": "2025-03-02T18:10:46.238795Z"
    },
    "papermill": {
     "duration": 4.882937,
     "end_time": "2025-03-02T18:10:46.241583",
     "exception": false,
     "start_time": "2025-03-02T18:10:41.358646",
     "status": "completed"
    },
    "tags": []
   },
   "outputs": [
    {
     "name": "stdout",
     "output_type": "stream",
     "text": [
      "\u001b[2K   \u001b[90m━━━━━━━━━━━━━━━━━━━━━━━━━━━━━━━━━━━━━━━━\u001b[0m \u001b[32m162.3/162.3 kB\u001b[0m \u001b[31m10.3 MB/s\u001b[0m eta \u001b[36m0:00:00\u001b[0m\r\n",
      "\u001b[?25h"
     ]
    }
   ],
   "source": [
    "!pip install -q wfdb"
   ]
  },
  {
   "cell_type": "code",
   "execution_count": 2,
   "id": "1c601ca2",
   "metadata": {
    "_cell_guid": "b1076dfc-b9ad-4769-8c92-a6c4dae69d19",
    "_uuid": "8f2839f25d086af736a60e9eeb907d3b93b6e0e5",
    "execution": {
     "iopub.execute_input": "2025-03-02T18:10:46.254552Z",
     "iopub.status.busy": "2025-03-02T18:10:46.254239Z",
     "iopub.status.idle": "2025-03-02T18:10:59.733257Z",
     "shell.execute_reply": "2025-03-02T18:10:59.732555Z"
    },
    "papermill": {
     "duration": 13.486987,
     "end_time": "2025-03-02T18:10:59.734841",
     "exception": false,
     "start_time": "2025-03-02T18:10:46.247854",
     "status": "completed"
    },
    "tags": []
   },
   "outputs": [],
   "source": [
    "import os\n",
    "import wfdb\n",
    "import numpy as np\n",
    "import pandas as pd\n",
    "from scipy.signal import resample\n",
    "import matplotlib.pyplot as plt\n",
    "from sklearn.decomposition import PCA\n",
    "from sklearn.model_selection import train_test_split\n",
    "\n",
    "import keras\n",
    "from keras.models import Sequential, Model\n",
    "from keras.layers import Conv1D, AvgPool1D, MaxPooling1D, Flatten, Dense, Dropout, Softmax, Concatenate\n",
    "from tensorflow.keras.callbacks import EarlyStopping, ModelCheckpoint\n",
    "from keras.layers import BatchNormalization\n",
    "from keras.optimizers import Adam \n",
    "import tensorflow as tf\n",
    "from tensorflow.keras.utils import to_categorical\n",
    "from tensorflow.keras.utils import plot_model\n",
    "from keras import regularizers\n",
    "from sklearn.preprocessing import StandardScaler"
   ]
  },
  {
   "cell_type": "code",
   "execution_count": 3,
   "id": "21adad44",
   "metadata": {
    "execution": {
     "iopub.execute_input": "2025-03-02T18:10:59.747281Z",
     "iopub.status.busy": "2025-03-02T18:10:59.746781Z",
     "iopub.status.idle": "2025-03-02T18:11:03.475959Z",
     "shell.execute_reply": "2025-03-02T18:11:03.475050Z"
    },
    "papermill": {
     "duration": 3.736873,
     "end_time": "2025-03-02T18:11:03.477516",
     "exception": false,
     "start_time": "2025-03-02T18:10:59.740643",
     "status": "completed"
    },
    "tags": []
   },
   "outputs": [
    {
     "data": {
      "text/html": [
       "<div>\n",
       "<style scoped>\n",
       "    .dataframe tbody tr th:only-of-type {\n",
       "        vertical-align: middle;\n",
       "    }\n",
       "\n",
       "    .dataframe tbody tr th {\n",
       "        vertical-align: top;\n",
       "    }\n",
       "\n",
       "    .dataframe thead th {\n",
       "        text-align: right;\n",
       "    }\n",
       "</style>\n",
       "<table border=\"1\" class=\"dataframe\">\n",
       "  <thead>\n",
       "    <tr style=\"text-align: right;\">\n",
       "      <th></th>\n",
       "      <th>0</th>\n",
       "      <th>1</th>\n",
       "      <th>2</th>\n",
       "      <th>3</th>\n",
       "      <th>4</th>\n",
       "      <th>5</th>\n",
       "      <th>6</th>\n",
       "      <th>7</th>\n",
       "      <th>8</th>\n",
       "      <th>9</th>\n",
       "      <th>...</th>\n",
       "      <th>66</th>\n",
       "      <th>67</th>\n",
       "      <th>68</th>\n",
       "      <th>69</th>\n",
       "      <th>70</th>\n",
       "      <th>71</th>\n",
       "      <th>72</th>\n",
       "      <th>73</th>\n",
       "      <th>74</th>\n",
       "      <th>75</th>\n",
       "    </tr>\n",
       "  </thead>\n",
       "  <tbody>\n",
       "    <tr>\n",
       "      <th>0</th>\n",
       "      <td>-0.359115</td>\n",
       "      <td>-0.290379</td>\n",
       "      <td>-0.323573</td>\n",
       "      <td>-0.307218</td>\n",
       "      <td>-0.316645</td>\n",
       "      <td>-0.321637</td>\n",
       "      <td>-0.306067</td>\n",
       "      <td>-0.302599</td>\n",
       "      <td>-0.298502</td>\n",
       "      <td>-0.299659</td>\n",
       "      <td>...</td>\n",
       "      <td>-0.414052</td>\n",
       "      <td>-0.431847</td>\n",
       "      <td>-0.425296</td>\n",
       "      <td>-0.450239</td>\n",
       "      <td>-0.441885</td>\n",
       "      <td>-0.461390</td>\n",
       "      <td>-0.455039</td>\n",
       "      <td>-0.464502</td>\n",
       "      <td>-0.458949</td>\n",
       "      <td>0</td>\n",
       "    </tr>\n",
       "    <tr>\n",
       "      <th>1</th>\n",
       "      <td>-0.331590</td>\n",
       "      <td>-0.359151</td>\n",
       "      <td>-0.342719</td>\n",
       "      <td>-0.347785</td>\n",
       "      <td>-0.329609</td>\n",
       "      <td>-0.348510</td>\n",
       "      <td>-0.337670</td>\n",
       "      <td>-0.349326</td>\n",
       "      <td>-0.340564</td>\n",
       "      <td>-0.338450</td>\n",
       "      <td>...</td>\n",
       "      <td>-0.410252</td>\n",
       "      <td>-0.411724</td>\n",
       "      <td>-0.423127</td>\n",
       "      <td>-0.414775</td>\n",
       "      <td>-0.434438</td>\n",
       "      <td>-0.416298</td>\n",
       "      <td>-0.426213</td>\n",
       "      <td>-0.398806</td>\n",
       "      <td>-0.374722</td>\n",
       "      <td>0</td>\n",
       "    </tr>\n",
       "    <tr>\n",
       "      <th>2</th>\n",
       "      <td>-0.359694</td>\n",
       "      <td>-0.362858</td>\n",
       "      <td>-0.356012</td>\n",
       "      <td>-0.353829</td>\n",
       "      <td>-0.349271</td>\n",
       "      <td>-0.358797</td>\n",
       "      <td>-0.363903</td>\n",
       "      <td>-0.367123</td>\n",
       "      <td>-0.356742</td>\n",
       "      <td>-0.361979</td>\n",
       "      <td>...</td>\n",
       "      <td>-0.374593</td>\n",
       "      <td>-0.387517</td>\n",
       "      <td>-0.373483</td>\n",
       "      <td>-0.384780</td>\n",
       "      <td>-0.366351</td>\n",
       "      <td>-0.394924</td>\n",
       "      <td>-0.366355</td>\n",
       "      <td>-0.369437</td>\n",
       "      <td>-0.312160</td>\n",
       "      <td>0</td>\n",
       "    </tr>\n",
       "    <tr>\n",
       "      <th>3</th>\n",
       "      <td>-0.339981</td>\n",
       "      <td>-0.352648</td>\n",
       "      <td>-0.351186</td>\n",
       "      <td>-0.350171</td>\n",
       "      <td>-0.339069</td>\n",
       "      <td>-0.360647</td>\n",
       "      <td>-0.354735</td>\n",
       "      <td>-0.349480</td>\n",
       "      <td>-0.335290</td>\n",
       "      <td>-0.337053</td>\n",
       "      <td>...</td>\n",
       "      <td>-0.424496</td>\n",
       "      <td>-0.430142</td>\n",
       "      <td>-0.447108</td>\n",
       "      <td>-0.452515</td>\n",
       "      <td>-0.452510</td>\n",
       "      <td>-0.425352</td>\n",
       "      <td>-0.451367</td>\n",
       "      <td>-0.414900</td>\n",
       "      <td>-0.420923</td>\n",
       "      <td>0</td>\n",
       "    </tr>\n",
       "    <tr>\n",
       "      <th>4</th>\n",
       "      <td>-0.366317</td>\n",
       "      <td>-0.332309</td>\n",
       "      <td>-0.335611</td>\n",
       "      <td>-0.321932</td>\n",
       "      <td>-0.329447</td>\n",
       "      <td>-0.330804</td>\n",
       "      <td>-0.336630</td>\n",
       "      <td>-0.332348</td>\n",
       "      <td>-0.332618</td>\n",
       "      <td>-0.341589</td>\n",
       "      <td>...</td>\n",
       "      <td>-0.393476</td>\n",
       "      <td>-0.423857</td>\n",
       "      <td>-0.409874</td>\n",
       "      <td>-0.440441</td>\n",
       "      <td>-0.430977</td>\n",
       "      <td>-0.445994</td>\n",
       "      <td>-0.436363</td>\n",
       "      <td>-0.445539</td>\n",
       "      <td>-0.424348</td>\n",
       "      <td>0</td>\n",
       "    </tr>\n",
       "  </tbody>\n",
       "</table>\n",
       "<p>5 rows × 76 columns</p>\n",
       "</div>"
      ],
      "text/plain": [
       "          0         1         2         3         4         5         6  \\\n",
       "0 -0.359115 -0.290379 -0.323573 -0.307218 -0.316645 -0.321637 -0.306067   \n",
       "1 -0.331590 -0.359151 -0.342719 -0.347785 -0.329609 -0.348510 -0.337670   \n",
       "2 -0.359694 -0.362858 -0.356012 -0.353829 -0.349271 -0.358797 -0.363903   \n",
       "3 -0.339981 -0.352648 -0.351186 -0.350171 -0.339069 -0.360647 -0.354735   \n",
       "4 -0.366317 -0.332309 -0.335611 -0.321932 -0.329447 -0.330804 -0.336630   \n",
       "\n",
       "          7         8         9  ...        66        67        68        69  \\\n",
       "0 -0.302599 -0.298502 -0.299659  ... -0.414052 -0.431847 -0.425296 -0.450239   \n",
       "1 -0.349326 -0.340564 -0.338450  ... -0.410252 -0.411724 -0.423127 -0.414775   \n",
       "2 -0.367123 -0.356742 -0.361979  ... -0.374593 -0.387517 -0.373483 -0.384780   \n",
       "3 -0.349480 -0.335290 -0.337053  ... -0.424496 -0.430142 -0.447108 -0.452515   \n",
       "4 -0.332348 -0.332618 -0.341589  ... -0.393476 -0.423857 -0.409874 -0.440441   \n",
       "\n",
       "         70        71        72        73        74  75  \n",
       "0 -0.441885 -0.461390 -0.455039 -0.464502 -0.458949   0  \n",
       "1 -0.434438 -0.416298 -0.426213 -0.398806 -0.374722   0  \n",
       "2 -0.366351 -0.394924 -0.366355 -0.369437 -0.312160   0  \n",
       "3 -0.452510 -0.425352 -0.451367 -0.414900 -0.420923   0  \n",
       "4 -0.430977 -0.445994 -0.436363 -0.445539 -0.424348   0  \n",
       "\n",
       "[5 rows x 76 columns]"
      ]
     },
     "execution_count": 3,
     "metadata": {},
     "output_type": "execute_result"
    }
   ],
   "source": [
    "data = pd.read_csv('/kaggle/input/arrythmia-beats/beats.csv')\n",
    "data.drop(columns=['Unnamed: 0'], inplace=True)\n",
    "\n",
    "data.head(5)"
   ]
  },
  {
   "cell_type": "code",
   "execution_count": 4,
   "id": "77f848da",
   "metadata": {
    "collapsed": true,
    "execution": {
     "iopub.execute_input": "2025-03-02T18:11:03.491135Z",
     "iopub.status.busy": "2025-03-02T18:11:03.490884Z",
     "iopub.status.idle": "2025-03-02T18:11:03.516461Z",
     "shell.execute_reply": "2025-03-02T18:11:03.515503Z"
    },
    "jupyter": {
     "outputs_hidden": true
    },
    "papermill": {
     "duration": 0.033825,
     "end_time": "2025-03-02T18:11:03.518138",
     "exception": false,
     "start_time": "2025-03-02T18:11:03.484313",
     "status": "completed"
    },
    "tags": []
   },
   "outputs": [],
   "source": [
    "X = data.iloc[:, :-1]\n",
    "y = data.iloc[:, -1]"
   ]
  },
  {
   "cell_type": "code",
   "execution_count": 5,
   "id": "2eb5a8ec",
   "metadata": {
    "execution": {
     "iopub.execute_input": "2025-03-02T18:11:03.531677Z",
     "iopub.status.busy": "2025-03-02T18:11:03.531402Z",
     "iopub.status.idle": "2025-03-02T18:11:03.943065Z",
     "shell.execute_reply": "2025-03-02T18:11:03.942071Z"
    },
    "papermill": {
     "duration": 0.420219,
     "end_time": "2025-03-02T18:11:03.944936",
     "exception": false,
     "start_time": "2025-03-02T18:11:03.524717",
     "status": "completed"
    },
    "tags": []
   },
   "outputs": [],
   "source": [
    "# Apply PCA\n",
    "pca = PCA(n_components=0.95)  # Retain 95% variance\n",
    "X_pca = pca.fit_transform(X)"
   ]
  },
  {
   "cell_type": "code",
   "execution_count": 6,
   "id": "0fdf5855",
   "metadata": {
    "execution": {
     "iopub.execute_input": "2025-03-02T18:11:03.959810Z",
     "iopub.status.busy": "2025-03-02T18:11:03.959529Z",
     "iopub.status.idle": "2025-03-02T18:11:03.964148Z",
     "shell.execute_reply": "2025-03-02T18:11:03.963438Z"
    },
    "papermill": {
     "duration": 0.012766,
     "end_time": "2025-03-02T18:11:03.965354",
     "exception": false,
     "start_time": "2025-03-02T18:11:03.952588",
     "status": "completed"
    },
    "tags": []
   },
   "outputs": [
    {
     "name": "stdout",
     "output_type": "stream",
     "text": [
      "Explained Variance Ratio: [0.50566777 0.21917854 0.09439045 0.05441103 0.04253188 0.02191155\n",
      " 0.01160706 0.00989394]\n"
     ]
    }
   ],
   "source": [
    "# Check explained variance ratio\n",
    "print(\"Explained Variance Ratio:\", pca.explained_variance_ratio_)"
   ]
  },
  {
   "cell_type": "code",
   "execution_count": 7,
   "id": "65fb8f21",
   "metadata": {
    "execution": {
     "iopub.execute_input": "2025-03-02T18:11:03.977582Z",
     "iopub.status.busy": "2025-03-02T18:11:03.977349Z",
     "iopub.status.idle": "2025-03-02T18:11:03.989338Z",
     "shell.execute_reply": "2025-03-02T18:11:03.988684Z"
    },
    "papermill": {
     "duration": 0.019357,
     "end_time": "2025-03-02T18:11:03.990582",
     "exception": false,
     "start_time": "2025-03-02T18:11:03.971225",
     "status": "completed"
    },
    "tags": []
   },
   "outputs": [
    {
     "data": {
      "text/html": [
       "<div>\n",
       "<style scoped>\n",
       "    .dataframe tbody tr th:only-of-type {\n",
       "        vertical-align: middle;\n",
       "    }\n",
       "\n",
       "    .dataframe tbody tr th {\n",
       "        vertical-align: top;\n",
       "    }\n",
       "\n",
       "    .dataframe thead th {\n",
       "        text-align: right;\n",
       "    }\n",
       "</style>\n",
       "<table border=\"1\" class=\"dataframe\">\n",
       "  <thead>\n",
       "    <tr style=\"text-align: right;\">\n",
       "      <th></th>\n",
       "      <th>0</th>\n",
       "      <th>1</th>\n",
       "      <th>2</th>\n",
       "      <th>3</th>\n",
       "      <th>4</th>\n",
       "      <th>5</th>\n",
       "      <th>6</th>\n",
       "      <th>7</th>\n",
       "      <th>Target</th>\n",
       "    </tr>\n",
       "  </thead>\n",
       "  <tbody>\n",
       "    <tr>\n",
       "      <th>0</th>\n",
       "      <td>0.077544</td>\n",
       "      <td>0.185870</td>\n",
       "      <td>-0.757876</td>\n",
       "      <td>-0.265694</td>\n",
       "      <td>-0.125441</td>\n",
       "      <td>0.433201</td>\n",
       "      <td>-0.214613</td>\n",
       "      <td>-0.191826</td>\n",
       "      <td>0</td>\n",
       "    </tr>\n",
       "    <tr>\n",
       "      <th>1</th>\n",
       "      <td>-0.023355</td>\n",
       "      <td>0.504961</td>\n",
       "      <td>-0.739108</td>\n",
       "      <td>-0.262781</td>\n",
       "      <td>-0.000146</td>\n",
       "      <td>0.521998</td>\n",
       "      <td>-0.112068</td>\n",
       "      <td>-0.293593</td>\n",
       "      <td>0</td>\n",
       "    </tr>\n",
       "    <tr>\n",
       "      <th>2</th>\n",
       "      <td>-0.033717</td>\n",
       "      <td>0.667187</td>\n",
       "      <td>-0.660976</td>\n",
       "      <td>-0.313764</td>\n",
       "      <td>0.111490</td>\n",
       "      <td>0.517625</td>\n",
       "      <td>-0.129570</td>\n",
       "      <td>-0.226769</td>\n",
       "      <td>0</td>\n",
       "    </tr>\n",
       "    <tr>\n",
       "      <th>3</th>\n",
       "      <td>-0.055630</td>\n",
       "      <td>0.639269</td>\n",
       "      <td>-0.855417</td>\n",
       "      <td>-0.129850</td>\n",
       "      <td>-0.003671</td>\n",
       "      <td>0.482379</td>\n",
       "      <td>-0.142944</td>\n",
       "      <td>-0.260567</td>\n",
       "      <td>0</td>\n",
       "    </tr>\n",
       "    <tr>\n",
       "      <th>4</th>\n",
       "      <td>0.008995</td>\n",
       "      <td>0.539357</td>\n",
       "      <td>-0.823392</td>\n",
       "      <td>-0.138061</td>\n",
       "      <td>-0.038075</td>\n",
       "      <td>0.516807</td>\n",
       "      <td>-0.176810</td>\n",
       "      <td>-0.287622</td>\n",
       "      <td>0</td>\n",
       "    </tr>\n",
       "  </tbody>\n",
       "</table>\n",
       "</div>"
      ],
      "text/plain": [
       "          0         1         2         3         4         5         6  \\\n",
       "0  0.077544  0.185870 -0.757876 -0.265694 -0.125441  0.433201 -0.214613   \n",
       "1 -0.023355  0.504961 -0.739108 -0.262781 -0.000146  0.521998 -0.112068   \n",
       "2 -0.033717  0.667187 -0.660976 -0.313764  0.111490  0.517625 -0.129570   \n",
       "3 -0.055630  0.639269 -0.855417 -0.129850 -0.003671  0.482379 -0.142944   \n",
       "4  0.008995  0.539357 -0.823392 -0.138061 -0.038075  0.516807 -0.176810   \n",
       "\n",
       "          7  Target  \n",
       "0 -0.191826       0  \n",
       "1 -0.293593       0  \n",
       "2 -0.226769       0  \n",
       "3 -0.260567       0  \n",
       "4 -0.287622       0  "
      ]
     },
     "execution_count": 7,
     "metadata": {},
     "output_type": "execute_result"
    }
   ],
   "source": [
    "# Convert back to DataFrame\n",
    "df = pd.DataFrame(X_pca)\n",
    "df['Target'] = y\n",
    "\n",
    "df.head()"
   ]
  },
  {
   "cell_type": "code",
   "execution_count": 8,
   "id": "64427b87",
   "metadata": {
    "execution": {
     "iopub.execute_input": "2025-03-02T18:11:04.003214Z",
     "iopub.status.busy": "2025-03-02T18:11:04.002969Z",
     "iopub.status.idle": "2025-03-02T18:11:04.459692Z",
     "shell.execute_reply": "2025-03-02T18:11:04.458829Z"
    },
    "papermill": {
     "duration": 0.46473,
     "end_time": "2025-03-02T18:11:04.461262",
     "exception": false,
     "start_time": "2025-03-02T18:11:03.996532",
     "status": "completed"
    },
    "tags": []
   },
   "outputs": [
    {
     "data": {
      "image/png": "[encoded data removed]",
      "text/plain": [
       "<Figure size 3000x500 with 1 Axes>"
      ]
     },
     "metadata": {},
     "output_type": "display_data"
    }
   ],
   "source": [
    "beat = data[data.iloc[:, -1] == 1].iloc[0, :-1].values  \n",
    "beat = beat.astype(float)  \n",
    "\n",
    "plt.figure(figsize=(30, 5))\n",
    "plt.plot(beat, color='blue', linewidth=1.5)\n",
    "plt.title('ECG Signal - Single Abnormal Beat')\n",
    "plt.xlabel('Time (samples)')\n",
    "plt.ylabel('Amplitude')\n",
    "plt.grid(True)\n",
    "\n",
    "plt.savefig('Abnormal_beat_plot.png')\n",
    "plt.show()"
   ]
  },
  {
   "cell_type": "code",
   "execution_count": 9,
   "id": "280c7769",
   "metadata": {
    "execution": {
     "iopub.execute_input": "2025-03-02T18:11:04.476002Z",
     "iopub.status.busy": "2025-03-02T18:11:04.475772Z",
     "iopub.status.idle": "2025-03-02T18:11:04.882914Z",
     "shell.execute_reply": "2025-03-02T18:11:04.882007Z"
    },
    "papermill": {
     "duration": 0.416035,
     "end_time": "2025-03-02T18:11:04.884333",
     "exception": false,
     "start_time": "2025-03-02T18:11:04.468298",
     "status": "completed"
    },
    "tags": []
   },
   "outputs": [
    {
     "data": {
      "image/png": "[encoded data removed]",
      "text/plain": [
       "<Figure size 3000x500 with 1 Axes>"
      ]
     },
     "metadata": {},
     "output_type": "display_data"
    }
   ],
   "source": [
    "beat = data[data.iloc[:, -1] == 0].iloc[11, :-1].values  \n",
    "beat = beat.astype(float)  \n",
    "\n",
    "plt.figure(figsize=(30, 5))\n",
    "plt.plot(beat, color='blue', linewidth=1.5)\n",
    "plt.title('ECG Signal - Single Abnormal Beat')\n",
    "plt.xlabel('Time (samples)')\n",
    "plt.ylabel('Amplitude')\n",
    "plt.grid(True)\n",
    "\n",
    "plt.savefig('Abnormal_beat_plot.png')\n",
    "plt.show()"
   ]
  },
  {
   "cell_type": "code",
   "execution_count": 10,
   "id": "ce7e50a5",
   "metadata": {
    "execution": {
     "iopub.execute_input": "2025-03-02T18:11:04.901401Z",
     "iopub.status.busy": "2025-03-02T18:11:04.901166Z",
     "iopub.status.idle": "2025-03-02T18:11:04.925505Z",
     "shell.execute_reply": "2025-03-02T18:11:04.924641Z"
    },
    "papermill": {
     "duration": 0.034133,
     "end_time": "2025-03-02T18:11:04.926793",
     "exception": false,
     "start_time": "2025-03-02T18:11:04.892660",
     "status": "completed"
    },
    "tags": []
   },
   "outputs": [
    {
     "name": "stdout",
     "output_type": "stream",
     "text": [
      "<class 'pandas.core.frame.DataFrame'>\n",
      "RangeIndex: 112532 entries, 0 to 112531\n",
      "Data columns (total 9 columns):\n",
      " #   Column  Non-Null Count   Dtype  \n",
      "---  ------  --------------   -----  \n",
      " 0   0       112532 non-null  float64\n",
      " 1   1       112532 non-null  float64\n",
      " 2   2       112532 non-null  float64\n",
      " 3   3       112532 non-null  float64\n",
      " 4   4       112532 non-null  float64\n",
      " 5   5       112532 non-null  float64\n",
      " 6   6       112532 non-null  float64\n",
      " 7   7       112532 non-null  float64\n",
      " 8   Target  112532 non-null  int64  \n",
      "dtypes: float64(8), int64(1)\n",
      "memory usage: 7.7 MB\n"
     ]
    }
   ],
   "source": [
    "df.info()"
   ]
  },
  {
   "cell_type": "code",
   "execution_count": 11,
   "id": "d6f781d1",
   "metadata": {
    "execution": {
     "iopub.execute_input": "2025-03-02T18:11:04.943227Z",
     "iopub.status.busy": "2025-03-02T18:11:04.943005Z",
     "iopub.status.idle": "2025-03-02T18:11:05.076115Z",
     "shell.execute_reply": "2025-03-02T18:11:05.075266Z"
    },
    "papermill": {
     "duration": 0.142909,
     "end_time": "2025-03-02T18:11:05.077590",
     "exception": false,
     "start_time": "2025-03-02T18:11:04.934681",
     "status": "completed"
    },
    "tags": []
   },
   "outputs": [
    {
     "data": {
      "image/png": "[encoded data removed]",
      "text/plain": [
       "<Figure size 2000x1000 with 1 Axes>"
      ]
     },
     "metadata": {},
     "output_type": "display_data"
    }
   ],
   "source": [
    "per_classes = df.iloc[:, -1].value_counts()\n",
    "plt.figure(figsize=(20,10))\n",
    "plt.pie(per_classes, labels=['N', 'S', 'V', 'F', 'Q'], autopct='%1.1f%%')\n",
    "plt.show()"
   ]
  },
  {
   "cell_type": "code",
   "execution_count": 12,
   "id": "c8c981df",
   "metadata": {
    "execution": {
     "iopub.execute_input": "2025-03-02T18:11:05.095883Z",
     "iopub.status.busy": "2025-03-02T18:11:05.095649Z",
     "iopub.status.idle": "2025-03-02T18:11:05.106643Z",
     "shell.execute_reply": "2025-03-02T18:11:05.105776Z"
    },
    "papermill": {
     "duration": 0.021644,
     "end_time": "2025-03-02T18:11:05.108007",
     "exception": false,
     "start_time": "2025-03-02T18:11:05.086363",
     "status": "completed"
    },
    "tags": []
   },
   "outputs": [
    {
     "data": {
      "text/plain": [
       "Target\n",
       "0    75005\n",
       "4    29594\n",
       "2     7129\n",
       "3      802\n",
       "Name: count, dtype: int64"
      ]
     },
     "execution_count": 12,
     "metadata": {},
     "output_type": "execute_result"
    }
   ],
   "source": [
    "df = df[df.iloc[:, -1] != 1]\n",
    "df.iloc[:, -1].value_counts()"
   ]
  },
  {
   "cell_type": "code",
   "execution_count": 13,
   "id": "7e745692",
   "metadata": {
    "execution": {
     "iopub.execute_input": "2025-03-02T18:11:05.126036Z",
     "iopub.status.busy": "2025-03-02T18:11:05.125829Z",
     "iopub.status.idle": "2025-03-02T18:11:05.139318Z",
     "shell.execute_reply": "2025-03-02T18:11:05.138574Z"
    },
    "papermill": {
     "duration": 0.023894,
     "end_time": "2025-03-02T18:11:05.140607",
     "exception": false,
     "start_time": "2025-03-02T18:11:05.116713",
     "status": "completed"
    },
    "tags": []
   },
   "outputs": [
    {
     "data": {
      "text/html": [
       "<div>\n",
       "<style scoped>\n",
       "    .dataframe tbody tr th:only-of-type {\n",
       "        vertical-align: middle;\n",
       "    }\n",
       "\n",
       "    .dataframe tbody tr th {\n",
       "        vertical-align: top;\n",
       "    }\n",
       "\n",
       "    .dataframe thead th {\n",
       "        text-align: right;\n",
       "    }\n",
       "</style>\n",
       "<table border=\"1\" class=\"dataframe\">\n",
       "  <thead>\n",
       "    <tr style=\"text-align: right;\">\n",
       "      <th></th>\n",
       "      <th>0</th>\n",
       "      <th>1</th>\n",
       "      <th>2</th>\n",
       "      <th>3</th>\n",
       "      <th>4</th>\n",
       "      <th>5</th>\n",
       "      <th>6</th>\n",
       "      <th>7</th>\n",
       "    </tr>\n",
       "  </thead>\n",
       "  <tbody>\n",
       "    <tr>\n",
       "      <th>0</th>\n",
       "      <td>0.077544</td>\n",
       "      <td>0.185870</td>\n",
       "      <td>-0.757876</td>\n",
       "      <td>-0.265694</td>\n",
       "      <td>-0.125441</td>\n",
       "      <td>0.433201</td>\n",
       "      <td>-0.214613</td>\n",
       "      <td>-0.191826</td>\n",
       "    </tr>\n",
       "    <tr>\n",
       "      <th>1</th>\n",
       "      <td>-0.023355</td>\n",
       "      <td>0.504961</td>\n",
       "      <td>-0.739108</td>\n",
       "      <td>-0.262781</td>\n",
       "      <td>-0.000146</td>\n",
       "      <td>0.521998</td>\n",
       "      <td>-0.112068</td>\n",
       "      <td>-0.293593</td>\n",
       "    </tr>\n",
       "    <tr>\n",
       "      <th>2</th>\n",
       "      <td>-0.033717</td>\n",
       "      <td>0.667187</td>\n",
       "      <td>-0.660976</td>\n",
       "      <td>-0.313764</td>\n",
       "      <td>0.111490</td>\n",
       "      <td>0.517625</td>\n",
       "      <td>-0.129570</td>\n",
       "      <td>-0.226769</td>\n",
       "    </tr>\n",
       "    <tr>\n",
       "      <th>3</th>\n",
       "      <td>-0.055630</td>\n",
       "      <td>0.639269</td>\n",
       "      <td>-0.855417</td>\n",
       "      <td>-0.129850</td>\n",
       "      <td>-0.003671</td>\n",
       "      <td>0.482379</td>\n",
       "      <td>-0.142944</td>\n",
       "      <td>-0.260567</td>\n",
       "    </tr>\n",
       "    <tr>\n",
       "      <th>4</th>\n",
       "      <td>0.008995</td>\n",
       "      <td>0.539357</td>\n",
       "      <td>-0.823392</td>\n",
       "      <td>-0.138061</td>\n",
       "      <td>-0.038075</td>\n",
       "      <td>0.516807</td>\n",
       "      <td>-0.176810</td>\n",
       "      <td>-0.287622</td>\n",
       "    </tr>\n",
       "  </tbody>\n",
       "</table>\n",
       "</div>"
      ],
      "text/plain": [
       "          0         1         2         3         4         5         6  \\\n",
       "0  0.077544  0.185870 -0.757876 -0.265694 -0.125441  0.433201 -0.214613   \n",
       "1 -0.023355  0.504961 -0.739108 -0.262781 -0.000146  0.521998 -0.112068   \n",
       "2 -0.033717  0.667187 -0.660976 -0.313764  0.111490  0.517625 -0.129570   \n",
       "3 -0.055630  0.639269 -0.855417 -0.129850 -0.003671  0.482379 -0.142944   \n",
       "4  0.008995  0.539357 -0.823392 -0.138061 -0.038075  0.516807 -0.176810   \n",
       "\n",
       "          7  \n",
       "0 -0.191826  \n",
       "1 -0.293593  \n",
       "2 -0.226769  \n",
       "3 -0.260567  \n",
       "4 -0.287622  "
      ]
     },
     "execution_count": 13,
     "metadata": {},
     "output_type": "execute_result"
    }
   ],
   "source": [
    "X = df.iloc[:, :-1]\n",
    "X.head()"
   ]
  },
  {
   "cell_type": "code",
   "execution_count": 14,
   "id": "bb6eff33",
   "metadata": {
    "execution": {
     "iopub.execute_input": "2025-03-02T18:11:05.159238Z",
     "iopub.status.busy": "2025-03-02T18:11:05.159020Z",
     "iopub.status.idle": "2025-03-02T18:11:05.164352Z",
     "shell.execute_reply": "2025-03-02T18:11:05.163544Z"
    },
    "papermill": {
     "duration": 0.01617,
     "end_time": "2025-03-02T18:11:05.165732",
     "exception": false,
     "start_time": "2025-03-02T18:11:05.149562",
     "status": "completed"
    },
    "tags": []
   },
   "outputs": [
    {
     "data": {
      "text/plain": [
       "0    0\n",
       "1    0\n",
       "2    0\n",
       "3    0\n",
       "4    0\n",
       "Name: Target, dtype: int64"
      ]
     },
     "execution_count": 14,
     "metadata": {},
     "output_type": "execute_result"
    }
   ],
   "source": [
    "y = df.iloc[:, -1]\n",
    "y.head()"
   ]
  },
  {
   "cell_type": "code",
   "execution_count": 15,
   "id": "cc7cb5cb",
   "metadata": {
    "execution": {
     "iopub.execute_input": "2025-03-02T18:11:05.183648Z",
     "iopub.status.busy": "2025-03-02T18:11:05.183395Z",
     "iopub.status.idle": "2025-03-02T18:11:05.187631Z",
     "shell.execute_reply": "2025-03-02T18:11:05.186808Z"
    },
    "papermill": {
     "duration": 0.014621,
     "end_time": "2025-03-02T18:11:05.188914",
     "exception": false,
     "start_time": "2025-03-02T18:11:05.174293",
     "status": "completed"
    },
    "tags": []
   },
   "outputs": [
    {
     "name": "stdout",
     "output_type": "stream",
     "text": [
      "The Shape of the X: (112530, 8)\n",
      "The Shape of the y: (112530,)\n"
     ]
    }
   ],
   "source": [
    "print(f\"The Shape of the X: {X.shape}\")\n",
    "print(f\"The Shape of the y: {y.shape}\")"
   ]
  },
  {
   "cell_type": "code",
   "execution_count": 16,
   "id": "a9386e85",
   "metadata": {
    "execution": {
     "iopub.execute_input": "2025-03-02T18:11:05.206915Z",
     "iopub.status.busy": "2025-03-02T18:11:05.206707Z",
     "iopub.status.idle": "2025-03-02T18:11:05.237296Z",
     "shell.execute_reply": "2025-03-02T18:11:05.236556Z"
    },
    "papermill": {
     "duration": 0.041334,
     "end_time": "2025-03-02T18:11:05.238946",
     "exception": false,
     "start_time": "2025-03-02T18:11:05.197612",
     "status": "completed"
    },
    "tags": []
   },
   "outputs": [],
   "source": [
    "# First, split into train and test sets\n",
    "X_train, X_test, y_train, y_test = train_test_split(X, y, test_size=0.2, random_state=42)\n",
    "\n",
    "# Now, split the train set into training and validation sets\n",
    "X_train, X_valid, y_train, y_valid = train_test_split(X_train, y_train, test_size=0.25, random_state=42)  # 0.25 x 0.8 = 0.2"
   ]
  },
  {
   "cell_type": "code",
   "execution_count": 17,
   "id": "c8c8307c",
   "metadata": {
    "execution": {
     "iopub.execute_input": "2025-03-02T18:11:05.258204Z",
     "iopub.status.busy": "2025-03-02T18:11:05.257971Z",
     "iopub.status.idle": "2025-03-02T18:11:05.263013Z",
     "shell.execute_reply": "2025-03-02T18:11:05.262291Z"
    },
    "papermill": {
     "duration": 0.015712,
     "end_time": "2025-03-02T18:11:05.264250",
     "exception": false,
     "start_time": "2025-03-02T18:11:05.248538",
     "status": "completed"
    },
    "tags": []
   },
   "outputs": [
    {
     "name": "stdout",
     "output_type": "stream",
     "text": [
      "The shape of X_train: (67518, 8)\n",
      "The shape of X_test: (22506, 8)\n",
      "The shape of X_valid: (22506, 8)\n",
      "The length of y_train: 67518\n",
      "The length of y_test: 22506\n",
      "The shape of y_valid: 22506\n"
     ]
    }
   ],
   "source": [
    "print(f\"The shape of X_train: {X_train.shape}\")\n",
    "print(f\"The shape of X_test: {X_test.shape}\")\n",
    "print(f\"The shape of X_valid: {X_valid.shape}\")\n",
    "print(f\"The length of y_train: {len(y_train)}\")\n",
    "print(f\"The length of y_test: {len(y_test)}\")\n",
    "print(f\"The shape of y_valid: {len(y_valid)}\")"
   ]
  },
  {
   "cell_type": "code",
   "execution_count": 18,
   "id": "acb6cc5e",
   "metadata": {
    "execution": {
     "iopub.execute_input": "2025-03-02T18:11:05.282332Z",
     "iopub.status.busy": "2025-03-02T18:11:05.282118Z",
     "iopub.status.idle": "2025-03-02T18:11:05.570331Z",
     "shell.execute_reply": "2025-03-02T18:11:05.569537Z"
    },
    "papermill": {
     "duration": 0.298697,
     "end_time": "2025-03-02T18:11:05.571727",
     "exception": false,
     "start_time": "2025-03-02T18:11:05.273030",
     "status": "completed"
    },
    "tags": []
   },
   "outputs": [
    {
     "data": {
      "image/png": "[encoded data removed]",
      "text/plain": [
       "<Figure size 1000x800 with 3 Axes>"
      ]
     },
     "metadata": {},
     "output_type": "display_data"
    }
   ],
   "source": [
    "# Compute class distributions for training and testing sets\n",
    "train_classes, train_counts = np.unique(y_train, return_counts=True)\n",
    "test_classes, test_counts = np.unique(y_test, return_counts=True)\n",
    "valid_classes, valid_counts = np.unique(y_valid, return_counts=True)\n",
    "\n",
    "# Create a figure with two subplots (1 row, 2 columns)\n",
    "fig, axes = plt.subplots(1, 3, figsize=(10, 8))\n",
    "\n",
    "# Plot the Training Set Distribution\n",
    "axes[0].pie(train_counts, labels=['N', 'V', 'F', 'Q'], autopct='%1.1f%%')\n",
    "axes[0].set_title('Training Set Class Distribution')\n",
    "\n",
    "# Plot the Testing Set Distribution\n",
    "axes[1].pie(test_counts, labels=['N', 'V', 'F', 'Q'], autopct='%1.1f%%')\n",
    "axes[1].set_title('Testing Set Class Distribution')\n",
    "\n",
    "# Plot the validation Set Distribution\n",
    "axes[2].pie(valid_counts, labels=['N', 'V', 'F', 'Q'], autopct='%1.1f%%')\n",
    "axes[2].set_title('Validation Set Class Distribution')\n",
    "\n",
    "# Adjust layout for better visualization\n",
    "plt.tight_layout()\n",
    "plt.show()"
   ]
  },
  {
   "cell_type": "code",
   "execution_count": 19,
   "id": "a5eec76a",
   "metadata": {
    "execution": {
     "iopub.execute_input": "2025-03-02T18:11:05.593138Z",
     "iopub.status.busy": "2025-03-02T18:11:05.592901Z",
     "iopub.status.idle": "2025-03-02T18:11:05.598964Z",
     "shell.execute_reply": "2025-03-02T18:11:05.598224Z"
    },
    "papermill": {
     "duration": 0.017911,
     "end_time": "2025-03-02T18:11:05.600108",
     "exception": false,
     "start_time": "2025-03-02T18:11:05.582197",
     "status": "completed"
    },
    "tags": []
   },
   "outputs": [
    {
     "name": "stdout",
     "output_type": "stream",
     "text": [
      "(67518, 8, 1)\n",
      "<class 'numpy.ndarray'>\n",
      "(22506, 8, 1)\n",
      "<class 'numpy.ndarray'>\n",
      "(22506, 8, 1)\n",
      "<class 'numpy.ndarray'>\n"
     ]
    }
   ],
   "source": [
    "X_train = X_train.values\n",
    "train_x = X_train.reshape(len(X_train), X_train.shape[1],1)\n",
    "print(np.shape(train_x))\n",
    "# print(train_x[0])\n",
    "print(type(train_x))\n",
    "# X_train = np.array(X_train)\n",
    "\n",
    "X_test = X_test.values\n",
    "test_x = X_test.reshape(len(X_test), X_test.shape[1],1)\n",
    "print(np.shape(test_x))\n",
    "# print(train_x[0])\n",
    "print(type(test_x))\n",
    "\n",
    "X_valid = X_valid.values\n",
    "valid_x = X_valid.reshape(len(X_valid), X_valid.shape[1],1)\n",
    "print(np.shape(valid_x))\n",
    "# print(train_x[0])\n",
    "print(type(valid_x))\n"
   ]
  },
  {
   "cell_type": "code",
   "execution_count": 20,
   "id": "ac92fc8e",
   "metadata": {
    "execution": {
     "iopub.execute_input": "2025-03-02T18:11:05.620987Z",
     "iopub.status.busy": "2025-03-02T18:11:05.620765Z",
     "iopub.status.idle": "2025-03-02T18:11:05.625203Z",
     "shell.execute_reply": "2025-03-02T18:11:05.624356Z"
    },
    "papermill": {
     "duration": 0.016032,
     "end_time": "2025-03-02T18:11:05.626438",
     "exception": false,
     "start_time": "2025-03-02T18:11:05.610406",
     "status": "completed"
    },
    "tags": []
   },
   "outputs": [
    {
     "name": "stdout",
     "output_type": "stream",
     "text": [
      "(67518,)\n",
      "(22506,)\n",
      "(22506,)\n"
     ]
    }
   ],
   "source": [
    "print(y_train.shape)\n",
    "print(y_test.shape)\n",
    "print(y_valid.shape)"
   ]
  },
  {
   "cell_type": "code",
   "execution_count": 21,
   "id": "a2907109",
   "metadata": {
    "execution": {
     "iopub.execute_input": "2025-03-02T18:11:05.646809Z",
     "iopub.status.busy": "2025-03-02T18:11:05.646591Z",
     "iopub.status.idle": "2025-03-02T18:11:05.653216Z",
     "shell.execute_reply": "2025-03-02T18:11:05.652565Z"
    },
    "papermill": {
     "duration": 0.018298,
     "end_time": "2025-03-02T18:11:05.654557",
     "exception": false,
     "start_time": "2025-03-02T18:11:05.636259",
     "status": "completed"
    },
    "tags": []
   },
   "outputs": [
    {
     "name": "stdout",
     "output_type": "stream",
     "text": [
      "(67518, 5) (22506, 5) (22506, 5)\n"
     ]
    }
   ],
   "source": [
    "train_y=to_categorical(y_train)\n",
    "test_y=to_categorical(y_test)\n",
    "valid_y=to_categorical(y_valid)\n",
    "print(np.shape(train_y), np.shape(test_y), np.shape(valid_y))"
   ]
  },
  {
   "cell_type": "code",
   "execution_count": 22,
   "id": "30cac5a1",
   "metadata": {
    "execution": {
     "iopub.execute_input": "2025-03-02T18:11:05.675232Z",
     "iopub.status.busy": "2025-03-02T18:11:05.675017Z",
     "iopub.status.idle": "2025-03-02T18:11:05.681224Z",
     "shell.execute_reply": "2025-03-02T18:11:05.680648Z"
    },
    "papermill": {
     "duration": 0.01778,
     "end_time": "2025-03-02T18:11:05.682393",
     "exception": false,
     "start_time": "2025-03-02T18:11:05.664613",
     "status": "completed"
    },
    "tags": []
   },
   "outputs": [],
   "source": [
    "train_x = np.array(train_x, dtype=np.float32)\n",
    "train_y = np.array(train_y, dtype=np.float32)\n",
    "\n",
    "test_x = np.array(test_x, dtype=np.float32)\n",
    "test_y = np.array(test_y, dtype=np.float32)\n",
    "\n",
    "valid_x = np.array(valid_x, dtype=np.float32)\n",
    "valid_y = np.array(valid_y, dtype=np.float32)\n"
   ]
  },
  {
   "cell_type": "code",
   "execution_count": 23,
   "id": "def63144",
   "metadata": {
    "execution": {
     "iopub.execute_input": "2025-03-02T18:11:05.703152Z",
     "iopub.status.busy": "2025-03-02T18:11:05.702908Z",
     "iopub.status.idle": "2025-03-02T18:11:07.940647Z",
     "shell.execute_reply": "2025-03-02T18:11:07.939804Z"
    },
    "papermill": {
     "duration": 2.249676,
     "end_time": "2025-03-02T18:11:07.941886",
     "exception": false,
     "start_time": "2025-03-02T18:11:05.692210",
     "status": "completed"
    },
    "tags": []
   },
   "outputs": [
    {
     "name": "stderr",
     "output_type": "stream",
     "text": [
      "/usr/local/lib/python3.10/dist-packages/keras/src/layers/convolutional/base_conv.py:107: UserWarning: Do not pass an `input_shape`/`input_dim` argument to a layer. When using Sequential models, prefer using an `Input(shape)` object as the first layer in the model instead.\n",
      "  super().__init__(activity_regularizer=activity_regularizer, **kwargs)\n"
     ]
    },
    {
     "data": {
      "text/html": [
       "<pre style=\"white-space:pre;overflow-x:auto;line-height:normal;font-family:Menlo,'DejaVu Sans Mono',consolas,'Courier New',monospace\"><span style=\"font-weight: bold\">Model: \"sequential\"</span>\n",
       "</pre>\n"
      ],
      "text/plain": [
       "\u001b[1mModel: \"sequential\"\u001b[0m\n"
      ]
     },
     "metadata": {},
     "output_type": "display_data"
    },
    {
     "data": {
      "text/html": [
       "<pre style=\"white-space:pre;overflow-x:auto;line-height:normal;font-family:Menlo,'DejaVu Sans Mono',consolas,'Courier New',monospace\">┏━━━━━━━━━━━━━━━━━━━━━━━━━━━━━━━━━━━━━━┳━━━━━━━━━━━━━━━━━━━━━━━━━━━━━┳━━━━━━━━━━━━━━━━━┓\n",
       "┃<span style=\"font-weight: bold\"> Layer (type)                         </span>┃<span style=\"font-weight: bold\"> Output Shape                </span>┃<span style=\"font-weight: bold\">         Param # </span>┃\n",
       "┡━━━━━━━━━━━━━━━━━━━━━━━━━━━━━━━━━━━━━━╇━━━━━━━━━━━━━━━━━━━━━━━━━━━━━╇━━━━━━━━━━━━━━━━━┩\n",
       "│ conv1d (<span style=\"color: #0087ff; text-decoration-color: #0087ff\">Conv1D</span>)                      │ (<span style=\"color: #00d7ff; text-decoration-color: #00d7ff\">None</span>, <span style=\"color: #00af00; text-decoration-color: #00af00\">8</span>, <span style=\"color: #00af00; text-decoration-color: #00af00\">16</span>)               │              <span style=\"color: #00af00; text-decoration-color: #00af00\">64</span> │\n",
       "├──────────────────────────────────────┼─────────────────────────────┼─────────────────┤\n",
       "│ max_pooling1d (<span style=\"color: #0087ff; text-decoration-color: #0087ff\">MaxPooling1D</span>)         │ (<span style=\"color: #00d7ff; text-decoration-color: #00d7ff\">None</span>, <span style=\"color: #00af00; text-decoration-color: #00af00\">7</span>, <span style=\"color: #00af00; text-decoration-color: #00af00\">16</span>)               │               <span style=\"color: #00af00; text-decoration-color: #00af00\">0</span> │\n",
       "├──────────────────────────────────────┼─────────────────────────────┼─────────────────┤\n",
       "│ conv1d_1 (<span style=\"color: #0087ff; text-decoration-color: #0087ff\">Conv1D</span>)                    │ (<span style=\"color: #00d7ff; text-decoration-color: #00d7ff\">None</span>, <span style=\"color: #00af00; text-decoration-color: #00af00\">7</span>, <span style=\"color: #00af00; text-decoration-color: #00af00\">32</span>)               │           <span style=\"color: #00af00; text-decoration-color: #00af00\">1,568</span> │\n",
       "├──────────────────────────────────────┼─────────────────────────────┼─────────────────┤\n",
       "│ max_pooling1d_1 (<span style=\"color: #0087ff; text-decoration-color: #0087ff\">MaxPooling1D</span>)       │ (<span style=\"color: #00d7ff; text-decoration-color: #00d7ff\">None</span>, <span style=\"color: #00af00; text-decoration-color: #00af00\">6</span>, <span style=\"color: #00af00; text-decoration-color: #00af00\">32</span>)               │               <span style=\"color: #00af00; text-decoration-color: #00af00\">0</span> │\n",
       "├──────────────────────────────────────┼─────────────────────────────┼─────────────────┤\n",
       "│ conv1d_2 (<span style=\"color: #0087ff; text-decoration-color: #0087ff\">Conv1D</span>)                    │ (<span style=\"color: #00d7ff; text-decoration-color: #00d7ff\">None</span>, <span style=\"color: #00af00; text-decoration-color: #00af00\">6</span>, <span style=\"color: #00af00; text-decoration-color: #00af00\">64</span>)               │           <span style=\"color: #00af00; text-decoration-color: #00af00\">6,208</span> │\n",
       "├──────────────────────────────────────┼─────────────────────────────┼─────────────────┤\n",
       "│ max_pooling1d_2 (<span style=\"color: #0087ff; text-decoration-color: #0087ff\">MaxPooling1D</span>)       │ (<span style=\"color: #00d7ff; text-decoration-color: #00d7ff\">None</span>, <span style=\"color: #00af00; text-decoration-color: #00af00\">5</span>, <span style=\"color: #00af00; text-decoration-color: #00af00\">64</span>)               │               <span style=\"color: #00af00; text-decoration-color: #00af00\">0</span> │\n",
       "├──────────────────────────────────────┼─────────────────────────────┼─────────────────┤\n",
       "│ flatten (<span style=\"color: #0087ff; text-decoration-color: #0087ff\">Flatten</span>)                    │ (<span style=\"color: #00d7ff; text-decoration-color: #00d7ff\">None</span>, <span style=\"color: #00af00; text-decoration-color: #00af00\">320</span>)                 │               <span style=\"color: #00af00; text-decoration-color: #00af00\">0</span> │\n",
       "├──────────────────────────────────────┼─────────────────────────────┼─────────────────┤\n",
       "│ dropout (<span style=\"color: #0087ff; text-decoration-color: #0087ff\">Dropout</span>)                    │ (<span style=\"color: #00d7ff; text-decoration-color: #00d7ff\">None</span>, <span style=\"color: #00af00; text-decoration-color: #00af00\">320</span>)                 │               <span style=\"color: #00af00; text-decoration-color: #00af00\">0</span> │\n",
       "├──────────────────────────────────────┼─────────────────────────────┼─────────────────┤\n",
       "│ dense (<span style=\"color: #0087ff; text-decoration-color: #0087ff\">Dense</span>)                        │ (<span style=\"color: #00d7ff; text-decoration-color: #00d7ff\">None</span>, <span style=\"color: #00af00; text-decoration-color: #00af00\">50</span>)                  │          <span style=\"color: #00af00; text-decoration-color: #00af00\">16,050</span> │\n",
       "├──────────────────────────────────────┼─────────────────────────────┼─────────────────┤\n",
       "│ dropout_1 (<span style=\"color: #0087ff; text-decoration-color: #0087ff\">Dropout</span>)                  │ (<span style=\"color: #00d7ff; text-decoration-color: #00d7ff\">None</span>, <span style=\"color: #00af00; text-decoration-color: #00af00\">50</span>)                  │               <span style=\"color: #00af00; text-decoration-color: #00af00\">0</span> │\n",
       "├──────────────────────────────────────┼─────────────────────────────┼─────────────────┤\n",
       "│ dense_1 (<span style=\"color: #0087ff; text-decoration-color: #0087ff\">Dense</span>)                      │ (<span style=\"color: #00d7ff; text-decoration-color: #00d7ff\">None</span>, <span style=\"color: #00af00; text-decoration-color: #00af00\">25</span>)                  │           <span style=\"color: #00af00; text-decoration-color: #00af00\">1,275</span> │\n",
       "├──────────────────────────────────────┼─────────────────────────────┼─────────────────┤\n",
       "│ dropout_2 (<span style=\"color: #0087ff; text-decoration-color: #0087ff\">Dropout</span>)                  │ (<span style=\"color: #00d7ff; text-decoration-color: #00d7ff\">None</span>, <span style=\"color: #00af00; text-decoration-color: #00af00\">25</span>)                  │               <span style=\"color: #00af00; text-decoration-color: #00af00\">0</span> │\n",
       "├──────────────────────────────────────┼─────────────────────────────┼─────────────────┤\n",
       "│ dense_2 (<span style=\"color: #0087ff; text-decoration-color: #0087ff\">Dense</span>)                      │ (<span style=\"color: #00d7ff; text-decoration-color: #00d7ff\">None</span>, <span style=\"color: #00af00; text-decoration-color: #00af00\">5</span>)                   │             <span style=\"color: #00af00; text-decoration-color: #00af00\">130</span> │\n",
       "└──────────────────────────────────────┴─────────────────────────────┴─────────────────┘\n",
       "</pre>\n"
      ],
      "text/plain": [
       "┏━━━━━━━━━━━━━━━━━━━━━━━━━━━━━━━━━━━━━━┳━━━━━━━━━━━━━━━━━━━━━━━━━━━━━┳━━━━━━━━━━━━━━━━━┓\n",
       "┃\u001b[1m \u001b[0m\u001b[1mLayer (type)                        \u001b[0m\u001b[1m \u001b[0m┃\u001b[1m \u001b[0m\u001b[1mOutput Shape               \u001b[0m\u001b[1m \u001b[0m┃\u001b[1m \u001b[0m\u001b[1m        Param #\u001b[0m\u001b[1m \u001b[0m┃\n",
       "┡━━━━━━━━━━━━━━━━━━━━━━━━━━━━━━━━━━━━━━╇━━━━━━━━━━━━━━━━━━━━━━━━━━━━━╇━━━━━━━━━━━━━━━━━┩\n",
       "│ conv1d (\u001b[38;5;33mConv1D\u001b[0m)                      │ (\u001b[38;5;45mNone\u001b[0m, \u001b[38;5;34m8\u001b[0m, \u001b[38;5;34m16\u001b[0m)               │              \u001b[38;5;34m64\u001b[0m │\n",
       "├──────────────────────────────────────┼─────────────────────────────┼─────────────────┤\n",
       "│ max_pooling1d (\u001b[38;5;33mMaxPooling1D\u001b[0m)         │ (\u001b[38;5;45mNone\u001b[0m, \u001b[38;5;34m7\u001b[0m, \u001b[38;5;34m16\u001b[0m)               │               \u001b[38;5;34m0\u001b[0m │\n",
       "├──────────────────────────────────────┼─────────────────────────────┼─────────────────┤\n",
       "│ conv1d_1 (\u001b[38;5;33mConv1D\u001b[0m)                    │ (\u001b[38;5;45mNone\u001b[0m, \u001b[38;5;34m7\u001b[0m, \u001b[38;5;34m32\u001b[0m)               │           \u001b[38;5;34m1,568\u001b[0m │\n",
       "├──────────────────────────────────────┼─────────────────────────────┼─────────────────┤\n",
       "│ max_pooling1d_1 (\u001b[38;5;33mMaxPooling1D\u001b[0m)       │ (\u001b[38;5;45mNone\u001b[0m, \u001b[38;5;34m6\u001b[0m, \u001b[38;5;34m32\u001b[0m)               │               \u001b[38;5;34m0\u001b[0m │\n",
       "├──────────────────────────────────────┼─────────────────────────────┼─────────────────┤\n",
       "│ conv1d_2 (\u001b[38;5;33mConv1D\u001b[0m)                    │ (\u001b[38;5;45mNone\u001b[0m, \u001b[38;5;34m6\u001b[0m, \u001b[38;5;34m64\u001b[0m)               │           \u001b[38;5;34m6,208\u001b[0m │\n",
       "├──────────────────────────────────────┼─────────────────────────────┼─────────────────┤\n",
       "│ max_pooling1d_2 (\u001b[38;5;33mMaxPooling1D\u001b[0m)       │ (\u001b[38;5;45mNone\u001b[0m, \u001b[38;5;34m5\u001b[0m, \u001b[38;5;34m64\u001b[0m)               │               \u001b[38;5;34m0\u001b[0m │\n",
       "├──────────────────────────────────────┼─────────────────────────────┼─────────────────┤\n",
       "│ flatten (\u001b[38;5;33mFlatten\u001b[0m)                    │ (\u001b[38;5;45mNone\u001b[0m, \u001b[38;5;34m320\u001b[0m)                 │               \u001b[38;5;34m0\u001b[0m │\n",
       "├──────────────────────────────────────┼─────────────────────────────┼─────────────────┤\n",
       "│ dropout (\u001b[38;5;33mDropout\u001b[0m)                    │ (\u001b[38;5;45mNone\u001b[0m, \u001b[38;5;34m320\u001b[0m)                 │               \u001b[38;5;34m0\u001b[0m │\n",
       "├──────────────────────────────────────┼─────────────────────────────┼─────────────────┤\n",
       "│ dense (\u001b[38;5;33mDense\u001b[0m)                        │ (\u001b[38;5;45mNone\u001b[0m, \u001b[38;5;34m50\u001b[0m)                  │          \u001b[38;5;34m16,050\u001b[0m │\n",
       "├──────────────────────────────────────┼─────────────────────────────┼─────────────────┤\n",
       "│ dropout_1 (\u001b[38;5;33mDropout\u001b[0m)                  │ (\u001b[38;5;45mNone\u001b[0m, \u001b[38;5;34m50\u001b[0m)                  │               \u001b[38;5;34m0\u001b[0m │\n",
       "├──────────────────────────────────────┼─────────────────────────────┼─────────────────┤\n",
       "│ dense_1 (\u001b[38;5;33mDense\u001b[0m)                      │ (\u001b[38;5;45mNone\u001b[0m, \u001b[38;5;34m25\u001b[0m)                  │           \u001b[38;5;34m1,275\u001b[0m │\n",
       "├──────────────────────────────────────┼─────────────────────────────┼─────────────────┤\n",
       "│ dropout_2 (\u001b[38;5;33mDropout\u001b[0m)                  │ (\u001b[38;5;45mNone\u001b[0m, \u001b[38;5;34m25\u001b[0m)                  │               \u001b[38;5;34m0\u001b[0m │\n",
       "├──────────────────────────────────────┼─────────────────────────────┼─────────────────┤\n",
       "│ dense_2 (\u001b[38;5;33mDense\u001b[0m)                      │ (\u001b[38;5;45mNone\u001b[0m, \u001b[38;5;34m5\u001b[0m)                   │             \u001b[38;5;34m130\u001b[0m │\n",
       "└──────────────────────────────────────┴─────────────────────────────┴─────────────────┘\n"
      ]
     },
     "metadata": {},
     "output_type": "display_data"
    },
    {
     "data": {
      "text/html": [
       "<pre style=\"white-space:pre;overflow-x:auto;line-height:normal;font-family:Menlo,'DejaVu Sans Mono',consolas,'Courier New',monospace\"><span style=\"font-weight: bold\"> Total params: </span><span style=\"color: #00af00; text-decoration-color: #00af00\">25,295</span> (98.81 KB)\n",
       "</pre>\n"
      ],
      "text/plain": [
       "\u001b[1m Total params: \u001b[0m\u001b[38;5;34m25,295\u001b[0m (98.81 KB)\n"
      ]
     },
     "metadata": {},
     "output_type": "display_data"
    },
    {
     "data": {
      "text/html": [
       "<pre style=\"white-space:pre;overflow-x:auto;line-height:normal;font-family:Menlo,'DejaVu Sans Mono',consolas,'Courier New',monospace\"><span style=\"font-weight: bold\"> Trainable params: </span><span style=\"color: #00af00; text-decoration-color: #00af00\">25,295</span> (98.81 KB)\n",
       "</pre>\n"
      ],
      "text/plain": [
       "\u001b[1m Trainable params: \u001b[0m\u001b[38;5;34m25,295\u001b[0m (98.81 KB)\n"
      ]
     },
     "metadata": {},
     "output_type": "display_data"
    },
    {
     "data": {
      "text/html": [
       "<pre style=\"white-space:pre;overflow-x:auto;line-height:normal;font-family:Menlo,'DejaVu Sans Mono',consolas,'Courier New',monospace\"><span style=\"font-weight: bold\"> Non-trainable params: </span><span style=\"color: #00af00; text-decoration-color: #00af00\">0</span> (0.00 B)\n",
       "</pre>\n"
      ],
      "text/plain": [
       "\u001b[1m Non-trainable params: \u001b[0m\u001b[38;5;34m0\u001b[0m (0.00 B)\n"
      ]
     },
     "metadata": {},
     "output_type": "display_data"
    }
   ],
   "source": [
    "# Define CNN model\n",
    "model = Sequential()\n",
    "\n",
    "# First Convolutional Layer (Reduced kernel size)\n",
    "model.add(Conv1D(filters=16, kernel_size=3, strides=1, padding='same', activation='relu', input_shape=(8, 1)))\n",
    "model.add(MaxPooling1D(pool_size=2, strides=1))  # Adjusted pooling\n",
    "\n",
    "# Second Convolutional Layer\n",
    "model.add(Conv1D(filters=32, kernel_size=3, strides=1, padding='same', activation='relu'))\n",
    "model.add(MaxPooling1D(pool_size=2, strides=1))  \n",
    "\n",
    "# Third Convolutional Layer\n",
    "model.add(Conv1D(filters=64, kernel_size=3, strides=1, padding='same', activation='relu'))\n",
    "model.add(MaxPooling1D(pool_size=2, strides=1))  \n",
    "\n",
    "# Flattening the feature maps\n",
    "model.add(Flatten())\n",
    "\n",
    "# Fully connected layers with Dropout\n",
    "model.add(Dropout(0.5))\n",
    "model.add(Dense(50, activation='relu'))\n",
    "model.add(Dropout(0.4))\n",
    "model.add(Dense(25, activation='relu'))\n",
    "model.add(Dropout(0.3))\n",
    "\n",
    "# Output layer with softmax activation for 5-class classification\n",
    "model.add(Dense(5, activation='softmax'))\n",
    "\n",
    "# Display model architecture\n",
    "model.summary()\n"
   ]
  },
  {
   "cell_type": "code",
   "execution_count": 24,
   "id": "4f841c9a",
   "metadata": {
    "execution": {
     "iopub.execute_input": "2025-03-02T18:11:07.964186Z",
     "iopub.status.busy": "2025-03-02T18:11:07.963930Z",
     "iopub.status.idle": "2025-03-02T18:11:07.974742Z",
     "shell.execute_reply": "2025-03-02T18:11:07.973842Z"
    },
    "papermill": {
     "duration": 0.022989,
     "end_time": "2025-03-02T18:11:07.976034",
     "exception": false,
     "start_time": "2025-03-02T18:11:07.953045",
     "status": "completed"
    },
    "tags": []
   },
   "outputs": [],
   "source": [
    "# Compile the model with binary cross-entropy loss and Adam optimizer\n",
    "model.compile(\n",
    "    loss='categorical_crossentropy',  # Suitable for binary classification\n",
    "    optimizer=Adam(learning_rate=0.0001),  # Adam optimizer with a learning rate of 0.0001\n",
    "    metrics=['accuracy']  # Track accuracy during training\n",
    ")"
   ]
  },
  {
   "cell_type": "code",
   "execution_count": 25,
   "id": "a4323b9b",
   "metadata": {
    "execution": {
     "iopub.execute_input": "2025-03-02T18:11:07.997951Z",
     "iopub.status.busy": "2025-03-02T18:11:07.997713Z",
     "iopub.status.idle": "2025-03-02T18:11:08.001139Z",
     "shell.execute_reply": "2025-03-02T18:11:08.000297Z"
    },
    "papermill": {
     "duration": 0.015586,
     "end_time": "2025-03-02T18:11:08.002410",
     "exception": false,
     "start_time": "2025-03-02T18:11:07.986824",
     "status": "completed"
    },
    "tags": []
   },
   "outputs": [],
   "source": [
    "# Define early stopping to prevent overfitting\n",
    "early_stopping = EarlyStopping(\n",
    "    monitor='val_loss',  # Monitor validation loss\n",
    "    patience=5,  # Stop training if validation loss doesn't improve for 5 epochs\n",
    "    restore_best_weights=True  # Restore best model weights after stopping\n",
    ")"
   ]
  },
  {
   "cell_type": "code",
   "execution_count": 26,
   "id": "3b41227c",
   "metadata": {
    "execution": {
     "iopub.execute_input": "2025-03-02T18:11:08.024120Z",
     "iopub.status.busy": "2025-03-02T18:11:08.023853Z",
     "iopub.status.idle": "2025-03-02T18:11:08.027365Z",
     "shell.execute_reply": "2025-03-02T18:11:08.026720Z"
    },
    "papermill": {
     "duration": 0.015554,
     "end_time": "2025-03-02T18:11:08.028532",
     "exception": false,
     "start_time": "2025-03-02T18:11:08.012978",
     "status": "completed"
    },
    "tags": []
   },
   "outputs": [],
   "source": [
    "# Define a ModelCheckpoint to save the best model\n",
    "checkpoint = ModelCheckpoint(\n",
    "    filepath='best_ecg_model.keras',  # Change the extension to .keras\n",
    "    monitor='val_loss',              # Monitor validation loss\n",
    "    save_best_only=True,             # Save only the best model based on val_loss\n",
    "    mode='min',                      # Save model when val_loss is minimized\n",
    "    verbose=1                        # Print a message when saving the model\n",
    ")"
   ]
  },
  {
   "cell_type": "code",
   "execution_count": 27,
   "id": "4685f3fa",
   "metadata": {
    "execution": {
     "iopub.execute_input": "2025-03-02T18:11:08.050189Z",
     "iopub.status.busy": "2025-03-02T18:11:08.049980Z",
     "iopub.status.idle": "2025-03-02T18:17:08.097188Z",
     "shell.execute_reply": "2025-03-02T18:17:08.096450Z"
    },
    "papermill": {
     "duration": 360.059665,
     "end_time": "2025-03-02T18:17:08.098637",
     "exception": false,
     "start_time": "2025-03-02T18:11:08.038972",
     "status": "completed"
    },
    "tags": []
   },
   "outputs": [
    {
     "name": "stdout",
     "output_type": "stream",
     "text": [
      "Epoch 1/100\n",
      "\u001b[1m1608/1608\u001b[0m \u001b[32m━━━━━━━━━━━━━━━━━━━━\u001b[0m\u001b[37m\u001b[0m \u001b[1m0s\u001b[0m 8ms/step - accuracy: 0.4954 - loss: 1.2557\n",
      "Epoch 1: val_loss improved from inf to 0.52097, saving model to best_ecg_model.keras\n",
      "\u001b[1m1608/1608\u001b[0m \u001b[32m━━━━━━━━━━━━━━━━━━━━\u001b[0m\u001b[37m\u001b[0m \u001b[1m25s\u001b[0m 9ms/step - accuracy: 0.4955 - loss: 1.2556 - val_accuracy: 0.7965 - val_loss: 0.5210\n",
      "Epoch 2/100\n",
      "\u001b[1m1580/1608\u001b[0m \u001b[32m━━━━━━━━━━━━━━━━━━━\u001b[0m\u001b[37m━\u001b[0m \u001b[1m0s\u001b[0m 2ms/step - accuracy: 0.7821 - loss: 0.5816\n",
      "Epoch 2: val_loss improved from 0.52097 to 0.35331, saving model to best_ecg_model.keras\n",
      "\u001b[1m1608/1608\u001b[0m \u001b[32m━━━━━━━━━━━━━━━━━━━━\u001b[0m\u001b[37m\u001b[0m \u001b[1m3s\u001b[0m 2ms/step - accuracy: 0.7825 - loss: 0.5807 - val_accuracy: 0.8861 - val_loss: 0.3533\n",
      "Epoch 3/100\n",
      "\u001b[1m1606/1608\u001b[0m \u001b[32m━━━━━━━━━━━━━━━━━━━\u001b[0m\u001b[37m━\u001b[0m \u001b[1m0s\u001b[0m 2ms/step - accuracy: 0.8629 - loss: 0.4264\n",
      "Epoch 3: val_loss improved from 0.35331 to 0.28479, saving model to best_ecg_model.keras\n",
      "\u001b[1m1608/1608\u001b[0m \u001b[32m━━━━━━━━━━━━━━━━━━━━\u001b[0m\u001b[37m\u001b[0m \u001b[1m3s\u001b[0m 2ms/step - accuracy: 0.8629 - loss: 0.4264 - val_accuracy: 0.9094 - val_loss: 0.2848\n",
      "Epoch 4/100\n",
      "\u001b[1m1590/1608\u001b[0m \u001b[32m━━━━━━━━━━━━━━━━━━━\u001b[0m\u001b[37m━\u001b[0m \u001b[1m0s\u001b[0m 2ms/step - accuracy: 0.8909 - loss: 0.3525\n",
      "Epoch 4: val_loss improved from 0.28479 to 0.25174, saving model to best_ecg_model.keras\n",
      "\u001b[1m1608/1608\u001b[0m \u001b[32m━━━━━━━━━━━━━━━━━━━━\u001b[0m\u001b[37m\u001b[0m \u001b[1m3s\u001b[0m 2ms/step - accuracy: 0.8910 - loss: 0.3524 - val_accuracy: 0.9186 - val_loss: 0.2517\n",
      "Epoch 5/100\n",
      "\u001b[1m1606/1608\u001b[0m \u001b[32m━━━━━━━━━━━━━━━━━━━\u001b[0m\u001b[37m━\u001b[0m \u001b[1m0s\u001b[0m 2ms/step - accuracy: 0.9052 - loss: 0.3156\n",
      "Epoch 5: val_loss improved from 0.25174 to 0.22451, saving model to best_ecg_model.keras\n",
      "\u001b[1m1608/1608\u001b[0m \u001b[32m━━━━━━━━━━━━━━━━━━━━\u001b[0m\u001b[37m\u001b[0m \u001b[1m4s\u001b[0m 2ms/step - accuracy: 0.9052 - loss: 0.3156 - val_accuracy: 0.9279 - val_loss: 0.2245\n",
      "Epoch 6/100\n",
      "\u001b[1m1604/1608\u001b[0m \u001b[32m━━━━━━━━━━━━━━━━━━━\u001b[0m\u001b[37m━\u001b[0m \u001b[1m0s\u001b[0m 2ms/step - accuracy: 0.9135 - loss: 0.2852\n",
      "Epoch 6: val_loss improved from 0.22451 to 0.20766, saving model to best_ecg_model.keras\n",
      "\u001b[1m1608/1608\u001b[0m \u001b[32m━━━━━━━━━━━━━━━━━━━━\u001b[0m\u001b[37m\u001b[0m \u001b[1m4s\u001b[0m 2ms/step - accuracy: 0.9135 - loss: 0.2852 - val_accuracy: 0.9338 - val_loss: 0.2077\n",
      "Epoch 7/100\n",
      "\u001b[1m1594/1608\u001b[0m \u001b[32m━━━━━━━━━━━━━━━━━━━\u001b[0m\u001b[37m━\u001b[0m \u001b[1m0s\u001b[0m 2ms/step - accuracy: 0.9209 - loss: 0.2637\n",
      "Epoch 7: val_loss improved from 0.20766 to 0.19117, saving model to best_ecg_model.keras\n",
      "\u001b[1m1608/1608\u001b[0m \u001b[32m━━━━━━━━━━━━━━━━━━━━\u001b[0m\u001b[37m\u001b[0m \u001b[1m4s\u001b[0m 2ms/step - accuracy: 0.9209 - loss: 0.2637 - val_accuracy: 0.9377 - val_loss: 0.1912\n",
      "Epoch 8/100\n",
      "\u001b[1m1598/1608\u001b[0m \u001b[32m━━━━━━━━━━━━━━━━━━━\u001b[0m\u001b[37m━\u001b[0m \u001b[1m0s\u001b[0m 2ms/step - accuracy: 0.9269 - loss: 0.2459\n",
      "Epoch 8: val_loss improved from 0.19117 to 0.18693, saving model to best_ecg_model.keras\n",
      "\u001b[1m1608/1608\u001b[0m \u001b[32m━━━━━━━━━━━━━━━━━━━━\u001b[0m\u001b[37m\u001b[0m \u001b[1m4s\u001b[0m 2ms/step - accuracy: 0.9270 - loss: 0.2459 - val_accuracy: 0.9393 - val_loss: 0.1869\n",
      "Epoch 9/100\n",
      "\u001b[1m1593/1608\u001b[0m \u001b[32m━━━━━━━━━━━━━━━━━━━\u001b[0m\u001b[37m━\u001b[0m \u001b[1m0s\u001b[0m 2ms/step - accuracy: 0.9335 - loss: 0.2285\n",
      "Epoch 9: val_loss improved from 0.18693 to 0.17282, saving model to best_ecg_model.keras\n",
      "\u001b[1m1608/1608\u001b[0m \u001b[32m━━━━━━━━━━━━━━━━━━━━\u001b[0m\u001b[37m\u001b[0m \u001b[1m4s\u001b[0m 2ms/step - accuracy: 0.9335 - loss: 0.2285 - val_accuracy: 0.9441 - val_loss: 0.1728\n",
      "Epoch 10/100\n",
      "\u001b[1m1599/1608\u001b[0m \u001b[32m━━━━━━━━━━━━━━━━━━━\u001b[0m\u001b[37m━\u001b[0m \u001b[1m0s\u001b[0m 2ms/step - accuracy: 0.9338 - loss: 0.2255\n",
      "Epoch 10: val_loss improved from 0.17282 to 0.16472, saving model to best_ecg_model.keras\n",
      "\u001b[1m1608/1608\u001b[0m \u001b[32m━━━━━━━━━━━━━━━━━━━━\u001b[0m\u001b[37m\u001b[0m \u001b[1m4s\u001b[0m 2ms/step - accuracy: 0.9338 - loss: 0.2255 - val_accuracy: 0.9464 - val_loss: 0.1647\n",
      "Epoch 11/100\n",
      "\u001b[1m1592/1608\u001b[0m \u001b[32m━━━━━━━━━━━━━━━━━━━\u001b[0m\u001b[37m━\u001b[0m \u001b[1m0s\u001b[0m 2ms/step - accuracy: 0.9375 - loss: 0.2128\n",
      "Epoch 11: val_loss improved from 0.16472 to 0.15943, saving model to best_ecg_model.keras\n",
      "\u001b[1m1608/1608\u001b[0m \u001b[32m━━━━━━━━━━━━━━━━━━━━\u001b[0m\u001b[37m\u001b[0m \u001b[1m4s\u001b[0m 2ms/step - accuracy: 0.9375 - loss: 0.2128 - val_accuracy: 0.9494 - val_loss: 0.1594\n",
      "Epoch 12/100\n",
      "\u001b[1m1606/1608\u001b[0m \u001b[32m━━━━━━━━━━━━━━━━━━━\u001b[0m\u001b[37m━\u001b[0m \u001b[1m0s\u001b[0m 2ms/step - accuracy: 0.9378 - loss: 0.2120\n",
      "Epoch 12: val_loss improved from 0.15943 to 0.15545, saving model to best_ecg_model.keras\n",
      "\u001b[1m1608/1608\u001b[0m \u001b[32m━━━━━━━━━━━━━━━━━━━━\u001b[0m\u001b[37m\u001b[0m \u001b[1m4s\u001b[0m 2ms/step - accuracy: 0.9378 - loss: 0.2120 - val_accuracy: 0.9511 - val_loss: 0.1554\n",
      "Epoch 13/100\n",
      "\u001b[1m1604/1608\u001b[0m \u001b[32m━━━━━━━━━━━━━━━━━━━\u001b[0m\u001b[37m━\u001b[0m \u001b[1m0s\u001b[0m 2ms/step - accuracy: 0.9414 - loss: 0.2000\n",
      "Epoch 13: val_loss improved from 0.15545 to 0.14913, saving model to best_ecg_model.keras\n",
      "\u001b[1m1608/1608\u001b[0m \u001b[32m━━━━━━━━━━━━━━━━━━━━\u001b[0m\u001b[37m\u001b[0m \u001b[1m4s\u001b[0m 2ms/step - accuracy: 0.9414 - loss: 0.2000 - val_accuracy: 0.9533 - val_loss: 0.1491\n",
      "Epoch 14/100\n",
      "\u001b[1m1587/1608\u001b[0m \u001b[32m━━━━━━━━━━━━━━━━━━━\u001b[0m\u001b[37m━\u001b[0m \u001b[1m0s\u001b[0m 2ms/step - accuracy: 0.9460 - loss: 0.1870\n",
      "Epoch 14: val_loss improved from 0.14913 to 0.14490, saving model to best_ecg_model.keras\n",
      "\u001b[1m1608/1608\u001b[0m \u001b[32m━━━━━━━━━━━━━━━━━━━━\u001b[0m\u001b[37m\u001b[0m \u001b[1m4s\u001b[0m 2ms/step - accuracy: 0.9460 - loss: 0.1870 - val_accuracy: 0.9547 - val_loss: 0.1449\n",
      "Epoch 15/100\n",
      "\u001b[1m1599/1608\u001b[0m \u001b[32m━━━━━━━━━━━━━━━━━━━\u001b[0m\u001b[37m━\u001b[0m \u001b[1m0s\u001b[0m 2ms/step - accuracy: 0.9454 - loss: 0.1887\n",
      "Epoch 15: val_loss improved from 0.14490 to 0.14106, saving model to best_ecg_model.keras\n",
      "\u001b[1m1608/1608\u001b[0m \u001b[32m━━━━━━━━━━━━━━━━━━━━\u001b[0m\u001b[37m\u001b[0m \u001b[1m4s\u001b[0m 2ms/step - accuracy: 0.9454 - loss: 0.1887 - val_accuracy: 0.9558 - val_loss: 0.1411\n",
      "Epoch 16/100\n",
      "\u001b[1m1597/1608\u001b[0m \u001b[32m━━━━━━━━━━━━━━━━━━━\u001b[0m\u001b[37m━\u001b[0m \u001b[1m0s\u001b[0m 2ms/step - accuracy: 0.9495 - loss: 0.1786\n",
      "Epoch 16: val_loss improved from 0.14106 to 0.13832, saving model to best_ecg_model.keras\n",
      "\u001b[1m1608/1608\u001b[0m \u001b[32m━━━━━━━━━━━━━━━━━━━━\u001b[0m\u001b[37m\u001b[0m \u001b[1m4s\u001b[0m 2ms/step - accuracy: 0.9495 - loss: 0.1786 - val_accuracy: 0.9571 - val_loss: 0.1383\n",
      "Epoch 17/100\n",
      "\u001b[1m1580/1608\u001b[0m \u001b[32m━━━━━━━━━━━━━━━━━━━\u001b[0m\u001b[37m━\u001b[0m \u001b[1m0s\u001b[0m 2ms/step - accuracy: 0.9501 - loss: 0.1707\n",
      "Epoch 17: val_loss did not improve from 0.13832\n",
      "\u001b[1m1608/1608\u001b[0m \u001b[32m━━━━━━━━━━━━━━━━━━━━\u001b[0m\u001b[37m\u001b[0m \u001b[1m4s\u001b[0m 2ms/step - accuracy: 0.9501 - loss: 0.1708 - val_accuracy: 0.9569 - val_loss: 0.1408\n",
      "Epoch 18/100\n",
      "\u001b[1m1592/1608\u001b[0m \u001b[32m━━━━━━━━━━━━━━━━━━━\u001b[0m\u001b[37m━\u001b[0m \u001b[1m0s\u001b[0m 2ms/step - accuracy: 0.9493 - loss: 0.1750\n",
      "Epoch 18: val_loss improved from 0.13832 to 0.13560, saving model to best_ecg_model.keras\n",
      "\u001b[1m1608/1608\u001b[0m \u001b[32m━━━━━━━━━━━━━━━━━━━━\u001b[0m\u001b[37m\u001b[0m \u001b[1m4s\u001b[0m 2ms/step - accuracy: 0.9493 - loss: 0.1749 - val_accuracy: 0.9583 - val_loss: 0.1356\n",
      "Epoch 19/100\n",
      "\u001b[1m1599/1608\u001b[0m \u001b[32m━━━━━━━━━━━━━━━━━━━\u001b[0m\u001b[37m━\u001b[0m \u001b[1m0s\u001b[0m 2ms/step - accuracy: 0.9508 - loss: 0.1682\n",
      "Epoch 19: val_loss improved from 0.13560 to 0.13125, saving model to best_ecg_model.keras\n",
      "\u001b[1m1608/1608\u001b[0m \u001b[32m━━━━━━━━━━━━━━━━━━━━\u001b[0m\u001b[37m\u001b[0m \u001b[1m4s\u001b[0m 2ms/step - accuracy: 0.9508 - loss: 0.1682 - val_accuracy: 0.9599 - val_loss: 0.1312\n",
      "Epoch 20/100\n",
      "\u001b[1m1586/1608\u001b[0m \u001b[32m━━━━━━━━━━━━━━━━━━━\u001b[0m\u001b[37m━\u001b[0m \u001b[1m0s\u001b[0m 2ms/step - accuracy: 0.9515 - loss: 0.1655\n",
      "Epoch 20: val_loss improved from 0.13125 to 0.12821, saving model to best_ecg_model.keras\n",
      "\u001b[1m1608/1608\u001b[0m \u001b[32m━━━━━━━━━━━━━━━━━━━━\u001b[0m\u001b[37m\u001b[0m \u001b[1m4s\u001b[0m 2ms/step - accuracy: 0.9515 - loss: 0.1654 - val_accuracy: 0.9600 - val_loss: 0.1282\n",
      "Epoch 21/100\n",
      "\u001b[1m1589/1608\u001b[0m \u001b[32m━━━━━━━━━━━━━━━━━━━\u001b[0m\u001b[37m━\u001b[0m \u001b[1m0s\u001b[0m 2ms/step - accuracy: 0.9512 - loss: 0.1634\n",
      "Epoch 21: val_loss improved from 0.12821 to 0.12730, saving model to best_ecg_model.keras\n",
      "\u001b[1m1608/1608\u001b[0m \u001b[32m━━━━━━━━━━━━━━━━━━━━\u001b[0m\u001b[37m\u001b[0m \u001b[1m4s\u001b[0m 2ms/step - accuracy: 0.9512 - loss: 0.1633 - val_accuracy: 0.9608 - val_loss: 0.1273\n",
      "Epoch 22/100\n",
      "\u001b[1m1601/1608\u001b[0m \u001b[32m━━━━━━━━━━━━━━━━━━━\u001b[0m\u001b[37m━\u001b[0m \u001b[1m0s\u001b[0m 2ms/step - accuracy: 0.9545 - loss: 0.1589\n",
      "Epoch 22: val_loss improved from 0.12730 to 0.12521, saving model to best_ecg_model.keras\n",
      "\u001b[1m1608/1608\u001b[0m \u001b[32m━━━━━━━━━━━━━━━━━━━━\u001b[0m\u001b[37m\u001b[0m \u001b[1m4s\u001b[0m 2ms/step - accuracy: 0.9545 - loss: 0.1589 - val_accuracy: 0.9621 - val_loss: 0.1252\n",
      "Epoch 23/100\n",
      "\u001b[1m1593/1608\u001b[0m \u001b[32m━━━━━━━━━━━━━━━━━━━\u001b[0m\u001b[37m━\u001b[0m \u001b[1m0s\u001b[0m 2ms/step - accuracy: 0.9553 - loss: 0.1514\n",
      "Epoch 23: val_loss improved from 0.12521 to 0.12070, saving model to best_ecg_model.keras\n",
      "\u001b[1m1608/1608\u001b[0m \u001b[32m━━━━━━━━━━━━━━━━━━━━\u001b[0m\u001b[37m\u001b[0m \u001b[1m4s\u001b[0m 2ms/step - accuracy: 0.9553 - loss: 0.1515 - val_accuracy: 0.9617 - val_loss: 0.1207\n",
      "Epoch 24/100\n",
      "\u001b[1m1592/1608\u001b[0m \u001b[32m━━━━━━━━━━━━━━━━━━━\u001b[0m\u001b[37m━\u001b[0m \u001b[1m0s\u001b[0m 2ms/step - accuracy: 0.9535 - loss: 0.1567\n",
      "Epoch 24: val_loss did not improve from 0.12070\n",
      "\u001b[1m1608/1608\u001b[0m \u001b[32m━━━━━━━━━━━━━━━━━━━━\u001b[0m\u001b[37m\u001b[0m \u001b[1m3s\u001b[0m 2ms/step - accuracy: 0.9535 - loss: 0.1566 - val_accuracy: 0.9621 - val_loss: 0.1208\n",
      "Epoch 25/100\n",
      "\u001b[1m1602/1608\u001b[0m \u001b[32m━━━━━━━━━━━━━━━━━━━\u001b[0m\u001b[37m━\u001b[0m \u001b[1m0s\u001b[0m 2ms/step - accuracy: 0.9566 - loss: 0.1510\n",
      "Epoch 25: val_loss improved from 0.12070 to 0.11717, saving model to best_ecg_model.keras\n",
      "\u001b[1m1608/1608\u001b[0m \u001b[32m━━━━━━━━━━━━━━━━━━━━\u001b[0m\u001b[37m\u001b[0m \u001b[1m4s\u001b[0m 2ms/step - accuracy: 0.9566 - loss: 0.1510 - val_accuracy: 0.9642 - val_loss: 0.1172\n",
      "Epoch 26/100\n",
      "\u001b[1m1580/1608\u001b[0m \u001b[32m━━━━━━━━━━━━━━━━━━━\u001b[0m\u001b[37m━\u001b[0m \u001b[1m0s\u001b[0m 2ms/step - accuracy: 0.9581 - loss: 0.1452\n",
      "Epoch 26: val_loss improved from 0.11717 to 0.11526, saving model to best_ecg_model.keras\n",
      "\u001b[1m1608/1608\u001b[0m \u001b[32m━━━━━━━━━━━━━━━━━━━━\u001b[0m\u001b[37m\u001b[0m \u001b[1m3s\u001b[0m 2ms/step - accuracy: 0.9581 - loss: 0.1453 - val_accuracy: 0.9640 - val_loss: 0.1153\n",
      "Epoch 27/100\n",
      "\u001b[1m1597/1608\u001b[0m \u001b[32m━━━━━━━━━━━━━━━━━━━\u001b[0m\u001b[37m━\u001b[0m \u001b[1m0s\u001b[0m 2ms/step - accuracy: 0.9554 - loss: 0.1522\n",
      "Epoch 27: val_loss did not improve from 0.11526\n",
      "\u001b[1m1608/1608\u001b[0m \u001b[32m━━━━━━━━━━━━━━━━━━━━\u001b[0m\u001b[37m\u001b[0m \u001b[1m3s\u001b[0m 2ms/step - accuracy: 0.9554 - loss: 0.1522 - val_accuracy: 0.9626 - val_loss: 0.1165\n",
      "Epoch 28/100\n",
      "\u001b[1m1607/1608\u001b[0m \u001b[32m━━━━━━━━━━━━━━━━━━━\u001b[0m\u001b[37m━\u001b[0m \u001b[1m0s\u001b[0m 2ms/step - accuracy: 0.9573 - loss: 0.1466\n",
      "Epoch 28: val_loss improved from 0.11526 to 0.11440, saving model to best_ecg_model.keras\n",
      "\u001b[1m1608/1608\u001b[0m \u001b[32m━━━━━━━━━━━━━━━━━━━━\u001b[0m\u001b[37m\u001b[0m \u001b[1m4s\u001b[0m 2ms/step - accuracy: 0.9573 - loss: 0.1466 - val_accuracy: 0.9647 - val_loss: 0.1144\n",
      "Epoch 29/100\n",
      "\u001b[1m1587/1608\u001b[0m \u001b[32m━━━━━━━━━━━━━━━━━━━\u001b[0m\u001b[37m━\u001b[0m \u001b[1m0s\u001b[0m 2ms/step - accuracy: 0.9566 - loss: 0.1440\n",
      "Epoch 29: val_loss improved from 0.11440 to 0.11307, saving model to best_ecg_model.keras\n",
      "\u001b[1m1608/1608\u001b[0m \u001b[32m━━━━━━━━━━━━━━━━━━━━\u001b[0m\u001b[37m\u001b[0m \u001b[1m4s\u001b[0m 2ms/step - accuracy: 0.9566 - loss: 0.1440 - val_accuracy: 0.9639 - val_loss: 0.1131\n",
      "Epoch 30/100\n",
      "\u001b[1m1601/1608\u001b[0m \u001b[32m━━━━━━━━━━━━━━━━━━━\u001b[0m\u001b[37m━\u001b[0m \u001b[1m0s\u001b[0m 2ms/step - accuracy: 0.9585 - loss: 0.1419\n",
      "Epoch 30: val_loss did not improve from 0.11307\n",
      "\u001b[1m1608/1608\u001b[0m \u001b[32m━━━━━━━━━━━━━━━━━━━━\u001b[0m\u001b[37m\u001b[0m \u001b[1m4s\u001b[0m 2ms/step - accuracy: 0.9585 - loss: 0.1419 - val_accuracy: 0.9644 - val_loss: 0.1144\n",
      "Epoch 31/100\n",
      "\u001b[1m1594/1608\u001b[0m \u001b[32m━━━━━━━━━━━━━━━━━━━\u001b[0m\u001b[37m━\u001b[0m \u001b[1m0s\u001b[0m 2ms/step - accuracy: 0.9595 - loss: 0.1409\n",
      "Epoch 31: val_loss did not improve from 0.11307\n",
      "\u001b[1m1608/1608\u001b[0m \u001b[32m━━━━━━━━━━━━━━━━━━━━\u001b[0m\u001b[37m\u001b[0m \u001b[1m3s\u001b[0m 2ms/step - accuracy: 0.9595 - loss: 0.1408 - val_accuracy: 0.9649 - val_loss: 0.1134\n",
      "Epoch 32/100\n",
      "\u001b[1m1596/1608\u001b[0m \u001b[32m━━━━━━━━━━━━━━━━━━━\u001b[0m\u001b[37m━\u001b[0m \u001b[1m0s\u001b[0m 2ms/step - accuracy: 0.9582 - loss: 0.1397\n",
      "Epoch 32: val_loss improved from 0.11307 to 0.10980, saving model to best_ecg_model.keras\n",
      "\u001b[1m1608/1608\u001b[0m \u001b[32m━━━━━━━━━━━━━━━━━━━━\u001b[0m\u001b[37m\u001b[0m \u001b[1m4s\u001b[0m 2ms/step - accuracy: 0.9582 - loss: 0.1397 - val_accuracy: 0.9653 - val_loss: 0.1098\n",
      "Epoch 33/100\n",
      "\u001b[1m1596/1608\u001b[0m \u001b[32m━━━━━━━━━━━━━━━━━━━\u001b[0m\u001b[37m━\u001b[0m \u001b[1m0s\u001b[0m 2ms/step - accuracy: 0.9590 - loss: 0.1383\n",
      "Epoch 33: val_loss improved from 0.10980 to 0.10787, saving model to best_ecg_model.keras\n",
      "\u001b[1m1608/1608\u001b[0m \u001b[32m━━━━━━━━━━━━━━━━━━━━\u001b[0m\u001b[37m\u001b[0m \u001b[1m4s\u001b[0m 2ms/step - accuracy: 0.9590 - loss: 0.1383 - val_accuracy: 0.9653 - val_loss: 0.1079\n",
      "Epoch 34/100\n",
      "\u001b[1m1582/1608\u001b[0m \u001b[32m━━━━━━━━━━━━━━━━━━━\u001b[0m\u001b[37m━\u001b[0m \u001b[1m0s\u001b[0m 2ms/step - accuracy: 0.9606 - loss: 0.1372\n",
      "Epoch 34: val_loss did not improve from 0.10787\n",
      "\u001b[1m1608/1608\u001b[0m \u001b[32m━━━━━━━━━━━━━━━━━━━━\u001b[0m\u001b[37m\u001b[0m \u001b[1m4s\u001b[0m 2ms/step - accuracy: 0.9606 - loss: 0.1372 - val_accuracy: 0.9662 - val_loss: 0.1086\n",
      "Epoch 35/100\n",
      "\u001b[1m1587/1608\u001b[0m \u001b[32m━━━━━━━━━━━━━━━━━━━\u001b[0m\u001b[37m━\u001b[0m \u001b[1m0s\u001b[0m 2ms/step - accuracy: 0.9620 - loss: 0.1310\n",
      "Epoch 35: val_loss improved from 0.10787 to 0.10612, saving model to best_ecg_model.keras\n",
      "\u001b[1m1608/1608\u001b[0m \u001b[32m━━━━━━━━━━━━━━━━━━━━\u001b[0m\u001b[37m\u001b[0m \u001b[1m4s\u001b[0m 2ms/step - accuracy: 0.9620 - loss: 0.1310 - val_accuracy: 0.9672 - val_loss: 0.1061\n",
      "Epoch 36/100\n",
      "\u001b[1m1601/1608\u001b[0m \u001b[32m━━━━━━━━━━━━━━━━━━━\u001b[0m\u001b[37m━\u001b[0m \u001b[1m0s\u001b[0m 2ms/step - accuracy: 0.9633 - loss: 0.1292\n",
      "Epoch 36: val_loss improved from 0.10612 to 0.10391, saving model to best_ecg_model.keras\n",
      "\u001b[1m1608/1608\u001b[0m \u001b[32m━━━━━━━━━━━━━━━━━━━━\u001b[0m\u001b[37m\u001b[0m \u001b[1m4s\u001b[0m 2ms/step - accuracy: 0.9633 - loss: 0.1292 - val_accuracy: 0.9676 - val_loss: 0.1039\n",
      "Epoch 37/100\n",
      "\u001b[1m1608/1608\u001b[0m \u001b[32m━━━━━━━━━━━━━━━━━━━━\u001b[0m\u001b[37m\u001b[0m \u001b[1m0s\u001b[0m 2ms/step - accuracy: 0.9630 - loss: 0.1257\n",
      "Epoch 37: val_loss improved from 0.10391 to 0.10389, saving model to best_ecg_model.keras\n",
      "\u001b[1m1608/1608\u001b[0m \u001b[32m━━━━━━━━━━━━━━━━━━━━\u001b[0m\u001b[37m\u001b[0m \u001b[1m4s\u001b[0m 2ms/step - accuracy: 0.9630 - loss: 0.1257 - val_accuracy: 0.9673 - val_loss: 0.1039\n",
      "Epoch 38/100\n",
      "\u001b[1m1596/1608\u001b[0m \u001b[32m━━━━━━━━━━━━━━━━━━━\u001b[0m\u001b[37m━\u001b[0m \u001b[1m0s\u001b[0m 2ms/step - accuracy: 0.9603 - loss: 0.1324\n",
      "Epoch 38: val_loss improved from 0.10389 to 0.10286, saving model to best_ecg_model.keras\n",
      "\u001b[1m1608/1608\u001b[0m \u001b[32m━━━━━━━━━━━━━━━━━━━━\u001b[0m\u001b[37m\u001b[0m \u001b[1m4s\u001b[0m 2ms/step - accuracy: 0.9603 - loss: 0.1324 - val_accuracy: 0.9678 - val_loss: 0.1029\n",
      "Epoch 39/100\n",
      "\u001b[1m1603/1608\u001b[0m \u001b[32m━━━━━━━━━━━━━━━━━━━\u001b[0m\u001b[37m━\u001b[0m \u001b[1m0s\u001b[0m 2ms/step - accuracy: 0.9628 - loss: 0.1258\n",
      "Epoch 39: val_loss improved from 0.10286 to 0.10224, saving model to best_ecg_model.keras\n",
      "\u001b[1m1608/1608\u001b[0m \u001b[32m━━━━━━━━━━━━━━━━━━━━\u001b[0m\u001b[37m\u001b[0m \u001b[1m4s\u001b[0m 2ms/step - accuracy: 0.9628 - loss: 0.1258 - val_accuracy: 0.9674 - val_loss: 0.1022\n",
      "Epoch 40/100\n",
      "\u001b[1m1588/1608\u001b[0m \u001b[32m━━━━━━━━━━━━━━━━━━━\u001b[0m\u001b[37m━\u001b[0m \u001b[1m0s\u001b[0m 2ms/step - accuracy: 0.9620 - loss: 0.1277\n",
      "Epoch 40: val_loss did not improve from 0.10224\n",
      "\u001b[1m1608/1608\u001b[0m \u001b[32m━━━━━━━━━━━━━━━━━━━━\u001b[0m\u001b[37m\u001b[0m \u001b[1m4s\u001b[0m 2ms/step - accuracy: 0.9620 - loss: 0.1277 - val_accuracy: 0.9677 - val_loss: 0.1023\n",
      "Epoch 41/100\n",
      "\u001b[1m1590/1608\u001b[0m \u001b[32m━━━━━━━━━━━━━━━━━━━\u001b[0m\u001b[37m━\u001b[0m \u001b[1m0s\u001b[0m 2ms/step - accuracy: 0.9637 - loss: 0.1215\n",
      "Epoch 41: val_loss improved from 0.10224 to 0.10172, saving model to best_ecg_model.keras\n",
      "\u001b[1m1608/1608\u001b[0m \u001b[32m━━━━━━━━━━━━━━━━━━━━\u001b[0m\u001b[37m\u001b[0m \u001b[1m4s\u001b[0m 2ms/step - accuracy: 0.9637 - loss: 0.1215 - val_accuracy: 0.9681 - val_loss: 0.1017\n",
      "Epoch 42/100\n",
      "\u001b[1m1607/1608\u001b[0m \u001b[32m━━━━━━━━━━━━━━━━━━━\u001b[0m\u001b[37m━\u001b[0m \u001b[1m0s\u001b[0m 2ms/step - accuracy: 0.9632 - loss: 0.1191\n",
      "Epoch 42: val_loss improved from 0.10172 to 0.10069, saving model to best_ecg_model.keras\n",
      "\u001b[1m1608/1608\u001b[0m \u001b[32m━━━━━━━━━━━━━━━━━━━━\u001b[0m\u001b[37m\u001b[0m \u001b[1m4s\u001b[0m 2ms/step - accuracy: 0.9632 - loss: 0.1191 - val_accuracy: 0.9683 - val_loss: 0.1007\n",
      "Epoch 43/100\n",
      "\u001b[1m1603/1608\u001b[0m \u001b[32m━━━━━━━━━━━━━━━━━━━\u001b[0m\u001b[37m━\u001b[0m \u001b[1m0s\u001b[0m 2ms/step - accuracy: 0.9622 - loss: 0.1218\n",
      "Epoch 43: val_loss did not improve from 0.10069\n",
      "\u001b[1m1608/1608\u001b[0m \u001b[32m━━━━━━━━━━━━━━━━━━━━\u001b[0m\u001b[37m\u001b[0m \u001b[1m4s\u001b[0m 2ms/step - accuracy: 0.9622 - loss: 0.1218 - val_accuracy: 0.9681 - val_loss: 0.1008\n",
      "Epoch 44/100\n",
      "\u001b[1m1592/1608\u001b[0m \u001b[32m━━━━━━━━━━━━━━━━━━━\u001b[0m\u001b[37m━\u001b[0m \u001b[1m0s\u001b[0m 2ms/step - accuracy: 0.9634 - loss: 0.1190\n",
      "Epoch 44: val_loss improved from 0.10069 to 0.09860, saving model to best_ecg_model.keras\n",
      "\u001b[1m1608/1608\u001b[0m \u001b[32m━━━━━━━━━━━━━━━━━━━━\u001b[0m\u001b[37m\u001b[0m \u001b[1m4s\u001b[0m 2ms/step - accuracy: 0.9634 - loss: 0.1190 - val_accuracy: 0.9698 - val_loss: 0.0986\n",
      "Epoch 45/100\n",
      "\u001b[1m1602/1608\u001b[0m \u001b[32m━━━━━━━━━━━━━━━━━━━\u001b[0m\u001b[37m━\u001b[0m \u001b[1m0s\u001b[0m 2ms/step - accuracy: 0.9639 - loss: 0.1221\n",
      "Epoch 45: val_loss did not improve from 0.09860\n",
      "\u001b[1m1608/1608\u001b[0m \u001b[32m━━━━━━━━━━━━━━━━━━━━\u001b[0m\u001b[37m\u001b[0m \u001b[1m4s\u001b[0m 2ms/step - accuracy: 0.9639 - loss: 0.1221 - val_accuracy: 0.9693 - val_loss: 0.0988\n",
      "Epoch 46/100\n",
      "\u001b[1m1589/1608\u001b[0m \u001b[32m━━━━━━━━━━━━━━━━━━━\u001b[0m\u001b[37m━\u001b[0m \u001b[1m0s\u001b[0m 2ms/step - accuracy: 0.9626 - loss: 0.1222\n",
      "Epoch 46: val_loss improved from 0.09860 to 0.09832, saving model to best_ecg_model.keras\n",
      "\u001b[1m1608/1608\u001b[0m \u001b[32m━━━━━━━━━━━━━━━━━━━━\u001b[0m\u001b[37m\u001b[0m \u001b[1m4s\u001b[0m 2ms/step - accuracy: 0.9626 - loss: 0.1222 - val_accuracy: 0.9692 - val_loss: 0.0983\n",
      "Epoch 47/100\n",
      "\u001b[1m1580/1608\u001b[0m \u001b[32m━━━━━━━━━━━━━━━━━━━\u001b[0m\u001b[37m━\u001b[0m \u001b[1m0s\u001b[0m 2ms/step - accuracy: 0.9633 - loss: 0.1212\n",
      "Epoch 47: val_loss did not improve from 0.09832\n",
      "\u001b[1m1608/1608\u001b[0m \u001b[32m━━━━━━━━━━━━━━━━━━━━\u001b[0m\u001b[37m\u001b[0m \u001b[1m4s\u001b[0m 2ms/step - accuracy: 0.9633 - loss: 0.1212 - val_accuracy: 0.9698 - val_loss: 0.0986\n",
      "Epoch 48/100\n",
      "\u001b[1m1593/1608\u001b[0m \u001b[32m━━━━━━━━━━━━━━━━━━━\u001b[0m\u001b[37m━\u001b[0m \u001b[1m0s\u001b[0m 2ms/step - accuracy: 0.9649 - loss: 0.1179\n",
      "Epoch 48: val_loss improved from 0.09832 to 0.09627, saving model to best_ecg_model.keras\n",
      "\u001b[1m1608/1608\u001b[0m \u001b[32m━━━━━━━━━━━━━━━━━━━━\u001b[0m\u001b[37m\u001b[0m \u001b[1m3s\u001b[0m 2ms/step - accuracy: 0.9649 - loss: 0.1179 - val_accuracy: 0.9700 - val_loss: 0.0963\n",
      "Epoch 49/100\n",
      "\u001b[1m1587/1608\u001b[0m \u001b[32m━━━━━━━━━━━━━━━━━━━\u001b[0m\u001b[37m━\u001b[0m \u001b[1m0s\u001b[0m 2ms/step - accuracy: 0.9658 - loss: 0.1145\n",
      "Epoch 49: val_loss did not improve from 0.09627\n",
      "\u001b[1m1608/1608\u001b[0m \u001b[32m━━━━━━━━━━━━━━━━━━━━\u001b[0m\u001b[37m\u001b[0m \u001b[1m3s\u001b[0m 2ms/step - accuracy: 0.9658 - loss: 0.1146 - val_accuracy: 0.9697 - val_loss: 0.0973\n",
      "Epoch 50/100\n",
      "\u001b[1m1608/1608\u001b[0m \u001b[32m━━━━━━━━━━━━━━━━━━━━\u001b[0m\u001b[37m\u001b[0m \u001b[1m0s\u001b[0m 2ms/step - accuracy: 0.9659 - loss: 0.1139\n",
      "Epoch 50: val_loss did not improve from 0.09627\n",
      "\u001b[1m1608/1608\u001b[0m \u001b[32m━━━━━━━━━━━━━━━━━━━━\u001b[0m\u001b[37m\u001b[0m \u001b[1m4s\u001b[0m 2ms/step - accuracy: 0.9659 - loss: 0.1139 - val_accuracy: 0.9693 - val_loss: 0.0974\n",
      "Epoch 51/100\n",
      "\u001b[1m1589/1608\u001b[0m \u001b[32m━━━━━━━━━━━━━━━━━━━\u001b[0m\u001b[37m━\u001b[0m \u001b[1m0s\u001b[0m 2ms/step - accuracy: 0.9653 - loss: 0.1166\n",
      "Epoch 51: val_loss improved from 0.09627 to 0.09548, saving model to best_ecg_model.keras\n",
      "\u001b[1m1608/1608\u001b[0m \u001b[32m━━━━━━━━━━━━━━━━━━━━\u001b[0m\u001b[37m\u001b[0m \u001b[1m4s\u001b[0m 2ms/step - accuracy: 0.9653 - loss: 0.1166 - val_accuracy: 0.9706 - val_loss: 0.0955\n",
      "Epoch 52/100\n",
      "\u001b[1m1600/1608\u001b[0m \u001b[32m━━━━━━━━━━━━━━━━━━━\u001b[0m\u001b[37m━\u001b[0m \u001b[1m0s\u001b[0m 2ms/step - accuracy: 0.9660 - loss: 0.1155\n",
      "Epoch 52: val_loss improved from 0.09548 to 0.09399, saving model to best_ecg_model.keras\n",
      "\u001b[1m1608/1608\u001b[0m \u001b[32m━━━━━━━━━━━━━━━━━━━━\u001b[0m\u001b[37m\u001b[0m \u001b[1m4s\u001b[0m 2ms/step - accuracy: 0.9660 - loss: 0.1155 - val_accuracy: 0.9716 - val_loss: 0.0940\n",
      "Epoch 53/100\n",
      "\u001b[1m1598/1608\u001b[0m \u001b[32m━━━━━━━━━━━━━━━━━━━\u001b[0m\u001b[37m━\u001b[0m \u001b[1m0s\u001b[0m 2ms/step - accuracy: 0.9675 - loss: 0.1075\n",
      "Epoch 53: val_loss did not improve from 0.09399\n",
      "\u001b[1m1608/1608\u001b[0m \u001b[32m━━━━━━━━━━━━━━━━━━━━\u001b[0m\u001b[37m\u001b[0m \u001b[1m4s\u001b[0m 2ms/step - accuracy: 0.9675 - loss: 0.1075 - val_accuracy: 0.9714 - val_loss: 0.0948\n",
      "Epoch 54/100\n",
      "\u001b[1m1605/1608\u001b[0m \u001b[32m━━━━━━━━━━━━━━━━━━━\u001b[0m\u001b[37m━\u001b[0m \u001b[1m0s\u001b[0m 2ms/step - accuracy: 0.9666 - loss: 0.1113\n",
      "Epoch 54: val_loss did not improve from 0.09399\n",
      "\u001b[1m1608/1608\u001b[0m \u001b[32m━━━━━━━━━━━━━━━━━━━━\u001b[0m\u001b[37m\u001b[0m \u001b[1m4s\u001b[0m 2ms/step - accuracy: 0.9666 - loss: 0.1113 - val_accuracy: 0.9711 - val_loss: 0.0943\n",
      "Epoch 55/100\n",
      "\u001b[1m1594/1608\u001b[0m \u001b[32m━━━━━━━━━━━━━━━━━━━\u001b[0m\u001b[37m━\u001b[0m \u001b[1m0s\u001b[0m 2ms/step - accuracy: 0.9671 - loss: 0.1089\n",
      "Epoch 55: val_loss improved from 0.09399 to 0.09322, saving model to best_ecg_model.keras\n",
      "\u001b[1m1608/1608\u001b[0m \u001b[32m━━━━━━━━━━━━━━━━━━━━\u001b[0m\u001b[37m\u001b[0m \u001b[1m4s\u001b[0m 2ms/step - accuracy: 0.9671 - loss: 0.1090 - val_accuracy: 0.9711 - val_loss: 0.0932\n",
      "Epoch 56/100\n",
      "\u001b[1m1604/1608\u001b[0m \u001b[32m━━━━━━━━━━━━━━━━━━━\u001b[0m\u001b[37m━\u001b[0m \u001b[1m0s\u001b[0m 2ms/step - accuracy: 0.9673 - loss: 0.1102\n",
      "Epoch 56: val_loss did not improve from 0.09322\n",
      "\u001b[1m1608/1608\u001b[0m \u001b[32m━━━━━━━━━━━━━━━━━━━━\u001b[0m\u001b[37m\u001b[0m \u001b[1m4s\u001b[0m 2ms/step - accuracy: 0.9673 - loss: 0.1102 - val_accuracy: 0.9708 - val_loss: 0.0936\n",
      "Epoch 57/100\n",
      "\u001b[1m1582/1608\u001b[0m \u001b[32m━━━━━━━━━━━━━━━━━━━\u001b[0m\u001b[37m━\u001b[0m \u001b[1m0s\u001b[0m 2ms/step - accuracy: 0.9658 - loss: 0.1110\n",
      "Epoch 57: val_loss did not improve from 0.09322\n",
      "\u001b[1m1608/1608\u001b[0m \u001b[32m━━━━━━━━━━━━━━━━━━━━\u001b[0m\u001b[37m\u001b[0m \u001b[1m4s\u001b[0m 2ms/step - accuracy: 0.9658 - loss: 0.1110 - val_accuracy: 0.9710 - val_loss: 0.0939\n",
      "Epoch 58/100\n",
      "\u001b[1m1595/1608\u001b[0m \u001b[32m━━━━━━━━━━━━━━━━━━━\u001b[0m\u001b[37m━\u001b[0m \u001b[1m0s\u001b[0m 2ms/step - accuracy: 0.9663 - loss: 0.1129\n",
      "Epoch 58: val_loss did not improve from 0.09322\n",
      "\u001b[1m1608/1608\u001b[0m \u001b[32m━━━━━━━━━━━━━━━━━━━━\u001b[0m\u001b[37m\u001b[0m \u001b[1m4s\u001b[0m 2ms/step - accuracy: 0.9663 - loss: 0.1129 - val_accuracy: 0.9714 - val_loss: 0.0966\n",
      "Epoch 59/100\n",
      "\u001b[1m1585/1608\u001b[0m \u001b[32m━━━━━━━━━━━━━━━━━━━\u001b[0m\u001b[37m━\u001b[0m \u001b[1m0s\u001b[0m 2ms/step - accuracy: 0.9670 - loss: 0.1087\n",
      "Epoch 59: val_loss improved from 0.09322 to 0.09303, saving model to best_ecg_model.keras\n",
      "\u001b[1m1608/1608\u001b[0m \u001b[32m━━━━━━━━━━━━━━━━━━━━\u001b[0m\u001b[37m\u001b[0m \u001b[1m4s\u001b[0m 2ms/step - accuracy: 0.9670 - loss: 0.1087 - val_accuracy: 0.9713 - val_loss: 0.0930\n",
      "Epoch 60/100\n",
      "\u001b[1m1585/1608\u001b[0m \u001b[32m━━━━━━━━━━━━━━━━━━━\u001b[0m\u001b[37m━\u001b[0m \u001b[1m0s\u001b[0m 2ms/step - accuracy: 0.9672 - loss: 0.1079\n",
      "Epoch 60: val_loss did not improve from 0.09303\n",
      "\u001b[1m1608/1608\u001b[0m \u001b[32m━━━━━━━━━━━━━━━━━━━━\u001b[0m\u001b[37m\u001b[0m \u001b[1m4s\u001b[0m 2ms/step - accuracy: 0.9672 - loss: 0.1079 - val_accuracy: 0.9713 - val_loss: 0.0935\n",
      "Epoch 61/100\n",
      "\u001b[1m1600/1608\u001b[0m \u001b[32m━━━━━━━━━━━━━━━━━━━\u001b[0m\u001b[37m━\u001b[0m \u001b[1m0s\u001b[0m 2ms/step - accuracy: 0.9682 - loss: 0.1056\n",
      "Epoch 61: val_loss improved from 0.09303 to 0.09079, saving model to best_ecg_model.keras\n",
      "\u001b[1m1608/1608\u001b[0m \u001b[32m━━━━━━━━━━━━━━━━━━━━\u001b[0m\u001b[37m\u001b[0m \u001b[1m4s\u001b[0m 2ms/step - accuracy: 0.9682 - loss: 0.1056 - val_accuracy: 0.9715 - val_loss: 0.0908\n",
      "Epoch 62/100\n",
      "\u001b[1m1584/1608\u001b[0m \u001b[32m━━━━━━━━━━━━━━━━━━━\u001b[0m\u001b[37m━\u001b[0m \u001b[1m0s\u001b[0m 2ms/step - accuracy: 0.9677 - loss: 0.1057\n",
      "Epoch 62: val_loss improved from 0.09079 to 0.09035, saving model to best_ecg_model.keras\n",
      "\u001b[1m1608/1608\u001b[0m \u001b[32m━━━━━━━━━━━━━━━━━━━━\u001b[0m\u001b[37m\u001b[0m \u001b[1m4s\u001b[0m 2ms/step - accuracy: 0.9677 - loss: 0.1057 - val_accuracy: 0.9723 - val_loss: 0.0904\n",
      "Epoch 63/100\n",
      "\u001b[1m1581/1608\u001b[0m \u001b[32m━━━━━━━━━━━━━━━━━━━\u001b[0m\u001b[37m━\u001b[0m \u001b[1m0s\u001b[0m 2ms/step - accuracy: 0.9674 - loss: 0.1079\n",
      "Epoch 63: val_loss did not improve from 0.09035\n",
      "\u001b[1m1608/1608\u001b[0m \u001b[32m━━━━━━━━━━━━━━━━━━━━\u001b[0m\u001b[37m\u001b[0m \u001b[1m4s\u001b[0m 2ms/step - accuracy: 0.9674 - loss: 0.1079 - val_accuracy: 0.9711 - val_loss: 0.0929\n",
      "Epoch 64/100\n",
      "\u001b[1m1589/1608\u001b[0m \u001b[32m━━━━━━━━━━━━━━━━━━━\u001b[0m\u001b[37m━\u001b[0m \u001b[1m0s\u001b[0m 2ms/step - accuracy: 0.9684 - loss: 0.1061\n",
      "Epoch 64: val_loss did not improve from 0.09035\n",
      "\u001b[1m1608/1608\u001b[0m \u001b[32m━━━━━━━━━━━━━━━━━━━━\u001b[0m\u001b[37m\u001b[0m \u001b[1m4s\u001b[0m 2ms/step - accuracy: 0.9684 - loss: 0.1061 - val_accuracy: 0.9718 - val_loss: 0.0930\n",
      "Epoch 65/100\n",
      "\u001b[1m1596/1608\u001b[0m \u001b[32m━━━━━━━━━━━━━━━━━━━\u001b[0m\u001b[37m━\u001b[0m \u001b[1m0s\u001b[0m 2ms/step - accuracy: 0.9680 - loss: 0.1061\n",
      "Epoch 65: val_loss improved from 0.09035 to 0.08998, saving model to best_ecg_model.keras\n",
      "\u001b[1m1608/1608\u001b[0m \u001b[32m━━━━━━━━━━━━━━━━━━━━\u001b[0m\u001b[37m\u001b[0m \u001b[1m4s\u001b[0m 2ms/step - accuracy: 0.9680 - loss: 0.1061 - val_accuracy: 0.9717 - val_loss: 0.0900\n",
      "Epoch 66/100\n",
      "\u001b[1m1592/1608\u001b[0m \u001b[32m━━━━━━━━━━━━━━━━━━━\u001b[0m\u001b[37m━\u001b[0m \u001b[1m0s\u001b[0m 2ms/step - accuracy: 0.9676 - loss: 0.1094\n",
      "Epoch 66: val_loss did not improve from 0.08998\n",
      "\u001b[1m1608/1608\u001b[0m \u001b[32m━━━━━━━━━━━━━━━━━━━━\u001b[0m\u001b[37m\u001b[0m \u001b[1m4s\u001b[0m 2ms/step - accuracy: 0.9676 - loss: 0.1094 - val_accuracy: 0.9720 - val_loss: 0.0902\n",
      "Epoch 67/100\n",
      "\u001b[1m1595/1608\u001b[0m \u001b[32m━━━━━━━━━━━━━━━━━━━\u001b[0m\u001b[37m━\u001b[0m \u001b[1m0s\u001b[0m 2ms/step - accuracy: 0.9693 - loss: 0.1046\n",
      "Epoch 67: val_loss did not improve from 0.08998\n",
      "\u001b[1m1608/1608\u001b[0m \u001b[32m━━━━━━━━━━━━━━━━━━━━\u001b[0m\u001b[37m\u001b[0m \u001b[1m4s\u001b[0m 2ms/step - accuracy: 0.9693 - loss: 0.1046 - val_accuracy: 0.9721 - val_loss: 0.0919\n",
      "Epoch 68/100\n",
      "\u001b[1m1588/1608\u001b[0m \u001b[32m━━━━━━━━━━━━━━━━━━━\u001b[0m\u001b[37m━\u001b[0m \u001b[1m0s\u001b[0m 2ms/step - accuracy: 0.9712 - loss: 0.0984\n",
      "Epoch 68: val_loss improved from 0.08998 to 0.08974, saving model to best_ecg_model.keras\n",
      "\u001b[1m1608/1608\u001b[0m \u001b[32m━━━━━━━━━━━━━━━━━━━━\u001b[0m\u001b[37m\u001b[0m \u001b[1m4s\u001b[0m 2ms/step - accuracy: 0.9712 - loss: 0.0984 - val_accuracy: 0.9728 - val_loss: 0.0897\n",
      "Epoch 69/100\n",
      "\u001b[1m1591/1608\u001b[0m \u001b[32m━━━━━━━━━━━━━━━━━━━\u001b[0m\u001b[37m━\u001b[0m \u001b[1m0s\u001b[0m 2ms/step - accuracy: 0.9684 - loss: 0.1043\n",
      "Epoch 69: val_loss improved from 0.08974 to 0.08960, saving model to best_ecg_model.keras\n",
      "\u001b[1m1608/1608\u001b[0m \u001b[32m━━━━━━━━━━━━━━━━━━━━\u001b[0m\u001b[37m\u001b[0m \u001b[1m4s\u001b[0m 2ms/step - accuracy: 0.9684 - loss: 0.1043 - val_accuracy: 0.9723 - val_loss: 0.0896\n",
      "Epoch 70/100\n",
      "\u001b[1m1604/1608\u001b[0m \u001b[32m━━━━━━━━━━━━━━━━━━━\u001b[0m\u001b[37m━\u001b[0m \u001b[1m0s\u001b[0m 2ms/step - accuracy: 0.9687 - loss: 0.1023\n",
      "Epoch 70: val_loss did not improve from 0.08960\n",
      "\u001b[1m1608/1608\u001b[0m \u001b[32m━━━━━━━━━━━━━━━━━━━━\u001b[0m\u001b[37m\u001b[0m \u001b[1m4s\u001b[0m 2ms/step - accuracy: 0.9687 - loss: 0.1023 - val_accuracy: 0.9730 - val_loss: 0.0900\n",
      "Epoch 71/100\n",
      "\u001b[1m1589/1608\u001b[0m \u001b[32m━━━━━━━━━━━━━━━━━━━\u001b[0m\u001b[37m━\u001b[0m \u001b[1m0s\u001b[0m 2ms/step - accuracy: 0.9698 - loss: 0.1024\n",
      "Epoch 71: val_loss improved from 0.08960 to 0.08845, saving model to best_ecg_model.keras\n",
      "\u001b[1m1608/1608\u001b[0m \u001b[32m━━━━━━━━━━━━━━━━━━━━\u001b[0m\u001b[37m\u001b[0m \u001b[1m4s\u001b[0m 2ms/step - accuracy: 0.9698 - loss: 0.1024 - val_accuracy: 0.9728 - val_loss: 0.0884\n",
      "Epoch 72/100\n",
      "\u001b[1m1582/1608\u001b[0m \u001b[32m━━━━━━━━━━━━━━━━━━━\u001b[0m\u001b[37m━\u001b[0m \u001b[1m0s\u001b[0m 2ms/step - accuracy: 0.9694 - loss: 0.1024\n",
      "Epoch 72: val_loss did not improve from 0.08845\n",
      "\u001b[1m1608/1608\u001b[0m \u001b[32m━━━━━━━━━━━━━━━━━━━━\u001b[0m\u001b[37m\u001b[0m \u001b[1m4s\u001b[0m 2ms/step - accuracy: 0.9694 - loss: 0.1024 - val_accuracy: 0.9731 - val_loss: 0.0890\n",
      "Epoch 73/100\n",
      "\u001b[1m1596/1608\u001b[0m \u001b[32m━━━━━━━━━━━━━━━━━━━\u001b[0m\u001b[37m━\u001b[0m \u001b[1m0s\u001b[0m 2ms/step - accuracy: 0.9694 - loss: 0.1025\n",
      "Epoch 73: val_loss did not improve from 0.08845\n",
      "\u001b[1m1608/1608\u001b[0m \u001b[32m━━━━━━━━━━━━━━━━━━━━\u001b[0m\u001b[37m\u001b[0m \u001b[1m4s\u001b[0m 2ms/step - accuracy: 0.9694 - loss: 0.1025 - val_accuracy: 0.9713 - val_loss: 0.0893\n",
      "Epoch 74/100\n",
      "\u001b[1m1590/1608\u001b[0m \u001b[32m━━━━━━━━━━━━━━━━━━━\u001b[0m\u001b[37m━\u001b[0m \u001b[1m0s\u001b[0m 2ms/step - accuracy: 0.9687 - loss: 0.1031\n",
      "Epoch 74: val_loss did not improve from 0.08845\n",
      "\u001b[1m1608/1608\u001b[0m \u001b[32m━━━━━━━━━━━━━━━━━━━━\u001b[0m\u001b[37m\u001b[0m \u001b[1m4s\u001b[0m 2ms/step - accuracy: 0.9687 - loss: 0.1031 - val_accuracy: 0.9721 - val_loss: 0.0885\n",
      "Epoch 75/100\n",
      "\u001b[1m1604/1608\u001b[0m \u001b[32m━━━━━━━━━━━━━━━━━━━\u001b[0m\u001b[37m━\u001b[0m \u001b[1m0s\u001b[0m 2ms/step - accuracy: 0.9681 - loss: 0.1031\n",
      "Epoch 75: val_loss did not improve from 0.08845\n",
      "\u001b[1m1608/1608\u001b[0m \u001b[32m━━━━━━━━━━━━━━━━━━━━\u001b[0m\u001b[37m\u001b[0m \u001b[1m4s\u001b[0m 2ms/step - accuracy: 0.9681 - loss: 0.1031 - val_accuracy: 0.9720 - val_loss: 0.0914\n",
      "Epoch 76/100\n",
      "\u001b[1m1592/1608\u001b[0m \u001b[32m━━━━━━━━━━━━━━━━━━━\u001b[0m\u001b[37m━\u001b[0m \u001b[1m0s\u001b[0m 2ms/step - accuracy: 0.9696 - loss: 0.1021\n",
      "Epoch 76: val_loss improved from 0.08845 to 0.08829, saving model to best_ecg_model.keras\n",
      "\u001b[1m1608/1608\u001b[0m \u001b[32m━━━━━━━━━━━━━━━━━━━━\u001b[0m\u001b[37m\u001b[0m \u001b[1m4s\u001b[0m 2ms/step - accuracy: 0.9696 - loss: 0.1021 - val_accuracy: 0.9739 - val_loss: 0.0883\n",
      "Epoch 77/100\n",
      "\u001b[1m1591/1608\u001b[0m \u001b[32m━━━━━━━━━━━━━━━━━━━\u001b[0m\u001b[37m━\u001b[0m \u001b[1m0s\u001b[0m 2ms/step - accuracy: 0.9704 - loss: 0.0969\n",
      "Epoch 77: val_loss improved from 0.08829 to 0.08795, saving model to best_ecg_model.keras\n",
      "\u001b[1m1608/1608\u001b[0m \u001b[32m━━━━━━━━━━━━━━━━━━━━\u001b[0m\u001b[37m\u001b[0m \u001b[1m4s\u001b[0m 2ms/step - accuracy: 0.9704 - loss: 0.0969 - val_accuracy: 0.9727 - val_loss: 0.0880\n",
      "Epoch 78/100\n",
      "\u001b[1m1606/1608\u001b[0m \u001b[32m━━━━━━━━━━━━━━━━━━━\u001b[0m\u001b[37m━\u001b[0m \u001b[1m0s\u001b[0m 2ms/step - accuracy: 0.9697 - loss: 0.1021\n",
      "Epoch 78: val_loss did not improve from 0.08795\n",
      "\u001b[1m1608/1608\u001b[0m \u001b[32m━━━━━━━━━━━━━━━━━━━━\u001b[0m\u001b[37m\u001b[0m \u001b[1m4s\u001b[0m 2ms/step - accuracy: 0.9697 - loss: 0.1021 - val_accuracy: 0.9730 - val_loss: 0.0885\n",
      "Epoch 79/100\n",
      "\u001b[1m1591/1608\u001b[0m \u001b[32m━━━━━━━━━━━━━━━━━━━\u001b[0m\u001b[37m━\u001b[0m \u001b[1m0s\u001b[0m 2ms/step - accuracy: 0.9694 - loss: 0.1017\n",
      "Epoch 79: val_loss did not improve from 0.08795\n",
      "\u001b[1m1608/1608\u001b[0m \u001b[32m━━━━━━━━━━━━━━━━━━━━\u001b[0m\u001b[37m\u001b[0m \u001b[1m4s\u001b[0m 2ms/step - accuracy: 0.9694 - loss: 0.1016 - val_accuracy: 0.9741 - val_loss: 0.0891\n",
      "Epoch 80/100\n",
      "\u001b[1m1603/1608\u001b[0m \u001b[32m━━━━━━━━━━━━━━━━━━━\u001b[0m\u001b[37m━\u001b[0m \u001b[1m0s\u001b[0m 2ms/step - accuracy: 0.9700 - loss: 0.1009\n",
      "Epoch 80: val_loss did not improve from 0.08795\n",
      "\u001b[1m1608/1608\u001b[0m \u001b[32m━━━━━━━━━━━━━━━━━━━━\u001b[0m\u001b[37m\u001b[0m \u001b[1m4s\u001b[0m 2ms/step - accuracy: 0.9700 - loss: 0.1009 - val_accuracy: 0.9724 - val_loss: 0.0914\n",
      "Epoch 81/100\n",
      "\u001b[1m1604/1608\u001b[0m \u001b[32m━━━━━━━━━━━━━━━━━━━\u001b[0m\u001b[37m━\u001b[0m \u001b[1m0s\u001b[0m 2ms/step - accuracy: 0.9684 - loss: 0.1030\n",
      "Epoch 81: val_loss improved from 0.08795 to 0.08739, saving model to best_ecg_model.keras\n",
      "\u001b[1m1608/1608\u001b[0m \u001b[32m━━━━━━━━━━━━━━━━━━━━\u001b[0m\u001b[37m\u001b[0m \u001b[1m4s\u001b[0m 2ms/step - accuracy: 0.9684 - loss: 0.1030 - val_accuracy: 0.9734 - val_loss: 0.0874\n",
      "Epoch 82/100\n",
      "\u001b[1m1590/1608\u001b[0m \u001b[32m━━━━━━━━━━━━━━━━━━━\u001b[0m\u001b[37m━\u001b[0m \u001b[1m0s\u001b[0m 2ms/step - accuracy: 0.9692 - loss: 0.1003\n",
      "Epoch 82: val_loss improved from 0.08739 to 0.08695, saving model to best_ecg_model.keras\n",
      "\u001b[1m1608/1608\u001b[0m \u001b[32m━━━━━━━━━━━━━━━━━━━━\u001b[0m\u001b[37m\u001b[0m \u001b[1m4s\u001b[0m 2ms/step - accuracy: 0.9692 - loss: 0.1002 - val_accuracy: 0.9729 - val_loss: 0.0869\n",
      "Epoch 83/100\n",
      "\u001b[1m1587/1608\u001b[0m \u001b[32m━━━━━━━━━━━━━━━━━━━\u001b[0m\u001b[37m━\u001b[0m \u001b[1m0s\u001b[0m 2ms/step - accuracy: 0.9705 - loss: 0.1001\n",
      "Epoch 83: val_loss did not improve from 0.08695\n",
      "\u001b[1m1608/1608\u001b[0m \u001b[32m━━━━━━━━━━━━━━━━━━━━\u001b[0m\u001b[37m\u001b[0m \u001b[1m4s\u001b[0m 2ms/step - accuracy: 0.9705 - loss: 0.1000 - val_accuracy: 0.9720 - val_loss: 0.0890\n",
      "Epoch 84/100\n",
      "\u001b[1m1608/1608\u001b[0m \u001b[32m━━━━━━━━━━━━━━━━━━━━\u001b[0m\u001b[37m\u001b[0m \u001b[1m0s\u001b[0m 2ms/step - accuracy: 0.9703 - loss: 0.0976\n",
      "Epoch 84: val_loss did not improve from 0.08695\n",
      "\u001b[1m1608/1608\u001b[0m \u001b[32m━━━━━━━━━━━━━━━━━━━━\u001b[0m\u001b[37m\u001b[0m \u001b[1m4s\u001b[0m 2ms/step - accuracy: 0.9703 - loss: 0.0976 - val_accuracy: 0.9734 - val_loss: 0.0884\n",
      "Epoch 85/100\n",
      "\u001b[1m1595/1608\u001b[0m \u001b[32m━━━━━━━━━━━━━━━━━━━\u001b[0m\u001b[37m━\u001b[0m \u001b[1m0s\u001b[0m 2ms/step - accuracy: 0.9705 - loss: 0.0951\n",
      "Epoch 85: val_loss did not improve from 0.08695\n",
      "\u001b[1m1608/1608\u001b[0m \u001b[32m━━━━━━━━━━━━━━━━━━━━\u001b[0m\u001b[37m\u001b[0m \u001b[1m4s\u001b[0m 2ms/step - accuracy: 0.9705 - loss: 0.0952 - val_accuracy: 0.9732 - val_loss: 0.0873\n",
      "Epoch 86/100\n",
      "\u001b[1m1594/1608\u001b[0m \u001b[32m━━━━━━━━━━━━━━━━━━━\u001b[0m\u001b[37m━\u001b[0m \u001b[1m0s\u001b[0m 2ms/step - accuracy: 0.9690 - loss: 0.1002\n",
      "Epoch 86: val_loss improved from 0.08695 to 0.08687, saving model to best_ecg_model.keras\n",
      "\u001b[1m1608/1608\u001b[0m \u001b[32m━━━━━━━━━━━━━━━━━━━━\u001b[0m\u001b[37m\u001b[0m \u001b[1m4s\u001b[0m 2ms/step - accuracy: 0.9691 - loss: 0.1001 - val_accuracy: 0.9726 - val_loss: 0.0869\n",
      "Epoch 87/100\n",
      "\u001b[1m1590/1608\u001b[0m \u001b[32m━━━━━━━━━━━━━━━━━━━\u001b[0m\u001b[37m━\u001b[0m \u001b[1m0s\u001b[0m 2ms/step - accuracy: 0.9699 - loss: 0.1005\n",
      "Epoch 87: val_loss improved from 0.08687 to 0.08610, saving model to best_ecg_model.keras\n",
      "\u001b[1m1608/1608\u001b[0m \u001b[32m━━━━━━━━━━━━━━━━━━━━\u001b[0m\u001b[37m\u001b[0m \u001b[1m4s\u001b[0m 2ms/step - accuracy: 0.9699 - loss: 0.1005 - val_accuracy: 0.9733 - val_loss: 0.0861\n",
      "Epoch 88/100\n",
      "\u001b[1m1592/1608\u001b[0m \u001b[32m━━━━━━━━━━━━━━━━━━━\u001b[0m\u001b[37m━\u001b[0m \u001b[1m0s\u001b[0m 2ms/step - accuracy: 0.9709 - loss: 0.0952\n",
      "Epoch 88: val_loss did not improve from 0.08610\n",
      "\u001b[1m1608/1608\u001b[0m \u001b[32m━━━━━━━━━━━━━━━━━━━━\u001b[0m\u001b[37m\u001b[0m \u001b[1m4s\u001b[0m 2ms/step - accuracy: 0.9709 - loss: 0.0952 - val_accuracy: 0.9727 - val_loss: 0.0880\n",
      "Epoch 89/100\n",
      "\u001b[1m1599/1608\u001b[0m \u001b[32m━━━━━━━━━━━━━━━━━━━\u001b[0m\u001b[37m━\u001b[0m \u001b[1m0s\u001b[0m 2ms/step - accuracy: 0.9713 - loss: 0.0941\n",
      "Epoch 89: val_loss did not improve from 0.08610\n",
      "\u001b[1m1608/1608\u001b[0m \u001b[32m━━━━━━━━━━━━━━━━━━━━\u001b[0m\u001b[37m\u001b[0m \u001b[1m4s\u001b[0m 2ms/step - accuracy: 0.9713 - loss: 0.0941 - val_accuracy: 0.9729 - val_loss: 0.0863\n",
      "Epoch 90/100\n",
      "\u001b[1m1591/1608\u001b[0m \u001b[32m━━━━━━━━━━━━━━━━━━━\u001b[0m\u001b[37m━\u001b[0m \u001b[1m0s\u001b[0m 2ms/step - accuracy: 0.9717 - loss: 0.0935\n",
      "Epoch 90: val_loss improved from 0.08610 to 0.08381, saving model to best_ecg_model.keras\n",
      "\u001b[1m1608/1608\u001b[0m \u001b[32m━━━━━━━━━━━━━━━━━━━━\u001b[0m\u001b[37m\u001b[0m \u001b[1m4s\u001b[0m 2ms/step - accuracy: 0.9716 - loss: 0.0936 - val_accuracy: 0.9742 - val_loss: 0.0838\n",
      "Epoch 91/100\n",
      "\u001b[1m1592/1608\u001b[0m \u001b[32m━━━━━━━━━━━━━━━━━━━\u001b[0m\u001b[37m━\u001b[0m \u001b[1m0s\u001b[0m 2ms/step - accuracy: 0.9712 - loss: 0.0916\n",
      "Epoch 91: val_loss did not improve from 0.08381\n",
      "\u001b[1m1608/1608\u001b[0m \u001b[32m━━━━━━━━━━━━━━━━━━━━\u001b[0m\u001b[37m\u001b[0m \u001b[1m4s\u001b[0m 2ms/step - accuracy: 0.9712 - loss: 0.0916 - val_accuracy: 0.9741 - val_loss: 0.0851\n",
      "Epoch 92/100\n",
      "\u001b[1m1604/1608\u001b[0m \u001b[32m━━━━━━━━━━━━━━━━━━━\u001b[0m\u001b[37m━\u001b[0m \u001b[1m0s\u001b[0m 2ms/step - accuracy: 0.9703 - loss: 0.0956\n",
      "Epoch 92: val_loss did not improve from 0.08381\n",
      "\u001b[1m1608/1608\u001b[0m \u001b[32m━━━━━━━━━━━━━━━━━━━━\u001b[0m\u001b[37m\u001b[0m \u001b[1m4s\u001b[0m 2ms/step - accuracy: 0.9703 - loss: 0.0956 - val_accuracy: 0.9734 - val_loss: 0.0862\n",
      "Epoch 93/100\n",
      "\u001b[1m1583/1608\u001b[0m \u001b[32m━━━━━━━━━━━━━━━━━━━\u001b[0m\u001b[37m━\u001b[0m \u001b[1m0s\u001b[0m 2ms/step - accuracy: 0.9711 - loss: 0.0941\n",
      "Epoch 93: val_loss did not improve from 0.08381\n",
      "\u001b[1m1608/1608\u001b[0m \u001b[32m━━━━━━━━━━━━━━━━━━━━\u001b[0m\u001b[37m\u001b[0m \u001b[1m3s\u001b[0m 2ms/step - accuracy: 0.9711 - loss: 0.0941 - val_accuracy: 0.9737 - val_loss: 0.0876\n",
      "Epoch 94/100\n",
      "\u001b[1m1586/1608\u001b[0m \u001b[32m━━━━━━━━━━━━━━━━━━━\u001b[0m\u001b[37m━\u001b[0m \u001b[1m0s\u001b[0m 2ms/step - accuracy: 0.9718 - loss: 0.0911\n",
      "Epoch 94: val_loss did not improve from 0.08381\n",
      "\u001b[1m1608/1608\u001b[0m \u001b[32m━━━━━━━━━━━━━━━━━━━━\u001b[0m\u001b[37m\u001b[0m \u001b[1m3s\u001b[0m 2ms/step - accuracy: 0.9717 - loss: 0.0912 - val_accuracy: 0.9737 - val_loss: 0.0840\n",
      "Epoch 95/100\n",
      "\u001b[1m1585/1608\u001b[0m \u001b[32m━━━━━━━━━━━━━━━━━━━\u001b[0m\u001b[37m━\u001b[0m \u001b[1m0s\u001b[0m 2ms/step - accuracy: 0.9711 - loss: 0.0939\n",
      "Epoch 95: val_loss did not improve from 0.08381\n",
      "\u001b[1m1608/1608\u001b[0m \u001b[32m━━━━━━━━━━━━━━━━━━━━\u001b[0m\u001b[37m\u001b[0m \u001b[1m4s\u001b[0m 2ms/step - accuracy: 0.9711 - loss: 0.0939 - val_accuracy: 0.9732 - val_loss: 0.0867\n"
     ]
    }
   ],
   "source": [
    "# Train the model\n",
    "history = model.fit(\n",
    "    train_x, train_y,\n",
    "    batch_size=42,  # Number of samples per batch\n",
    "    epochs=100,  # Train for up to 50 epochs\n",
    "    verbose=1,  # Show training progress\n",
    "    validation_data=(valid_x, valid_y),  # Validate on test data\n",
    "    callbacks=[early_stopping, checkpoint]  # Apply early stopping and checkpoint\n",
    ")"
   ]
  },
  {
   "cell_type": "code",
   "execution_count": 28,
   "id": "471c7e4a",
   "metadata": {
    "execution": {
     "iopub.execute_input": "2025-03-02T18:17:08.647136Z",
     "iopub.status.busy": "2025-03-02T18:17:08.646816Z",
     "iopub.status.idle": "2025-03-02T18:17:08.892461Z",
     "shell.execute_reply": "2025-03-02T18:17:08.891657Z"
    },
    "papermill": {
     "duration": 0.520508,
     "end_time": "2025-03-02T18:17:08.893890",
     "exception": false,
     "start_time": "2025-03-02T18:17:08.373382",
     "status": "completed"
    },
    "tags": []
   },
   "outputs": [
    {
     "data": {
      "image/png": "[encoded data removed]",
      "text/plain": [
       "<Figure size 640x480 with 1 Axes>"
      ]
     },
     "metadata": {},
     "output_type": "display_data"
    }
   ],
   "source": [
    "# Plot training and validation loss\n",
    "plt.plot(history.history['loss'], label='Training Loss')  # Plot training loss\n",
    "plt.plot(history.history['val_loss'], label='Validation Loss')  # Plot validation loss\n",
    "\n",
    "# Set the title and axis labels\n",
    "plt.title('Model Loss Over Epochs')  # Title of the plot\n",
    "plt.ylabel('Loss')  # Y-axis label (Loss)\n",
    "plt.xlabel('Epoch')  # X-axis label (Epoch count)\n",
    "\n",
    "# Add a legend to differentiate between training and validation loss\n",
    "plt.legend(['Train', 'Validation'], loc='upper left')\n",
    "plt.savefig('loss_plot.png')\n",
    "\n",
    "# Display the plot\n",
    "plt.show()"
   ]
  },
  {
   "cell_type": "code",
   "execution_count": 29,
   "id": "e97f77d2",
   "metadata": {
    "execution": {
     "iopub.execute_input": "2025-03-02T18:17:09.481177Z",
     "iopub.status.busy": "2025-03-02T18:17:09.480889Z",
     "iopub.status.idle": "2025-03-02T18:17:09.726343Z",
     "shell.execute_reply": "2025-03-02T18:17:09.725430Z"
    },
    "papermill": {
     "duration": 0.561313,
     "end_time": "2025-03-02T18:17:09.727743",
     "exception": false,
     "start_time": "2025-03-02T18:17:09.166430",
     "status": "completed"
    },
    "tags": []
   },
   "outputs": [
    {
     "data": {
      "image/png": "[encoded data removed]",
      "text/plain": [
       "<Figure size 640x480 with 1 Axes>"
      ]
     },
     "metadata": {},
     "output_type": "display_data"
    }
   ],
   "source": [
    "# Plot training and validation accuracy\n",
    "plt.plot(history.history['accuracy'], label='Training Accuracy')  # Plot training accuracy\n",
    "plt.plot(history.history['val_accuracy'], label='Validation Accuracy')  # Plot validation accuracy\n",
    "\n",
    "# Set the title and axis labels\n",
    "plt.title('Model Accuracy Over Epochs')  # Title of the plot\n",
    "plt.ylabel('Accuracy')  # Y-axis label (Accuracy)\n",
    "plt.xlabel('Epoch')  # X-axis label (Epoch count)\n",
    "\n",
    "# Add a legend to differentiate between training and validation accuracy\n",
    "plt.legend(['Train', 'Validation'], loc='upper left')\n",
    "plt.savefig('accuracy_plot.png')\n",
    "\n",
    "# Display the plot\n",
    "plt.show()"
   ]
  },
  {
   "cell_type": "code",
   "execution_count": 30,
   "id": "b9244468",
   "metadata": {
    "execution": {
     "iopub.execute_input": "2025-03-02T18:17:10.275069Z",
     "iopub.status.busy": "2025-03-02T18:17:10.274775Z",
     "iopub.status.idle": "2025-03-02T18:17:12.259841Z",
     "shell.execute_reply": "2025-03-02T18:17:12.258876Z"
    },
    "papermill": {
     "duration": 2.259149,
     "end_time": "2025-03-02T18:17:12.261342",
     "exception": false,
     "start_time": "2025-03-02T18:17:10.002193",
     "status": "completed"
    },
    "tags": []
   },
   "outputs": [
    {
     "name": "stdout",
     "output_type": "stream",
     "text": [
      "\u001b[1m704/704\u001b[0m \u001b[32m━━━━━━━━━━━━━━━━━━━━\u001b[0m\u001b[37m\u001b[0m \u001b[1m2s\u001b[0m 2ms/step\n"
     ]
    },
    {
     "data": {
      "text/plain": [
       "array([[4.0324489e-05, 2.5325671e-22, 2.0274329e-04, 1.3856462e-06,\n",
       "        9.9975556e-01],\n",
       "       [9.5227343e-01, 2.3956736e-11, 1.4920780e-03, 7.4356073e-03,\n",
       "        3.8798757e-02],\n",
       "       [9.2300123e-01, 2.7011353e-12, 1.5387614e-03, 2.8015526e-03,\n",
       "        7.2658360e-02],\n",
       "       ...,\n",
       "       [9.9808717e-01, 4.8704270e-19, 3.1211348e-05, 3.4139180e-04,\n",
       "        1.5402747e-03],\n",
       "       [1.9866307e-03, 1.6393793e-16, 1.5308774e-03, 5.9744685e-05,\n",
       "        9.9642271e-01],\n",
       "       [9.9993420e-01, 4.1037489e-33, 7.0757866e-09, 9.1399801e-07,\n",
       "        6.4822241e-05]], dtype=float32)"
      ]
     },
     "execution_count": 30,
     "metadata": {},
     "output_type": "execute_result"
    }
   ],
   "source": [
    "model.predict(test_x)\n"
   ]
  },
  {
   "cell_type": "code",
   "execution_count": 31,
   "id": "cd74a238",
   "metadata": {
    "execution": {
     "iopub.execute_input": "2025-03-02T18:17:12.819184Z",
     "iopub.status.busy": "2025-03-02T18:17:12.818860Z",
     "iopub.status.idle": "2025-03-02T18:17:14.392836Z",
     "shell.execute_reply": "2025-03-02T18:17:14.392094Z"
    },
    "papermill": {
     "duration": 1.856017,
     "end_time": "2025-03-02T18:17:14.394158",
     "exception": false,
     "start_time": "2025-03-02T18:17:12.538141",
     "status": "completed"
    },
    "tags": []
   },
   "outputs": [
    {
     "name": "stdout",
     "output_type": "stream",
     "text": [
      "\u001b[1m704/704\u001b[0m \u001b[32m━━━━━━━━━━━━━━━━━━━━\u001b[0m\u001b[37m\u001b[0m \u001b[1m2s\u001b[0m 2ms/step - accuracy: 0.9768 - loss: 0.0776\n",
      "Test Loss: 0.0827\n",
      "Test Accuracy: 97.55%\n"
     ]
    }
   ],
   "source": [
    "# Evaluate the trained model on the test dataset\n",
    "score = model.evaluate(test_x, test_y)\n",
    "\n",
    "# Print the test loss\n",
    "print(f'Test Loss: {score[0]:.4f}')  # Display test loss with 4 decimal precision\n",
    "\n",
    "# Print the test accuracy\n",
    "print(f'Test Accuracy: {score[1] * 100:.2f}%')"
   ]
  },
  {
   "cell_type": "code",
   "execution_count": 32,
   "id": "17de7e5e",
   "metadata": {
    "execution": {
     "iopub.execute_input": "2025-03-02T18:17:14.986893Z",
     "iopub.status.busy": "2025-03-02T18:17:14.986570Z",
     "iopub.status.idle": "2025-03-02T18:17:16.899138Z",
     "shell.execute_reply": "2025-03-02T18:17:16.898192Z"
    },
    "papermill": {
     "duration": 2.18713,
     "end_time": "2025-03-02T18:17:16.900370",
     "exception": false,
     "start_time": "2025-03-02T18:17:14.713240",
     "status": "completed"
    },
    "tags": []
   },
   "outputs": [
    {
     "name": "stdout",
     "output_type": "stream",
     "text": [
      "\u001b[1m704/704\u001b[0m \u001b[32m━━━━━━━━━━━━━━━━━━━━\u001b[0m\u001b[37m\u001b[0m \u001b[1m1s\u001b[0m 1ms/step\n"
     ]
    },
    {
     "data": {
      "image/png": "[encoded data removed]",
      "text/plain": [
       "<Figure size 640x480 with 2 Axes>"
      ]
     },
     "metadata": {},
     "output_type": "display_data"
    }
   ],
   "source": [
    "from sklearn.metrics import confusion_matrix\n",
    "import seaborn as sns\n",
    "\n",
    "y_true=[]\n",
    "for element in test_y:\n",
    "    y_true.append(np.argmax(element))\n",
    "prediction_proba=model.predict(test_x)\n",
    "prediction=np.argmax(prediction_proba,axis=1)\n",
    "ax=plt.subplot()\n",
    "custCnnConfMat = confusion_matrix(y_true, prediction)\n",
    "sns.heatmap(custCnnConfMat, annot=True,fmt='d',ax=ax)\n",
    "ax.set_title('Confusion Matrix'); \n",
    "plt.savefig('cm')"
   ]
  },
  {
   "cell_type": "code",
   "execution_count": 33,
   "id": "75d9621c",
   "metadata": {
    "execution": {
     "iopub.execute_input": "2025-03-02T18:17:17.451685Z",
     "iopub.status.busy": "2025-03-02T18:17:17.451057Z",
     "iopub.status.idle": "2025-03-02T18:17:17.473329Z",
     "shell.execute_reply": "2025-03-02T18:17:17.472513Z"
    },
    "papermill": {
     "duration": 0.300853,
     "end_time": "2025-03-02T18:17:17.474546",
     "exception": false,
     "start_time": "2025-03-02T18:17:17.173693",
     "status": "completed"
    },
    "tags": []
   },
   "outputs": [
    {
     "name": "stdout",
     "output_type": "stream",
     "text": [
      "              precision    recall  f1-score   support\n",
      "\n",
      "           0     0.9812    0.9888    0.9850     15143\n",
      "           2     0.9544    0.9408    0.9476      1402\n",
      "           3     0.8258    0.6899    0.7517       158\n",
      "           4     0.9688    0.9567    0.9627      5803\n",
      "\n",
      "    accuracy                         0.9755     22506\n",
      "   macro avg     0.9325    0.8941    0.9118     22506\n",
      "weighted avg     0.9752    0.9755    0.9753     22506\n",
      "\n"
     ]
    }
   ],
   "source": [
    "from sklearn.metrics import classification_report\n",
    "\n",
    "cf = classification_report(y_true, prediction,digits=4)\n",
    "print(cf)"
   ]
  },
  {
   "cell_type": "code",
   "execution_count": null,
   "id": "17a6fab8",
   "metadata": {
    "papermill": {
     "duration": 0.274934,
     "end_time": "2025-03-02T18:17:18.078380",
     "exception": false,
     "start_time": "2025-03-02T18:17:17.803446",
     "status": "completed"
    },
    "tags": []
   },
   "outputs": [],
   "source": []
  }
 ],
 "metadata": {
  "kaggle": {
   "accelerator": "gpu",
   "dataSources": [
    {
     "datasetId": 6774173,
     "sourceId": 10899893,
     "sourceType": "datasetVersion"
    }
   ],
   "dockerImageVersionId": 30919,
   "isGpuEnabled": true,
   "isInternetEnabled": true,
   "language": "python",
   "sourceType": "notebook"
  },
  "kernelspec": {
   "display_name": "Python 3",
   "language": "python",
   "name": "python3"
  },
  "language_info": {
   "codemirror_mode": {
    "name": "ipython",
    "version": 3
   },
   "file_extension": ".py",
   "mimetype": "text/x-python",
   "name": "python",
   "nbconvert_exporter": "python",
   "pygments_lexer": "ipython3",
   "version": "3.10.12"
  },
  "papermill": {
   "default_parameters": {},
   "duration": 402.030415,
   "end_time": "2025-03-02T18:17:20.688198",
   "environment_variables": {},
   "exception": null,
   "input_path": "__notebook__.ipynb",
   "output_path": "__notebook__.ipynb",
   "parameters": {},
   "start_time": "2025-03-02T18:10:38.657783",
   "version": "2.6.0"
  }
 },
 "nbformat": 4,
 "nbformat_minor": 5
}
